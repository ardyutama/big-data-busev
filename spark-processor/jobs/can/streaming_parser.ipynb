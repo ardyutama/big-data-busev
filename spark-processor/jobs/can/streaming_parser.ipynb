{
 "cells": [
  {
   "cell_type": "code",
   "execution_count": 1,
   "id": "08d22ab2",
   "metadata": {},
   "outputs": [],
   "source": [
    "import pyspark\n",
    "from pyspark.sql import SparkSession\n",
    "from pyspark.sql.types import *\n",
    "from pyspark.sql.functions import *\n",
    "from pbspark import MessageConverter\n",
    "from canbus_test_pb2 import CANBusMessage\n",
    "import cantools"
   ]
  },
  {
   "cell_type": "code",
   "execution_count": 2,
   "id": "5f2fe415",
   "metadata": {},
   "outputs": [],
   "source": [
    "jarsPackages = \"org.apache.spark:spark-sql-kafka-0-10_2.12:3.2.1,com.datastax.spark:spark-cassandra-connector_2.12:3.2.0\""
   ]
  },
  {
   "cell_type": "code",
   "execution_count": 3,
   "id": "2f491c76",
   "metadata": {},
   "outputs": [
    {
     "name": "stdout",
     "output_type": "stream",
     "text": [
      "23/05/17 18:45:00 WARN Utils: Your hostname, big-data-infra resolves to a loopback address: 127.0.1.1; using 10.252.62.71 instead (on interface ens18)\n",
      "23/05/17 18:45:00 WARN Utils: Set SPARK_LOCAL_IP if you need to bind to another address\n",
      ":: loading settings :: url = jar:file:/root/.local/share/virtualenvs/spark-processor-pBWFVQAw/lib/python3.10/site-packages/pyspark/jars/ivy-2.5.0.jar!/org/apache/ivy/core/settings/ivysettings.xml\n"
     ]
    },
    {
     "name": "stderr",
     "output_type": "stream",
     "text": [
      "Ivy Default Cache set to: /root/.ivy2/cache\n",
      "The jars for the packages stored in: /root/.ivy2/jars\n",
      "org.apache.spark#spark-sql-kafka-0-10_2.12 added as a dependency\n",
      "com.datastax.spark#spark-cassandra-connector_2.12 added as a dependency\n",
      ":: resolving dependencies :: org.apache.spark#spark-submit-parent-ffbeacc3-0c8e-451b-970a-3d60880a845b;1.0\n",
      "\tconfs: [default]\n",
      "\tfound org.apache.spark#spark-sql-kafka-0-10_2.12;3.2.1 in central\n",
      "\tfound org.apache.spark#spark-token-provider-kafka-0-10_2.12;3.2.1 in central\n",
      "\tfound org.apache.kafka#kafka-clients;2.8.0 in central\n",
      "\tfound org.lz4#lz4-java;1.7.1 in central\n",
      "\tfound org.xerial.snappy#snappy-java;1.1.8.4 in central\n",
      "\tfound org.slf4j#slf4j-api;1.7.30 in central\n",
      "\tfound org.apache.hadoop#hadoop-client-runtime;3.3.1 in central\n",
      "\tfound org.spark-project.spark#unused;1.0.0 in central\n",
      "\tfound org.apache.hadoop#hadoop-client-api;3.3.1 in central\n",
      "\tfound org.apache.htrace#htrace-core4;4.1.0-incubating in central\n",
      "\tfound commons-logging#commons-logging;1.1.3 in central\n",
      "\tfound com.google.code.findbugs#jsr305;3.0.0 in central\n",
      "\tfound org.apache.commons#commons-pool2;2.6.2 in central\n",
      "\tfound com.datastax.spark#spark-cassandra-connector_2.12;3.2.0 in central\n",
      "\tfound com.datastax.spark#spark-cassandra-connector-driver_2.12;3.2.0 in central\n",
      "\tfound com.datastax.oss#java-driver-core-shaded;4.13.0 in central\n",
      "\tfound com.datastax.oss#native-protocol;1.5.0 in central\n",
      "\tfound com.datastax.oss#java-driver-shaded-guava;25.1-jre-graal-sub-1 in central\n",
      "\tfound com.typesafe#config;1.4.1 in central\n",
      "\tfound io.dropwizard.metrics#metrics-core;4.1.18 in central\n",
      "\tfound org.hdrhistogram#HdrHistogram;2.1.12 in central\n",
      "\tfound org.reactivestreams#reactive-streams;1.0.3 in central\n",
      "\tfound com.github.stephenc.jcip#jcip-annotations;1.0-1 in central\n",
      "\tfound com.github.spotbugs#spotbugs-annotations;3.1.12 in central\n",
      "\tfound com.google.code.findbugs#jsr305;3.0.2 in central\n",
      "\tfound com.datastax.oss#java-driver-mapper-runtime;4.13.0 in central\n",
      "\tfound com.datastax.oss#java-driver-query-builder;4.13.0 in central\n",
      "\tfound org.apache.commons#commons-lang3;3.10 in central\n",
      "\tfound com.thoughtworks.paranamer#paranamer;2.8 in central\n",
      "\tfound org.scala-lang#scala-reflect;2.12.11 in central\n",
      ":: resolution report :: resolve 557ms :: artifacts dl 20ms\n",
      "\t:: modules in use:\n",
      "\tcom.datastax.oss#java-driver-core-shaded;4.13.0 from central in [default]\n",
      "\tcom.datastax.oss#java-driver-mapper-runtime;4.13.0 from central in [default]\n",
      "\tcom.datastax.oss#java-driver-query-builder;4.13.0 from central in [default]\n",
      "\tcom.datastax.oss#java-driver-shaded-guava;25.1-jre-graal-sub-1 from central in [default]\n",
      "\tcom.datastax.oss#native-protocol;1.5.0 from central in [default]\n",
      "\tcom.datastax.spark#spark-cassandra-connector-driver_2.12;3.2.0 from central in [default]\n",
      "\tcom.datastax.spark#spark-cassandra-connector_2.12;3.2.0 from central in [default]\n",
      "\tcom.github.spotbugs#spotbugs-annotations;3.1.12 from central in [default]\n",
      "\tcom.github.stephenc.jcip#jcip-annotations;1.0-1 from central in [default]\n",
      "\tcom.google.code.findbugs#jsr305;3.0.2 from central in [default]\n",
      "\tcom.thoughtworks.paranamer#paranamer;2.8 from central in [default]\n",
      "\tcom.typesafe#config;1.4.1 from central in [default]\n",
      "\tcommons-logging#commons-logging;1.1.3 from central in [default]\n",
      "\tio.dropwizard.metrics#metrics-core;4.1.18 from central in [default]\n",
      "\torg.apache.commons#commons-lang3;3.10 from central in [default]\n",
      "\torg.apache.commons#commons-pool2;2.6.2 from central in [default]\n",
      "\torg.apache.hadoop#hadoop-client-api;3.3.1 from central in [default]\n",
      "\torg.apache.hadoop#hadoop-client-runtime;3.3.1 from central in [default]\n",
      "\torg.apache.htrace#htrace-core4;4.1.0-incubating from central in [default]\n",
      "\torg.apache.kafka#kafka-clients;2.8.0 from central in [default]\n",
      "\torg.apache.spark#spark-sql-kafka-0-10_2.12;3.2.1 from central in [default]\n",
      "\torg.apache.spark#spark-token-provider-kafka-0-10_2.12;3.2.1 from central in [default]\n",
      "\torg.hdrhistogram#HdrHistogram;2.1.12 from central in [default]\n",
      "\torg.lz4#lz4-java;1.7.1 from central in [default]\n",
      "\torg.reactivestreams#reactive-streams;1.0.3 from central in [default]\n",
      "\torg.scala-lang#scala-reflect;2.12.11 from central in [default]\n",
      "\torg.slf4j#slf4j-api;1.7.30 from central in [default]\n",
      "\torg.spark-project.spark#unused;1.0.0 from central in [default]\n",
      "\torg.xerial.snappy#snappy-java;1.1.8.4 from central in [default]\n",
      "\t:: evicted modules:\n",
      "\tcom.google.code.findbugs#jsr305;3.0.0 by [com.google.code.findbugs#jsr305;3.0.2] in [default]\n",
      "\torg.slf4j#slf4j-api;1.7.26 by [org.slf4j#slf4j-api;1.7.30] in [default]\n",
      "\t---------------------------------------------------------------------\n",
      "\t|                  |            modules            ||   artifacts   |\n",
      "\t|       conf       | number| search|dwnlded|evicted|| number|dwnlded|\n",
      "\t---------------------------------------------------------------------\n",
      "\t|      default     |   31  |   0   |   0   |   2   ||   29  |   0   |\n",
      "\t---------------------------------------------------------------------\n",
      ":: retrieving :: org.apache.spark#spark-submit-parent-ffbeacc3-0c8e-451b-970a-3d60880a845b\n",
      "\tconfs: [default]\n",
      "\t0 artifacts copied, 29 already retrieved (0kB/14ms)\n"
     ]
    },
    {
     "name": "stdout",
     "output_type": "stream",
     "text": [
      "23/05/17 18:45:01 WARN NativeCodeLoader: Unable to load native-hadoop library for your platform... using builtin-java classes where applicable\n"
     ]
    },
    {
     "name": "stderr",
     "output_type": "stream",
     "text": [
      "Setting default log level to \"WARN\".\n",
      "To adjust logging level use sc.setLogLevel(newLevel). For SparkR, use setLogLevel(newLevel).\n"
     ]
    },
    {
     "name": "stdout",
     "output_type": "stream",
     "text": [
      "23/05/17 18:45:02 WARN Utils: Service 'SparkUI' could not bind on port 4040. Attempting port 4041.\n"
     ]
    }
   ],
   "source": [
    "spark = SparkSession.builder.master(\"local[*]\") \\\n",
    "                    .appName('Spark Structured Streaming from Sensor EV-BUS') \\\n",
    "                    .config(\"spark.jars.packages\", jarsPackages) \\\n",
    "                    .getOrCreate()"
   ]
  },
  {
   "cell_type": "code",
   "execution_count": 4,
   "id": "ce814fc7",
   "metadata": {},
   "outputs": [],
   "source": [
    "kafkaStream = spark.readStream \\\n",
    "      .format(\"kafka\") \\\n",
    "      .option(\"kafka.bootstrap.servers\", \"10.252.62.70:9092\") \\\n",
    "      .option(\"subscribe\", 'canbus_test') \\\n",
    "      .option(\"includeHeaders\", \"true\") \\\n",
    "      .option('startingOffsets', 'latest') \\\n",
    "      .load() \\\n",
    "      .selectExpr(\"value\", \"headers\",'timestamp')"
   ]
  },
  {
   "cell_type": "code",
   "execution_count": 5,
   "id": "c9b6a5b5",
   "metadata": {},
   "outputs": [
    {
     "name": "stderr",
     "output_type": "stream",
     "text": [
      "Overwriting message 'LC' with 'LCMD' in the frame id to message dictionary because they have identical masked frame ids 0xcfe41fe.\n",
      "Overwriting message 'GPV4' with 'GPV4' in the name to message dictionary.\n",
      "Overwriting message 'GPV4' with 'GPV4' in the frame id to message dictionary because they have identical masked frame ids 0x1807fefe.\n",
      "Overwriting message 'ECUID' with 'ECUID' in the name to message dictionary.\n",
      "Overwriting message 'ECUID' with 'ECUID' in the frame id to message dictionary because they have identical masked frame ids 0x18fdc5fe.\n",
      "Overwriting message 'LD' with 'LD' in the name to message dictionary.\n",
      "Overwriting message 'LD' with 'LD' in the frame id to message dictionary because they have identical masked frame ids 0x18fe40fe.\n",
      "Overwriting message 'SOFT' with 'SOFT' in the name to message dictionary.\n",
      "Overwriting message 'SOFT' with 'SOFT' in the frame id to message dictionary because they have identical masked frame ids 0x18fedafe.\n",
      "Overwriting message 'TD' with 'TD' in the name to message dictionary.\n",
      "Overwriting message 'TD' with 'TD' in the frame id to message dictionary because they have identical masked frame ids 0x18fee6fe.\n",
      "Overwriting message 'CL' with 'CL' in the name to message dictionary.\n",
      "Overwriting message 'WSMSTR' with 'WSMSTR' in the name to message dictionary.\n",
      "Overwriting message 'WSMSTR' with 'WSMSTR' in the frame id to message dictionary because they have identical masked frame ids 0x1cfe0dfe.\n",
      "Overwriting message 'LC' with 'LC' in the name to message dictionary.\n"
     ]
    }
   ],
   "source": [
    "dbc = cantools.database.load_file('./j1939.dbc')\n",
    "dbc.add_dbc_file('iso.dbc')"
   ]
  },
  {
   "cell_type": "code",
   "execution_count": 6,
   "id": "991989f5",
   "metadata": {},
   "outputs": [],
   "source": [
    "def convertToFloat(dictData):\n",
    "        return dict([key, float(value)]\n",
    "            for key, value in dictData.items())"
   ]
  },
  {
   "cell_type": "code",
   "execution_count": 7,
   "id": "58daf622",
   "metadata": {},
   "outputs": [],
   "source": [
    "# def writeSensorCanCassandra(batch_df,batch_id):\n",
    "#     return batch_df.write \\\n",
    "#         .format(\"org.apache.spark.sql.cassandra\") \\\n",
    "#         .options(table=\"sensor_data_bus\", keyspace=\"busev\") \\\n",
    "#         .mode('append') \\\n",
    "#         .save()"
   ]
  },
  {
   "cell_type": "code",
   "execution_count": 8,
   "id": "ecd2ef99",
   "metadata": {},
   "outputs": [],
   "source": [
    "mc = MessageConverter()"
   ]
  },
  {
   "cell_type": "code",
   "execution_count": 9,
   "id": "4c330c1e",
   "metadata": {},
   "outputs": [],
   "source": [
    "def parsedRawData(df, proto):\n",
    "    # Parsed Protobuf encryption\n",
    "    parsedData = df.withColumn('parsed', mc.from_protobuf('value', proto)) \\\n",
    "        .withColumn('topic', expr('headers')[0]['value'].cast('string')) \\\n",
    "        .withColumn('bus_id', expr('headers')[2]['value'].cast('string')) \\\n",
    "        .select('topic','bus_id', 'parsed.*') \\\n",
    "        .withColumn('timestamp', to_timestamp(col('timestamp') / 1000))\n",
    "    \n",
    "    return parsedData"
   ]
  },
  {
   "cell_type": "code",
   "execution_count": 10,
   "id": "0a652284",
   "metadata": {},
   "outputs": [],
   "source": [
    "LONG_MESSAGE = {}\n",
    "\n",
    "def parser(ID_HEX,DLC,DATA_HEX_STR):\n",
    "        ID_HEX = int.from_bytes(ID_HEX, \"big\")\n",
    "        DATA_LEN = int(DLC)\n",
    "        PRIORITY = ID_HEX & (0b00011100 << 24)\n",
    "        RESERVED = ID_HEX & (0b00000010 << 24)\n",
    "        DATA_PAGE = ID_HEX & (0b00000001 << 24)\n",
    "        PDU_FORMAT = ID_HEX & (0b11111111 << 16)\n",
    "        PDU_SPECIFIC = ID_HEX & (0b11111111 << 8)\n",
    "        SOURCE_ADDRESS = ID_HEX & (0b11111111 << 0)\n",
    "        \n",
    "        PGN = RESERVED | DATA_PAGE | PDU_FORMAT | PDU_SPECIFIC\n",
    "        DBC_ID = PRIORITY | PGN | 0xFE\n",
    "        try:\n",
    "            currMsg = dbc.get_message_by_frame_id(DBC_ID)\n",
    "            try:\n",
    "                outdata = dbc.decode_message(DBC_ID,DATA_HEX_STR,decode_choices=True)\n",
    "                return str(outdata)\n",
    "            except:\n",
    "                if currMsg.frame_id in LONG_MESSAGE.keys():\n",
    "                    LONG_MESSAGE[currMsg.frame_id] = f\"{LONG_MESSAGE[currMsg.frame_id]}{DATA_HEX_STR}\"\n",
    "                    try:\n",
    "                        outdata = dbc.decode_message(DBC_ID,LONG_MESSAGE[currMsg.frame_id],decode_choices=True)\n",
    "                        del LONG_MESSAGE[currMsg.frame_id]\n",
    "                        return str(outdata)\n",
    "                    except:\n",
    "                        pass\n",
    "                else:\n",
    "                    LONG_MESSAGE[currMsg.frame_id] = DATA_HEX_STR\n",
    "        except:\n",
    "            pass"
   ]
  },
  {
   "cell_type": "code",
   "execution_count": 11,
   "id": "ae854bdd",
   "metadata": {},
   "outputs": [],
   "source": [
    "def parseMessageName(ID_HEX):\n",
    "    ID_HEX = int.from_bytes(ID_HEX, \"big\")\n",
    "    PRIORITY = ID_HEX & (0b00011100 << 24)\n",
    "    RESERVED = ID_HEX & (0b00000010 << 24)\n",
    "    DATA_PAGE = ID_HEX & (0b00000001 << 24)\n",
    "    PDU_FORMAT = ID_HEX & (0b11111111 << 16)\n",
    "    PDU_SPECIFIC = ID_HEX & (0b11111111 << 8)\n",
    "    \n",
    "    PGN = RESERVED | DATA_PAGE | PDU_FORMAT | PDU_SPECIFIC\n",
    "    DBC_ID = PRIORITY | PGN | 0xFE\n",
    "    print(DBC_ID)\n",
    "    try:\n",
    "        currMsg = dbc.get_message_by_frame_id(DBC_ID)\n",
    "        try: \n",
    "            return currMsg.name\n",
    "        except:\n",
    "               pass\n",
    "    except:\n",
    "        pass"
   ]
  },
  {
   "cell_type": "code",
   "execution_count": 12,
   "id": "62df8651",
   "metadata": {},
   "outputs": [
    {
     "name": "stdout",
     "output_type": "stream",
     "text": [
      "root\n",
      " |-- topic: string (nullable = true)\n",
      " |-- bus_id: string (nullable = true)\n",
      " |-- canId: binary (nullable = true)\n",
      " |-- dlc: integer (nullable = true)\n",
      " |-- data: binary (nullable = true)\n",
      " |-- timestamp: timestamp (nullable = true)\n",
      "\n"
     ]
    }
   ],
   "source": [
    "parsedCan = parsedRawData(kafkaStream,CANBusMessage)\n",
    "parsedCan.printSchema()"
   ]
  },
  {
   "cell_type": "code",
   "execution_count": 13,
   "id": "90d7e53a",
   "metadata": {},
   "outputs": [
    {
     "name": "stdout",
     "output_type": "stream",
     "text": [
      "root\n",
      " |-- topic: string (nullable = true)\n",
      " |-- bus_id: string (nullable = true)\n",
      " |-- canId: binary (nullable = true)\n",
      " |-- dlc: integer (nullable = true)\n",
      " |-- data: binary (nullable = true)\n",
      " |-- timestamp: long (nullable = true)\n",
      "\n"
     ]
    }
   ],
   "source": [
    "asd = parsedCan.withColumn('newvalue', mc.from_protobuf('canId', CANBusMessage)) \\\n",
    "        .select('topic','bus_id','newvalue.*')\n",
    "asd.printSchema()"
   ]
  },
  {
   "cell_type": "code",
   "execution_count": 14,
   "id": "bbb8fb8c",
   "metadata": {},
   "outputs": [],
   "source": [
    "parserMessage = udf(lambda m,n,o: parser(m,n,o),MapType(StringType(),StringType()))"
   ]
  },
  {
   "cell_type": "code",
   "execution_count": 15,
   "id": "0d6279f1",
   "metadata": {},
   "outputs": [],
   "source": [
    "parserMessageName = udf(lambda m: parseMessageName(m))"
   ]
  },
  {
   "cell_type": "code",
   "execution_count": 16,
   "id": "5b628bf2",
   "metadata": {},
   "outputs": [
    {
     "name": "stdout",
     "output_type": "stream",
     "text": [
      "root\n",
      " |-- topic: string (nullable = true)\n",
      " |-- bus_id: string (nullable = true)\n",
      " |-- can_id: binary (nullable = true)\n",
      " |-- dlc: integer (nullable = true)\n",
      " |-- data: binary (nullable = true)\n",
      " |-- timestamp: long (nullable = true)\n",
      " |-- value: map (nullable = true)\n",
      " |    |-- key: string\n",
      " |    |-- value: string (valueContainsNull = true)\n",
      " |-- message_name: string (nullable = true)\n",
      "\n"
     ]
    }
   ],
   "source": [
    "parser = asd.withColumn(\"value\", parserMessage('canId','dlc','data')) \\\n",
    "        .withColumn('message_name',when(parserMessageName('canId').isNull(),'null')\n",
    "                    .otherwise(parserMessageName('canId'))) \\\n",
    "        .withColumnRenamed('canId','can_id')\n",
    "        \n",
    "parser.printSchema()"
   ]
  },
  {
   "cell_type": "code",
   "execution_count": 17,
   "id": "3c0b086f",
   "metadata": {},
   "outputs": [],
   "source": [
    "def writeToConsole(ds,OutputMode):\n",
    "    return ds.writeStream \\\n",
    "            .outputMode(OutputMode) \\\n",
    "            .format('console') \\\n",
    "            .option('Vertical',True) \\\n",
    "            .option('Truncate',False) \\\n",
    "            .start()\n",
    "        "
   ]
  },
  {
   "cell_type": "code",
   "execution_count": null,
   "id": "472085bd",
   "metadata": {},
   "outputs": [
    {
     "name": "stdout",
     "output_type": "stream",
     "text": [
      "23/05/17 18:45:11 WARN ResolveWriteToStream: Temporary checkpoint location created which is deleted normally when the query didn't fail: /tmp/temporary-76499f73-b5cf-4260-ab81-c2b9d8c48dcd. If it's required to delete it under any circumstances, please set spark.sql.streaming.forceDeleteTempCheckpointLocation to true. Important to know deleting temp checkpoint folder is best effort.\n",
      "23/05/17 18:45:12 WARN ResolveWriteToStream: spark.sql.adaptive.enabled is not supported in streaming DataFrames/Datasets and will be disabled.\n",
      "-------------------------------------------\n",
      "Batch: 0\n",
      "-------------------------------------------\n",
      "+-----+------+------+---+----+---------+-----+------------+\n",
      "|topic|bus_id|can_id|dlc|data|timestamp|value|message_name|\n",
      "+-----+------+------+---+----+---------+-----+------------+\n",
      "+-----+------+------+---+----+---------+-----+------------+\n",
      "\n"
     ]
    },
    {
     "name": "stderr",
     "output_type": "stream",
     "text": [
      "\r",
      "[Stage 1:>                                                          (0 + 1) / 1]\r"
     ]
    },
    {
     "name": "stdout",
     "output_type": "stream",
     "text": [
      "23/05/17 18:45:19 WARN KafkaDataConsumer: KafkaDataConsumer is not running in UninterruptibleThread. It may hang when KafkaDataConsumer's methods are interrupted because of KAFKA-1894\n",
      "23/05/17 18:45:19 WARN KafkaDataConsumer: KafkaDataConsumer is not running in UninterruptibleThread. It may hang when KafkaDataConsumer's methods are interrupted because of KAFKA-1894\n",
      "23/05/17 18:45:19 WARN KafkaDataConsumer: KafkaDataConsumer is not running in UninterruptibleThread. It may hang when KafkaDataConsumer's methods are interrupted because of KAFKA-1894\n",
      "23/05/17 18:45:19 WARN KafkaDataConsumer: KafkaDataConsumer is not running in UninterruptibleThread. It may hang when KafkaDataConsumer's methods are interrupted because of KAFKA-1894\n",
      "23/05/17 18:45:19 WARN KafkaDataConsumer: KafkaDataConsumer is not running in UninterruptibleThread. It may hang when KafkaDataConsumer's methods are interrupted because of KAFKA-1894\n",
      "23/05/17 18:45:19 WARN KafkaDataConsumer: KafkaDataConsumer is not running in UninterruptibleThread. It may hang when KafkaDataConsumer's methods are interrupted because of KAFKA-1894\n",
      "23/05/17 18:45:19 WARN KafkaDataConsumer: KafkaDataConsumer is not running in UninterruptibleThread. It may hang when KafkaDataConsumer's methods are interrupted because of KAFKA-1894\n",
      "23/05/17 18:45:19 WARN KafkaDataConsumer: KafkaDataConsumer is not running in UninterruptibleThread. It may hang when KafkaDataConsumer's methods are interrupted because of KAFKA-1894\n",
      "23/05/17 18:45:19 WARN KafkaDataConsumer: KafkaDataConsumer is not running in UninterruptibleThread. It may hang when KafkaDataConsumer's methods are interrupted because of KAFKA-1894\n",
      "23/05/17 18:45:19 WARN KafkaDataConsumer: KafkaDataConsumer is not running in UninterruptibleThread. It may hang when KafkaDataConsumer's methods are interrupted because of KAFKA-1894\n"
     ]
    },
    {
     "name": "stderr",
     "output_type": "stream",
     "text": [
      "418581758\n",
      "419348478\n",
      "418383358\n",
      "418382334\n",
      "217769726\n",
      "418382334\n",
      "217055998\n",
      "418382334\n",
      "418382334\n",
      "418382334\n",
      "\r",
      "                                                                                \r"
     ]
    },
    {
     "name": "stdout",
     "output_type": "stream",
     "text": [
      "-------------------------------------------\n",
      "Batch: 1\n",
      "-------------------------------------------\n",
      "+-----------+------+-------------+---+-------------------------+-------------+-----+------------+\n",
      "|topic      |bus_id|can_id       |dlc|data                     |timestamp    |value|message_name|\n",
      "+-----------+------+-------------+---+-------------------------+-------------+-----+------------+\n",
      "|canbus_test|bus_37|[18 F3 0C 00]|8  |[F3 3F 0F FF F0 FF CC 81]|1684318412055|null |null        |\n",
      "|canbus_test|bus_35|[18 FE BF 0B]|8  |[00 00 7D 7D 7D 7D FF FF]|1684318632419|null |EBC2        |\n",
      "|canbus_test|bus_34|[18 F0 05 03]|8  |[FF FF FF 7D FF FF FF FF]|1684317762243|null |ETC2        |\n",
      "|canbus_test|bus_33|[18 F0 01 0B]|8  |[00 00 F3 FF FF 01 FF F7]|1684317149933|null |EBC1        |\n",
      "|canbus_test|bus_36|[0C FA E6 21]|8  |[00 10 00 00 0C 01 00 63]|1684317934559|null |null        |\n",
      "|canbus_test|bus_37|[18 F0 01 0B]|8  |[00 00 F3 FF FF 01 FF F7]|1684318413070|null |EBC1        |\n",
      "|canbus_test|bus_35|[0C F0 02 03]|8  |[CD FF FE FF FF FF FF FF]|1684318633445|null |ETC1        |\n",
      "|canbus_test|bus_34|[18 F0 01 0B]|8  |[00 00 F3 FF FF 01 FF F7]|1684317763258|null |EBC1        |\n",
      "|canbus_test|bus_36|[18 F0 01 0B]|8  |[00 00 F3 FF FF 01 FF F7]|1684317935574|null |EBC1        |\n",
      "|canbus_test|bus_33|[18 F0 01 17]|8  |[FF FF FF FF FF FF FF F7]|1684317150940|null |EBC1        |\n",
      "+-----------+------+-------------+---+-------------------------+-------------+-----+------------+\n",
      "\n",
      "23/05/17 18:45:22 WARN KafkaDataConsumer: KafkaDataConsumer is not running in UninterruptibleThread. It may hang when KafkaDataConsumer's methods are interrupted because of KAFKA-1894\n",
      "23/05/17 18:45:22 WARN KafkaDataConsumer: KafkaDataConsumer is not running in UninterruptibleThread. It may hang when KafkaDataConsumer's methods are interrupted because of KAFKA-1894\n",
      "23/05/17 18:45:22 WARN KafkaDataConsumer: KafkaDataConsumer is not running in UninterruptibleThread. It may hang when KafkaDataConsumer's methods are interrupted because of KAFKA-1894\n",
      "23/05/17 18:45:22 WARN KafkaDataConsumer: KafkaDataConsumer is not running in UninterruptibleThread. It may hang when KafkaDataConsumer's methods are interrupted because of KAFKA-1894\n",
      "23/05/17 18:45:22 WARN KafkaDataConsumer: KafkaDataConsumer is not running in UninterruptibleThread. It may hang when KafkaDataConsumer's methods are interrupted because of KAFKA-1894\n",
      "23/05/17 18:45:22 WARN KafkaDataConsumer: KafkaDataConsumer is not running in UninterruptibleThread. It may hang when KafkaDataConsumer's methods are interrupted because of KAFKA-1894\n",
      "23/05/17 18:45:22 WARN KafkaDataConsumer: KafkaDataConsumer is not running in UninterruptibleThread. It may hang when KafkaDataConsumer's methods are interrupted because of KAFKA-1894\n",
      "23/05/17 18:45:22 WARN KafkaDataConsumer: KafkaDataConsumer is not running in UninterruptibleThread. It may hang when KafkaDataConsumer's methods are interrupted because of KAFKA-1894\n",
      "23/05/17 18:45:22 WARN KafkaDataConsumer: KafkaDataConsumer is not running in UninterruptibleThread. It may hang when KafkaDataConsumer's methods are interrupted because of KAFKA-1894\n",
      "23/05/17 18:45:22 WARN KafkaDataConsumer: KafkaDataConsumer is not running in UninterruptibleThread. It may hang when KafkaDataConsumer's methods are interrupted because of KAFKA-1894\n",
      "23/05/17 18:45:22 WARN KafkaDataConsumer: KafkaDataConsumer is not running in UninterruptibleThread. It may hang when KafkaDataConsumer's methods are interrupted because of KAFKA-1894\n",
      "23/05/17 18:45:22 WARN KafkaDataConsumer: KafkaDataConsumer is not running in UninterruptibleThread. It may hang when KafkaDataConsumer's methods are interrupted because of KAFKA-1894\n",
      "23/05/17 18:45:22 WARN KafkaDataConsumer: KafkaDataConsumer is not running in UninterruptibleThread. It may hang when KafkaDataConsumer's methods are interrupted because of KAFKA-1894\n",
      "23/05/17 18:45:22 WARN KafkaDataConsumer: KafkaDataConsumer is not running in UninterruptibleThread. It may hang when KafkaDataConsumer's methods are interrupted because of KAFKA-1894\n",
      "23/05/17 18:45:22 WARN KafkaDataConsumer: KafkaDataConsumer is not running in UninterruptibleThread. It may hang when KafkaDataConsumer's methods are interrupted because of KAFKA-1894\n",
      "23/05/17 18:45:22 WARN KafkaDataConsumer: KafkaDataConsumer is not running in UninterruptibleThread. It may hang when KafkaDataConsumer's methods are interrupted because of KAFKA-1894\n",
      "23/05/17 18:45:22 WARN KafkaDataConsumer: KafkaDataConsumer is not running in UninterruptibleThread. It may hang when KafkaDataConsumer's methods are interrupted because of KAFKA-1894\n",
      "23/05/17 18:45:22 WARN KafkaDataConsumer: KafkaDataConsumer is not running in UninterruptibleThread. It may hang when KafkaDataConsumer's methods are interrupted because of KAFKA-1894\n",
      "23/05/17 18:45:22 WARN KafkaDataConsumer: KafkaDataConsumer is not running in UninterruptibleThread. It may hang when KafkaDataConsumer's methods are interrupted because of KAFKA-1894\n",
      "23/05/17 18:45:22 WARN KafkaDataConsumer: KafkaDataConsumer is not running in UninterruptibleThread. It may hang when KafkaDataConsumer's methods are interrupted because of KAFKA-1894\n"
     ]
    },
    {
     "name": "stderr",
     "output_type": "stream",
     "text": [
      "419351294>                                                          (0 + 1) / 1]\n",
      "217055998\n",
      "419348478\n",
      "418382334\n",
      "419351294\n",
      "419348478\n",
      "419348478\n",
      "419351294\n",
      "419173630\n",
      "217055998\n",
      "419348478\n",
      "418382334\n",
      "419348478\n",
      "419348478\n",
      "418382334\n",
      "419320318\n",
      "419348478\n",
      "419348478\n",
      "418382334\n",
      "418382334\n",
      "                                                                                \r"
     ]
    },
    {
     "name": "stdout",
     "output_type": "stream",
     "text": [
      "-------------------------------------------\n",
      "Batch: 2\n",
      "-------------------------------------------\n",
      "+-----------+------+-------------+---+-------------------------+-------------+-----+------------+\n",
      "|topic      |bus_id|can_id       |dlc|data                     |timestamp    |value|message_name|\n",
      "+-----------+------+-------------+---+-------------------------+-------------+-----+------------+\n",
      "|canbus_test|bus_37|[18 FE CA 2F]|8  |[F3 FF 00 00 00 00 FF FF]|1684318414087|null |DM1         |\n",
      "|canbus_test|bus_34|[0C F0 02 03]|8  |[CD FF FE FF FF FF FF FF]|1684317764280|null |ETC1        |\n",
      "|canbus_test|bus_35|[18 FE BF 0B]|8  |[00 00 7D 7D 7D 7D FF FF]|1684318634468|null |EBC2        |\n",
      "|canbus_test|bus_36|[18 F0 01 0B]|8  |[00 00 F3 FF FF 01 FF F7]|1684317936593|null |EBC1        |\n",
      "|canbus_test|bus_33|[18 FE CA 2F]|8  |[F3 FF 00 00 00 00 FF FF]|1684317151972|null |DM1         |\n",
      "|canbus_test|bus_35|[18 FE BF 0B]|8  |[00 00 7D 7D 7D 7D FF FF]|1684318635483|null |EBC2        |\n",
      "|canbus_test|bus_34|[18 FE BF 0B]|8  |[00 00 7D 7D 7D 7D FF FF]|1684317765308|null |EBC2        |\n",
      "|canbus_test|bus_37|[18 FE CA 2F]|8  |[F3 FF 00 00 00 00 FF FF]|1684318415099|null |DM1         |\n",
      "|canbus_test|bus_36|[18 FC 14 21]|8  |[FF FF 00 00 71 02 FF 0D]|1684317937600|null |null        |\n",
      "|canbus_test|bus_33|[0C F0 02 03]|8  |[CD FF FE FF FF FF FF FF]|1684317153005|null |ETC1        |\n",
      "|canbus_test|bus_37|[18 FE BF 0B]|8  |[00 00 7D 7D 7D 7D FF FF]|1684318416108|null |EBC2        |\n",
      "|canbus_test|bus_34|[18 F0 01 0B]|8  |[00 00 F3 FF FF 01 FF F7]|1684317766330|null |EBC1        |\n",
      "|canbus_test|bus_35|[18 FE BF 0B]|8  |[00 00 7D 7D 7D 7D FF FF]|1684318636501|null |EBC2        |\n",
      "|canbus_test|bus_36|[18 FE BF 0B]|8  |[00 00 7D 7D 7D 7D FF FF]|1684317938608|null |EBC2        |\n",
      "|canbus_test|bus_33|[18 F0 01 0B]|8  |[00 00 F3 FF FF 01 FF F7]|1684317154042|null |EBC1        |\n",
      "|canbus_test|bus_35|[18 FE 51 27]|8  |[7C FF FF FF FF FF FF FF]|1684318637508|null |ACC2        |\n",
      "|canbus_test|bus_34|[18 FE BF 0B]|8  |[00 00 7D 7D 7D 7D FF FF]|1684317767347|null |EBC2        |\n",
      "|canbus_test|bus_37|[18 FE BF 0B]|8  |[00 00 7D 7D 7D 7D FF FF]|1684318417139|null |EBC2        |\n",
      "|canbus_test|bus_33|[18 F0 01 17]|8  |[FF FF FF FF FF FF FF F7]|1684317155040|null |EBC1        |\n",
      "|canbus_test|bus_36|[18 F0 01 0B]|8  |[00 00 F3 FF FF 01 FF F7]|1684317939615|null |EBC1        |\n",
      "+-----------+------+-------------+---+-------------------------+-------------+-----+------------+\n",
      "\n",
      "23/05/17 18:45:23 WARN KafkaDataConsumer: KafkaDataConsumer is not running in UninterruptibleThread. It may hang when KafkaDataConsumer's methods are interrupted because of KAFKA-1894\n",
      "23/05/17 18:45:23 WARN KafkaDataConsumer: KafkaDataConsumer is not running in UninterruptibleThread. It may hang when KafkaDataConsumer's methods are interrupted because of KAFKA-1894\n",
      "23/05/17 18:45:23 WARN KafkaDataConsumer: KafkaDataConsumer is not running in UninterruptibleThread. It may hang when KafkaDataConsumer's methods are interrupted because of KAFKA-1894\n",
      "23/05/17 18:45:23 WARN KafkaDataConsumer: KafkaDataConsumer is not running in UninterruptibleThread. It may hang when KafkaDataConsumer's methods are interrupted because of KAFKA-1894\n",
      "23/05/17 18:45:23 WARN KafkaDataConsumer: KafkaDataConsumer is not running in UninterruptibleThread. It may hang when KafkaDataConsumer's methods are interrupted because of KAFKA-1894\n"
     ]
    },
    {
     "name": "stderr",
     "output_type": "stream",
     "text": [
      "418382334>                                                          (0 + 1) / 1]\n",
      "418382334\n",
      "419318526\n",
      "418382334\n",
      "419319550\n",
      "                                                                                \r"
     ]
    },
    {
     "name": "stdout",
     "output_type": "stream",
     "text": [
      "-------------------------------------------\n",
      "Batch: 3\n",
      "-------------------------------------------\n",
      "+-----------+------+-------------+---+-------------------------+-------------+-----+------------+\n",
      "|topic      |bus_id|can_id       |dlc|data                     |timestamp    |value|message_name|\n",
      "+-----------+------+-------------+---+-------------------------+-------------+-----+------------+\n",
      "|canbus_test|bus_35|[18 F0 01 0B]|8  |[00 00 F3 FF FF 01 FF F7]|1684318638518|null |EBC1        |\n",
      "|canbus_test|bus_34|[18 F0 01 0B]|8  |[00 00 F3 FF FF 01 FF F7]|1684317768365|null |EBC1        |\n",
      "|canbus_test|bus_37|[18 FE 4A 03]|8  |[FF FC C2 F0 FF FF FF FF]|1684318418167|null |ETC7        |\n",
      "|canbus_test|bus_33|[18 F0 01 0B]|8  |[00 00 F3 FF FF 01 FF F7]|1684317156067|null |EBC1        |\n",
      "|canbus_test|bus_36|[18 FE 4E EC]|8  |[02 F3 FF 3F FF FF FF FF]|1684317940653|null |DC1         |\n",
      "+-----------+------+-------------+---+-------------------------+-------------+-----+------------+\n",
      "\n",
      "23/05/17 18:45:24 WARN KafkaDataConsumer: KafkaDataConsumer is not running in UninterruptibleThread. It may hang when KafkaDataConsumer's methods are interrupted because of KAFKA-1894\n",
      "23/05/17 18:45:24 WARN KafkaDataConsumer: KafkaDataConsumer is not running in UninterruptibleThread. It may hang when KafkaDataConsumer's methods are interrupted because of KAFKA-1894\n",
      "23/05/17 18:45:24 WARN KafkaDataConsumer: KafkaDataConsumer is not running in UninterruptibleThread. It may hang when KafkaDataConsumer's methods are interrupted because of KAFKA-1894\n",
      "23/05/17 18:45:24 WARN KafkaDataConsumer: KafkaDataConsumer is not running in UninterruptibleThread. It may hang when KafkaDataConsumer's methods are interrupted because of KAFKA-1894\n",
      "23/05/17 18:45:24 WARN KafkaDataConsumer: KafkaDataConsumer is not running in UninterruptibleThread. It may hang when KafkaDataConsumer's methods are interrupted because of KAFKA-1894\n"
     ]
    },
    {
     "name": "stderr",
     "output_type": "stream",
     "text": [
      "419351294>                                                          (0 + 1) / 1]\n",
      "418382334\n",
      "419351294\n",
      "419351294\n",
      "418382078\n",
      "                                                                                \r"
     ]
    },
    {
     "name": "stdout",
     "output_type": "stream",
     "text": [
      "-------------------------------------------\n",
      "Batch: 4\n",
      "-------------------------------------------\n",
      "+-----------+------+-------------+---+-------------------------+-------------+-----+------------+\n",
      "|topic      |bus_id|can_id       |dlc|data                     |timestamp    |value|message_name|\n",
      "+-----------+------+-------------+---+-------------------------+-------------+-----+------------+\n",
      "|canbus_test|bus_35|[18 FE CA 2F]|8  |[F3 FF 00 00 00 00 FF FF]|1684318639536|null |DM1         |\n",
      "|canbus_test|bus_34|[18 F0 01 0B]|8  |[00 00 F3 FF FF 01 FF F7]|1684317769376|null |EBC1        |\n",
      "|canbus_test|bus_37|[18 FE CA 2F]|8  |[F3 FF 00 00 00 00 FF FF]|1684318419167|null |DM1         |\n",
      "|canbus_test|bus_33|[18 FE CA 2F]|8  |[F3 FF 00 00 00 00 FF FF]|1684317158080|null |DM1         |\n",
      "|canbus_test|bus_36|[18 F0 00 10]|8  |[FF 7D FF FF FF FF FF 7D]|1684317941654|null |ERC1        |\n",
      "+-----------+------+-------------+---+-------------------------+-------------+-----+------------+\n",
      "\n",
      "23/05/17 18:45:25 WARN KafkaDataConsumer: KafkaDataConsumer is not running in UninterruptibleThread. It may hang when KafkaDataConsumer's methods are interrupted because of KAFKA-1894\n",
      "23/05/17 18:45:25 WARN KafkaDataConsumer: KafkaDataConsumer is not running in UninterruptibleThread. It may hang when KafkaDataConsumer's methods are interrupted because of KAFKA-1894\n",
      "23/05/17 18:45:25 WARN KafkaDataConsumer: KafkaDataConsumer is not running in UninterruptibleThread. It may hang when KafkaDataConsumer's methods are interrupted because of KAFKA-1894\n",
      "23/05/17 18:45:25 WARN KafkaDataConsumer: KafkaDataConsumer is not running in UninterruptibleThread. It may hang when KafkaDataConsumer's methods are interrupted because of KAFKA-1894\n",
      "23/05/17 18:45:25 WARN KafkaDataConsumer: KafkaDataConsumer is not running in UninterruptibleThread. It may hang when KafkaDataConsumer's methods are interrupted because of KAFKA-1894\n"
     ]
    },
    {
     "name": "stderr",
     "output_type": "stream",
     "text": [
      "\r",
      "[Stage 5:>                                                          (0 + 1) / 1]\r",
      "419170302\n",
      "419170558\n",
      "419284222\n",
      "419373310\n",
      "419174398\n",
      "\r",
      "                                                                                \r"
     ]
    },
    {
     "name": "stdout",
     "output_type": "stream",
     "text": [
      "-------------------------------------------\n",
      "Batch: 5\n",
      "-------------------------------------------\n",
      "+-----------+------+-------------+---+-------------------------+-------------+-----+------------+\n",
      "|topic      |bus_id|can_id       |dlc|data                     |timestamp    |value|message_name|\n",
      "+-----------+------+-------------+---+-------------------------+-------------+-----+------------+\n",
      "|canbus_test|bus_37|[18 FC 07 F4]|8  |[CC 09 59 07 8A 02 60 5D]|1684318420176|null |null        |\n",
      "|canbus_test|bus_35|[18 FC 08 F4]|8  |[73 02 5B 27 64 41 18 CB]|1684318640553|null |null        |\n",
      "|canbus_test|bus_33|[18 FD C4 0B]|8  |[E0 08 FF F3 FF FF FF FF]|1684317159115|null |EBC5        |\n",
      "|canbus_test|bus_36|[18 FF 20 EF]|8  |[F0 7D 00 00 7D EF FF 7D]|1684317942696|null |null        |\n",
      "|canbus_test|bus_34|[18 FC 17 21]|8  |[F8 2A 20 4E FF FF FE EE]|1684317770382|null |null        |\n",
      "+-----------+------+-------------+---+-------------------------+-------------+-----+------------+\n",
      "\n",
      "23/05/17 18:45:26 WARN KafkaDataConsumer: KafkaDataConsumer is not running in UninterruptibleThread. It may hang when KafkaDataConsumer's methods are interrupted because of KAFKA-1894\n",
      "23/05/17 18:45:26 WARN KafkaDataConsumer: KafkaDataConsumer is not running in UninterruptibleThread. It may hang when KafkaDataConsumer's methods are interrupted because of KAFKA-1894\n",
      "23/05/17 18:45:26 WARN KafkaDataConsumer: KafkaDataConsumer is not running in UninterruptibleThread. It may hang when KafkaDataConsumer's methods are interrupted because of KAFKA-1894\n",
      "23/05/17 18:45:26 WARN KafkaDataConsumer: KafkaDataConsumer is not running in UninterruptibleThread. It may hang when KafkaDataConsumer's methods are interrupted because of KAFKA-1894\n",
      "23/05/17 18:45:26 WARN KafkaDataConsumer: KafkaDataConsumer is not running in UninterruptibleThread. It may hang when KafkaDataConsumer's methods are interrupted because of KAFKA-1894\n",
      "23/05/17 18:45:26 WARN KafkaDataConsumer: KafkaDataConsumer is not running in UninterruptibleThread. It may hang when KafkaDataConsumer's methods are interrupted because of KAFKA-1894\n",
      "23/05/17 18:45:27 WARN KafkaDataConsumer: KafkaDataConsumer is not running in UninterruptibleThread. It may hang when KafkaDataConsumer's methods are interrupted because of KAFKA-1894\n"
     ]
    },
    {
     "name": "stderr",
     "output_type": "stream",
     "text": [
      "215101438>                                                          (0 + 1) / 1]\n",
      "418382334\n",
      "418382334\n",
      "419348478\n",
      "150892286\n",
      "419355134\n",
      "418382334\n",
      "                                                                                \r"
     ]
    },
    {
     "name": "stdout",
     "output_type": "stream",
     "text": [
      "-------------------------------------------\n",
      "Batch: 6\n",
      "-------------------------------------------\n",
      "+-----------+------+-------------+---+-------------------------+-------------+-----+------------+\n",
      "|topic      |bus_id|can_id       |dlc|data                     |timestamp    |value|message_name|\n",
      "+-----------+------+-------------+---+-------------------------+-------------+-----+------------+\n",
      "|canbus_test|bus_37|[0C D2 2F 27]|8  |[00 00 A0 00 00 00 00 00]|1684318421210|null |null        |\n",
      "|canbus_test|bus_34|[18 F0 01 0B]|8  |[00 00 F3 FF FF 01 FF F7]|1684317771424|null |EBC1        |\n",
      "|canbus_test|bus_35|[18 F0 01 0B]|8  |[00 00 F3 FF FF 01 FF F7]|1684318641558|null |EBC1        |\n",
      "|canbus_test|bus_33|[18 FE BF 0B]|8  |[00 00 7D 7D 7D 7D FF FF]|1684317160109|null |EBC2        |\n",
      "|canbus_test|bus_36|[08 FE 6E 0B]|8  |[00 00 00 00 00 00 00 00]|1684317943740|null |HRW         |\n",
      "|canbus_test|bus_37|[18 FE D9 10]|8  |[5F FF FF FF FF FF FF FF]|1684318422217|null |AUXIO1      |\n",
      "|canbus_test|bus_34|[18 F0 01 0B]|8  |[00 00 F3 FF FF 01 FF F7]|1684317772434|null |EBC1        |\n",
      "+-----------+------+-------------+---+-------------------------+-------------+-----+------------+\n",
      "\n",
      "23/05/17 18:45:28 WARN KafkaDataConsumer: KafkaDataConsumer is not running in UninterruptibleThread. It may hang when KafkaDataConsumer's methods are interrupted because of KAFKA-1894\n",
      "23/05/17 18:45:28 WARN KafkaDataConsumer: KafkaDataConsumer is not running in UninterruptibleThread. It may hang when KafkaDataConsumer's methods are interrupted because of KAFKA-1894\n",
      "23/05/17 18:45:28 WARN KafkaDataConsumer: KafkaDataConsumer is not running in UninterruptibleThread. It may hang when KafkaDataConsumer's methods are interrupted because of KAFKA-1894\n",
      "23/05/17 18:45:28 WARN KafkaDataConsumer: KafkaDataConsumer is not running in UninterruptibleThread. It may hang when KafkaDataConsumer's methods are interrupted because of KAFKA-1894\n",
      "23/05/17 18:45:28 WARN KafkaDataConsumer: KafkaDataConsumer is not running in UninterruptibleThread. It may hang when KafkaDataConsumer's methods are interrupted because of KAFKA-1894\n",
      "23/05/17 18:45:28 WARN KafkaDataConsumer: KafkaDataConsumer is not running in UninterruptibleThread. It may hang when KafkaDataConsumer's methods are interrupted because of KAFKA-1894\n",
      "23/05/17 18:45:28 WARN KafkaDataConsumer: KafkaDataConsumer is not running in UninterruptibleThread. It may hang when KafkaDataConsumer's methods are interrupted because of KAFKA-1894\n",
      "23/05/17 18:45:28 WARN KafkaDataConsumer: KafkaDataConsumer is not running in UninterruptibleThread. It may hang when KafkaDataConsumer's methods are interrupted because of KAFKA-1894\n"
     ]
    },
    {
     "name": "stderr",
     "output_type": "stream",
     "text": [
      "419373310>                                                          (0 + 1) / 1]\n",
      "418382334\n",
      "418382334\n",
      "419174398\n",
      "419351294\n",
      "418382334\n",
      "419351294\n",
      "419344126\n",
      "                                                                                \r"
     ]
    },
    {
     "name": "stdout",
     "output_type": "stream",
     "text": [
      "-------------------------------------------\n",
      "Batch: 7\n",
      "-------------------------------------------\n",
      "+-----------+------+-------------+---+-------------------------+-------------+-----+------------+\n",
      "|topic      |bus_id|can_id       |dlc|data                     |timestamp    |value|message_name|\n",
      "+-----------+------+-------------+---+-------------------------+-------------+-----+------------+\n",
      "|canbus_test|bus_35|[18 FF 20 EF]|8  |[F0 7D 00 00 7D EF FF 7D]|1684318642569|null |null        |\n",
      "|canbus_test|bus_33|[18 F0 01 0B]|8  |[00 00 F3 FF FF 01 FF F7]|1684317161139|null |EBC1        |\n",
      "|canbus_test|bus_36|[18 F0 01 17]|8  |[FF FF FF FF FF FF FF F7]|1684317944748|null |EBC1        |\n",
      "|canbus_test|bus_37|[18 FC 17 21]|8  |[F8 2A 20 4E FF FF FE EE]|1684318423230|null |null        |\n",
      "|canbus_test|bus_34|[18 FE CA 2F]|8  |[F3 FF 00 00 00 00 FF FF]|1684317773475|null |DM1         |\n",
      "|canbus_test|bus_35|[18 F0 01 0B]|8  |[00 00 F3 FF FF 01 FF F7]|1684318643585|null |EBC1        |\n",
      "|canbus_test|bus_33|[18 FE CA 2F]|8  |[F3 FF 00 00 00 00 FF FF]|1684317162136|null |DM1         |\n",
      "|canbus_test|bus_36|[18 FE AE 30]|8  |[FF FF 60 60 FF FF FF FF]|1684317945786|null |AIR1        |\n",
      "+-----------+------+-------------+---+-------------------------+-------------+-----+------------+\n",
      "\n",
      "23/05/17 18:45:29 WARN KafkaDataConsumer: KafkaDataConsumer is not running in UninterruptibleThread. It may hang when KafkaDataConsumer's methods are interrupted because of KAFKA-1894\n",
      "23/05/17 18:45:29 WARN KafkaDataConsumer: KafkaDataConsumer is not running in UninterruptibleThread. It may hang when KafkaDataConsumer's methods are interrupted because of KAFKA-1894\n",
      "23/05/17 18:45:29 WARN KafkaDataConsumer: KafkaDataConsumer is not running in UninterruptibleThread. It may hang when KafkaDataConsumer's methods are interrupted because of KAFKA-1894\n",
      "23/05/17 18:45:29 WARN KafkaDataConsumer: KafkaDataConsumer is not running in UninterruptibleThread. It may hang when KafkaDataConsumer's methods are interrupted because of KAFKA-1894\n",
      "23/05/17 18:45:29 WARN KafkaDataConsumer: KafkaDataConsumer is not running in UninterruptibleThread. It may hang when KafkaDataConsumer's methods are interrupted because of KAFKA-1894\n"
     ]
    },
    {
     "name": "stderr",
     "output_type": "stream",
     "text": [
      "419351294>                                                          (0 + 1) / 1]\n",
      "419348478\n",
      "419351294\n",
      "419170558\n",
      "419348478\n",
      "                                                                                \r"
     ]
    },
    {
     "name": "stdout",
     "output_type": "stream",
     "text": [
      "-------------------------------------------\n",
      "Batch: 8\n",
      "-------------------------------------------\n",
      "+-----------+------+-------------+---+-------------------------+-------------+-----+------------+\n",
      "|topic      |bus_id|can_id       |dlc|data                     |timestamp    |value|message_name|\n",
      "+-----------+------+-------------+---+-------------------------+-------------+-----+------------+\n",
      "|canbus_test|bus_37|[18 FE CA 2F]|8  |[F3 FF 00 00 00 00 FF FF]|1684318424245|null |DM1         |\n",
      "|canbus_test|bus_34|[18 FE BF 0B]|8  |[00 00 7D 7D 7D 7D FF FF]|1684317774499|null |EBC2        |\n",
      "|canbus_test|bus_35|[18 FE CA 2F]|8  |[F3 FF 00 00 00 00 FF FF]|1684318644609|null |DM1         |\n",
      "|canbus_test|bus_33|[18 FC 08 F4]|8  |[73 02 5A 27 64 42 18 CB]|1684317163159|null |null        |\n",
      "|canbus_test|bus_36|[18 FE BF 0B]|8  |[00 00 7D 7D 7D 7D FF FF]|1684317946816|null |EBC2        |\n",
      "+-----------+------+-------------+---+-------------------------+-------------+-----+------------+\n",
      "\n",
      "23/05/17 18:45:30 WARN KafkaDataConsumer: KafkaDataConsumer is not running in UninterruptibleThread. It may hang when KafkaDataConsumer's methods are interrupted because of KAFKA-1894\n",
      "23/05/17 18:45:30 WARN KafkaDataConsumer: KafkaDataConsumer is not running in UninterruptibleThread. It may hang when KafkaDataConsumer's methods are interrupted because of KAFKA-1894\n",
      "23/05/17 18:45:30 WARN KafkaDataConsumer: KafkaDataConsumer is not running in UninterruptibleThread. It may hang when KafkaDataConsumer's methods are interrupted because of KAFKA-1894\n",
      "23/05/17 18:45:30 WARN KafkaDataConsumer: KafkaDataConsumer is not running in UninterruptibleThread. It may hang when KafkaDataConsumer's methods are interrupted because of KAFKA-1894\n",
      "23/05/17 18:45:30 WARN KafkaDataConsumer: KafkaDataConsumer is not running in UninterruptibleThread. It may hang when KafkaDataConsumer's methods are interrupted because of KAFKA-1894\n"
     ]
    },
    {
     "name": "stderr",
     "output_type": "stream",
     "text": [
      "217055998>                                                          (0 + 1) / 1]\n",
      "419351294\n",
      "419361278\n",
      "419170558\n",
      "217055998\n",
      "                                                                                \r"
     ]
    },
    {
     "name": "stdout",
     "output_type": "stream",
     "text": [
      "-------------------------------------------\n",
      "Batch: 9\n",
      "-------------------------------------------\n",
      "+-----------+------+-------------+---+-------------------------+-------------+-----+------------+\n",
      "|topic      |bus_id|can_id       |dlc|data                     |timestamp    |value|message_name|\n",
      "+-----------+------+-------------+---+-------------------------+-------------+-----+------------+\n",
      "|canbus_test|bus_37|[0C F0 02 03]|8  |[CD FF FE FF FF FF FF FF]|1684318425262|null |ETC1        |\n",
      "|canbus_test|bus_34|[18 FE CA 2F]|8  |[F3 FF 00 00 00 00 FF FF]|1684317775510|null |DM1         |\n",
      "|canbus_test|bus_35|[18 FE F1 00]|8  |[F7 00 00 0F FF FF FF FF]|1684318646671|null |CCVS        |\n",
      "|canbus_test|bus_33|[18 FC 08 F4]|8  |[73 02 58 27 64 42 18 CD]|1684317164160|null |null        |\n",
      "|canbus_test|bus_36|[0C F0 02 03]|8  |[CD FF FE FF FF FF FF FF]|1684317947842|null |ETC1        |\n",
      "+-----------+------+-------------+---+-------------------------+-------------+-----+------------+\n",
      "\n",
      "23/05/17 18:45:31 WARN KafkaDataConsumer: KafkaDataConsumer is not running in UninterruptibleThread. It may hang when KafkaDataConsumer's methods are interrupted because of KAFKA-1894\n",
      "23/05/17 18:45:31 WARN KafkaDataConsumer: KafkaDataConsumer is not running in UninterruptibleThread. It may hang when KafkaDataConsumer's methods are interrupted because of KAFKA-1894\n",
      "23/05/17 18:45:31 WARN KafkaDataConsumer: KafkaDataConsumer is not running in UninterruptibleThread. It may hang when KafkaDataConsumer's methods are interrupted because of KAFKA-1894\n",
      "23/05/17 18:45:31 WARN KafkaDataConsumer: KafkaDataConsumer is not running in UninterruptibleThread. It may hang when KafkaDataConsumer's methods are interrupted because of KAFKA-1894\n",
      "23/05/17 18:45:31 WARN KafkaDataConsumer: KafkaDataConsumer is not running in UninterruptibleThread. It may hang when KafkaDataConsumer's methods are interrupted because of KAFKA-1894\n"
     ]
    },
    {
     "name": "stderr",
     "output_type": "stream",
     "text": [
      "\r",
      "[Stage 10:>                                                         (0 + 1) / 1]\r",
      "217055998\n",
      "419174142\n",
      "419351294\n",
      "419373310\n",
      "418583806\n",
      "\r",
      "                                                                                \r"
     ]
    },
    {
     "name": "stdout",
     "output_type": "stream",
     "text": [
      "-------------------------------------------\n",
      "Batch: 10\n",
      "-------------------------------------------\n",
      "+-----------+------+-------------+---+-------------------------+-------------+-----+------------+\n",
      "|topic      |bus_id|can_id       |dlc|data                     |timestamp    |value|message_name|\n",
      "+-----------+------+-------------+---+-------------------------+-------------+-----+------------+\n",
      "|canbus_test|bus_37|[0C F0 02 03]|8  |[CD FF FE FF FF FF FF FF]|1684318426271|null |ETC1        |\n",
      "|canbus_test|bus_34|[18 FC 16 21]|8  |[03 C7 00 00 72 02 FF 41]|1684317776526|null |null        |\n",
      "|canbus_test|bus_35|[18 FE CA 2F]|8  |[F3 FF 00 00 00 00 FF FF]|1684318647688|null |DM1         |\n",
      "|canbus_test|bus_33|[18 FF 20 EF]|8  |[F0 7D 00 00 7D EF FF 7D]|1684317165153|null |null        |\n",
      "|canbus_test|bus_36|[18 F3 14 00]|8  |[05 00 C7 0C C8 0C C8 0C]|1684317949925|null |null        |\n",
      "+-----------+------+-------------+---+-------------------------+-------------+-----+------------+\n",
      "\n",
      "23/05/17 18:45:32 WARN KafkaDataConsumer: KafkaDataConsumer is not running in UninterruptibleThread. It may hang when KafkaDataConsumer's methods are interrupted because of KAFKA-1894\n",
      "23/05/17 18:45:32 WARN KafkaDataConsumer: KafkaDataConsumer is not running in UninterruptibleThread. It may hang when KafkaDataConsumer's methods are interrupted because of KAFKA-1894\n",
      "23/05/17 18:45:32 WARN KafkaDataConsumer: KafkaDataConsumer is not running in UninterruptibleThread. It may hang when KafkaDataConsumer's methods are interrupted because of KAFKA-1894\n",
      "23/05/17 18:45:32 WARN KafkaDataConsumer: KafkaDataConsumer is not running in UninterruptibleThread. It may hang when KafkaDataConsumer's methods are interrupted because of KAFKA-1894\n",
      "23/05/17 18:45:32 WARN KafkaDataConsumer: KafkaDataConsumer is not running in UninterruptibleThread. It may hang when KafkaDataConsumer's methods are interrupted because of KAFKA-1894\n"
     ]
    },
    {
     "name": "stderr",
     "output_type": "stream",
     "text": [
      "419351294:>                                                         (0 + 1) / 1]\n",
      "418382334\n",
      "419348478\n",
      "419361278\n",
      "418382334\n",
      "                                                                                \r"
     ]
    },
    {
     "name": "stdout",
     "output_type": "stream",
     "text": [
      "-------------------------------------------\n",
      "Batch: 11\n",
      "-------------------------------------------\n",
      "+-----------+------+-------------+---+-------------------------+-------------+-----+------------+\n",
      "|topic      |bus_id|can_id       |dlc|data                     |timestamp    |value|message_name|\n",
      "+-----------+------+-------------+---+-------------------------+-------------+-----+------------+\n",
      "|canbus_test|bus_37|[18 FE CA 2F]|8  |[F3 FF 00 00 00 00 FF FF]|1684318427280|null |DM1         |\n",
      "|canbus_test|bus_34|[18 F0 01 0B]|8  |[00 00 F3 FF FF 01 FF F7]|1684317777570|null |EBC1        |\n",
      "|canbus_test|bus_35|[18 FE BF 0B]|8  |[00 00 7D 7D 7D 7D FF FF]|1684318648731|null |EBC2        |\n",
      "|canbus_test|bus_33|[18 FE F1 00]|8  |[F7 00 00 0F FF FF FF FF]|1684317166149|null |CCVS        |\n",
      "|canbus_test|bus_36|[18 F0 01 0B]|8  |[00 00 F3 FF FF 01 FF F7]|1684317950933|null |EBC1        |\n",
      "+-----------+------+-------------+---+-------------------------+-------------+-----+------------+\n",
      "\n",
      "23/05/17 18:45:33 WARN KafkaDataConsumer: KafkaDataConsumer is not running in UninterruptibleThread. It may hang when KafkaDataConsumer's methods are interrupted because of KAFKA-1894\n",
      "23/05/17 18:45:33 WARN KafkaDataConsumer: KafkaDataConsumer is not running in UninterruptibleThread. It may hang when KafkaDataConsumer's methods are interrupted because of KAFKA-1894\n",
      "23/05/17 18:45:33 WARN KafkaDataConsumer: KafkaDataConsumer is not running in UninterruptibleThread. It may hang when KafkaDataConsumer's methods are interrupted because of KAFKA-1894\n",
      "23/05/17 18:45:33 WARN KafkaDataConsumer: KafkaDataConsumer is not running in UninterruptibleThread. It may hang when KafkaDataConsumer's methods are interrupted because of KAFKA-1894\n",
      "23/05/17 18:45:33 WARN KafkaDataConsumer: KafkaDataConsumer is not running in UninterruptibleThread. It may hang when KafkaDataConsumer's methods are interrupted because of KAFKA-1894\n"
     ]
    },
    {
     "name": "stderr",
     "output_type": "stream",
     "text": [
      "419348478:>                                                         (0 + 1) / 1]\n",
      "419373310\n",
      "418382334\n",
      "418382078\n",
      "419170302\n",
      "                                                                                \r"
     ]
    },
    {
     "name": "stdout",
     "output_type": "stream",
     "text": [
      "-------------------------------------------\n",
      "Batch: 12\n",
      "-------------------------------------------\n",
      "+-----------+------+-------------+---+-------------------------+-------------+-----+------------+\n",
      "|topic      |bus_id|can_id       |dlc|data                     |timestamp    |value|message_name|\n",
      "+-----------+------+-------------+---+-------------------------+-------------+-----+------------+\n",
      "|canbus_test|bus_37|[18 FE BF 0B]|8  |[00 00 7D 7D 7D 7D FF FF]|1684318428318|null |EBC2        |\n",
      "|canbus_test|bus_34|[18 FF 20 EF]|8  |[F0 7D 00 00 7D EF FF 7D]|1684317779592|null |null        |\n",
      "|canbus_test|bus_35|[18 F0 01 0B]|8  |[00 00 F3 FF FF 01 FF F7]|1684318649750|null |EBC1        |\n",
      "|canbus_test|bus_33|[18 F0 00 10]|8  |[FF 7D FF FF FF FF FF 7D]|1684317167146|null |ERC1        |\n",
      "|canbus_test|bus_36|[18 FC 07 F4]|8  |[CC 09 59 07 8B 02 61 5B]|1684317951967|null |null        |\n",
      "+-----------+------+-------------+---+-------------------------+-------------+-----+------------+\n",
      "\n",
      "23/05/17 18:45:34 WARN KafkaDataConsumer: KafkaDataConsumer is not running in UninterruptibleThread. It may hang when KafkaDataConsumer's methods are interrupted because of KAFKA-1894\n",
      "23/05/17 18:45:34 WARN KafkaDataConsumer: KafkaDataConsumer is not running in UninterruptibleThread. It may hang when KafkaDataConsumer's methods are interrupted because of KAFKA-1894\n",
      "23/05/17 18:45:34 WARN KafkaDataConsumer: KafkaDataConsumer is not running in UninterruptibleThread. It may hang when KafkaDataConsumer's methods are interrupted because of KAFKA-1894\n",
      "23/05/17 18:45:34 WARN KafkaDataConsumer: KafkaDataConsumer is not running in UninterruptibleThread. It may hang when KafkaDataConsumer's methods are interrupted because of KAFKA-1894\n",
      "23/05/17 18:45:34 WARN KafkaDataConsumer: KafkaDataConsumer is not running in UninterruptibleThread. It may hang when KafkaDataConsumer's methods are interrupted because of KAFKA-1894\n"
     ]
    },
    {
     "name": "stderr",
     "output_type": "stream",
     "text": [
      "\r",
      "[Stage 13:>                                                         (0 + 1) / 1]\r",
      "419348478\n",
      "201326846\n",
      "418382334\n",
      "418119678\n",
      "419351294\n",
      "\r",
      "                                                                                \r"
     ]
    },
    {
     "name": "stdout",
     "output_type": "stream",
     "text": [
      "-------------------------------------------\n",
      "Batch: 13\n",
      "-------------------------------------------\n",
      "+-----------+------+-------------+---+-------------------------+-------------+-----+------------+\n",
      "|topic      |bus_id|can_id       |dlc|data                     |timestamp    |value|message_name|\n",
      "+-----------+------+-------------+---+-------------------------+-------------+-----+------------+\n",
      "|canbus_test|bus_37|[18 FE BF 0B]|8  |[00 00 7D 7D 7D 7D FF FF]|1684318429327|null |EBC2        |\n",
      "|canbus_test|bus_34|[0C 00 00 0B]|8  |[30 FF FF FA FF FF FF 30]|1684317780597|null |null        |\n",
      "|canbus_test|bus_35|[18 F0 01 0B]|8  |[00 00 F3 FF FF 01 FF F7]|1684318650767|null |EBC1        |\n",
      "|canbus_test|bus_33|[18 EB FF 00]|8  |[03 FF FF FF FF FF 20 03]|1684317168147|null |null        |\n",
      "|canbus_test|bus_36|[18 FE CA 2F]|8  |[F3 FF 00 00 00 00 FF FF]|1684317952982|null |DM1         |\n",
      "+-----------+------+-------------+---+-------------------------+-------------+-----+------------+\n",
      "\n",
      "23/05/17 18:45:35 WARN KafkaDataConsumer: KafkaDataConsumer is not running in UninterruptibleThread. It may hang when KafkaDataConsumer's methods are interrupted because of KAFKA-1894\n",
      "23/05/17 18:45:35 WARN KafkaDataConsumer: KafkaDataConsumer is not running in UninterruptibleThread. It may hang when KafkaDataConsumer's methods are interrupted because of KAFKA-1894\n",
      "23/05/17 18:45:35 WARN KafkaDataConsumer: KafkaDataConsumer is not running in UninterruptibleThread. It may hang when KafkaDataConsumer's methods are interrupted because of KAFKA-1894\n",
      "23/05/17 18:45:35 WARN KafkaDataConsumer: KafkaDataConsumer is not running in UninterruptibleThread. It may hang when KafkaDataConsumer's methods are interrupted because of KAFKA-1894\n",
      "23/05/17 18:45:35 WARN KafkaDataConsumer: KafkaDataConsumer is not running in UninterruptibleThread. It may hang when KafkaDataConsumer's methods are interrupted because of KAFKA-1894\n"
     ]
    },
    {
     "name": "stderr",
     "output_type": "stream",
     "text": [
      "\r",
      "[Stage 14:>                                                         (0 + 1) / 1]\r",
      "418382078\n",
      "419343870\n",
      "419169534\n",
      "418382334\n",
      "419351294\n",
      "\r",
      "                                                                                \r"
     ]
    },
    {
     "name": "stdout",
     "output_type": "stream",
     "text": [
      "-------------------------------------------\n",
      "Batch: 14\n",
      "-------------------------------------------\n",
      "+-----------+------+-------------+---+-------------------------+-------------+-----+------------+\n",
      "|topic      |bus_id|can_id       |dlc|data                     |timestamp    |value|message_name|\n",
      "+-----------+------+-------------+---+-------------------------+-------------+-----+------------+\n",
      "|canbus_test|bus_37|[18 F0 00 10]|8  |[FF 7D FF FF FF FF FF 7D]|1684318430363|null |ERC1        |\n",
      "|canbus_test|bus_34|[18 FE AD 0B]|8  |[00 00 00 00 FE FE FF FF]|1684317781606|null |EBC3        |\n",
      "|canbus_test|bus_35|[18 FC 04 F4]|8  |[84 01 05 3A 40 41 D5 62]|1684318651779|null |null        |\n",
      "|canbus_test|bus_33|[18 F0 01 0B]|8  |[00 00 F3 FF FF 01 FF F7]|1684317169150|null |EBC1        |\n",
      "|canbus_test|bus_36|[18 FE CA 2F]|8  |[F3 FF 00 00 00 00 FF FF]|1684317953991|null |DM1         |\n",
      "+-----------+------+-------------+---+-------------------------+-------------+-----+------------+\n",
      "\n",
      "23/05/17 18:45:36 WARN KafkaDataConsumer: KafkaDataConsumer is not running in UninterruptibleThread. It may hang when KafkaDataConsumer's methods are interrupted because of KAFKA-1894\n",
      "23/05/17 18:45:36 WARN KafkaDataConsumer: KafkaDataConsumer is not running in UninterruptibleThread. It may hang when KafkaDataConsumer's methods are interrupted because of KAFKA-1894\n",
      "23/05/17 18:45:36 WARN KafkaDataConsumer: KafkaDataConsumer is not running in UninterruptibleThread. It may hang when KafkaDataConsumer's methods are interrupted because of KAFKA-1894\n",
      "23/05/17 18:45:36 WARN KafkaDataConsumer: KafkaDataConsumer is not running in UninterruptibleThread. It may hang when KafkaDataConsumer's methods are interrupted because of KAFKA-1894\n",
      "23/05/17 18:45:36 WARN KafkaDataConsumer: KafkaDataConsumer is not running in UninterruptibleThread. It may hang when KafkaDataConsumer's methods are interrupted because of KAFKA-1894\n"
     ]
    },
    {
     "name": "stderr",
     "output_type": "stream",
     "text": [
      "\r",
      "[Stage 15:>                                                         (0 + 1) / 1]\r",
      "419351294\n",
      "419174654\n",
      "418382334\n",
      "419351294\n",
      "419373310\n",
      "\r",
      "                                                                                \r"
     ]
    },
    {
     "name": "stdout",
     "output_type": "stream",
     "text": [
      "-------------------------------------------\n",
      "Batch: 15\n",
      "-------------------------------------------\n",
      "+-----------+------+-------------+---+-------------------------+-------------+-----+------------+\n",
      "|topic      |bus_id|can_id       |dlc|data                     |timestamp    |value|message_name|\n",
      "+-----------+------+-------------+---+-------------------------+-------------+-----+------------+\n",
      "|canbus_test|bus_37|[18 FE CA 2F]|8  |[F3 FF 00 00 00 00 FF FF]|1684318431372|null |DM1         |\n",
      "|canbus_test|bus_34|[18 FC 18 21]|8  |[00 10 9B 88 0B 49 FF F6]|1684317782611|null |null        |\n",
      "|canbus_test|bus_35|[18 F0 01 0B]|8  |[00 00 F3 FF FF 01 FF F7]|1684318652788|null |EBC1        |\n",
      "|canbus_test|bus_33|[18 FE CA 2F]|8  |[F3 FF 00 00 00 00 FF FF]|1684317170165|null |DM1         |\n",
      "|canbus_test|bus_36|[18 FF 20 EF]|8  |[F0 7D 00 00 7D EF FF 7D]|1684317955001|null |null        |\n",
      "+-----------+------+-------------+---+-------------------------+-------------+-----+------------+\n",
      "\n",
      "23/05/17 18:45:37 WARN KafkaDataConsumer: KafkaDataConsumer is not running in UninterruptibleThread. It may hang when KafkaDataConsumer's methods are interrupted because of KAFKA-1894\n",
      "23/05/17 18:45:37 WARN KafkaDataConsumer: KafkaDataConsumer is not running in UninterruptibleThread. It may hang when KafkaDataConsumer's methods are interrupted because of KAFKA-1894\n",
      "23/05/17 18:45:37 WARN KafkaDataConsumer: KafkaDataConsumer is not running in UninterruptibleThread. It may hang when KafkaDataConsumer's methods are interrupted because of KAFKA-1894\n",
      "23/05/17 18:45:37 WARN KafkaDataConsumer: KafkaDataConsumer is not running in UninterruptibleThread. It may hang when KafkaDataConsumer's methods are interrupted because of KAFKA-1894\n",
      "23/05/17 18:45:37 WARN KafkaDataConsumer: KafkaDataConsumer is not running in UninterruptibleThread. It may hang when KafkaDataConsumer's methods are interrupted because of KAFKA-1894\n"
     ]
    },
    {
     "name": "stderr",
     "output_type": "stream",
     "text": [
      "\r",
      "[Stage 16:>                                                         (0 + 1) / 1]\r",
      "419373310\n",
      "419351294\n",
      "419320318\n",
      "419348478\n",
      "418382334\n",
      "\r",
      "                                                                                \r"
     ]
    },
    {
     "name": "stdout",
     "output_type": "stream",
     "text": [
      "-------------------------------------------\n",
      "Batch: 16\n",
      "-------------------------------------------\n",
      "+-----------+------+-------------+---+-------------------------+-------------+-----+------------+\n",
      "|topic      |bus_id|can_id       |dlc|data                     |timestamp    |value|message_name|\n",
      "+-----------+------+-------------+---+-------------------------+-------------+-----+------------+\n",
      "|canbus_test|bus_37|[18 FF 20 EF]|8  |[F0 7D 00 00 7D EF FF 7D]|1684318432367|null |null        |\n",
      "|canbus_test|bus_34|[18 FE CA 2F]|8  |[F3 FF 00 00 00 00 FF FF]|1684317783612|null |DM1         |\n",
      "|canbus_test|bus_35|[18 FE 51 27]|8  |[7C FF FF FF FF FF FF FF]|1684318653808|null |ACC2        |\n",
      "|canbus_test|bus_33|[18 FE BF 0B]|8  |[00 00 7D 7D 7D 7D FF FF]|1684317171170|null |EBC2        |\n",
      "|canbus_test|bus_36|[18 F0 01 0B]|8  |[00 00 F3 FF FF 01 FF F7]|1684317956019|null |EBC1        |\n",
      "+-----------+------+-------------+---+-------------------------+-------------+-----+------------+\n",
      "\n",
      "23/05/17 18:45:38 WARN KafkaDataConsumer: KafkaDataConsumer is not running in UninterruptibleThread. It may hang when KafkaDataConsumer's methods are interrupted because of KAFKA-1894\n",
      "23/05/17 18:45:38 WARN KafkaDataConsumer: KafkaDataConsumer is not running in UninterruptibleThread. It may hang when KafkaDataConsumer's methods are interrupted because of KAFKA-1894\n",
      "23/05/17 18:45:38 WARN KafkaDataConsumer: KafkaDataConsumer is not running in UninterruptibleThread. It may hang when KafkaDataConsumer's methods are interrupted because of KAFKA-1894\n",
      "23/05/17 18:45:38 WARN KafkaDataConsumer: KafkaDataConsumer is not running in UninterruptibleThread. It may hang when KafkaDataConsumer's methods are interrupted because of KAFKA-1894\n",
      "23/05/17 18:45:38 WARN KafkaDataConsumer: KafkaDataConsumer is not running in UninterruptibleThread. It may hang when KafkaDataConsumer's methods are interrupted because of KAFKA-1894\n"
     ]
    },
    {
     "name": "stderr",
     "output_type": "stream",
     "text": [
      "\r",
      "[Stage 17:>                                                         (0 + 1) / 1]\r",
      "419319550\n",
      "419171838\n",
      "419348478\n",
      "418382334\n",
      "419348478\n",
      "\r",
      "                                                                                \r"
     ]
    },
    {
     "name": "stdout",
     "output_type": "stream",
     "text": [
      "-------------------------------------------\n",
      "Batch: 17\n",
      "-------------------------------------------\n",
      "+-----------+------+-------------+---+-------------------------+-------------+-----+------------+\n",
      "|topic      |bus_id|can_id       |dlc|data                     |timestamp    |value|message_name|\n",
      "+-----------+------+-------------+---+-------------------------+-------------+-----+------------+\n",
      "|canbus_test|bus_37|[18 FE 4E EC]|8  |[02 F3 FF 3F FF FF FF FF]|1684318433364|null |DC1         |\n",
      "|canbus_test|bus_35|[18 FC 0D F4]|8  |[A3 87 A3 06 46 22 44 01]|1684318654818|null |null        |\n",
      "|canbus_test|bus_34|[18 FE BF 0B]|8  |[00 00 7D 7D 7D 7D FF FF]|1684317784618|null |EBC2        |\n",
      "|canbus_test|bus_33|[18 F0 01 0B]|8  |[00 00 F3 FF FF 01 FF F7]|1684317172173|null |EBC1        |\n",
      "|canbus_test|bus_36|[18 FE BF 0B]|8  |[00 00 7D 7D 7D 7D FF FF]|1684317957026|null |EBC2        |\n",
      "+-----------+------+-------------+---+-------------------------+-------------+-----+------------+\n",
      "\n",
      "23/05/17 18:45:39 WARN KafkaDataConsumer: KafkaDataConsumer is not running in UninterruptibleThread. It may hang when KafkaDataConsumer's methods are interrupted because of KAFKA-1894\n",
      "23/05/17 18:45:39 WARN KafkaDataConsumer: KafkaDataConsumer is not running in UninterruptibleThread. It may hang when KafkaDataConsumer's methods are interrupted because of KAFKA-1894\n",
      "23/05/17 18:45:39 WARN KafkaDataConsumer: KafkaDataConsumer is not running in UninterruptibleThread. It may hang when KafkaDataConsumer's methods are interrupted because of KAFKA-1894\n",
      "23/05/17 18:45:39 WARN KafkaDataConsumer: KafkaDataConsumer is not running in UninterruptibleThread. It may hang when KafkaDataConsumer's methods are interrupted because of KAFKA-1894\n",
      "23/05/17 18:45:39 WARN KafkaDataConsumer: KafkaDataConsumer is not running in UninterruptibleThread. It may hang when KafkaDataConsumer's methods are interrupted because of KAFKA-1894\n"
     ]
    },
    {
     "name": "stderr",
     "output_type": "stream",
     "text": [
      "\r",
      "[Stage 18:>                                                         (0 + 1) / 1]\r",
      "418382334\n",
      "418382078\n",
      "419355134\n",
      "418583294\n",
      "150892286\n",
      "\r",
      "                                                                                \r"
     ]
    },
    {
     "name": "stdout",
     "output_type": "stream",
     "text": [
      "-------------------------------------------\n",
      "Batch: 18\n",
      "-------------------------------------------\n",
      "+-----------+------+-------------+---+-------------------------+-------------+-----+------------+\n",
      "|topic      |bus_id|can_id       |dlc|data                     |timestamp    |value|message_name|\n",
      "+-----------+------+-------------+---+-------------------------+-------------+-----+------------+\n",
      "|canbus_test|bus_37|[18 F0 01 0B]|8  |[00 00 F3 FF FF 01 FF F7]|1684318434403|null |EBC1        |\n",
      "|canbus_test|bus_34|[18 F0 00 10]|8  |[FF 7D FF FF FF FF FF 7D]|1684317785653|null |ERC1        |\n",
      "|canbus_test|bus_35|[18 FE D9 10]|8  |[5F FF FF FF FF FF FF FF]|1684318655821|null |AUXIO1      |\n",
      "|canbus_test|bus_33|[18 F3 12 00]|8  |[4E 4D FF 4E FF FF FF 97]|1684317173170|null |null        |\n",
      "|canbus_test|bus_36|[08 FE 6E 0B]|8  |[00 00 00 00 00 00 00 00]|1684317958060|null |HRW         |\n",
      "+-----------+------+-------------+---+-------------------------+-------------+-----+------------+\n",
      "\n",
      "23/05/17 18:45:40 WARN KafkaDataConsumer: KafkaDataConsumer is not running in UninterruptibleThread. It may hang when KafkaDataConsumer's methods are interrupted because of KAFKA-1894\n",
      "23/05/17 18:45:40 WARN KafkaDataConsumer: KafkaDataConsumer is not running in UninterruptibleThread. It may hang when KafkaDataConsumer's methods are interrupted because of KAFKA-1894\n",
      "23/05/17 18:45:40 WARN KafkaDataConsumer: KafkaDataConsumer is not running in UninterruptibleThread. It may hang when KafkaDataConsumer's methods are interrupted because of KAFKA-1894\n",
      "23/05/17 18:45:40 WARN KafkaDataConsumer: KafkaDataConsumer is not running in UninterruptibleThread. It may hang when KafkaDataConsumer's methods are interrupted because of KAFKA-1894\n",
      "23/05/17 18:45:40 WARN KafkaDataConsumer: KafkaDataConsumer is not running in UninterruptibleThread. It may hang when KafkaDataConsumer's methods are interrupted because of KAFKA-1894\n"
     ]
    },
    {
     "name": "stderr",
     "output_type": "stream",
     "text": [
      "419351294:>                                                         (0 + 1) / 1]\n",
      "418583294\n",
      "418583294\n",
      "419351294\n",
      "418382334\n",
      "                                                                                \r"
     ]
    },
    {
     "name": "stdout",
     "output_type": "stream",
     "text": [
      "-------------------------------------------\n",
      "Batch: 19\n",
      "-------------------------------------------\n",
      "+-----------+------+-------------+---+-------------------------+-------------+-----+------------+\n",
      "|topic      |bus_id|can_id       |dlc|data                     |timestamp    |value|message_name|\n",
      "+-----------+------+-------------+---+-------------------------+-------------+-----+------------+\n",
      "|canbus_test|bus_37|[18 FE CA 2F]|8  |[F3 FF 00 00 00 00 FF FF]|1684318435429|null |DM1         |\n",
      "|canbus_test|bus_34|[18 F3 12 00]|8  |[4D 4D FF 4D FF FF FF 99]|1684317786662|null |null        |\n",
      "|canbus_test|bus_35|[18 F3 12 00]|8  |[4B 4B FF 4B FF FF FF 9F]|1684318656861|null |null        |\n",
      "|canbus_test|bus_33|[18 FE CA 2F]|8  |[F3 FF 00 00 00 00 FF FF]|1684317174173|null |DM1         |\n",
      "|canbus_test|bus_36|[18 F0 01 0B]|8  |[00 00 F3 FF FF 01 FF F7]|1684317959097|null |EBC1        |\n",
      "+-----------+------+-------------+---+-------------------------+-------------+-----+------------+\n",
      "\n",
      "23/05/17 18:45:41 WARN KafkaDataConsumer: KafkaDataConsumer is not running in UninterruptibleThread. It may hang when KafkaDataConsumer's methods are interrupted because of KAFKA-1894\n",
      "23/05/17 18:45:41 WARN KafkaDataConsumer: KafkaDataConsumer is not running in UninterruptibleThread. It may hang when KafkaDataConsumer's methods are interrupted because of KAFKA-1894\n",
      "23/05/17 18:45:41 WARN KafkaDataConsumer: KafkaDataConsumer is not running in UninterruptibleThread. It may hang when KafkaDataConsumer's methods are interrupted because of KAFKA-1894\n",
      "23/05/17 18:45:41 WARN KafkaDataConsumer: KafkaDataConsumer is not running in UninterruptibleThread. It may hang when KafkaDataConsumer's methods are interrupted because of KAFKA-1894\n",
      "23/05/17 18:45:41 WARN KafkaDataConsumer: KafkaDataConsumer is not running in UninterruptibleThread. It may hang when KafkaDataConsumer's methods are interrupted because of KAFKA-1894\n"
     ]
    },
    {
     "name": "stderr",
     "output_type": "stream",
     "text": [
      "\r",
      "[Stage 20:>                                                         (0 + 1) / 1]\r",
      "419351294\n",
      "419351294\n",
      "418382334\n",
      "418382334\n",
      "419351294\n",
      "\r",
      "                                                                                \r"
     ]
    },
    {
     "name": "stdout",
     "output_type": "stream",
     "text": [
      "-------------------------------------------\n",
      "Batch: 20\n",
      "-------------------------------------------\n",
      "+-----------+------+-------------+---+-------------------------+-------------+-----+------------+\n",
      "|topic      |bus_id|can_id       |dlc|data                     |timestamp    |value|message_name|\n",
      "+-----------+------+-------------+---+-------------------------+-------------+-----+------------+\n",
      "|canbus_test|bus_37|[18 FE CA 2F]|8  |[F3 FF 00 00 00 00 FF FF]|1684318436441|null |DM1         |\n",
      "|canbus_test|bus_34|[18 FE CA 2F]|8  |[F3 FF 00 00 00 00 FF FF]|1684317787683|null |DM1         |\n",
      "|canbus_test|bus_35|[18 F0 01 0B]|8  |[00 00 F3 FF FF 01 FF F7]|1684318657893|null |EBC1        |\n",
      "|canbus_test|bus_33|[18 F0 01 0B]|8  |[00 00 F3 FF FF 01 FF F7]|1684317175170|null |EBC1        |\n",
      "|canbus_test|bus_36|[18 FE CA 2F]|8  |[F3 FF 00 00 00 00 FF FF]|1684317960137|null |DM1         |\n",
      "+-----------+------+-------------+---+-------------------------+-------------+-----+------------+\n",
      "\n",
      "23/05/17 18:45:42 WARN KafkaDataConsumer: KafkaDataConsumer is not running in UninterruptibleThread. It may hang when KafkaDataConsumer's methods are interrupted because of KAFKA-1894\n",
      "23/05/17 18:45:42 WARN KafkaDataConsumer: KafkaDataConsumer is not running in UninterruptibleThread. It may hang when KafkaDataConsumer's methods are interrupted because of KAFKA-1894\n",
      "23/05/17 18:45:42 WARN KafkaDataConsumer: KafkaDataConsumer is not running in UninterruptibleThread. It may hang when KafkaDataConsumer's methods are interrupted because of KAFKA-1894\n",
      "23/05/17 18:45:42 WARN KafkaDataConsumer: KafkaDataConsumer is not running in UninterruptibleThread. It may hang when KafkaDataConsumer's methods are interrupted because of KAFKA-1894\n",
      "23/05/17 18:45:42 WARN KafkaDataConsumer: KafkaDataConsumer is not running in UninterruptibleThread. It may hang when KafkaDataConsumer's methods are interrupted because of KAFKA-1894\n"
     ]
    },
    {
     "name": "stderr",
     "output_type": "stream",
     "text": [
      "\r",
      "[Stage 21:>                                                         (0 + 1) / 1]\r",
      "419318526\n",
      "419348478\n",
      "418583550\n",
      "419351294\n",
      "418382334\n",
      "\r",
      "                                                                                \r"
     ]
    },
    {
     "name": "stdout",
     "output_type": "stream",
     "text": [
      "-------------------------------------------\n",
      "Batch: 21\n",
      "-------------------------------------------\n",
      "+-----------+------+-------------+---+-------------------------+-------------+-----+------------+\n",
      "|topic      |bus_id|can_id       |dlc|data                     |timestamp    |value|message_name|\n",
      "+-----------+------+-------------+---+-------------------------+-------------+-----+------------+\n",
      "|canbus_test|bus_37|[18 FE 4A 03]|8  |[FF FE C2 F0 FF FF FF FF]|1684318437458|null |ETC7        |\n",
      "|canbus_test|bus_34|[18 FE BF 0B]|8  |[00 00 7D 7D 7D 7D FF FF]|1684317788698|null |EBC2        |\n",
      "|canbus_test|bus_35|[18 F3 13 00]|8  |[05 00 48 46 48 48 46 48]|1684318658927|null |null        |\n",
      "|canbus_test|bus_36|[18 FE CA 2F]|8  |[F3 FF 00 00 00 00 FF FF]|1684317961138|null |DM1         |\n",
      "|canbus_test|bus_33|[18 F0 01 0B]|8  |[00 00 F3 FF FF 01 FF F7]|1684317176168|null |EBC1        |\n",
      "+-----------+------+-------------+---+-------------------------+-------------+-----+------------+\n",
      "\n",
      "23/05/17 18:45:43 WARN KafkaDataConsumer: KafkaDataConsumer is not running in UninterruptibleThread. It may hang when KafkaDataConsumer's methods are interrupted because of KAFKA-1894\n",
      "23/05/17 18:45:43 WARN KafkaDataConsumer: KafkaDataConsumer is not running in UninterruptibleThread. It may hang when KafkaDataConsumer's methods are interrupted because of KAFKA-1894\n",
      "23/05/17 18:45:43 WARN KafkaDataConsumer: KafkaDataConsumer is not running in UninterruptibleThread. It may hang when KafkaDataConsumer's methods are interrupted because of KAFKA-1894\n",
      "23/05/17 18:45:43 WARN KafkaDataConsumer: KafkaDataConsumer is not running in UninterruptibleThread. It may hang when KafkaDataConsumer's methods are interrupted because of KAFKA-1894\n",
      "23/05/17 18:45:43 WARN KafkaDataConsumer: KafkaDataConsumer is not running in UninterruptibleThread. It may hang when KafkaDataConsumer's methods are interrupted because of KAFKA-1894\n"
     ]
    },
    {
     "name": "stderr",
     "output_type": "stream",
     "text": [
      "\r",
      "[Stage 22:>                                                         (0 + 1) / 1]\r",
      "419351294\n",
      "419170302\n",
      "419348478\n",
      "418382334\n",
      "217055998\n",
      "\r",
      "                                                                                \r"
     ]
    },
    {
     "name": "stdout",
     "output_type": "stream",
     "text": [
      "-------------------------------------------\n",
      "Batch: 22\n",
      "-------------------------------------------\n",
      "+-----------+------+-------------+---+-------------------------+-------------+-----+------------+\n",
      "|topic      |bus_id|can_id       |dlc|data                     |timestamp    |value|message_name|\n",
      "+-----------+------+-------------+---+-------------------------+-------------+-----+------------+\n",
      "|canbus_test|bus_37|[18 FE CA 2F]|8  |[F3 FF 00 00 00 00 FF FF]|1684318438467|null |DM1         |\n",
      "|canbus_test|bus_34|[18 FC 07 F4]|8  |[CC 09 59 07 8B 02 61 5B]|1684317789721|null |null        |\n",
      "|canbus_test|bus_35|[18 FE BF 0B]|8  |[00 00 7D 7D 7D 7D FF FF]|1684318659950|null |EBC2        |\n",
      "|canbus_test|bus_36|[18 F0 01 0B]|8  |[00 00 F3 FF FF 01 FF F7]|1684317962139|null |EBC1        |\n",
      "|canbus_test|bus_33|[0C F0 02 03]|8  |[CD FF FE FF FF FF FF FF]|1684317177175|null |ETC1        |\n",
      "+-----------+------+-------------+---+-------------------------+-------------+-----+------------+\n",
      "\n",
      "23/05/17 18:45:44 WARN KafkaDataConsumer: KafkaDataConsumer is not running in UninterruptibleThread. It may hang when KafkaDataConsumer's methods are interrupted because of KAFKA-1894\n",
      "23/05/17 18:45:44 WARN KafkaDataConsumer: KafkaDataConsumer is not running in UninterruptibleThread. It may hang when KafkaDataConsumer's methods are interrupted because of KAFKA-1894\n",
      "23/05/17 18:45:44 WARN KafkaDataConsumer: KafkaDataConsumer is not running in UninterruptibleThread. It may hang when KafkaDataConsumer's methods are interrupted because of KAFKA-1894\n",
      "23/05/17 18:45:44 WARN KafkaDataConsumer: KafkaDataConsumer is not running in UninterruptibleThread. It may hang when KafkaDataConsumer's methods are interrupted because of KAFKA-1894\n",
      "23/05/17 18:45:44 WARN KafkaDataConsumer: KafkaDataConsumer is not running in UninterruptibleThread. It may hang when KafkaDataConsumer's methods are interrupted because of KAFKA-1894\n"
     ]
    },
    {
     "name": "stderr",
     "output_type": "stream",
     "text": [
      "\r",
      "[Stage 23:>                                                         (0 + 1) / 1]\r",
      "419351294\n",
      "419348478\n",
      "217056510\n",
      "217055998\n",
      "419348478\n",
      "\r",
      "                                                                                \r"
     ]
    },
    {
     "name": "stdout",
     "output_type": "stream",
     "text": [
      "-------------------------------------------\n",
      "Batch: 23\n",
      "-------------------------------------------\n",
      "+-----------+------+-------------+---+-------------------------+-------------+-----+------------+\n",
      "|topic      |bus_id|can_id       |dlc|data                     |timestamp    |value|message_name|\n",
      "+-----------+------+-------------+---+-------------------------+-------------+-----+------------+\n",
      "|canbus_test|bus_37|[18 FE CA 2F]|8  |[F3 FF 00 00 00 00 FF FF]|1684318439488|null |DM1         |\n",
      "|canbus_test|bus_34|[18 FE BF 0B]|8  |[00 00 7D 7D 7D 7D FF FF]|1684317790727|null |EBC2        |\n",
      "|canbus_test|bus_35|[0C F0 04 00]|8  |[FF 7D 7D 00 00 FF FF FF]|1684318660957|null |EEC1        |\n",
      "|canbus_test|bus_36|[0C F0 02 03]|8  |[CD FF FE FF FF FF FF FF]|1684317963142|null |ETC1        |\n",
      "|canbus_test|bus_33|[18 FE BF 0B]|8  |[00 00 7D 7D 7D 7D FF FF]|1684317178173|null |EBC2        |\n",
      "+-----------+------+-------------+---+-------------------------+-------------+-----+------------+\n",
      "\n",
      "23/05/17 18:45:45 WARN KafkaDataConsumer: KafkaDataConsumer is not running in UninterruptibleThread. It may hang when KafkaDataConsumer's methods are interrupted because of KAFKA-1894\n",
      "23/05/17 18:45:45 WARN KafkaDataConsumer: KafkaDataConsumer is not running in UninterruptibleThread. It may hang when KafkaDataConsumer's methods are interrupted because of KAFKA-1894\n",
      "23/05/17 18:45:45 WARN KafkaDataConsumer: KafkaDataConsumer is not running in UninterruptibleThread. It may hang when KafkaDataConsumer's methods are interrupted because of KAFKA-1894\n",
      "23/05/17 18:45:45 WARN KafkaDataConsumer: KafkaDataConsumer is not running in UninterruptibleThread. It may hang when KafkaDataConsumer's methods are interrupted because of KAFKA-1894\n",
      "23/05/17 18:45:45 WARN KafkaDataConsumer: KafkaDataConsumer is not running in UninterruptibleThread. It may hang when KafkaDataConsumer's methods are interrupted because of KAFKA-1894\n"
     ]
    },
    {
     "name": "stderr",
     "output_type": "stream",
     "text": [
      "\r",
      "[Stage 24:>                                                         (0 + 1) / 1]\r",
      "419318526\n",
      "418583806\n",
      "217051134\n",
      "418382334\n",
      "419348478\n",
      "\r",
      "                                                                                \r"
     ]
    },
    {
     "name": "stdout",
     "output_type": "stream",
     "text": [
      "-------------------------------------------\n",
      "Batch: 24\n",
      "-------------------------------------------\n",
      "+-----------+------+-------------+---+-------------------------+-------------+-----+------------+\n",
      "|topic      |bus_id|can_id       |dlc|data                     |timestamp    |value|message_name|\n",
      "+-----------+------+-------------+---+-------------------------+-------------+-----+------------+\n",
      "|canbus_test|bus_37|[18 FE 4A 03]|8  |[FF FE C2 F0 FF FF FF FF]|1684318441560|null |ETC7        |\n",
      "|canbus_test|bus_34|[18 F3 14 00]|8  |[63 00 C9 0C C8 0C C8 0C]|1684317792783|null |null        |\n",
      "|canbus_test|bus_35|[0C EF EF 0B]|8  |[CC FA 7D FF FF FF FF 05]|1684318661969|null |null        |\n",
      "|canbus_test|bus_36|[18 F0 01 0B]|8  |[00 00 F3 FF FF 01 FF F7]|1684317964173|null |EBC1        |\n",
      "|canbus_test|bus_33|[18 FE BF 0B]|8  |[00 00 7D 7D 7D 7D FF FF]|1684317179180|null |EBC2        |\n",
      "+-----------+------+-------------+---+-------------------------+-------------+-----+------------+\n",
      "\n",
      "23/05/17 18:45:46 WARN KafkaDataConsumer: KafkaDataConsumer is not running in UninterruptibleThread. It may hang when KafkaDataConsumer's methods are interrupted because of KAFKA-1894\n",
      "23/05/17 18:45:46 WARN KafkaDataConsumer: KafkaDataConsumer is not running in UninterruptibleThread. It may hang when KafkaDataConsumer's methods are interrupted because of KAFKA-1894\n",
      "23/05/17 18:45:46 WARN KafkaDataConsumer: KafkaDataConsumer is not running in UninterruptibleThread. It may hang when KafkaDataConsumer's methods are interrupted because of KAFKA-1894\n",
      "23/05/17 18:45:46 WARN KafkaDataConsumer: KafkaDataConsumer is not running in UninterruptibleThread. It may hang when KafkaDataConsumer's methods are interrupted because of KAFKA-1894\n",
      "23/05/17 18:45:46 WARN KafkaDataConsumer: KafkaDataConsumer is not running in UninterruptibleThread. It may hang when KafkaDataConsumer's methods are interrupted because of KAFKA-1894\n"
     ]
    },
    {
     "name": "stderr",
     "output_type": "stream",
     "text": [
      "419174654:>                                                         (0 + 1) / 1]\n",
      "217056254\n",
      "418382334\n",
      "418382078\n",
      "419348478\n",
      "                                                                                \r"
     ]
    },
    {
     "name": "stdout",
     "output_type": "stream",
     "text": [
      "-------------------------------------------\n",
      "Batch: 25\n",
      "-------------------------------------------\n",
      "+-----------+------+-------------+---+-------------------------+-------------+-----+------------+\n",
      "|topic      |bus_id|can_id       |dlc|data                     |timestamp    |value|message_name|\n",
      "+-----------+------+-------------+---+-------------------------+-------------+-----+------------+\n",
      "|canbus_test|bus_37|[18 FC 18 21]|8  |[00 10 9A 88 09 49 FF FB]|1684318442568|null |null        |\n",
      "|canbus_test|bus_34|[0C F0 03 00]|8  |[FD 00 FF FF FF FF FF FF]|1684317793792|null |EEC2        |\n",
      "|canbus_test|bus_35|[18 F0 01 0B]|8  |[00 00 F3 FF FF 01 FF F7]|1684318662975|null |EBC1        |\n",
      "|canbus_test|bus_36|[18 F0 00 10]|8  |[FF 7D FF FF FF FF FF 7D]|1684317965204|null |ERC1        |\n",
      "|canbus_test|bus_33|[18 FE BF 0B]|8  |[00 00 7D 7D 7D 7D FF FF]|1684317180189|null |EBC2        |\n",
      "+-----------+------+-------------+---+-------------------------+-------------+-----+------------+\n",
      "\n",
      "23/05/17 18:45:47 WARN KafkaDataConsumer: KafkaDataConsumer is not running in UninterruptibleThread. It may hang when KafkaDataConsumer's methods are interrupted because of KAFKA-1894\n",
      "23/05/17 18:45:47 WARN KafkaDataConsumer: KafkaDataConsumer is not running in UninterruptibleThread. It may hang when KafkaDataConsumer's methods are interrupted because of KAFKA-1894\n",
      "23/05/17 18:45:47 WARN KafkaDataConsumer: KafkaDataConsumer is not running in UninterruptibleThread. It may hang when KafkaDataConsumer's methods are interrupted because of KAFKA-1894\n",
      "23/05/17 18:45:47 WARN KafkaDataConsumer: KafkaDataConsumer is not running in UninterruptibleThread. It may hang when KafkaDataConsumer's methods are interrupted because of KAFKA-1894\n",
      "23/05/17 18:45:47 WARN KafkaDataConsumer: KafkaDataConsumer is not running in UninterruptibleThread. It may hang when KafkaDataConsumer's methods are interrupted because of KAFKA-1894\n"
     ]
    },
    {
     "name": "stderr",
     "output_type": "stream",
     "text": [
      "\r",
      "[Stage 26:>                                                         (0 + 1) / 1]\r",
      "419169278\n",
      "418582014\n",
      "419351294\n",
      "419348478\n",
      "419355134\n",
      "\r",
      "                                                                                \r"
     ]
    },
    {
     "name": "stdout",
     "output_type": "stream",
     "text": [
      "-------------------------------------------\n",
      "Batch: 26\n",
      "-------------------------------------------\n",
      "+-----------+------+-------------+---+-------------------------+-------------+-----+------------+\n",
      "|topic      |bus_id|can_id       |dlc|data                     |timestamp    |value|message_name|\n",
      "+-----------+------+-------------+---+-------------------------+-------------+-----+------------+\n",
      "|canbus_test|bus_37|[18 FC 03 F4]|8  |[FF FF 00 00 3C 00 18 2A]|1684318443566|null |null        |\n",
      "|canbus_test|bus_34|[18 F3 0D 00]|8  |[00 8B 09 FF FF 02 00 00]|1684317794803|null |null        |\n",
      "|canbus_test|bus_35|[18 FE CA 2F]|8  |[F3 FF 00 00 00 00 FF FF]|1684318663978|null |DM1         |\n",
      "|canbus_test|bus_36|[18 FE BF 0B]|8  |[00 00 7D 7D 7D 7D FF FF]|1684317966240|null |EBC2        |\n",
      "|canbus_test|bus_33|[18 FE D9 10]|8  |[5F FF FF FF FF FF FF FF]|1684317181200|null |AUXIO1      |\n",
      "+-----------+------+-------------+---+-------------------------+-------------+-----+------------+\n",
      "\n",
      "23/05/17 18:45:48 WARN KafkaDataConsumer: KafkaDataConsumer is not running in UninterruptibleThread. It may hang when KafkaDataConsumer's methods are interrupted because of KAFKA-1894\n",
      "23/05/17 18:45:48 WARN KafkaDataConsumer: KafkaDataConsumer is not running in UninterruptibleThread. It may hang when KafkaDataConsumer's methods are interrupted because of KAFKA-1894\n",
      "23/05/17 18:45:48 WARN KafkaDataConsumer: KafkaDataConsumer is not running in UninterruptibleThread. It may hang when KafkaDataConsumer's methods are interrupted because of KAFKA-1894\n",
      "23/05/17 18:45:48 WARN KafkaDataConsumer: KafkaDataConsumer is not running in UninterruptibleThread. It may hang when KafkaDataConsumer's methods are interrupted because of KAFKA-1894\n",
      "23/05/17 18:45:48 WARN KafkaDataConsumer: KafkaDataConsumer is not running in UninterruptibleThread. It may hang when KafkaDataConsumer's methods are interrupted because of KAFKA-1894\n"
     ]
    },
    {
     "name": "stderr",
     "output_type": "stream",
     "text": [
      "\r",
      "[Stage 27:>                                                         (0 + 1) / 1]\r",
      "419319550\n",
      "419348478\n",
      "419351294\n",
      "419351294\n",
      "419348478\n",
      "\r",
      "                                                                                \r"
     ]
    },
    {
     "name": "stdout",
     "output_type": "stream",
     "text": [
      "-------------------------------------------\n",
      "Batch: 27\n",
      "-------------------------------------------\n",
      "+-----------+------+-------------+---+-------------------------+-------------+-----+------------+\n",
      "|topic      |bus_id|can_id       |dlc|data                     |timestamp    |value|message_name|\n",
      "+-----------+------+-------------+---+-------------------------+-------------+-----+------------+\n",
      "|canbus_test|bus_37|[18 FE 4E EC]|8  |[02 F3 FF 3F FF FF FF FF]|1684318444561|null |DC1         |\n",
      "|canbus_test|bus_34|[18 FE BF 0B]|8  |[00 00 7D 7D 7D 7D FF FF]|1684317795803|null |EBC2        |\n",
      "|canbus_test|bus_35|[18 FE CA 2F]|8  |[F3 FF 00 00 00 00 FF FF]|1684318664989|null |DM1         |\n",
      "|canbus_test|bus_36|[18 FE CA 2F]|8  |[F3 FF 00 00 00 00 FF FF]|1684317967241|null |DM1         |\n",
      "|canbus_test|bus_33|[18 FE BF 0B]|8  |[00 00 7D 7D 7D 7D FF FF]|1684317182209|null |EBC2        |\n",
      "+-----------+------+-------------+---+-------------------------+-------------+-----+------------+\n",
      "\n",
      "23/05/17 18:45:49 WARN KafkaDataConsumer: KafkaDataConsumer is not running in UninterruptibleThread. It may hang when KafkaDataConsumer's methods are interrupted because of KAFKA-1894\n",
      "23/05/17 18:45:49 WARN KafkaDataConsumer: KafkaDataConsumer is not running in UninterruptibleThread. It may hang when KafkaDataConsumer's methods are interrupted because of KAFKA-1894\n",
      "23/05/17 18:45:49 WARN KafkaDataConsumer: KafkaDataConsumer is not running in UninterruptibleThread. It may hang when KafkaDataConsumer's methods are interrupted because of KAFKA-1894\n",
      "23/05/17 18:45:49 WARN KafkaDataConsumer: KafkaDataConsumer is not running in UninterruptibleThread. It may hang when KafkaDataConsumer's methods are interrupted because of KAFKA-1894\n",
      "23/05/17 18:45:49 WARN KafkaDataConsumer: KafkaDataConsumer is not running in UninterruptibleThread. It may hang when KafkaDataConsumer's methods are interrupted because of KAFKA-1894\n"
     ]
    },
    {
     "name": "stderr",
     "output_type": "stream",
     "text": [
      "\r",
      "[Stage 28:>                                                         (0 + 1) / 1]\r",
      "217051134\n",
      "419351294\n",
      "419351294\n",
      "217055998\n",
      "419173630\n",
      "\r",
      "                                                                                \r"
     ]
    },
    {
     "name": "stdout",
     "output_type": "stream",
     "text": [
      "-------------------------------------------\n",
      "Batch: 28\n",
      "-------------------------------------------\n",
      "+-----------+------+-------------+---+-------------------------+-------------+-----+------------+\n",
      "|topic      |bus_id|can_id       |dlc|data                     |timestamp    |value|message_name|\n",
      "+-----------+------+-------------+---+-------------------------+-------------+-----+------------+\n",
      "|canbus_test|bus_37|[0C EF EF 0B]|8  |[CC FA 7D FF FF FF FF 31]|1684318445567|null |null        |\n",
      "|canbus_test|bus_34|[18 FE CA 2F]|8  |[F3 FF 00 00 00 00 FF FF]|1684317796819|null |DM1         |\n",
      "|canbus_test|bus_35|[18 FE CA 2F]|8  |[F3 FF 00 00 00 00 FF FF]|1684318665989|null |DM1         |\n",
      "|canbus_test|bus_36|[0C F0 02 03]|8  |[CD FF FE FF FF FF FF FF]|1684317968243|null |ETC1        |\n",
      "|canbus_test|bus_33|[18 FC 14 21]|8  |[FF FF 00 00 71 02 FF 0D]|1684317183207|null |null        |\n",
      "+-----------+------+-------------+---+-------------------------+-------------+-----+------------+\n",
      "\n",
      "23/05/17 18:45:50 WARN KafkaDataConsumer: KafkaDataConsumer is not running in UninterruptibleThread. It may hang when KafkaDataConsumer's methods are interrupted because of KAFKA-1894\n",
      "23/05/17 18:45:50 WARN KafkaDataConsumer: KafkaDataConsumer is not running in UninterruptibleThread. It may hang when KafkaDataConsumer's methods are interrupted because of KAFKA-1894\n",
      "23/05/17 18:45:50 WARN KafkaDataConsumer: KafkaDataConsumer is not running in UninterruptibleThread. It may hang when KafkaDataConsumer's methods are interrupted because of KAFKA-1894\n",
      "23/05/17 18:45:50 WARN KafkaDataConsumer: KafkaDataConsumer is not running in UninterruptibleThread. It may hang when KafkaDataConsumer's methods are interrupted because of KAFKA-1894\n",
      "23/05/17 18:45:50 WARN KafkaDataConsumer: KafkaDataConsumer is not running in UninterruptibleThread. It may hang when KafkaDataConsumer's methods are interrupted because of KAFKA-1894\n"
     ]
    },
    {
     "name": "stderr",
     "output_type": "stream",
     "text": [
      "\r",
      "[Stage 29:>                                                         (0 + 1) / 1]\r",
      "418382334\n",
      "419348478\n",
      "419348478\n",
      "418581758\n",
      "217055998\n",
      "\r",
      "                                                                                \r"
     ]
    },
    {
     "name": "stdout",
     "output_type": "stream",
     "text": [
      "-------------------------------------------\n",
      "Batch: 29\n",
      "-------------------------------------------\n",
      "+-----------+------+-------------+---+-------------------------+-------------+-----+------------+\n",
      "|topic      |bus_id|can_id       |dlc|data                     |timestamp    |value|message_name|\n",
      "+-----------+------+-------------+---+-------------------------+-------------+-----+------------+\n",
      "|canbus_test|bus_37|[18 F0 01 0B]|8  |[00 00 F3 FF FF 01 FF F7]|1684318446569|null |EBC1        |\n",
      "|canbus_test|bus_34|[18 FE BF 0B]|8  |[00 00 7D 7D 7D 7D FF FF]|1684317797833|null |EBC2        |\n",
      "|canbus_test|bus_35|[18 FE BF 0B]|8  |[00 00 7D 7D 7D 7D FF FF]|1684318667003|null |EBC2        |\n",
      "|canbus_test|bus_36|[18 F3 0C 00]|8  |[F3 3F 0F FF F0 FF CC 81]|1684317969248|null |null        |\n",
      "|canbus_test|bus_33|[0C F0 02 03]|8  |[CD FF FE FF FF FF FF FF]|1684317184215|null |ETC1        |\n",
      "+-----------+------+-------------+---+-------------------------+-------------+-----+------------+\n",
      "\n",
      "23/05/17 18:45:51 WARN KafkaDataConsumer: KafkaDataConsumer is not running in UninterruptibleThread. It may hang when KafkaDataConsumer's methods are interrupted because of KAFKA-1894\n",
      "23/05/17 18:45:51 WARN KafkaDataConsumer: KafkaDataConsumer is not running in UninterruptibleThread. It may hang when KafkaDataConsumer's methods are interrupted because of KAFKA-1894\n",
      "23/05/17 18:45:51 WARN KafkaDataConsumer: KafkaDataConsumer is not running in UninterruptibleThread. It may hang when KafkaDataConsumer's methods are interrupted because of KAFKA-1894\n",
      "23/05/17 18:45:51 WARN KafkaDataConsumer: KafkaDataConsumer is not running in UninterruptibleThread. It may hang when KafkaDataConsumer's methods are interrupted because of KAFKA-1894\n",
      "23/05/17 18:45:51 WARN KafkaDataConsumer: KafkaDataConsumer is not running in UninterruptibleThread. It may hang when KafkaDataConsumer's methods are interrupted because of KAFKA-1894\n"
     ]
    },
    {
     "name": "stderr",
     "output_type": "stream",
     "text": [
      "\r",
      "[Stage 30:>                                                         (0 + 1) / 1]\r",
      "419174142\n",
      "419169534\n",
      "419319806\n",
      "150892286\n",
      "419351294\n",
      "\r",
      "                                                                                \r"
     ]
    },
    {
     "name": "stdout",
     "output_type": "stream",
     "text": [
      "-------------------------------------------\n",
      "Batch: 30\n",
      "-------------------------------------------\n",
      "+-----------+------+-------------+---+-------------------------+-------------+-----+------------+\n",
      "|topic      |bus_id|can_id       |dlc|data                     |timestamp    |value|message_name|\n",
      "+-----------+------+-------------+---+-------------------------+-------------+-----+------------+\n",
      "|canbus_test|bus_37|[18 FC 16 21]|8  |[03 C7 00 00 72 02 FF 41]|1684318447574|null |null        |\n",
      "|canbus_test|bus_34|[18 FC 04 F4]|8  |[84 01 05 3A 40 41 D5 62]|1684317798838|null |null        |\n",
      "|canbus_test|bus_35|[18 FE 4F 0B]|8  |[FF FF FF FF FF FF FF FF]|1684318668010|null |VDC1        |\n",
      "|canbus_test|bus_36|[08 FE 6E 0B]|8  |[00 00 00 00 00 00 00 00]|1684317970260|null |HRW         |\n",
      "|canbus_test|bus_33|[18 FE CA 2F]|8  |[F3 FF 00 00 00 00 FF FF]|1684317185216|null |DM1         |\n",
      "+-----------+------+-------------+---+-------------------------+-------------+-----+------------+\n",
      "\n",
      "23/05/17 18:45:52 WARN KafkaDataConsumer: KafkaDataConsumer is not running in UninterruptibleThread. It may hang when KafkaDataConsumer's methods are interrupted because of KAFKA-1894\n",
      "23/05/17 18:45:52 WARN KafkaDataConsumer: KafkaDataConsumer is not running in UninterruptibleThread. It may hang when KafkaDataConsumer's methods are interrupted because of KAFKA-1894\n",
      "23/05/17 18:45:52 WARN KafkaDataConsumer: KafkaDataConsumer is not running in UninterruptibleThread. It may hang when KafkaDataConsumer's methods are interrupted because of KAFKA-1894\n",
      "23/05/17 18:45:52 WARN KafkaDataConsumer: KafkaDataConsumer is not running in UninterruptibleThread. It may hang when KafkaDataConsumer's methods are interrupted because of KAFKA-1894\n",
      "23/05/17 18:45:52 WARN KafkaDataConsumer: KafkaDataConsumer is not running in UninterruptibleThread. It may hang when KafkaDataConsumer's methods are interrupted because of KAFKA-1894\n"
     ]
    },
    {
     "name": "stderr",
     "output_type": "stream",
     "text": [
      "\r",
      "[Stage 31:>                                                         (0 + 1) / 1]\r",
      "418382334\n",
      "215101438\n",
      "419351294\n",
      "418623742\n",
      "419348478\n",
      "\r",
      "                                                                                \r"
     ]
    },
    {
     "name": "stdout",
     "output_type": "stream",
     "text": [
      "-------------------------------------------\n",
      "Batch: 31\n",
      "-------------------------------------------\n",
      "+-----------+------+-------------+---+-------------------------+-------------+-----+------------+\n",
      "|topic      |bus_id|can_id       |dlc|data                     |timestamp    |value|message_name|\n",
      "+-----------+------+-------------+---+-------------------------+-------------+-----+------------+\n",
      "|canbus_test|bus_34|[18 F0 01 0B]|8  |[00 00 F3 FF FF 01 FF F7]|1684317799859|null |EBC1        |\n",
      "|canbus_test|bus_35|[0C D2 2F 27]|8  |[00 00 A0 00 00 00 00 00]|1684318669017|null |null        |\n",
      "|canbus_test|bus_36|[18 FE CA 2F]|8  |[F3 FF 00 00 00 00 FF FF]|1684317971261|null |DM1         |\n",
      "|canbus_test|bus_33|[18 F3 B0 19]|8  |[02 02 00 00 00 00 00 00]|1684317186223|null |null        |\n",
      "|canbus_test|bus_37|[18 FE BF 0B]|8  |[00 00 7D 7D 7D 7D FF FF]|1684318448597|null |EBC2        |\n",
      "+-----------+------+-------------+---+-------------------------+-------------+-----+------------+\n",
      "\n",
      "23/05/17 18:45:53 WARN KafkaDataConsumer: KafkaDataConsumer is not running in UninterruptibleThread. It may hang when KafkaDataConsumer's methods are interrupted because of KAFKA-1894\n",
      "23/05/17 18:45:53 WARN KafkaDataConsumer: KafkaDataConsumer is not running in UninterruptibleThread. It may hang when KafkaDataConsumer's methods are interrupted because of KAFKA-1894\n",
      "23/05/17 18:45:53 WARN KafkaDataConsumer: KafkaDataConsumer is not running in UninterruptibleThread. It may hang when KafkaDataConsumer's methods are interrupted because of KAFKA-1894\n",
      "23/05/17 18:45:53 WARN KafkaDataConsumer: KafkaDataConsumer is not running in UninterruptibleThread. It may hang when KafkaDataConsumer's methods are interrupted because of KAFKA-1894\n",
      "23/05/17 18:45:53 WARN KafkaDataConsumer: KafkaDataConsumer is not running in UninterruptibleThread. It may hang when KafkaDataConsumer's methods are interrupted because of KAFKA-1894\n"
     ]
    },
    {
     "name": "stderr",
     "output_type": "stream",
     "text": [
      "419348478:>                                                         (0 + 1) / 1]\n",
      "419348478\n",
      "419348478\n",
      "419351294\n",
      "419351294\n",
      "                                                                                \r"
     ]
    },
    {
     "name": "stdout",
     "output_type": "stream",
     "text": [
      "-------------------------------------------\n",
      "Batch: 32\n",
      "-------------------------------------------\n",
      "+-----------+------+-------------+---+-------------------------+-------------+-----+------------+\n",
      "|topic      |bus_id|can_id       |dlc|data                     |timestamp    |value|message_name|\n",
      "+-----------+------+-------------+---+-------------------------+-------------+-----+------------+\n",
      "|canbus_test|bus_37|[18 FE BF 0B]|8  |[00 00 7D 7D 7D 7D FF FF]|1684318449615|null |EBC2        |\n",
      "|canbus_test|bus_34|[18 FE BF 0B]|8  |[00 00 7D 7D 7D 7D FF FF]|1684317800881|null |EBC2        |\n",
      "|canbus_test|bus_35|[18 FE BF 0B]|8  |[00 00 7D 7D 7D 7D FF FF]|1684318670051|null |EBC2        |\n",
      "|canbus_test|bus_36|[18 FE CA 2F]|8  |[F3 FF 00 00 00 00 FF FF]|1684317972268|null |DM1         |\n",
      "|canbus_test|bus_33|[18 FE CA 2F]|8  |[F3 FF 00 00 00 00 FF FF]|1684317187228|null |DM1         |\n",
      "+-----------+------+-------------+---+-------------------------+-------------+-----+------------+\n",
      "\n",
      "23/05/17 18:45:54 WARN KafkaDataConsumer: KafkaDataConsumer is not running in UninterruptibleThread. It may hang when KafkaDataConsumer's methods are interrupted because of KAFKA-1894\n",
      "23/05/17 18:45:54 WARN KafkaDataConsumer: KafkaDataConsumer is not running in UninterruptibleThread. It may hang when KafkaDataConsumer's methods are interrupted because of KAFKA-1894\n",
      "23/05/17 18:45:54 WARN KafkaDataConsumer: KafkaDataConsumer is not running in UninterruptibleThread. It may hang when KafkaDataConsumer's methods are interrupted because of KAFKA-1894\n",
      "23/05/17 18:45:54 WARN KafkaDataConsumer: KafkaDataConsumer is not running in UninterruptibleThread. It may hang when KafkaDataConsumer's methods are interrupted because of KAFKA-1894\n",
      "23/05/17 18:45:54 WARN KafkaDataConsumer: KafkaDataConsumer is not running in UninterruptibleThread. It may hang when KafkaDataConsumer's methods are interrupted because of KAFKA-1894\n"
     ]
    },
    {
     "name": "stderr",
     "output_type": "stream",
     "text": [
      "419348478:>                                                         (0 + 1) / 1]\n",
      "217055998\n",
      "418382334\n",
      "419284222\n",
      "419351294\n",
      "                                                                                \r"
     ]
    },
    {
     "name": "stdout",
     "output_type": "stream",
     "text": [
      "-------------------------------------------\n",
      "Batch: 33\n",
      "-------------------------------------------\n",
      "+-----------+------+-------------+---+-------------------------+-------------+-----+------------+\n",
      "|topic      |bus_id|can_id       |dlc|data                     |timestamp    |value|message_name|\n",
      "+-----------+------+-------------+---+-------------------------+-------------+-----+------------+\n",
      "|canbus_test|bus_37|[18 FE BF 0B]|8  |[00 00 7D 7D 7D 7D FF FF]|1684318450647|null |EBC2        |\n",
      "|canbus_test|bus_34|[0C F0 02 03]|8  |[CD FF FE FF FF FF FF FF]|1684317801901|null |ETC1        |\n",
      "|canbus_test|bus_35|[18 F0 01 0B]|8  |[00 00 F3 FF FF 01 FF F7]|1684318671071|null |EBC1        |\n",
      "|canbus_test|bus_33|[18 FD C4 0B]|8  |[E0 08 FF F3 FF FF FF FF]|1684317189315|null |EBC5        |\n",
      "|canbus_test|bus_36|[18 FE CA 2F]|8  |[F3 FF 00 00 00 00 FF FF]|1684317973267|null |DM1         |\n",
      "+-----------+------+-------------+---+-------------------------+-------------+-----+------------+\n",
      "\n",
      "23/05/17 18:45:55 WARN KafkaDataConsumer: KafkaDataConsumer is not running in UninterruptibleThread. It may hang when KafkaDataConsumer's methods are interrupted because of KAFKA-1894\n",
      "23/05/17 18:45:55 WARN KafkaDataConsumer: KafkaDataConsumer is not running in UninterruptibleThread. It may hang when KafkaDataConsumer's methods are interrupted because of KAFKA-1894\n",
      "23/05/17 18:45:55 WARN KafkaDataConsumer: KafkaDataConsumer is not running in UninterruptibleThread. It may hang when KafkaDataConsumer's methods are interrupted because of KAFKA-1894\n",
      "23/05/17 18:45:55 WARN KafkaDataConsumer: KafkaDataConsumer is not running in UninterruptibleThread. It may hang when KafkaDataConsumer's methods are interrupted because of KAFKA-1894\n",
      "23/05/17 18:45:55 WARN KafkaDataConsumer: KafkaDataConsumer is not running in UninterruptibleThread. It may hang when KafkaDataConsumer's methods are interrupted because of KAFKA-1894\n"
     ]
    },
    {
     "name": "stderr",
     "output_type": "stream",
     "text": [
      "419343870:>                                                         (0 + 1) / 1]\n",
      "419351294\n",
      "419348478\n",
      "419172606\n",
      "419351294\n",
      "                                                                                \r"
     ]
    },
    {
     "name": "stdout",
     "output_type": "stream",
     "text": [
      "-------------------------------------------\n",
      "Batch: 34\n",
      "-------------------------------------------\n",
      "+-----------+------+-------------+---+-------------------------+-------------+-----+------------+\n",
      "|topic      |bus_id|can_id       |dlc|data                     |timestamp    |value|message_name|\n",
      "+-----------+------+-------------+---+-------------------------+-------------+-----+------------+\n",
      "|canbus_test|bus_34|[18 FE AD 0B]|8  |[00 00 00 00 FE FE FF FF]|1684317802906|null |EBC3        |\n",
      "|canbus_test|bus_37|[18 FE CA 2F]|8  |[F3 FF 00 00 00 00 FF FF]|1684318451699|null |DM1         |\n",
      "|canbus_test|bus_35|[18 FE BF 0B]|8  |[00 00 7D 7D 7D 7D FF FF]|1684318672108|null |EBC2        |\n",
      "|canbus_test|bus_36|[18 FC 10 F4]|8  |[FF FF 5B 26 44 44 00 00]|1684317974266|null |null        |\n",
      "|canbus_test|bus_33|[18 FE CA 2F]|8  |[F3 FF 00 00 00 00 FF FF]|1684317190329|null |DM1         |\n",
      "+-----------+------+-------------+---+-------------------------+-------------+-----+------------+\n",
      "\n",
      "23/05/17 18:45:56 WARN KafkaDataConsumer: KafkaDataConsumer is not running in UninterruptibleThread. It may hang when KafkaDataConsumer's methods are interrupted because of KAFKA-1894\n",
      "23/05/17 18:45:56 WARN KafkaDataConsumer: KafkaDataConsumer is not running in UninterruptibleThread. It may hang when KafkaDataConsumer's methods are interrupted because of KAFKA-1894\n",
      "23/05/17 18:45:56 WARN KafkaDataConsumer: KafkaDataConsumer is not running in UninterruptibleThread. It may hang when KafkaDataConsumer's methods are interrupted because of KAFKA-1894\n",
      "23/05/17 18:45:56 WARN KafkaDataConsumer: KafkaDataConsumer is not running in UninterruptibleThread. It may hang when KafkaDataConsumer's methods are interrupted because of KAFKA-1894\n",
      "23/05/17 18:45:56 WARN KafkaDataConsumer: KafkaDataConsumer is not running in UninterruptibleThread. It may hang when KafkaDataConsumer's methods are interrupted because of KAFKA-1894\n"
     ]
    },
    {
     "name": "stderr",
     "output_type": "stream",
     "text": [
      "418382334:>                                                         (0 + 1) / 1]\n",
      "418382078\n",
      "419351294\n",
      "419348478\n",
      "217056254\n",
      "                                                                                \r"
     ]
    },
    {
     "name": "stdout",
     "output_type": "stream",
     "text": [
      "-------------------------------------------\n",
      "Batch: 35\n",
      "-------------------------------------------\n",
      "+-----------+------+-------------+---+-------------------------+-------------+-----+------------+\n",
      "|topic      |bus_id|can_id       |dlc|data                     |timestamp    |value|message_name|\n",
      "+-----------+------+-------------+---+-------------------------+-------------+-----+------------+\n",
      "|canbus_test|bus_34|[18 F0 01 0B]|8  |[00 00 F3 FF FF 01 FF F7]|1684317803914|null |EBC1        |\n",
      "|canbus_test|bus_35|[18 F0 00 10]|8  |[FF 7D FF FF FF FF FF 7D]|1684318673118|null |ERC1        |\n",
      "|canbus_test|bus_36|[18 FE CA 2F]|8  |[F3 FF 00 00 00 00 FF FF]|1684317975266|null |DM1         |\n",
      "|canbus_test|bus_33|[18 FE BF 0B]|8  |[00 00 7D 7D 7D 7D FF FF]|1684317191330|null |EBC2        |\n",
      "|canbus_test|bus_37|[0C F0 03 00]|8  |[FD 00 FF FF FF FF FF FF]|1684318452701|null |EEC2        |\n",
      "+-----------+------+-------------+---+-------------------------+-------------+-----+------------+\n",
      "\n",
      "23/05/17 18:45:57 WARN KafkaDataConsumer: KafkaDataConsumer is not running in UninterruptibleThread. It may hang when KafkaDataConsumer's methods are interrupted because of KAFKA-1894\n",
      "23/05/17 18:45:57 WARN KafkaDataConsumer: KafkaDataConsumer is not running in UninterruptibleThread. It may hang when KafkaDataConsumer's methods are interrupted because of KAFKA-1894\n",
      "23/05/17 18:45:57 WARN KafkaDataConsumer: KafkaDataConsumer is not running in UninterruptibleThread. It may hang when KafkaDataConsumer's methods are interrupted because of KAFKA-1894\n",
      "23/05/17 18:45:57 WARN KafkaDataConsumer: KafkaDataConsumer is not running in UninterruptibleThread. It may hang when KafkaDataConsumer's methods are interrupted because of KAFKA-1894\n",
      "23/05/17 18:45:57 WARN KafkaDataConsumer: KafkaDataConsumer is not running in UninterruptibleThread. It may hang when KafkaDataConsumer's methods are interrupted because of KAFKA-1894\n"
     ]
    },
    {
     "name": "stderr",
     "output_type": "stream",
     "text": [
      "419348478:>                                                         (0 + 1) / 1]\n",
      "419348478\n",
      "150892286\n",
      "419351294\n",
      "419351294\n",
      "                                                                                \r"
     ]
    },
    {
     "name": "stdout",
     "output_type": "stream",
     "text": [
      "-------------------------------------------\n",
      "Batch: 36\n",
      "-------------------------------------------\n",
      "+-----------+------+-------------+---+-------------------------+-------------+-----+------------+\n",
      "|topic      |bus_id|can_id       |dlc|data                     |timestamp    |value|message_name|\n",
      "+-----------+------+-------------+---+-------------------------+-------------+-----+------------+\n",
      "|canbus_test|bus_34|[18 FE BF 0B]|8  |[00 00 7D 7D 7D 7D FF FF]|1684317804915|null |EBC2        |\n",
      "|canbus_test|bus_37|[18 FE BF 0B]|8  |[00 00 7D 7D 7D 7D FF FF]|1684318453697|null |EBC2        |\n",
      "|canbus_test|bus_35|[08 FE 6E 0B]|8  |[00 00 00 00 00 00 00 00]|1684318674156|null |HRW         |\n",
      "|canbus_test|bus_33|[18 FE CA 2F]|8  |[F3 FF 00 00 00 00 FF FF]|1684317192318|null |DM1         |\n",
      "|canbus_test|bus_36|[18 FE CA 2F]|8  |[F3 FF 00 00 00 00 FF FF]|1684317976270|null |DM1         |\n",
      "+-----------+------+-------------+---+-------------------------+-------------+-----+------------+\n",
      "\n",
      "23/05/17 18:45:58 WARN KafkaDataConsumer: KafkaDataConsumer is not running in UninterruptibleThread. It may hang when KafkaDataConsumer's methods are interrupted because of KAFKA-1894\n",
      "23/05/17 18:45:58 WARN KafkaDataConsumer: KafkaDataConsumer is not running in UninterruptibleThread. It may hang when KafkaDataConsumer's methods are interrupted because of KAFKA-1894\n",
      "23/05/17 18:45:58 WARN KafkaDataConsumer: KafkaDataConsumer is not running in UninterruptibleThread. It may hang when KafkaDataConsumer's methods are interrupted because of KAFKA-1894\n",
      "23/05/17 18:45:59 WARN KafkaDataConsumer: KafkaDataConsumer is not running in UninterruptibleThread. It may hang when KafkaDataConsumer's methods are interrupted because of KAFKA-1894\n",
      "23/05/17 18:45:59 WARN KafkaDataConsumer: KafkaDataConsumer is not running in UninterruptibleThread. It may hang when KafkaDataConsumer's methods are interrupted because of KAFKA-1894\n"
     ]
    },
    {
     "name": "stderr",
     "output_type": "stream",
     "text": [
      "150892286:>                                                         (0 + 1) / 1]\n",
      "419351294\n",
      "419170558\n",
      "419351294\n",
      "419348478\n",
      "                                                                                \r"
     ]
    },
    {
     "name": "stdout",
     "output_type": "stream",
     "text": [
      "-------------------------------------------\n",
      "Batch: 37\n",
      "-------------------------------------------\n",
      "+-----------+------+-------------+---+-------------------------+-------------+-----+------------+\n",
      "|topic      |bus_id|can_id       |dlc|data                     |timestamp    |value|message_name|\n",
      "+-----------+------+-------------+---+-------------------------+-------------+-----+------------+\n",
      "|canbus_test|bus_37|[08 FE 6E 0B]|8  |[00 00 00 00 00 00 00 00]|1684318454704|null |HRW         |\n",
      "|canbus_test|bus_35|[18 FE CA 2F]|8  |[F3 FF 00 00 00 00 FF FF]|1684318675181|null |DM1         |\n",
      "|canbus_test|bus_36|[18 FC 08 F4]|8  |[73 02 5B 27 64 42 18 C8]|1684317977281|null |null        |\n",
      "|canbus_test|bus_33|[18 FE CA 2F]|8  |[F3 FF 00 00 00 00 FF FF]|1684317193317|null |DM1         |\n",
      "|canbus_test|bus_34|[18 FE BF 0B]|8  |[00 00 7D 7D 7D 7D FF FF]|1684317805925|null |EBC2        |\n",
      "+-----------+------+-------------+---+-------------------------+-------------+-----+------------+\n",
      "\n",
      "23/05/17 18:45:59 WARN KafkaDataConsumer: KafkaDataConsumer is not running in UninterruptibleThread. It may hang when KafkaDataConsumer's methods are interrupted because of KAFKA-1894\n",
      "23/05/17 18:45:59 WARN KafkaDataConsumer: KafkaDataConsumer is not running in UninterruptibleThread. It may hang when KafkaDataConsumer's methods are interrupted because of KAFKA-1894\n",
      "23/05/17 18:45:59 WARN KafkaDataConsumer: KafkaDataConsumer is not running in UninterruptibleThread. It may hang when KafkaDataConsumer's methods are interrupted because of KAFKA-1894\n",
      "23/05/17 18:45:59 WARN KafkaDataConsumer: KafkaDataConsumer is not running in UninterruptibleThread. It may hang when KafkaDataConsumer's methods are interrupted because of KAFKA-1894\n",
      "23/05/17 18:45:59 WARN KafkaDataConsumer: KafkaDataConsumer is not running in UninterruptibleThread. It may hang when KafkaDataConsumer's methods are interrupted because of KAFKA-1894\n"
     ]
    },
    {
     "name": "stderr",
     "output_type": "stream",
     "text": [
      "150892286\n",
      "\r",
      "[Stage 38:>                                                         (0 + 1) / 1]\r",
      "418382334\n",
      "418382334\n",
      "418382334\n",
      "419284222\n",
      "\r",
      "                                                                                \r"
     ]
    },
    {
     "name": "stdout",
     "output_type": "stream",
     "text": [
      "-------------------------------------------\n",
      "Batch: 38\n",
      "-------------------------------------------\n",
      "+-----------+------+-------------+---+-------------------------+-------------+-----+------------+\n",
      "|topic      |bus_id|can_id       |dlc|data                     |timestamp    |value|message_name|\n",
      "+-----------+------+-------------+---+-------------------------+-------------+-----+------------+\n",
      "|canbus_test|bus_37|[08 FE 6E 0B]|8  |[00 00 00 00 00 00 00 00]|1684318455704|null |HRW         |\n",
      "|canbus_test|bus_34|[18 F0 01 0B]|8  |[00 00 F3 FF FF 01 FF F7]|1684317806934|null |EBC1        |\n",
      "|canbus_test|bus_35|[18 F0 01 0B]|8  |[00 00 F3 FF FF 01 FF F7]|1684318676197|null |EBC1        |\n",
      "|canbus_test|bus_36|[18 F0 01 0B]|8  |[00 00 F3 FF FF 01 FF F7]|1684317978288|null |EBC1        |\n",
      "|canbus_test|bus_33|[18 FD C4 0B]|8  |[E0 08 FF F3 FF FF FF FF]|1684317194315|null |EBC5        |\n",
      "+-----------+------+-------------+---+-------------------------+-------------+-----+------------+\n",
      "\n",
      "23/05/17 18:46:00 WARN KafkaDataConsumer: KafkaDataConsumer is not running in UninterruptibleThread. It may hang when KafkaDataConsumer's methods are interrupted because of KAFKA-1894\n",
      "23/05/17 18:46:00 WARN KafkaDataConsumer: KafkaDataConsumer is not running in UninterruptibleThread. It may hang when KafkaDataConsumer's methods are interrupted because of KAFKA-1894\n",
      "23/05/17 18:46:00 WARN KafkaDataConsumer: KafkaDataConsumer is not running in UninterruptibleThread. It may hang when KafkaDataConsumer's methods are interrupted because of KAFKA-1894\n",
      "23/05/17 18:46:00 WARN KafkaDataConsumer: KafkaDataConsumer is not running in UninterruptibleThread. It may hang when KafkaDataConsumer's methods are interrupted because of KAFKA-1894\n",
      "23/05/17 18:46:00 WARN KafkaDataConsumer: KafkaDataConsumer is not running in UninterruptibleThread. It may hang when KafkaDataConsumer's methods are interrupted because of KAFKA-1894\n"
     ]
    },
    {
     "name": "stderr",
     "output_type": "stream",
     "text": [
      "418382334:>                                                         (0 + 1) / 1]\n",
      "418581758\n",
      "419348478\n",
      "419170302\n",
      "419348478\n",
      "                                                                                \r"
     ]
    },
    {
     "name": "stdout",
     "output_type": "stream",
     "text": [
      "-------------------------------------------\n",
      "Batch: 39\n",
      "-------------------------------------------\n",
      "+-----------+------+-------------+---+-------------------------+-------------+-----+------------+\n",
      "|topic      |bus_id|can_id       |dlc|data                     |timestamp    |value|message_name|\n",
      "+-----------+------+-------------+---+-------------------------+-------------+-----+------------+\n",
      "|canbus_test|bus_37|[18 F0 01 0B]|8  |[00 00 F3 FF FF 01 FF F7]|1684318456717|null |EBC1        |\n",
      "|canbus_test|bus_34|[18 F3 0C 00]|8  |[F3 3F 0F FF F0 FF CC 81]|1684317807944|null |null        |\n",
      "|canbus_test|bus_35|[18 FE BF 0B]|8  |[00 00 7D 7D 7D 7D FF FF]|1684318678268|null |EBC2        |\n",
      "|canbus_test|bus_36|[18 FC 07 F4]|8  |[CC 09 59 07 8B 02 61 5B]|1684317979291|null |null        |\n",
      "|canbus_test|bus_33|[18 FE BF 0B]|8  |[00 00 7D 7D 7D 7D FF FF]|1684317195317|null |EBC2        |\n",
      "+-----------+------+-------------+---+-------------------------+-------------+-----+------------+\n",
      "\n",
      "23/05/17 18:46:01 WARN KafkaDataConsumer: KafkaDataConsumer is not running in UninterruptibleThread. It may hang when KafkaDataConsumer's methods are interrupted because of KAFKA-1894\n",
      "23/05/17 18:46:01 WARN KafkaDataConsumer: KafkaDataConsumer is not running in UninterruptibleThread. It may hang when KafkaDataConsumer's methods are interrupted because of KAFKA-1894\n",
      "23/05/17 18:46:01 WARN KafkaDataConsumer: KafkaDataConsumer is not running in UninterruptibleThread. It may hang when KafkaDataConsumer's methods are interrupted because of KAFKA-1894\n",
      "23/05/17 18:46:02 WARN KafkaDataConsumer: KafkaDataConsumer is not running in UninterruptibleThread. It may hang when KafkaDataConsumer's methods are interrupted because of KAFKA-1894\n",
      "23/05/17 18:46:02 WARN KafkaDataConsumer: KafkaDataConsumer is not running in UninterruptibleThread. It may hang when KafkaDataConsumer's methods are interrupted because of KAFKA-1894\n"
     ]
    },
    {
     "name": "stderr",
     "output_type": "stream",
     "text": [
      "\r",
      "[Stage 40:>                                                         (0 + 1) / 1]\r",
      "419351294\n",
      "418382334\n",
      "419172606\n",
      "419348478\n",
      "418382334\n",
      "\r",
      "                                                                                \r"
     ]
    },
    {
     "name": "stdout",
     "output_type": "stream",
     "text": [
      "-------------------------------------------\n",
      "Batch: 40\n",
      "-------------------------------------------\n",
      "+-----------+------+-------------+---+-------------------------+-------------+-----+------------+\n",
      "|topic      |bus_id|can_id       |dlc|data                     |timestamp    |value|message_name|\n",
      "+-----------+------+-------------+---+-------------------------+-------------+-----+------------+\n",
      "|canbus_test|bus_37|[18 FE CA 2F]|8  |[F3 FF 00 00 00 00 FF FF]|1684318457733|null |DM1         |\n",
      "|canbus_test|bus_34|[18 F0 01 0B]|8  |[00 00 F3 FF FF 01 FF F7]|1684317808951|null |EBC1        |\n",
      "|canbus_test|bus_35|[18 FC 10 F4]|8  |[FF FF 56 26 44 44 00 00]|1684318679278|null |null        |\n",
      "|canbus_test|bus_36|[18 FE BF 0B]|8  |[00 00 7D 7D 7D 7D FF FF]|1684317981308|null |EBC2        |\n",
      "|canbus_test|bus_33|[18 F0 01 0B]|8  |[00 00 F3 FF FF 01 FF F7]|1684317196312|null |EBC1        |\n",
      "+-----------+------+-------------+---+-------------------------+-------------+-----+------------+\n",
      "\n",
      "23/05/17 18:46:02 WARN KafkaDataConsumer: KafkaDataConsumer is not running in UninterruptibleThread. It may hang when KafkaDataConsumer's methods are interrupted because of KAFKA-1894\n",
      "23/05/17 18:46:02 WARN KafkaDataConsumer: KafkaDataConsumer is not running in UninterruptibleThread. It may hang when KafkaDataConsumer's methods are interrupted because of KAFKA-1894\n",
      "23/05/17 18:46:02 WARN KafkaDataConsumer: KafkaDataConsumer is not running in UninterruptibleThread. It may hang when KafkaDataConsumer's methods are interrupted because of KAFKA-1894\n",
      "23/05/17 18:46:02 WARN KafkaDataConsumer: KafkaDataConsumer is not running in UninterruptibleThread. It may hang when KafkaDataConsumer's methods are interrupted because of KAFKA-1894\n",
      "23/05/17 18:46:03 WARN KafkaDataConsumer: KafkaDataConsumer is not running in UninterruptibleThread. It may hang when KafkaDataConsumer's methods are interrupted because of KAFKA-1894\n"
     ]
    },
    {
     "name": "stderr",
     "output_type": "stream",
     "text": [
      "\r",
      "[Stage 41:>                                                         (0 + 1) / 1]\r",
      "217996030\n",
      "217051134\n",
      "419351294\n",
      "418382334\n",
      "419170302\n",
      "\r",
      "                                                                                \r"
     ]
    },
    {
     "name": "stdout",
     "output_type": "stream",
     "text": [
      "-------------------------------------------\n",
      "Batch: 41\n",
      "-------------------------------------------\n",
      "+-----------+------+-------------+---+-------------------------+-------------+-----+------------+\n",
      "|topic      |bus_id|can_id       |dlc|data                     |timestamp    |value|message_name|\n",
      "+-----------+------+-------------+---+-------------------------+-------------+-----+------------+\n",
      "|canbus_test|bus_37|[0C FE 5A 21]|8  |[FF FF FF FF EF FF FF FF]|1684318458756|null |ASC1        |\n",
      "|canbus_test|bus_34|[0C EF EF 0B]|8  |[CC FA 7D FF FF FF FF 05]|1684317809963|null |null        |\n",
      "|canbus_test|bus_35|[18 FE CA 2F]|8  |[F3 FF 00 00 00 00 FF FF]|1684318680289|null |DM1         |\n",
      "|canbus_test|bus_36|[18 F0 01 0B]|8  |[00 00 F3 FF FF 01 FF F7]|1684317982316|null |EBC1        |\n",
      "|canbus_test|bus_33|[18 FC 07 F4]|8  |[CC 09 59 07 8D 02 61 59]|1684317197302|null |null        |\n",
      "+-----------+------+-------------+---+-------------------------+-------------+-----+------------+\n",
      "\n",
      "23/05/17 18:46:03 WARN KafkaDataConsumer: KafkaDataConsumer is not running in UninterruptibleThread. It may hang when KafkaDataConsumer's methods are interrupted because of KAFKA-1894\n",
      "23/05/17 18:46:03 WARN KafkaDataConsumer: KafkaDataConsumer is not running in UninterruptibleThread. It may hang when KafkaDataConsumer's methods are interrupted because of KAFKA-1894\n",
      "23/05/17 18:46:03 WARN KafkaDataConsumer: KafkaDataConsumer is not running in UninterruptibleThread. It may hang when KafkaDataConsumer's methods are interrupted because of KAFKA-1894\n",
      "23/05/17 18:46:03 WARN KafkaDataConsumer: KafkaDataConsumer is not running in UninterruptibleThread. It may hang when KafkaDataConsumer's methods are interrupted because of KAFKA-1894\n",
      "23/05/17 18:46:04 WARN KafkaDataConsumer: KafkaDataConsumer is not running in UninterruptibleThread. It may hang when KafkaDataConsumer's methods are interrupted because of KAFKA-1894\n"
     ]
    },
    {
     "name": "stderr",
     "output_type": "stream",
     "text": [
      "\r",
      "[Stage 42:>                                                         (0 + 1) / 1]\r",
      "418597886\n",
      "418382334\n",
      "419173630\n",
      "419171070\n",
      "418382334\n",
      "\r",
      "                                                                                \r"
     ]
    },
    {
     "name": "stdout",
     "output_type": "stream",
     "text": [
      "-------------------------------------------\n",
      "Batch: 42\n",
      "-------------------------------------------\n",
      "+-----------+------+-------------+---+-------------------------+-------------+-----+------------+\n",
      "|topic      |bus_id|can_id       |dlc|data                     |timestamp    |value|message_name|\n",
      "+-----------+------+-------------+---+-------------------------+-------------+-----+------------+\n",
      "|canbus_test|bus_37|[18 F3 4B 00]|8  |[FF FF 00 00 FF FF FF 81]|1684318459775|null |null        |\n",
      "|canbus_test|bus_34|[18 F0 01 0B]|8  |[00 00 F3 FF FF 01 FF F7]|1684317810980|null |EBC1        |\n",
      "|canbus_test|bus_35|[18 FC 14 21]|8  |[FF FF 00 00 71 02 FF 0D]|1684318681299|null |null        |\n",
      "|canbus_test|bus_36|[18 FC 0A F4]|8  |[FF 00 47 01 C1 00 47 01]|1684317983314|null |null        |\n",
      "|canbus_test|bus_33|[18 F0 01 0B]|8  |[00 00 F3 FF FF 01 FF F7]|1684317198303|null |EBC1        |\n",
      "+-----------+------+-------------+---+-------------------------+-------------+-----+------------+\n",
      "\n",
      "23/05/17 18:46:04 WARN KafkaDataConsumer: KafkaDataConsumer is not running in UninterruptibleThread. It may hang when KafkaDataConsumer's methods are interrupted because of KAFKA-1894\n",
      "23/05/17 18:46:04 WARN KafkaDataConsumer: KafkaDataConsumer is not running in UninterruptibleThread. It may hang when KafkaDataConsumer's methods are interrupted because of KAFKA-1894\n",
      "23/05/17 18:46:04 WARN KafkaDataConsumer: KafkaDataConsumer is not running in UninterruptibleThread. It may hang when KafkaDataConsumer's methods are interrupted because of KAFKA-1894\n",
      "23/05/17 18:46:05 WARN KafkaDataConsumer: KafkaDataConsumer is not running in UninterruptibleThread. It may hang when KafkaDataConsumer's methods are interrupted because of KAFKA-1894\n",
      "23/05/17 18:46:05 WARN KafkaDataConsumer: KafkaDataConsumer is not running in UninterruptibleThread. It may hang when KafkaDataConsumer's methods are interrupted because of KAFKA-1894\n"
     ]
    },
    {
     "name": "stderr",
     "output_type": "stream",
     "text": [
      "418382078:>                                                         (0 + 1) / 1]\n",
      "419351294\n",
      "419348478\n",
      "150892286\n",
      "217055998\n",
      "                                                                                \r"
     ]
    },
    {
     "name": "stdout",
     "output_type": "stream",
     "text": [
      "-------------------------------------------\n",
      "Batch: 43\n",
      "-------------------------------------------\n",
      "+-----------+------+-------------+---+-------------------------+-------------+-----+------------+\n",
      "|topic      |bus_id|can_id       |dlc|data                     |timestamp    |value|message_name|\n",
      "+-----------+------+-------------+---+-------------------------+-------------+-----+------------+\n",
      "|canbus_test|bus_34|[18 F0 00 10]|8  |[FF 7D FF FF FF FF FF 7D]|1684317812003|null |ERC1        |\n",
      "|canbus_test|bus_37|[18 FE CA 2F]|8  |[F3 FF 00 00 00 00 FF FF]|1684318460796|null |DM1         |\n",
      "|canbus_test|bus_35|[18 FE BF 0B]|8  |[00 00 7D 7D 7D 7D FF FF]|1684318682298|null |EBC2        |\n",
      "|canbus_test|bus_36|[08 FE 6E 0B]|8  |[00 00 00 00 00 00 00 00]|1684317984320|null |HRW         |\n",
      "|canbus_test|bus_33|[0C F0 02 03]|8  |[CD FF FE FF FF FF FF FF]|1684317199305|null |ETC1        |\n",
      "+-----------+------+-------------+---+-------------------------+-------------+-----+------------+\n",
      "\n",
      "23/05/17 18:46:05 WARN KafkaDataConsumer: KafkaDataConsumer is not running in UninterruptibleThread. It may hang when KafkaDataConsumer's methods are interrupted because of KAFKA-1894\n",
      "23/05/17 18:46:05 WARN KafkaDataConsumer: KafkaDataConsumer is not running in UninterruptibleThread. It may hang when KafkaDataConsumer's methods are interrupted because of KAFKA-1894\n",
      "23/05/17 18:46:05 WARN KafkaDataConsumer: KafkaDataConsumer is not running in UninterruptibleThread. It may hang when KafkaDataConsumer's methods are interrupted because of KAFKA-1894\n",
      "23/05/17 18:46:06 WARN KafkaDataConsumer: KafkaDataConsumer is not running in UninterruptibleThread. It may hang when KafkaDataConsumer's methods are interrupted because of KAFKA-1894\n",
      "23/05/17 18:46:06 WARN KafkaDataConsumer: KafkaDataConsumer is not running in UninterruptibleThread. It may hang when KafkaDataConsumer's methods are interrupted because of KAFKA-1894\n"
     ]
    },
    {
     "name": "stderr",
     "output_type": "stream",
     "text": [
      "\r",
      "[Stage 44:>                                                         (0 + 1) / 1]\r",
      "419373310\n",
      "419348478\n",
      "419322366\n",
      "217996030\n",
      "217055998\n",
      "\r",
      "                                                                                \r"
     ]
    },
    {
     "name": "stdout",
     "output_type": "stream",
     "text": [
      "-------------------------------------------\n",
      "Batch: 44\n",
      "-------------------------------------------\n",
      "+-----------+------+-------------+---+-------------------------+-------------+-----+------------+\n",
      "|topic      |bus_id|can_id       |dlc|data                     |timestamp    |value|message_name|\n",
      "+-----------+------+-------------+---+-------------------------+-------------+-----+------------+\n",
      "|canbus_test|bus_37|[18 FF 20 EF]|8  |[F0 7D 00 00 7D EF FF 7D]|1684318461809|null |null        |\n",
      "|canbus_test|bus_34|[18 FE BF 0B]|8  |[00 00 7D 7D 7D 7D FF FF]|1684317813021|null |EBC2        |\n",
      "|canbus_test|bus_35|[18 FE 59 2F]|8  |[EF 7C F5 7C FB 7C BF 7C]|1684318684325|null |ASC3        |\n",
      "|canbus_test|bus_36|[0C FE 5A 2F]|8  |[11 00 00 00 D3 F5 FF F0]|1684317985321|null |ASC1        |\n",
      "|canbus_test|bus_33|[0C F0 02 03]|8  |[CD FF FE FF FF FF FF FF]|1684317200315|null |ETC1        |\n",
      "+-----------+------+-------------+---+-------------------------+-------------+-----+------------+\n",
      "\n",
      "23/05/17 18:46:06 WARN KafkaDataConsumer: KafkaDataConsumer is not running in UninterruptibleThread. It may hang when KafkaDataConsumer's methods are interrupted because of KAFKA-1894\n",
      "23/05/17 18:46:06 WARN KafkaDataConsumer: KafkaDataConsumer is not running in UninterruptibleThread. It may hang when KafkaDataConsumer's methods are interrupted because of KAFKA-1894\n",
      "23/05/17 18:46:06 WARN KafkaDataConsumer: KafkaDataConsumer is not running in UninterruptibleThread. It may hang when KafkaDataConsumer's methods are interrupted because of KAFKA-1894\n",
      "23/05/17 18:46:07 WARN KafkaDataConsumer: KafkaDataConsumer is not running in UninterruptibleThread. It may hang when KafkaDataConsumer's methods are interrupted because of KAFKA-1894\n",
      "23/05/17 18:46:07 WARN KafkaDataConsumer: KafkaDataConsumer is not running in UninterruptibleThread. It may hang when KafkaDataConsumer's methods are interrupted because of KAFKA-1894\n"
     ]
    },
    {
     "name": "stderr",
     "output_type": "stream",
     "text": [
      "419322366:>                                                         (0 + 1) / 1]\n",
      "419351294\n",
      "419351294\n",
      "419351294\n",
      "419348478\n",
      "                                                                                \r"
     ]
    },
    {
     "name": "stdout",
     "output_type": "stream",
     "text": [
      "-------------------------------------------\n",
      "Batch: 45\n",
      "-------------------------------------------\n",
      "+-----------+------+-------------+---+-------------------------+-------------+-----+------------+\n",
      "|topic      |bus_id|can_id       |dlc|data                     |timestamp    |value|message_name|\n",
      "+-----------+------+-------------+---+-------------------------+-------------+-----+------------+\n",
      "|canbus_test|bus_37|[18 FE 59 2F]|8  |[E9 7C EF 7C 07 7D CF 7C]|1684318462825|null |ASC3        |\n",
      "|canbus_test|bus_34|[18 FE CA 2F]|8  |[F3 FF 00 00 00 00 FF FF]|1684317814036|null |DM1         |\n",
      "|canbus_test|bus_35|[18 FE CA 2F]|8  |[F3 FF 00 00 00 00 FF FF]|1684318686348|null |DM1         |\n",
      "|canbus_test|bus_36|[18 FE CA 2F]|8  |[F3 FF 00 00 00 00 FF FF]|1684317986323|null |DM1         |\n",
      "|canbus_test|bus_33|[18 FE BF 0B]|8  |[00 00 7D 7D 7D 7D FF FF]|1684317201323|null |EBC2        |\n",
      "+-----------+------+-------------+---+-------------------------+-------------+-----+------------+\n",
      "\n",
      "23/05/17 18:46:07 WARN KafkaDataConsumer: KafkaDataConsumer is not running in UninterruptibleThread. It may hang when KafkaDataConsumer's methods are interrupted because of KAFKA-1894\n",
      "23/05/17 18:46:07 WARN KafkaDataConsumer: KafkaDataConsumer is not running in UninterruptibleThread. It may hang when KafkaDataConsumer's methods are interrupted because of KAFKA-1894\n",
      "23/05/17 18:46:07 WARN KafkaDataConsumer: KafkaDataConsumer is not running in UninterruptibleThread. It may hang when KafkaDataConsumer's methods are interrupted because of KAFKA-1894\n",
      "23/05/17 18:46:07 WARN KafkaDataConsumer: KafkaDataConsumer is not running in UninterruptibleThread. It may hang when KafkaDataConsumer's methods are interrupted because of KAFKA-1894\n",
      "23/05/17 18:46:08 WARN KafkaDataConsumer: KafkaDataConsumer is not running in UninterruptibleThread. It may hang when KafkaDataConsumer's methods are interrupted because of KAFKA-1894\n"
     ]
    },
    {
     "name": "stderr",
     "output_type": "stream",
     "text": [
      "\r",
      "[Stage 46:>                                                         (0 + 1) / 1]\r",
      "418382334\n",
      "418383358\n",
      "419351294\n",
      "419348478\n",
      "419351294\n",
      "\r",
      "                                                                                \r"
     ]
    },
    {
     "name": "stdout",
     "output_type": "stream",
     "text": [
      "-------------------------------------------\n",
      "Batch: 46\n",
      "-------------------------------------------\n",
      "+-----------+------+-------------+---+-------------------------+-------------+-----+------------+\n",
      "|topic      |bus_id|can_id       |dlc|data                     |timestamp    |value|message_name|\n",
      "+-----------+------+-------------+---+-------------------------+-------------+-----+------------+\n",
      "|canbus_test|bus_37|[18 F0 01 0B]|8  |[00 00 F3 FF FF 01 FF F7]|1684318463830|null |EBC1        |\n",
      "|canbus_test|bus_34|[18 F0 05 03]|8  |[FF FF FF 7D FF FF FF FF]|1684317815044|null |ETC2        |\n",
      "|canbus_test|bus_35|[18 FE CA 2F]|8  |[F3 FF 00 00 00 00 FF FF]|1684318687340|null |DM1         |\n",
      "|canbus_test|bus_36|[18 FE BF 0B]|8  |[00 00 7D 7D 7D 7D FF FF]|1684317987325|null |EBC2        |\n",
      "|canbus_test|bus_33|[18 FE CA 2F]|8  |[F3 FF 00 00 00 00 FF FF]|1684317202331|null |DM1         |\n",
      "+-----------+------+-------------+---+-------------------------+-------------+-----+------------+\n",
      "\n",
      "23/05/17 18:46:08 WARN KafkaDataConsumer: KafkaDataConsumer is not running in UninterruptibleThread. It may hang when KafkaDataConsumer's methods are interrupted because of KAFKA-1894\n",
      "23/05/17 18:46:08 WARN KafkaDataConsumer: KafkaDataConsumer is not running in UninterruptibleThread. It may hang when KafkaDataConsumer's methods are interrupted because of KAFKA-1894\n",
      "23/05/17 18:46:08 WARN KafkaDataConsumer: KafkaDataConsumer is not running in UninterruptibleThread. It may hang when KafkaDataConsumer's methods are interrupted because of KAFKA-1894\n",
      "23/05/17 18:46:09 WARN KafkaDataConsumer: KafkaDataConsumer is not running in UninterruptibleThread. It may hang when KafkaDataConsumer's methods are interrupted because of KAFKA-1894\n",
      "23/05/17 18:46:09 WARN KafkaDataConsumer: KafkaDataConsumer is not running in UninterruptibleThread. It may hang when KafkaDataConsumer's methods are interrupted because of KAFKA-1894\n"
     ]
    },
    {
     "name": "stderr",
     "output_type": "stream",
     "text": [
      "\r",
      "[Stage 47:>                                                         (0 + 1) / 1]\r",
      "150892286\n",
      "419351294\n",
      "419348990\n",
      "419351294\n",
      "419174142\n",
      "\r",
      "                                                                                \r"
     ]
    },
    {
     "name": "stdout",
     "output_type": "stream",
     "text": [
      "-------------------------------------------\n",
      "Batch: 47\n",
      "-------------------------------------------\n",
      "+-----------+------+-------------+---+-------------------------+-------------+-----+------------+\n",
      "|topic      |bus_id|can_id       |dlc|data                     |timestamp    |value|message_name|\n",
      "+-----------+------+-------------+---+-------------------------+-------------+-----+------------+\n",
      "|canbus_test|bus_37|[08 FE 6E 0B]|8  |[00 00 00 00 00 00 00 00]|1684318465884|null |HRW         |\n",
      "|canbus_test|bus_34|[18 FE CA 2F]|8  |[F3 FF 00 00 00 00 FF FF]|1684317816053|null |DM1         |\n",
      "|canbus_test|bus_35|[18 FE C1 17]|8  |[68 8D 4B 00 38 1A 08 00]|1684318688338|null |VDHR        |\n",
      "|canbus_test|bus_36|[18 FE CA 2F]|8  |[F3 FF 00 00 00 00 FF FF]|1684317988327|null |DM1         |\n",
      "|canbus_test|bus_33|[18 FC 16 21]|8  |[03 C7 00 00 72 02 FF 41]|1684317203332|null |null        |\n",
      "+-----------+------+-------------+---+-------------------------+-------------+-----+------------+\n",
      "\n",
      "23/05/17 18:46:09 WARN KafkaDataConsumer: KafkaDataConsumer is not running in UninterruptibleThread. It may hang when KafkaDataConsumer's methods are interrupted because of KAFKA-1894\n",
      "23/05/17 18:46:09 WARN KafkaDataConsumer: KafkaDataConsumer is not running in UninterruptibleThread. It may hang when KafkaDataConsumer's methods are interrupted because of KAFKA-1894\n",
      "23/05/17 18:46:09 WARN KafkaDataConsumer: KafkaDataConsumer is not running in UninterruptibleThread. It may hang when KafkaDataConsumer's methods are interrupted because of KAFKA-1894\n",
      "23/05/17 18:46:10 WARN KafkaDataConsumer: KafkaDataConsumer is not running in UninterruptibleThread. It may hang when KafkaDataConsumer's methods are interrupted because of KAFKA-1894\n",
      "23/05/17 18:46:10 WARN KafkaDataConsumer: KafkaDataConsumer is not running in UninterruptibleThread. It may hang when KafkaDataConsumer's methods are interrupted because of KAFKA-1894\n"
     ]
    },
    {
     "name": "stderr",
     "output_type": "stream",
     "text": [
      "201326846:>                                                         (0 + 1) / 1]\n",
      "419351294\n",
      "419351294\n",
      "418382334\n",
      "418382334\n",
      "                                                                                \r"
     ]
    },
    {
     "name": "stdout",
     "output_type": "stream",
     "text": [
      "-------------------------------------------\n",
      "Batch: 48\n",
      "-------------------------------------------\n",
      "+-----------+------+-------------+---+-------------------------+-------------+-----+------------+\n",
      "|topic      |bus_id|can_id       |dlc|data                     |timestamp    |value|message_name|\n",
      "+-----------+------+-------------+---+-------------------------+-------------+-----+------------+\n",
      "|canbus_test|bus_37|[0C 00 00 0B]|8  |[30 FF FF FA FF FF FF 47]|1684318466902|null |null        |\n",
      "|canbus_test|bus_34|[18 FE CA 2F]|8  |[F3 FF 00 00 00 00 FF FF]|1684317817067|null |DM1         |\n",
      "|canbus_test|bus_35|[18 FE CA 2F]|8  |[F3 FF 00 00 00 00 FF FF]|1684318689340|null |DM1         |\n",
      "|canbus_test|bus_36|[18 F0 01 0B]|8  |[00 00 F3 FF FF 01 FF F7]|1684317989327|null |EBC1        |\n",
      "|canbus_test|bus_33|[18 F0 01 0B]|8  |[00 00 F3 FF FF 01 FF F7]|1684317204326|null |EBC1        |\n",
      "+-----------+------+-------------+---+-------------------------+-------------+-----+------------+\n",
      "\n",
      "23/05/17 18:46:10 WARN KafkaDataConsumer: KafkaDataConsumer is not running in UninterruptibleThread. It may hang when KafkaDataConsumer's methods are interrupted because of KAFKA-1894\n",
      "23/05/17 18:46:10 WARN KafkaDataConsumer: KafkaDataConsumer is not running in UninterruptibleThread. It may hang when KafkaDataConsumer's methods are interrupted because of KAFKA-1894\n",
      "23/05/17 18:46:10 WARN KafkaDataConsumer: KafkaDataConsumer is not running in UninterruptibleThread. It may hang when KafkaDataConsumer's methods are interrupted because of KAFKA-1894\n",
      "23/05/17 18:46:11 WARN KafkaDataConsumer: KafkaDataConsumer is not running in UninterruptibleThread. It may hang when KafkaDataConsumer's methods are interrupted because of KAFKA-1894\n",
      "23/05/17 18:46:11 WARN KafkaDataConsumer: KafkaDataConsumer is not running in UninterruptibleThread. It may hang when KafkaDataConsumer's methods are interrupted because of KAFKA-1894\n"
     ]
    },
    {
     "name": "stderr",
     "output_type": "stream",
     "text": [
      "\r",
      "[Stage 49:>                                                         (0 + 1) / 1]\r",
      "419351294\n",
      "419348478\n",
      "418382334\n",
      "419351294\n",
      "217055998\n",
      "\r",
      "                                                                                \r"
     ]
    },
    {
     "name": "stdout",
     "output_type": "stream",
     "text": [
      "-------------------------------------------\n",
      "Batch: 49\n",
      "-------------------------------------------\n",
      "+-----------+------+-------------+---+-------------------------+-------------+-----+------------+\n",
      "|topic      |bus_id|can_id       |dlc|data                     |timestamp    |value|message_name|\n",
      "+-----------+------+-------------+---+-------------------------+-------------+-----+------------+\n",
      "|canbus_test|bus_37|[18 FE CA 2F]|8  |[F3 FF 00 00 00 00 FF FF]|1684318467905|null |DM1         |\n",
      "|canbus_test|bus_34|[18 FE BF 0B]|8  |[00 00 7D 7D 7D 7D FF FF]|1684317818088|null |EBC2        |\n",
      "|canbus_test|bus_35|[18 F0 01 0B]|8  |[00 00 F3 FF FF 01 FF F7]|1684318690344|null |EBC1        |\n",
      "|canbus_test|bus_36|[18 FE CA 2F]|8  |[F3 FF 00 00 00 00 FF FF]|1684317990336|null |DM1         |\n",
      "|canbus_test|bus_33|[0C F0 02 03]|8  |[CD FF FE FF FF FF FF FF]|1684317205326|null |ETC1        |\n",
      "+-----------+------+-------------+---+-------------------------+-------------+-----+------------+\n",
      "\n",
      "23/05/17 18:46:11 WARN KafkaDataConsumer: KafkaDataConsumer is not running in UninterruptibleThread. It may hang when KafkaDataConsumer's methods are interrupted because of KAFKA-1894\n",
      "23/05/17 18:46:11 WARN KafkaDataConsumer: KafkaDataConsumer is not running in UninterruptibleThread. It may hang when KafkaDataConsumer's methods are interrupted because of KAFKA-1894\n",
      "23/05/17 18:46:11 WARN KafkaDataConsumer: KafkaDataConsumer is not running in UninterruptibleThread. It may hang when KafkaDataConsumer's methods are interrupted because of KAFKA-1894\n",
      "23/05/17 18:46:11 WARN KafkaDataConsumer: KafkaDataConsumer is not running in UninterruptibleThread. It may hang when KafkaDataConsumer's methods are interrupted because of KAFKA-1894\n",
      "23/05/17 18:46:12 WARN KafkaDataConsumer: KafkaDataConsumer is not running in UninterruptibleThread. It may hang when KafkaDataConsumer's methods are interrupted because of KAFKA-1894\n"
     ]
    },
    {
     "name": "stderr",
     "output_type": "stream",
     "text": [
      "\r",
      "[Stage 50:>                                                         (0 + 1) / 1]\r",
      "419373310\n",
      "201326846\n",
      "419351294\n",
      "418583550\n",
      "418382334\n",
      "\r",
      "                                                                                \r"
     ]
    },
    {
     "name": "stdout",
     "output_type": "stream",
     "text": [
      "-------------------------------------------\n",
      "Batch: 50\n",
      "-------------------------------------------\n",
      "+-----------+------+-------------+---+-------------------------+-------------+-----+------------+\n",
      "|topic      |bus_id|can_id       |dlc|data                     |timestamp    |value|message_name|\n",
      "+-----------+------+-------------+---+-------------------------+-------------+-----+------------+\n",
      "|canbus_test|bus_37|[18 FF 20 EF]|8  |[F0 7D 00 00 7D EF FF 7D]|1684318468910|null |null        |\n",
      "|canbus_test|bus_34|[0C 00 00 0B]|8  |[30 FF FF FA FF FF FF 41]|1684317819097|null |null        |\n",
      "|canbus_test|bus_35|[18 FE CA 2F]|8  |[F3 FF 00 00 00 00 FF FF]|1684318691350|null |DM1         |\n",
      "|canbus_test|bus_36|[18 F3 13 00]|8  |[0D 00 47 45 47 48 45 48]|1684317991349|null |null        |\n",
      "|canbus_test|bus_33|[18 F0 01 0B]|8  |[00 00 F3 FF FF 01 FF F7]|1684317206349|null |EBC1        |\n",
      "+-----------+------+-------------+---+-------------------------+-------------+-----+------------+\n",
      "\n",
      "23/05/17 18:46:12 WARN KafkaDataConsumer: KafkaDataConsumer is not running in UninterruptibleThread. It may hang when KafkaDataConsumer's methods are interrupted because of KAFKA-1894\n",
      "23/05/17 18:46:12 WARN KafkaDataConsumer: KafkaDataConsumer is not running in UninterruptibleThread. It may hang when KafkaDataConsumer's methods are interrupted because of KAFKA-1894\n",
      "23/05/17 18:46:12 WARN KafkaDataConsumer: KafkaDataConsumer is not running in UninterruptibleThread. It may hang when KafkaDataConsumer's methods are interrupted because of KAFKA-1894\n",
      "23/05/17 18:46:12 WARN KafkaDataConsumer: KafkaDataConsumer is not running in UninterruptibleThread. It may hang when KafkaDataConsumer's methods are interrupted because of KAFKA-1894\n",
      "23/05/17 18:46:13 WARN KafkaDataConsumer: KafkaDataConsumer is not running in UninterruptibleThread. It may hang when KafkaDataConsumer's methods are interrupted because of KAFKA-1894\n"
     ]
    },
    {
     "name": "stderr",
     "output_type": "stream",
     "text": [
      "\r",
      "[Stage 51:>                                                         (0 + 1) / 1]\r",
      "419284222\n",
      "418382334\n",
      "418382334\n",
      "419348478\n",
      "418382334\n",
      "\r",
      "                                                                                \r"
     ]
    },
    {
     "name": "stdout",
     "output_type": "stream",
     "text": [
      "-------------------------------------------\n",
      "Batch: 51\n",
      "-------------------------------------------\n",
      "+-----------+------+-------------+---+-------------------------+-------------+-----+------------+\n",
      "|topic      |bus_id|can_id       |dlc|data                     |timestamp    |value|message_name|\n",
      "+-----------+------+-------------+---+-------------------------+-------------+-----+------------+\n",
      "|canbus_test|bus_37|[18 FD C4 0B]|8  |[E0 08 FF F3 FF FF FF FF]|1684318469918|null |EBC5        |\n",
      "|canbus_test|bus_34|[18 F0 01 0B]|8  |[00 00 F3 FF FF 01 FF F7]|1684317820105|null |EBC1        |\n",
      "|canbus_test|bus_35|[18 F0 01 0B]|8  |[00 00 F3 FF FF 01 FF F7]|1684318692361|null |EBC1        |\n",
      "|canbus_test|bus_36|[18 FE BF 0B]|8  |[00 00 7D 7D 7D 7D FF FF]|1684317992358|null |EBC2        |\n",
      "|canbus_test|bus_33|[18 F0 01 0B]|8  |[00 00 F3 FF FF 01 FF F7]|1684317207352|null |EBC1        |\n",
      "+-----------+------+-------------+---+-------------------------+-------------+-----+------------+\n",
      "\n",
      "23/05/17 18:46:13 WARN KafkaDataConsumer: KafkaDataConsumer is not running in UninterruptibleThread. It may hang when KafkaDataConsumer's methods are interrupted because of KAFKA-1894\n",
      "23/05/17 18:46:13 WARN KafkaDataConsumer: KafkaDataConsumer is not running in UninterruptibleThread. It may hang when KafkaDataConsumer's methods are interrupted because of KAFKA-1894\n",
      "23/05/17 18:46:13 WARN KafkaDataConsumer: KafkaDataConsumer is not running in UninterruptibleThread. It may hang when KafkaDataConsumer's methods are interrupted because of KAFKA-1894\n",
      "23/05/17 18:46:14 WARN KafkaDataConsumer: KafkaDataConsumer is not running in UninterruptibleThread. It may hang when KafkaDataConsumer's methods are interrupted because of KAFKA-1894\n",
      "23/05/17 18:46:14 WARN KafkaDataConsumer: KafkaDataConsumer is not running in UninterruptibleThread. It may hang when KafkaDataConsumer's methods are interrupted because of KAFKA-1894\n"
     ]
    },
    {
     "name": "stderr",
     "output_type": "stream",
     "text": [
      "418382334:>                                                         (0 + 1) / 1]\n",
      "419322366\n",
      "419174142\n",
      "419351294\n",
      "419351294\n",
      "                                                                                \r"
     ]
    },
    {
     "name": "stdout",
     "output_type": "stream",
     "text": [
      "-------------------------------------------\n",
      "Batch: 52\n",
      "-------------------------------------------\n",
      "+-----------+------+-------------+---+-------------------------+-------------+-----+------------+\n",
      "|topic      |bus_id|can_id       |dlc|data                     |timestamp    |value|message_name|\n",
      "+-----------+------+-------------+---+-------------------------+-------------+-----+------------+\n",
      "|canbus_test|bus_37|[18 F0 01 0B]|8  |[00 00 F3 FF FF 01 FF F7]|1684318470933|null |EBC1        |\n",
      "|canbus_test|bus_34|[18 FE 59 2F]|8  |[D8 7C EF 7C 07 7D D4 7C]|1684317821121|null |ASC3        |\n",
      "|canbus_test|bus_35|[18 FC 16 21]|8  |[03 C7 00 00 72 02 FF 41]|1684318693375|null |null        |\n",
      "|canbus_test|bus_36|[18 FE CA 2F]|8  |[F3 FF 00 00 00 00 FF FF]|1684317993363|null |DM1         |\n",
      "|canbus_test|bus_33|[18 FE CA 2F]|8  |[F3 FF 00 00 00 00 FF FF]|1684317208355|null |DM1         |\n",
      "+-----------+------+-------------+---+-------------------------+-------------+-----+------------+\n",
      "\n",
      "23/05/17 18:46:14 WARN KafkaDataConsumer: KafkaDataConsumer is not running in UninterruptibleThread. It may hang when KafkaDataConsumer's methods are interrupted because of KAFKA-1894\n",
      "23/05/17 18:46:14 WARN KafkaDataConsumer: KafkaDataConsumer is not running in UninterruptibleThread. It may hang when KafkaDataConsumer's methods are interrupted because of KAFKA-1894\n",
      "23/05/17 18:46:14 WARN KafkaDataConsumer: KafkaDataConsumer is not running in UninterruptibleThread. It may hang when KafkaDataConsumer's methods are interrupted because of KAFKA-1894\n",
      "23/05/17 18:46:15 WARN KafkaDataConsumer: KafkaDataConsumer is not running in UninterruptibleThread. It may hang when KafkaDataConsumer's methods are interrupted because of KAFKA-1894\n",
      "23/05/17 18:46:15 WARN KafkaDataConsumer: KafkaDataConsumer is not running in UninterruptibleThread. It may hang when KafkaDataConsumer's methods are interrupted because of KAFKA-1894\n"
     ]
    },
    {
     "name": "stderr",
     "output_type": "stream",
     "text": [
      "419351294:>                                                         (0 + 1) / 1]\n",
      "418382334\n",
      "419351294\n",
      "418382334\n",
      "418593534\n",
      "                                                                                \r"
     ]
    },
    {
     "name": "stdout",
     "output_type": "stream",
     "text": [
      "-------------------------------------------\n",
      "Batch: 53\n",
      "-------------------------------------------\n",
      "+-----------+------+-------------+---+-------------------------+-------------+-----+------------+\n",
      "|topic      |bus_id|can_id       |dlc|data                     |timestamp    |value|message_name|\n",
      "+-----------+------+-------------+---+-------------------------+-------------+-----+------------+\n",
      "|canbus_test|bus_37|[18 FE CA 2F]|8  |[F3 FF 00 00 00 00 FF FF]|1684318471950|null |DM1         |\n",
      "|canbus_test|bus_34|[18 F0 01 17]|8  |[FF FF FF FF FF FF FF F7]|1684317822144|null |EBC1        |\n",
      "|canbus_test|bus_35|[18 FE CA 2F]|8  |[F3 FF 00 00 00 00 FF FF]|1684318694383|null |DM1         |\n",
      "|canbus_test|bus_36|[18 F0 01 0B]|8  |[00 00 F3 FF FF 01 FF F7]|1684317994380|null |EBC1        |\n",
      "|canbus_test|bus_33|[18 F3 3A 00]|8  |[49 00 47 37 00 44 FF FF]|1684317209361|null |null        |\n",
      "+-----------+------+-------------+---+-------------------------+-------------+-----+------------+\n",
      "\n",
      "23/05/17 18:46:15 WARN KafkaDataConsumer: KafkaDataConsumer is not running in UninterruptibleThread. It may hang when KafkaDataConsumer's methods are interrupted because of KAFKA-1894\n",
      "23/05/17 18:46:15 WARN KafkaDataConsumer: KafkaDataConsumer is not running in UninterruptibleThread. It may hang when KafkaDataConsumer's methods are interrupted because of KAFKA-1894\n",
      "23/05/17 18:46:15 WARN KafkaDataConsumer: KafkaDataConsumer is not running in UninterruptibleThread. It may hang when KafkaDataConsumer's methods are interrupted because of KAFKA-1894\n",
      "23/05/17 18:46:15 WARN KafkaDataConsumer: KafkaDataConsumer is not running in UninterruptibleThread. It may hang when KafkaDataConsumer's methods are interrupted because of KAFKA-1894\n",
      "23/05/17 18:46:16 WARN KafkaDataConsumer: KafkaDataConsumer is not running in UninterruptibleThread. It may hang when KafkaDataConsumer's methods are interrupted because of KAFKA-1894\n"
     ]
    },
    {
     "name": "stderr",
     "output_type": "stream",
     "text": [
      "419348478:>                                                         (0 + 1) / 1]\n",
      "419351294\n",
      "217055998\n",
      "418382334\n",
      "419351294\n",
      "                                                                                \r"
     ]
    },
    {
     "name": "stdout",
     "output_type": "stream",
     "text": [
      "-------------------------------------------\n",
      "Batch: 54\n",
      "-------------------------------------------\n",
      "+-----------+------+-------------+---+-------------------------+-------------+-----+------------+\n",
      "|topic      |bus_id|can_id       |dlc|data                     |timestamp    |value|message_name|\n",
      "+-----------+------+-------------+---+-------------------------+-------------+-----+------------+\n",
      "|canbus_test|bus_37|[18 FE BF 0B]|8  |[00 00 7D 7D 7D 7D FF FF]|1684318472966|null |EBC2        |\n",
      "|canbus_test|bus_34|[18 FE CA 2F]|8  |[F3 FF 00 00 00 00 FF FF]|1684317824170|null |DM1         |\n",
      "|canbus_test|bus_35|[0C F0 02 03]|8  |[CD FF FE FF FF FF FF FF]|1684318695416|null |ETC1        |\n",
      "|canbus_test|bus_36|[18 F0 01 0B]|8  |[00 00 F3 FF FF 01 FF F7]|1684317995388|null |EBC1        |\n",
      "|canbus_test|bus_33|[18 FE CA 2F]|8  |[F3 FF 00 00 00 00 FF FF]|1684317210371|null |DM1         |\n",
      "+-----------+------+-------------+---+-------------------------+-------------+-----+------------+\n",
      "\n",
      "23/05/17 18:46:16 WARN KafkaDataConsumer: KafkaDataConsumer is not running in UninterruptibleThread. It may hang when KafkaDataConsumer's methods are interrupted because of KAFKA-1894\n",
      "23/05/17 18:46:16 WARN KafkaDataConsumer: KafkaDataConsumer is not running in UninterruptibleThread. It may hang when KafkaDataConsumer's methods are interrupted because of KAFKA-1894\n",
      "23/05/17 18:46:16 WARN KafkaDataConsumer: KafkaDataConsumer is not running in UninterruptibleThread. It may hang when KafkaDataConsumer's methods are interrupted because of KAFKA-1894\n",
      "23/05/17 18:46:16 WARN KafkaDataConsumer: KafkaDataConsumer is not running in UninterruptibleThread. It may hang when KafkaDataConsumer's methods are interrupted because of KAFKA-1894\n",
      "23/05/17 18:46:17 WARN KafkaDataConsumer: KafkaDataConsumer is not running in UninterruptibleThread. It may hang when KafkaDataConsumer's methods are interrupted because of KAFKA-1894\n"
     ]
    },
    {
     "name": "stderr",
     "output_type": "stream",
     "text": [
      "\r",
      "[Stage 55:>                                                         (0 + 1) / 1]\r",
      "418382334\n",
      "217055998\n",
      "418382334\n",
      "217056254\n",
      "419348478\n"
     ]
    },
    {
     "name": "stdout",
     "output_type": "stream",
     "text": [
      "-------------------------------------------\n",
      "Batch: 55\n",
      "-------------------------------------------\n",
      "+-----------+------+-------------+---+-------------------------+-------------+-----+------------+\n",
      "|topic      |bus_id|can_id       |dlc|data                     |timestamp    |value|message_name|\n",
      "+-----------+------+-------------+---+-------------------------+-------------+-----+------------+\n",
      "|canbus_test|bus_37|[18 F0 01 0B]|8  |[00 00 F3 FF FF 01 FF F7]|1684318473980|null |EBC1        |\n",
      "|canbus_test|bus_34|[0C F0 02 03]|8  |[CD FF FE FF FF FF FF FF]|1684317825180|null |ETC1        |\n",
      "|canbus_test|bus_35|[18 F0 01 0B]|8  |[00 00 F3 FF FF 01 FF F7]|1684318696418|null |EBC1        |\n",
      "|canbus_test|bus_36|[0C F0 03 00]|8  |[FD 00 FF FF FF FF FF FF]|1684317996393|null |EEC2        |\n",
      "|canbus_test|bus_33|[18 FE BF 0B]|8  |[00 00 7D 7D 7D 7D FF FF]|1684317211363|null |EBC2        |\n",
      "+-----------+------+-------------+---+-------------------------+-------------+-----+------------+\n",
      "\n"
     ]
    },
    {
     "name": "stderr",
     "output_type": "stream",
     "text": [
      "\r",
      "                                                                                \r"
     ]
    },
    {
     "name": "stdout",
     "output_type": "stream",
     "text": [
      "23/05/17 18:46:17 WARN KafkaDataConsumer: KafkaDataConsumer is not running in UninterruptibleThread. It may hang when KafkaDataConsumer's methods are interrupted because of KAFKA-1894\n",
      "23/05/17 18:46:17 WARN KafkaDataConsumer: KafkaDataConsumer is not running in UninterruptibleThread. It may hang when KafkaDataConsumer's methods are interrupted because of KAFKA-1894\n",
      "23/05/17 18:46:17 WARN KafkaDataConsumer: KafkaDataConsumer is not running in UninterruptibleThread. It may hang when KafkaDataConsumer's methods are interrupted because of KAFKA-1894\n",
      "23/05/17 18:46:18 WARN KafkaDataConsumer: KafkaDataConsumer is not running in UninterruptibleThread. It may hang when KafkaDataConsumer's methods are interrupted because of KAFKA-1894\n",
      "23/05/17 18:46:18 WARN KafkaDataConsumer: KafkaDataConsumer is not running in UninterruptibleThread. It may hang when KafkaDataConsumer's methods are interrupted because of KAFKA-1894\n"
     ]
    },
    {
     "name": "stderr",
     "output_type": "stream",
     "text": [
      "\r",
      "[Stage 56:>                                                         (0 + 1) / 1]\r",
      "418382334\n",
      "419351294\n",
      "217055998\n",
      "419348478\n",
      "419348478\n"
     ]
    },
    {
     "name": "stdout",
     "output_type": "stream",
     "text": [
      "-------------------------------------------\n",
      "Batch: 56\n",
      "-------------------------------------------\n",
      "+-----------+------+-------------+---+-------------------------+-------------+-----+------------+\n",
      "|topic      |bus_id|can_id       |dlc|data                     |timestamp    |value|message_name|\n",
      "+-----------+------+-------------+---+-------------------------+-------------+-----+------------+\n",
      "|canbus_test|bus_37|[18 F0 01 0B]|8  |[00 00 F3 FF FF 01 FF F7]|1684318474998|null |EBC1        |\n",
      "|canbus_test|bus_34|[18 FE CA 2F]|8  |[F3 FF 00 00 00 00 FF FF]|1684317826223|null |DM1         |\n",
      "|canbus_test|bus_35|[0C F0 02 03]|8  |[CD FF FE FF FF FF FF FF]|1684318697417|null |ETC1        |\n",
      "|canbus_test|bus_36|[18 FE BF 0B]|8  |[00 00 7D 7D 7D 7D FF FF]|1684317997398|null |EBC2        |\n",
      "|canbus_test|bus_33|[18 FE BF 0B]|8  |[00 00 7D 7D 7D 7D FF FF]|1684317212378|null |EBC2        |\n",
      "+-----------+------+-------------+---+-------------------------+-------------+-----+------------+\n",
      "\n"
     ]
    },
    {
     "name": "stderr",
     "output_type": "stream",
     "text": [
      "\r",
      "                                                                                \r"
     ]
    },
    {
     "name": "stdout",
     "output_type": "stream",
     "text": [
      "23/05/17 18:46:18 WARN KafkaDataConsumer: KafkaDataConsumer is not running in UninterruptibleThread. It may hang when KafkaDataConsumer's methods are interrupted because of KAFKA-1894\n",
      "23/05/17 18:46:18 WARN KafkaDataConsumer: KafkaDataConsumer is not running in UninterruptibleThread. It may hang when KafkaDataConsumer's methods are interrupted because of KAFKA-1894\n",
      "23/05/17 18:46:18 WARN KafkaDataConsumer: KafkaDataConsumer is not running in UninterruptibleThread. It may hang when KafkaDataConsumer's methods are interrupted because of KAFKA-1894\n",
      "23/05/17 18:46:19 WARN KafkaDataConsumer: KafkaDataConsumer is not running in UninterruptibleThread. It may hang when KafkaDataConsumer's methods are interrupted because of KAFKA-1894\n",
      "23/05/17 18:46:19 WARN KafkaDataConsumer: KafkaDataConsumer is not running in UninterruptibleThread. It may hang when KafkaDataConsumer's methods are interrupted because of KAFKA-1894\n"
     ]
    },
    {
     "name": "stderr",
     "output_type": "stream",
     "text": [
      "\r",
      "[Stage 57:>                                                         (0 + 1) / 1]\r",
      "418382334\n",
      "419351294\n",
      "419373310\n",
      "419348478\n",
      "419174142\n",
      "\r",
      "                                                                                \r"
     ]
    },
    {
     "name": "stdout",
     "output_type": "stream",
     "text": [
      "-------------------------------------------\n",
      "Batch: 57\n",
      "-------------------------------------------\n",
      "+-----------+------+-------------+---+-------------------------+-------------+-----+------------+\n",
      "|topic      |bus_id|can_id       |dlc|data                     |timestamp    |value|message_name|\n",
      "+-----------+------+-------------+---+-------------------------+-------------+-----+------------+\n",
      "|canbus_test|bus_37|[18 F0 01 0B]|8  |[00 00 F3 FF FF 01 FF F7]|1684318476008|null |EBC1        |\n",
      "|canbus_test|bus_34|[18 FE CA 2F]|8  |[F3 FF 00 00 00 00 FF FF]|1684317827237|null |DM1         |\n",
      "|canbus_test|bus_35|[18 FF 20 EF]|8  |[F0 7D 00 00 7D EF FF 7D]|1684318698414|null |null        |\n",
      "|canbus_test|bus_36|[18 FE BF 0B]|8  |[00 00 7D 7D 7D 7D FF FF]|1684317998401|null |EBC2        |\n",
      "|canbus_test|bus_33|[18 FC 16 21]|8  |[03 C7 00 00 72 02 FF 41]|1684317213382|null |null        |\n",
      "+-----------+------+-------------+---+-------------------------+-------------+-----+------------+\n",
      "\n",
      "23/05/17 18:46:19 WARN KafkaDataConsumer: KafkaDataConsumer is not running in UninterruptibleThread. It may hang when KafkaDataConsumer's methods are interrupted because of KAFKA-1894\n",
      "23/05/17 18:46:19 WARN KafkaDataConsumer: KafkaDataConsumer is not running in UninterruptibleThread. It may hang when KafkaDataConsumer's methods are interrupted because of KAFKA-1894\n",
      "23/05/17 18:46:19 WARN KafkaDataConsumer: KafkaDataConsumer is not running in UninterruptibleThread. It may hang when KafkaDataConsumer's methods are interrupted because of KAFKA-1894\n",
      "23/05/17 18:46:20 WARN KafkaDataConsumer: KafkaDataConsumer is not running in UninterruptibleThread. It may hang when KafkaDataConsumer's methods are interrupted because of KAFKA-1894\n",
      "23/05/17 18:46:20 WARN KafkaDataConsumer: KafkaDataConsumer is not running in UninterruptibleThread. It may hang when KafkaDataConsumer's methods are interrupted because of KAFKA-1894\n"
     ]
    },
    {
     "name": "stderr",
     "output_type": "stream",
     "text": [
      "419348478:>                                                         (0 + 1) / 1]\n",
      "419351294\n",
      "419348478\n",
      "419170302\n",
      "217055998\n",
      "                                                                                \r"
     ]
    },
    {
     "name": "stdout",
     "output_type": "stream",
     "text": [
      "-------------------------------------------\n",
      "Batch: 58\n",
      "-------------------------------------------\n",
      "+-----------+------+-------------+---+-------------------------+-------------+-----+------------+\n",
      "|topic      |bus_id|can_id       |dlc|data                     |timestamp    |value|message_name|\n",
      "+-----------+------+-------------+---+-------------------------+-------------+-----+------------+\n",
      "|canbus_test|bus_37|[18 FE BF 0B]|8  |[00 00 7D 7D 7D 7D FF FF]|1684318477017|null |EBC2        |\n",
      "|canbus_test|bus_34|[18 FE CA 2F]|8  |[F3 FF 00 00 00 00 FF FF]|1684317828258|null |DM1         |\n",
      "|canbus_test|bus_35|[18 FE BF 0B]|8  |[00 00 7D 7D 7D 7D FF FF]|1684318699412|null |EBC2        |\n",
      "|canbus_test|bus_36|[18 FC 07 F4]|8  |[CC 09 59 07 8B 02 61 5B]|1684317999406|null |null        |\n",
      "|canbus_test|bus_33|[0C F0 02 03]|8  |[CD FF FE FF FF FF FF FF]|1684317214395|null |ETC1        |\n",
      "+-----------+------+-------------+---+-------------------------+-------------+-----+------------+\n",
      "\n",
      "23/05/17 18:46:20 WARN KafkaDataConsumer: KafkaDataConsumer is not running in UninterruptibleThread. It may hang when KafkaDataConsumer's methods are interrupted because of KAFKA-1894\n",
      "23/05/17 18:46:20 WARN KafkaDataConsumer: KafkaDataConsumer is not running in UninterruptibleThread. It may hang when KafkaDataConsumer's methods are interrupted because of KAFKA-1894\n",
      "23/05/17 18:46:20 WARN KafkaDataConsumer: KafkaDataConsumer is not running in UninterruptibleThread. It may hang when KafkaDataConsumer's methods are interrupted because of KAFKA-1894\n",
      "23/05/17 18:46:20 WARN KafkaDataConsumer: KafkaDataConsumer is not running in UninterruptibleThread. It may hang when KafkaDataConsumer's methods are interrupted because of KAFKA-1894\n",
      "23/05/17 18:46:21 WARN KafkaDataConsumer: KafkaDataConsumer is not running in UninterruptibleThread. It may hang when KafkaDataConsumer's methods are interrupted because of KAFKA-1894\n"
     ]
    },
    {
     "name": "stderr",
     "output_type": "stream",
     "text": [
      "\r",
      "[Stage 59:>                                                         (0 + 1) / 1]\r",
      "419170814\n",
      "419169534\n",
      "418382078\n",
      "419348478\n",
      "418382334\n",
      "\r",
      "                                                                                \r"
     ]
    },
    {
     "name": "stdout",
     "output_type": "stream",
     "text": [
      "-------------------------------------------\n",
      "Batch: 59\n",
      "-------------------------------------------\n",
      "+-----------+------+-------------+---+-------------------------+-------------+-----+------------+\n",
      "|topic      |bus_id|can_id       |dlc|data                     |timestamp    |value|message_name|\n",
      "+-----------+------+-------------+---+-------------------------+-------------+-----+------------+\n",
      "|canbus_test|bus_37|[18 FC 09 F4]|8  |[2F 00 00 00 96 96 FE 25]|1684318478017|null |null        |\n",
      "|canbus_test|bus_34|[18 FC 04 F4]|8  |[84 01 05 3A 40 41 D5 62]|1684317829272|null |null        |\n",
      "|canbus_test|bus_35|[18 F0 00 10]|8  |[FF 7D FF FF FF FF FF 7D]|1684318700417|null |ERC1        |\n",
      "|canbus_test|bus_36|[18 FE BF 0B]|8  |[00 00 7D 7D 7D 7D FF FF]|1684318000406|null |EBC2        |\n",
      "|canbus_test|bus_33|[18 F0 01 0B]|8  |[00 00 F3 FF FF 01 FF F7]|1684317215397|null |EBC1        |\n",
      "+-----------+------+-------------+---+-------------------------+-------------+-----+------------+\n",
      "\n",
      "23/05/17 18:46:21 WARN KafkaDataConsumer: KafkaDataConsumer is not running in UninterruptibleThread. It may hang when KafkaDataConsumer's methods are interrupted because of KAFKA-1894\n",
      "23/05/17 18:46:21 WARN KafkaDataConsumer: KafkaDataConsumer is not running in UninterruptibleThread. It may hang when KafkaDataConsumer's methods are interrupted because of KAFKA-1894\n",
      "23/05/17 18:46:21 WARN KafkaDataConsumer: KafkaDataConsumer is not running in UninterruptibleThread. It may hang when KafkaDataConsumer's methods are interrupted because of KAFKA-1894\n",
      "23/05/17 18:46:22 WARN KafkaDataConsumer: KafkaDataConsumer is not running in UninterruptibleThread. It may hang when KafkaDataConsumer's methods are interrupted because of KAFKA-1894\n",
      "23/05/17 18:46:22 WARN KafkaDataConsumer: KafkaDataConsumer is not running in UninterruptibleThread. It may hang when KafkaDataConsumer's methods are interrupted because of KAFKA-1894\n"
     ]
    },
    {
     "name": "stderr",
     "output_type": "stream",
     "text": [
      "217996030:>                                                         (0 + 1) / 1]\n",
      "150892286\n",
      "418382334\n",
      "419319806\n",
      "419351294\n",
      "                                                                                \r"
     ]
    },
    {
     "name": "stdout",
     "output_type": "stream",
     "text": [
      "-------------------------------------------\n",
      "Batch: 60\n",
      "-------------------------------------------\n",
      "+-----------+------+-------------+---+-------------------------+-------------+-----+------------+\n",
      "|topic      |bus_id|can_id       |dlc|data                     |timestamp    |value|message_name|\n",
      "+-----------+------+-------------+---+-------------------------+-------------+-----+------------+\n",
      "|canbus_test|bus_37|[0C FE 5A 2F]|8  |[11 00 00 00 D3 F5 FF F0]|1684318479023|null |ASC1        |\n",
      "|canbus_test|bus_34|[08 FE 6E 0B]|8  |[00 00 00 00 00 00 00 00]|1684317830319|null |HRW         |\n",
      "|canbus_test|bus_35|[18 F0 01 0B]|8  |[00 00 F3 FF FF 01 FF F7]|1684318701459|null |EBC1        |\n",
      "|canbus_test|bus_36|[18 FE 4F 0B]|8  |[FF FF FF FF FF FF FF FF]|1684318001406|null |VDC1        |\n",
      "|canbus_test|bus_33|[18 FE CA 2F]|8  |[F3 FF 00 00 00 00 FF FF]|1684317216392|null |DM1         |\n",
      "+-----------+------+-------------+---+-------------------------+-------------+-----+------------+\n",
      "\n",
      "23/05/17 18:46:22 WARN KafkaDataConsumer: KafkaDataConsumer is not running in UninterruptibleThread. It may hang when KafkaDataConsumer's methods are interrupted because of KAFKA-1894\n",
      "23/05/17 18:46:22 WARN KafkaDataConsumer: KafkaDataConsumer is not running in UninterruptibleThread. It may hang when KafkaDataConsumer's methods are interrupted because of KAFKA-1894\n",
      "23/05/17 18:46:22 WARN KafkaDataConsumer: KafkaDataConsumer is not running in UninterruptibleThread. It may hang when KafkaDataConsumer's methods are interrupted because of KAFKA-1894\n",
      "23/05/17 18:46:23 WARN KafkaDataConsumer: KafkaDataConsumer is not running in UninterruptibleThread. It may hang when KafkaDataConsumer's methods are interrupted because of KAFKA-1894\n",
      "23/05/17 18:46:23 WARN KafkaDataConsumer: KafkaDataConsumer is not running in UninterruptibleThread. It may hang when KafkaDataConsumer's methods are interrupted because of KAFKA-1894\n"
     ]
    },
    {
     "name": "stderr",
     "output_type": "stream",
     "text": [
      "419170302:>                                                         (0 + 1) / 1]\n",
      "419351294\n",
      "419351294\n",
      "418382334\n",
      "419351294\n",
      "                                                                                \r"
     ]
    },
    {
     "name": "stdout",
     "output_type": "stream",
     "text": [
      "-------------------------------------------\n",
      "Batch: 61\n",
      "-------------------------------------------\n",
      "+-----------+------+-------------+---+-------------------------+-------------+-----+------------+\n",
      "|topic      |bus_id|can_id       |dlc|data                     |timestamp    |value|message_name|\n",
      "+-----------+------+-------------+---+-------------------------+-------------+-----+------------+\n",
      "|canbus_test|bus_37|[18 FC 07 F4]|8  |[CC 09 59 07 8A 02 60 5D]|1684318480028|null |null        |\n",
      "|canbus_test|bus_34|[18 FE CA 2F]|8  |[F3 FF 00 00 00 00 FF FF]|1684317831331|null |DM1         |\n",
      "|canbus_test|bus_35|[18 FE CA 2F]|8  |[F3 FF 00 00 00 00 FF FF]|1684318702477|null |DM1         |\n",
      "|canbus_test|bus_36|[18 F0 01 0B]|8  |[00 00 F3 FF FF 01 FF F7]|1684318002414|null |EBC1        |\n",
      "|canbus_test|bus_33|[18 FE CA 2F]|8  |[F3 FF 00 00 00 00 FF FF]|1684317217389|null |DM1         |\n",
      "+-----------+------+-------------+---+-------------------------+-------------+-----+------------+\n",
      "\n",
      "23/05/17 18:46:23 WARN KafkaDataConsumer: KafkaDataConsumer is not running in UninterruptibleThread. It may hang when KafkaDataConsumer's methods are interrupted because of KAFKA-1894\n",
      "23/05/17 18:46:23 WARN KafkaDataConsumer: KafkaDataConsumer is not running in UninterruptibleThread. It may hang when KafkaDataConsumer's methods are interrupted because of KAFKA-1894\n",
      "23/05/17 18:46:23 WARN KafkaDataConsumer: KafkaDataConsumer is not running in UninterruptibleThread. It may hang when KafkaDataConsumer's methods are interrupted because of KAFKA-1894\n",
      "23/05/17 18:46:24 WARN KafkaDataConsumer: KafkaDataConsumer is not running in UninterruptibleThread. It may hang when KafkaDataConsumer's methods are interrupted because of KAFKA-1894\n",
      "23/05/17 18:46:24 WARN KafkaDataConsumer: KafkaDataConsumer is not running in UninterruptibleThread. It may hang when KafkaDataConsumer's methods are interrupted because of KAFKA-1894\n"
     ]
    },
    {
     "name": "stderr",
     "output_type": "stream",
     "text": [
      "418383358:>                                                         (0 + 1) / 1]\n",
      "419094782\n",
      "418382334\n",
      "419351294\n",
      "418382334\n",
      "                                                                                \r"
     ]
    },
    {
     "name": "stdout",
     "output_type": "stream",
     "text": [
      "-------------------------------------------\n",
      "Batch: 62\n",
      "-------------------------------------------\n",
      "+-----------+------+-------------+---+-------------------------+-------------+-----+------------+\n",
      "|topic      |bus_id|can_id       |dlc|data                     |timestamp    |value|message_name|\n",
      "+-----------+------+-------------+---+-------------------------+-------------+-----+------------+\n",
      "|canbus_test|bus_37|[18 F0 05 03]|8  |[FF FF FF 7D FF FF FF FF]|1684318481056|null |ETC2        |\n",
      "|canbus_test|bus_34|[18 FA E0 21]|8  |[FF FF FF 05 DC 13 F1 FF]|1684317832348|null |null        |\n",
      "|canbus_test|bus_35|[18 F0 01 0B]|8  |[00 00 F3 FF FF 01 FF F7]|1684318703489|null |EBC1        |\n",
      "|canbus_test|bus_36|[18 FE CA 2F]|8  |[F3 FF 00 00 00 00 FF FF]|1684318003419|null |DM1         |\n",
      "|canbus_test|bus_33|[18 F0 01 0B]|8  |[00 00 F3 FF FF 01 FF F7]|1684317218390|null |EBC1        |\n",
      "+-----------+------+-------------+---+-------------------------+-------------+-----+------------+\n",
      "\n",
      "23/05/17 18:46:24 WARN KafkaDataConsumer: KafkaDataConsumer is not running in UninterruptibleThread. It may hang when KafkaDataConsumer's methods are interrupted because of KAFKA-1894\n",
      "23/05/17 18:46:24 WARN KafkaDataConsumer: KafkaDataConsumer is not running in UninterruptibleThread. It may hang when KafkaDataConsumer's methods are interrupted because of KAFKA-1894\n",
      "23/05/17 18:46:24 WARN KafkaDataConsumer: KafkaDataConsumer is not running in UninterruptibleThread. It may hang when KafkaDataConsumer's methods are interrupted because of KAFKA-1894\n",
      "23/05/17 18:46:25 WARN KafkaDataConsumer: KafkaDataConsumer is not running in UninterruptibleThread. It may hang when KafkaDataConsumer's methods are interrupted because of KAFKA-1894\n",
      "23/05/17 18:46:25 WARN KafkaDataConsumer: KafkaDataConsumer is not running in UninterruptibleThread. It may hang when KafkaDataConsumer's methods are interrupted because of KAFKA-1894\n"
     ]
    },
    {
     "name": "stderr",
     "output_type": "stream",
     "text": [
      "418382334:>                                                         (0 + 1) / 1]\n",
      "217055998\n",
      "217055998\n",
      "419348478\n",
      "419348478\n",
      "                                                                                \r"
     ]
    },
    {
     "name": "stdout",
     "output_type": "stream",
     "text": [
      "-------------------------------------------\n",
      "Batch: 63\n",
      "-------------------------------------------\n",
      "+-----------+------+-------------+---+-------------------------+-------------+-----+------------+\n",
      "|topic      |bus_id|can_id       |dlc|data                     |timestamp    |value|message_name|\n",
      "+-----------+------+-------------+---+-------------------------+-------------+-----+------------+\n",
      "|canbus_test|bus_37|[18 F0 01 0B]|8  |[00 00 F3 FF FF 01 FF F7]|1684318482058|null |EBC1        |\n",
      "|canbus_test|bus_34|[0C F0 02 03]|8  |[CD FF FE FF FF FF FF FF]|1684317833390|null |ETC1        |\n",
      "|canbus_test|bus_35|[0C F0 02 03]|8  |[CD FF FE FF FF FF FF FF]|1684318704497|null |ETC1        |\n",
      "|canbus_test|bus_36|[18 FE BF 0B]|8  |[00 00 7D 7D 7D 7D FF FF]|1684318004415|null |EBC2        |\n",
      "|canbus_test|bus_33|[18 FE BF 0B]|8  |[00 00 7D 7D 7D 7D FF FF]|1684317220406|null |EBC2        |\n",
      "+-----------+------+-------------+---+-------------------------+-------------+-----+------------+\n",
      "\n",
      "23/05/17 18:46:25 WARN KafkaDataConsumer: KafkaDataConsumer is not running in UninterruptibleThread. It may hang when KafkaDataConsumer's methods are interrupted because of KAFKA-1894\n",
      "23/05/17 18:46:25 WARN KafkaDataConsumer: KafkaDataConsumer is not running in UninterruptibleThread. It may hang when KafkaDataConsumer's methods are interrupted because of KAFKA-1894\n",
      "23/05/17 18:46:25 WARN KafkaDataConsumer: KafkaDataConsumer is not running in UninterruptibleThread. It may hang when KafkaDataConsumer's methods are interrupted because of KAFKA-1894\n",
      "23/05/17 18:46:26 WARN KafkaDataConsumer: KafkaDataConsumer is not running in UninterruptibleThread. It may hang when KafkaDataConsumer's methods are interrupted because of KAFKA-1894\n",
      "23/05/17 18:46:26 WARN KafkaDataConsumer: KafkaDataConsumer is not running in UninterruptibleThread. It may hang when KafkaDataConsumer's methods are interrupted because of KAFKA-1894\n"
     ]
    },
    {
     "name": "stderr",
     "output_type": "stream",
     "text": [
      "418583294:>                                                         (0 + 1) / 1]\n",
      "419373310\n",
      "419348478\n",
      "419343870\n",
      "418382334\n",
      "                                                                                \r"
     ]
    },
    {
     "name": "stdout",
     "output_type": "stream",
     "text": [
      "-------------------------------------------\n",
      "Batch: 64\n",
      "-------------------------------------------\n",
      "+-----------+------+-------------+---+-------------------------+-------------+-----+------------+\n",
      "|topic      |bus_id|can_id       |dlc|data                     |timestamp    |value|message_name|\n",
      "+-----------+------+-------------+---+-------------------------+-------------+-----+------------+\n",
      "|canbus_test|bus_37|[18 F3 12 00]|8  |[4B 4B FF 4B FF FF FF 9F]|1684318483060|null |null        |\n",
      "|canbus_test|bus_34|[18 FF 20 EF]|8  |[F0 7D 00 00 7D EF FF 7D]|1684317834393|null |null        |\n",
      "|canbus_test|bus_35|[18 FE BF 0B]|8  |[00 00 7D 7D 7D 7D FF FF]|1684318705494|null |EBC2        |\n",
      "|canbus_test|bus_33|[18 FE AD 0B]|8  |[00 00 00 00 FE FE FF FF]|1684317221408|null |EBC3        |\n",
      "|canbus_test|bus_36|[18 F0 01 0B]|8  |[00 00 F3 FF FF 01 FF F7]|1684318005416|null |EBC1        |\n",
      "+-----------+------+-------------+---+-------------------------+-------------+-----+------------+\n",
      "\n",
      "23/05/17 18:46:26 WARN KafkaDataConsumer: KafkaDataConsumer is not running in UninterruptibleThread. It may hang when KafkaDataConsumer's methods are interrupted because of KAFKA-1894\n",
      "23/05/17 18:46:26 WARN KafkaDataConsumer: KafkaDataConsumer is not running in UninterruptibleThread. It may hang when KafkaDataConsumer's methods are interrupted because of KAFKA-1894\n",
      "23/05/17 18:46:26 WARN KafkaDataConsumer: KafkaDataConsumer is not running in UninterruptibleThread. It may hang when KafkaDataConsumer's methods are interrupted because of KAFKA-1894\n",
      "23/05/17 18:46:27 WARN KafkaDataConsumer: KafkaDataConsumer is not running in UninterruptibleThread. It may hang when KafkaDataConsumer's methods are interrupted because of KAFKA-1894\n",
      "23/05/17 18:46:27 WARN KafkaDataConsumer: KafkaDataConsumer is not running in UninterruptibleThread. It may hang when KafkaDataConsumer's methods are interrupted because of KAFKA-1894\n"
     ]
    },
    {
     "name": "stderr",
     "output_type": "stream",
     "text": [
      "418382334:>                                                         (0 + 1) / 1]\n",
      "419343870\n",
      "419351294\n",
      "419351294\n",
      "217055998\n",
      "                                                                                \r"
     ]
    },
    {
     "name": "stdout",
     "output_type": "stream",
     "text": [
      "-------------------------------------------\n",
      "Batch: 65\n",
      "-------------------------------------------\n",
      "+-----------+------+-------------+---+-------------------------+-------------+-----+------------+\n",
      "|topic      |bus_id|can_id       |dlc|data                     |timestamp    |value|message_name|\n",
      "+-----------+------+-------------+---+-------------------------+-------------+-----+------------+\n",
      "|canbus_test|bus_37|[18 F0 01 0B]|8  |[00 00 F3 FF FF 01 FF F7]|1684318484074|null |EBC1        |\n",
      "|canbus_test|bus_34|[18 FE AD 0B]|8  |[00 00 00 00 FE FE FF FF]|1684317835405|null |EBC3        |\n",
      "|canbus_test|bus_35|[18 FE CA 2F]|8  |[F3 FF 00 00 00 00 FF FF]|1684318706496|null |DM1         |\n",
      "|canbus_test|bus_36|[18 FE CA 2F]|8  |[F3 FF 00 00 00 00 FF FF]|1684318006416|null |DM1         |\n",
      "|canbus_test|bus_33|[0C F0 02 03]|8  |[CD FF FE FF FF FF FF FF]|1684317222415|null |ETC1        |\n",
      "+-----------+------+-------------+---+-------------------------+-------------+-----+------------+\n",
      "\n",
      "23/05/17 18:46:27 WARN KafkaDataConsumer: KafkaDataConsumer is not running in UninterruptibleThread. It may hang when KafkaDataConsumer's methods are interrupted because of KAFKA-1894\n",
      "23/05/17 18:46:27 WARN KafkaDataConsumer: KafkaDataConsumer is not running in UninterruptibleThread. It may hang when KafkaDataConsumer's methods are interrupted because of KAFKA-1894\n",
      "23/05/17 18:46:27 WARN KafkaDataConsumer: KafkaDataConsumer is not running in UninterruptibleThread. It may hang when KafkaDataConsumer's methods are interrupted because of KAFKA-1894\n",
      "23/05/17 18:46:27 WARN KafkaDataConsumer: KafkaDataConsumer is not running in UninterruptibleThread. It may hang when KafkaDataConsumer's methods are interrupted because of KAFKA-1894\n",
      "23/05/17 18:46:28 WARN KafkaDataConsumer: KafkaDataConsumer is not running in UninterruptibleThread. It may hang when KafkaDataConsumer's methods are interrupted because of KAFKA-1894\n"
     ]
    },
    {
     "name": "stderr",
     "output_type": "stream",
     "text": [
      "\r",
      "[Stage 66:>                                                         (0 + 1) / 1]\r",
      "418583550\n",
      "419348478\n",
      "150892286\n",
      "419319806\n",
      "419351294\n",
      "\r",
      "                                                                                \r"
     ]
    },
    {
     "name": "stdout",
     "output_type": "stream",
     "text": [
      "-------------------------------------------\n",
      "Batch: 66\n",
      "-------------------------------------------\n",
      "+-----------+------+-------------+---+-------------------------+-------------+-----+------------+\n",
      "|topic      |bus_id|can_id       |dlc|data                     |timestamp    |value|message_name|\n",
      "+-----------+------+-------------+---+-------------------------+-------------+-----+------------+\n",
      "|canbus_test|bus_37|[18 F3 13 00]|8  |[0E 00 48 45 48 48 46 48]|1684318485084|null |null        |\n",
      "|canbus_test|bus_34|[18 FE BF 0B]|8  |[00 00 7D 7D 7D 7D FF FF]|1684317836408|null |EBC2        |\n",
      "|canbus_test|bus_35|[08 FE 6E 0B]|8  |[00 00 00 00 00 00 00 00]|1684318707506|null |HRW         |\n",
      "|canbus_test|bus_36|[18 FE 4F 0B]|8  |[FF FF FF FF FF FF FF FF]|1684318007408|null |VDC1        |\n",
      "|canbus_test|bus_33|[18 FE CA 2F]|8  |[F3 FF 00 00 00 00 FF FF]|1684317223410|null |DM1         |\n",
      "+-----------+------+-------------+---+-------------------------+-------------+-----+------------+\n",
      "\n",
      "23/05/17 18:46:29 WARN KafkaDataConsumer: KafkaDataConsumer is not running in UninterruptibleThread. It may hang when KafkaDataConsumer's methods are interrupted because of KAFKA-1894\n",
      "23/05/17 18:46:29 WARN KafkaDataConsumer: KafkaDataConsumer is not running in UninterruptibleThread. It may hang when KafkaDataConsumer's methods are interrupted because of KAFKA-1894\n",
      "23/05/17 18:46:29 WARN KafkaDataConsumer: KafkaDataConsumer is not running in UninterruptibleThread. It may hang when KafkaDataConsumer's methods are interrupted because of KAFKA-1894\n",
      "23/05/17 18:46:29 WARN KafkaDataConsumer: KafkaDataConsumer is not running in UninterruptibleThread. It may hang when KafkaDataConsumer's methods are interrupted because of KAFKA-1894\n",
      "23/05/17 18:46:29 WARN KafkaDataConsumer: KafkaDataConsumer is not running in UninterruptibleThread. It may hang when KafkaDataConsumer's methods are interrupted because of KAFKA-1894\n"
     ]
    },
    {
     "name": "stderr",
     "output_type": "stream",
     "text": [
      "\r",
      "[Stage 67:>                                                         (0 + 1) / 1]\r",
      "418382334\n",
      "419348478\n",
      "217055998\n",
      "419351294\n",
      "418382334\n",
      "\r",
      "                                                                                \r"
     ]
    },
    {
     "name": "stdout",
     "output_type": "stream",
     "text": [
      "-------------------------------------------\n",
      "Batch: 67\n",
      "-------------------------------------------\n",
      "+-----------+------+-------------+---+-------------------------+-------------+-----+------------+\n",
      "|topic      |bus_id|can_id       |dlc|data                     |timestamp    |value|message_name|\n",
      "+-----------+------+-------------+---+-------------------------+-------------+-----+------------+\n",
      "|canbus_test|bus_37|[18 F0 01 0B]|8  |[00 00 F3 FF FF 01 FF F7]|1684318486104|null |EBC1        |\n",
      "|canbus_test|bus_34|[18 FE BF 0B]|8  |[00 00 7D 7D 7D 7D FF FF]|1684317837426|null |EBC2        |\n",
      "|canbus_test|bus_35|[0C F0 02 03]|8  |[CD FF FE FF FF FF FF FF]|1684318708508|null |ETC1        |\n",
      "|canbus_test|bus_36|[18 FE CA 2F]|8  |[F3 FF 00 00 00 00 FF FF]|1684318008416|null |DM1         |\n",
      "|canbus_test|bus_33|[18 F0 01 0B]|8  |[00 00 F3 FF FF 01 FF F7]|1684317224416|null |EBC1        |\n",
      "+-----------+------+-------------+---+-------------------------+-------------+-----+------------+\n",
      "\n",
      "23/05/17 18:46:29 WARN KafkaDataConsumer: KafkaDataConsumer is not running in UninterruptibleThread. It may hang when KafkaDataConsumer's methods are interrupted because of KAFKA-1894\n",
      "23/05/17 18:46:29 WARN KafkaDataConsumer: KafkaDataConsumer is not running in UninterruptibleThread. It may hang when KafkaDataConsumer's methods are interrupted because of KAFKA-1894\n",
      "23/05/17 18:46:29 WARN KafkaDataConsumer: KafkaDataConsumer is not running in UninterruptibleThread. It may hang when KafkaDataConsumer's methods are interrupted because of KAFKA-1894\n",
      "23/05/17 18:46:30 WARN KafkaDataConsumer: KafkaDataConsumer is not running in UninterruptibleThread. It may hang when KafkaDataConsumer's methods are interrupted because of KAFKA-1894\n",
      "23/05/17 18:46:30 WARN KafkaDataConsumer: KafkaDataConsumer is not running in UninterruptibleThread. It may hang when KafkaDataConsumer's methods are interrupted because of KAFKA-1894\n"
     ]
    },
    {
     "name": "stderr",
     "output_type": "stream",
     "text": [
      "418382334:>                                                         (0 + 1) / 1]\n",
      "418382334\n",
      "419320318\n",
      "419351294\n",
      "419348478\n",
      "                                                                                \r"
     ]
    },
    {
     "name": "stdout",
     "output_type": "stream",
     "text": [
      "-------------------------------------------\n",
      "Batch: 68\n",
      "-------------------------------------------\n",
      "+-----------+------+-------------+---+-------------------------+-------------+-----+------------+\n",
      "|topic      |bus_id|can_id       |dlc|data                     |timestamp    |value|message_name|\n",
      "+-----------+------+-------------+---+-------------------------+-------------+-----+------------+\n",
      "|canbus_test|bus_37|[18 F0 01 0B]|8  |[00 00 F3 FF FF 01 FF F7]|1684318487118|null |EBC1        |\n",
      "|canbus_test|bus_34|[18 F0 01 0B]|8  |[00 00 F3 FF FF 01 FF F7]|1684317838426|null |EBC1        |\n",
      "|canbus_test|bus_35|[18 FE 51 27]|8  |[7C FF FF FF FF FF FF FF]|1684318709508|null |ACC2        |\n",
      "|canbus_test|bus_36|[18 FE CA 2F]|8  |[F3 FF 00 00 00 00 FF FF]|1684318009419|null |DM1         |\n",
      "|canbus_test|bus_33|[18 FE BF 0B]|8  |[00 00 7D 7D 7D 7D FF FF]|1684317225426|null |EBC2        |\n",
      "+-----------+------+-------------+---+-------------------------+-------------+-----+------------+\n",
      "\n",
      "23/05/17 18:46:30 WARN KafkaDataConsumer: KafkaDataConsumer is not running in UninterruptibleThread. It may hang when KafkaDataConsumer's methods are interrupted because of KAFKA-1894\n",
      "23/05/17 18:46:31 WARN KafkaDataConsumer: KafkaDataConsumer is not running in UninterruptibleThread. It may hang when KafkaDataConsumer's methods are interrupted because of KAFKA-1894\n",
      "23/05/17 18:46:31 WARN KafkaDataConsumer: KafkaDataConsumer is not running in UninterruptibleThread. It may hang when KafkaDataConsumer's methods are interrupted because of KAFKA-1894\n",
      "23/05/17 18:46:31 WARN KafkaDataConsumer: KafkaDataConsumer is not running in UninterruptibleThread. It may hang when KafkaDataConsumer's methods are interrupted because of KAFKA-1894\n",
      "23/05/17 18:46:31 WARN KafkaDataConsumer: KafkaDataConsumer is not running in UninterruptibleThread. It may hang when KafkaDataConsumer's methods are interrupted because of KAFKA-1894\n"
     ]
    },
    {
     "name": "stderr",
     "output_type": "stream",
     "text": [
      "\r",
      "[Stage 69:>                                                         (0 + 1) / 1]\r",
      "419174398\n",
      "217055998\n",
      "418382334\n",
      "418382334\n",
      "217056254\n",
      "\r",
      "                                                                                \r"
     ]
    },
    {
     "name": "stdout",
     "output_type": "stream",
     "text": [
      "-------------------------------------------\n",
      "Batch: 69\n",
      "-------------------------------------------\n",
      "+-----------+------+-------------+---+-------------------------+-------------+-----+------------+\n",
      "|topic      |bus_id|can_id       |dlc|data                     |timestamp    |value|message_name|\n",
      "+-----------+------+-------------+---+-------------------------+-------------+-----+------------+\n",
      "|canbus_test|bus_37|[18 FC 17 21]|8  |[F8 2A 20 4E FF FF FE EE]|1684318488127|null |null        |\n",
      "|canbus_test|bus_34|[0C F0 02 03]|8  |[CD FF FE FF FF FF FF FF]|1684317839460|null |ETC1        |\n",
      "|canbus_test|bus_35|[18 F0 01 0B]|8  |[00 00 F3 FF FF 01 FF F7]|1684318710508|null |EBC1        |\n",
      "|canbus_test|bus_36|[18 F0 01 0B]|8  |[00 00 F3 FF FF 01 FF F7]|1684318010408|null |EBC1        |\n",
      "|canbus_test|bus_33|[0C F0 03 00]|8  |[FD 00 FF FF FF FF FF FF]|1684317226437|null |EEC2        |\n",
      "+-----------+------+-------------+---+-------------------------+-------------+-----+------------+\n",
      "\n",
      "23/05/17 18:46:31 WARN KafkaDataConsumer: KafkaDataConsumer is not running in UninterruptibleThread. It may hang when KafkaDataConsumer's methods are interrupted because of KAFKA-1894\n",
      "23/05/17 18:46:31 WARN KafkaDataConsumer: KafkaDataConsumer is not running in UninterruptibleThread. It may hang when KafkaDataConsumer's methods are interrupted because of KAFKA-1894\n",
      "23/05/17 18:46:31 WARN KafkaDataConsumer: KafkaDataConsumer is not running in UninterruptibleThread. It may hang when KafkaDataConsumer's methods are interrupted because of KAFKA-1894\n",
      "23/05/17 18:46:32 WARN KafkaDataConsumer: KafkaDataConsumer is not running in UninterruptibleThread. It may hang when KafkaDataConsumer's methods are interrupted because of KAFKA-1894\n",
      "23/05/17 18:46:32 WARN KafkaDataConsumer: KafkaDataConsumer is not running in UninterruptibleThread. It may hang when KafkaDataConsumer's methods are interrupted because of KAFKA-1894\n"
     ]
    },
    {
     "name": "stderr",
     "output_type": "stream",
     "text": [
      "418382334:>                                                         (0 + 1) / 1]\n",
      "419170302\n",
      "418382334\n",
      "419351294\n",
      "418382334\n",
      "                                                                                \r"
     ]
    },
    {
     "name": "stdout",
     "output_type": "stream",
     "text": [
      "-------------------------------------------\n",
      "Batch: 70\n",
      "-------------------------------------------\n",
      "+-----------+------+-------------+---+-------------------------+-------------+-----+------------+\n",
      "|topic      |bus_id|can_id       |dlc|data                     |timestamp    |value|message_name|\n",
      "+-----------+------+-------------+---+-------------------------+-------------+-----+------------+\n",
      "|canbus_test|bus_37|[18 F0 01 0B]|8  |[00 00 F3 FF FF 01 FF F7]|1684318489133|null |EBC1        |\n",
      "|canbus_test|bus_34|[18 FC 07 F4]|8  |[CC 09 59 07 8B 02 61 5B]|1684317840472|null |null        |\n",
      "|canbus_test|bus_35|[18 F0 01 0B]|8  |[00 00 F3 FF FF 01 FF F7]|1684318711505|null |EBC1        |\n",
      "|canbus_test|bus_36|[18 FE CA 2F]|8  |[F3 FF 00 00 00 00 FF FF]|1684318012460|null |DM1         |\n",
      "|canbus_test|bus_33|[18 F0 01 0B]|8  |[00 00 F3 FF FF 01 FF F7]|1684317227438|null |EBC1        |\n",
      "+-----------+------+-------------+---+-------------------------+-------------+-----+------------+\n",
      "\n",
      "23/05/17 18:46:33 WARN KafkaDataConsumer: KafkaDataConsumer is not running in UninterruptibleThread. It may hang when KafkaDataConsumer's methods are interrupted because of KAFKA-1894\n",
      "23/05/17 18:46:33 WARN KafkaDataConsumer: KafkaDataConsumer is not running in UninterruptibleThread. It may hang when KafkaDataConsumer's methods are interrupted because of KAFKA-1894\n",
      "23/05/17 18:46:33 WARN KafkaDataConsumer: KafkaDataConsumer is not running in UninterruptibleThread. It may hang when KafkaDataConsumer's methods are interrupted because of KAFKA-1894\n",
      "23/05/17 18:46:33 WARN KafkaDataConsumer: KafkaDataConsumer is not running in UninterruptibleThread. It may hang when KafkaDataConsumer's methods are interrupted because of KAFKA-1894\n",
      "23/05/17 18:46:33 WARN KafkaDataConsumer: KafkaDataConsumer is not running in UninterruptibleThread. It may hang when KafkaDataConsumer's methods are interrupted because of KAFKA-1894\n"
     ]
    },
    {
     "name": "stderr",
     "output_type": "stream",
     "text": [
      "\r",
      "[Stage 71:>                                                         (0 + 1) / 1]\r",
      "419348478\n",
      "419284222\n",
      "215101438\n",
      "217056254\n",
      "418382334\n",
      "\r",
      "                                                                                \r"
     ]
    },
    {
     "name": "stdout",
     "output_type": "stream",
     "text": [
      "-------------------------------------------\n",
      "Batch: 71\n",
      "-------------------------------------------\n",
      "+-----------+------+-------------+---+-------------------------+-------------+-----+------------+\n",
      "|topic      |bus_id|can_id       |dlc|data                     |timestamp    |value|message_name|\n",
      "+-----------+------+-------------+---+-------------------------+-------------+-----+------------+\n",
      "|canbus_test|bus_37|[18 FE BF 0B]|8  |[00 00 7D 7D 7D 7D FF FF]|1684318490138|null |EBC2        |\n",
      "|canbus_test|bus_34|[18 FD C4 0B]|8  |[E0 08 FF F3 FF FF FF FF]|1684317841513|null |EBC5        |\n",
      "|canbus_test|bus_35|[0C D2 2F 27]|8  |[00 00 A0 00 00 00 00 00]|1684318712517|null |null        |\n",
      "|canbus_test|bus_36|[0C F0 03 00]|8  |[FD 00 FF FF FF FF FF FF]|1684318013494|null |EEC2        |\n",
      "|canbus_test|bus_33|[18 F0 01 17]|8  |[FF FF FF FF FF FF FF F7]|1684317228438|null |EBC1        |\n",
      "+-----------+------+-------------+---+-------------------------+-------------+-----+------------+\n",
      "\n",
      "23/05/17 18:46:34 WARN KafkaDataConsumer: KafkaDataConsumer is not running in UninterruptibleThread. It may hang when KafkaDataConsumer's methods are interrupted because of KAFKA-1894\n",
      "23/05/17 18:46:34 WARN KafkaDataConsumer: KafkaDataConsumer is not running in UninterruptibleThread. It may hang when KafkaDataConsumer's methods are interrupted because of KAFKA-1894\n",
      "23/05/17 18:46:34 WARN KafkaDataConsumer: KafkaDataConsumer is not running in UninterruptibleThread. It may hang when KafkaDataConsumer's methods are interrupted because of KAFKA-1894\n",
      "23/05/17 18:46:34 WARN KafkaDataConsumer: KafkaDataConsumer is not running in UninterruptibleThread. It may hang when KafkaDataConsumer's methods are interrupted because of KAFKA-1894\n",
      "23/05/17 18:46:34 WARN KafkaDataConsumer: KafkaDataConsumer is not running in UninterruptibleThread. It may hang when KafkaDataConsumer's methods are interrupted because of KAFKA-1894\n"
     ]
    },
    {
     "name": "stderr",
     "output_type": "stream",
     "text": [
      "\r",
      "[Stage 72:>                                                         (0 + 1) / 1]\r",
      "419348478\n",
      "217055998\n",
      "419351294\n",
      "419348478\n",
      "419351294\n",
      "\r",
      "                                                                                \r"
     ]
    },
    {
     "name": "stdout",
     "output_type": "stream",
     "text": [
      "-------------------------------------------\n",
      "Batch: 72\n",
      "-------------------------------------------\n",
      "+-----------+------+-------------+---+-------------------------+-------------+-----+------------+\n",
      "|topic      |bus_id|can_id       |dlc|data                     |timestamp    |value|message_name|\n",
      "+-----------+------+-------------+---+-------------------------+-------------+-----+------------+\n",
      "|canbus_test|bus_37|[18 FE BF 0B]|8  |[00 00 7D 7D 7D 7D FF FF]|1684318491145|null |EBC2        |\n",
      "|canbus_test|bus_34|[0C F0 02 03]|8  |[CD FF FE FF FF FF FF FF]|1684317842530|null |ETC1        |\n",
      "|canbus_test|bus_35|[18 FE CA 2F]|8  |[F3 FF 00 00 00 00 FF FF]|1684318713533|null |DM1         |\n",
      "|canbus_test|bus_36|[18 FE BF 0B]|8  |[00 00 7D 7D 7D 7D FF FF]|1684318014484|null |EBC2        |\n",
      "|canbus_test|bus_33|[18 FE CA 2F]|8  |[F3 FF 00 00 00 00 FF FF]|1684317230463|null |DM1         |\n",
      "+-----------+------+-------------+---+-------------------------+-------------+-----+------------+\n",
      "\n",
      "23/05/17 18:46:35 WARN KafkaDataConsumer: KafkaDataConsumer is not running in UninterruptibleThread. It may hang when KafkaDataConsumer's methods are interrupted because of KAFKA-1894\n",
      "23/05/17 18:46:35 WARN KafkaDataConsumer: KafkaDataConsumer is not running in UninterruptibleThread. It may hang when KafkaDataConsumer's methods are interrupted because of KAFKA-1894\n",
      "23/05/17 18:46:35 WARN KafkaDataConsumer: KafkaDataConsumer is not running in UninterruptibleThread. It may hang when KafkaDataConsumer's methods are interrupted because of KAFKA-1894\n",
      "23/05/17 18:46:35 WARN KafkaDataConsumer: KafkaDataConsumer is not running in UninterruptibleThread. It may hang when KafkaDataConsumer's methods are interrupted because of KAFKA-1894\n",
      "23/05/17 18:46:35 WARN KafkaDataConsumer: KafkaDataConsumer is not running in UninterruptibleThread. It may hang when KafkaDataConsumer's methods are interrupted because of KAFKA-1894\n"
     ]
    },
    {
     "name": "stderr",
     "output_type": "stream",
     "text": [
      "\r",
      "[Stage 73:>                                                         (0 + 1) / 1]\r",
      "419169534\n",
      "418382334\n",
      "418583294\n",
      "419351294\n",
      "419171582\n",
      "\r",
      "                                                                                \r"
     ]
    },
    {
     "name": "stdout",
     "output_type": "stream",
     "text": [
      "-------------------------------------------\n",
      "Batch: 73\n",
      "-------------------------------------------\n",
      "+-----------+------+-------------+---+-------------------------+-------------+-----+------------+\n",
      "|topic      |bus_id|can_id       |dlc|data                     |timestamp    |value|message_name|\n",
      "+-----------+------+-------------+---+-------------------------+-------------+-----+------------+\n",
      "|canbus_test|bus_37|[18 FC 04 F4]|8  |[84 01 05 3A 40 41 D5 62]|1684318492149|null |null        |\n",
      "|canbus_test|bus_34|[18 F0 01 0B]|8  |[00 00 F3 FF FF 01 FF F7]|1684317843544|null |EBC1        |\n",
      "|canbus_test|bus_35|[18 F3 12 00]|8  |[5D 5C FF 5D FF FF FF 69]|1684318714562|null |null        |\n",
      "|canbus_test|bus_36|[18 FE CA 2F]|8  |[F3 FF 00 00 00 00 FF FF]|1684318015489|null |DM1         |\n",
      "|canbus_test|bus_33|[18 FC 0C F4]|8  |[A3 33 A3 06 46 1F 44 01]|1684317232502|null |null        |\n",
      "+-----------+------+-------------+---+-------------------------+-------------+-----+------------+\n",
      "\n",
      "23/05/17 18:46:35 WARN KafkaDataConsumer: KafkaDataConsumer is not running in UninterruptibleThread. It may hang when KafkaDataConsumer's methods are interrupted because of KAFKA-1894\n",
      "23/05/17 18:46:36 WARN KafkaDataConsumer: KafkaDataConsumer is not running in UninterruptibleThread. It may hang when KafkaDataConsumer's methods are interrupted because of KAFKA-1894\n",
      "23/05/17 18:46:36 WARN KafkaDataConsumer: KafkaDataConsumer is not running in UninterruptibleThread. It may hang when KafkaDataConsumer's methods are interrupted because of KAFKA-1894\n",
      "23/05/17 18:46:36 WARN KafkaDataConsumer: KafkaDataConsumer is not running in UninterruptibleThread. It may hang when KafkaDataConsumer's methods are interrupted because of KAFKA-1894\n",
      "23/05/17 18:46:36 WARN KafkaDataConsumer: KafkaDataConsumer is not running in UninterruptibleThread. It may hang when KafkaDataConsumer's methods are interrupted because of KAFKA-1894\n"
     ]
    },
    {
     "name": "stderr",
     "output_type": "stream",
     "text": [
      "\r",
      "[Stage 74:>                                                         (0 + 1) / 1]\r",
      "419169534\n",
      "419373310\n",
      "419319550\n",
      "418382334\n",
      "419169278\n"
     ]
    },
    {
     "name": "stdout",
     "output_type": "stream",
     "text": [
      "-------------------------------------------\n",
      "Batch: 74\n",
      "-------------------------------------------\n",
      "+-----------+------+-------------+---+-------------------------+-------------+-----+------------+\n",
      "|topic      |bus_id|can_id       |dlc|data                     |timestamp    |value|message_name|\n",
      "+-----------+------+-------------+---+-------------------------+-------------+-----+------------+\n",
      "|canbus_test|bus_37|[18 FC 04 F4]|8  |[84 01 05 3A 40 41 D5 62]|1684318493157|null |null        |\n",
      "|canbus_test|bus_34|[18 FF 20 EF]|8  |[F0 7D 00 00 7D EF FF 7D]|1684317844590|null |null        |\n",
      "|canbus_test|bus_35|[18 FE 4E EC]|8  |[00 F3 FF 3F FF FF FF FF]|1684318715568|null |DC1         |\n",
      "|canbus_test|bus_36|[18 F0 01 0B]|8  |[00 00 F3 FF FF 01 FF F7]|1684318016495|null |EBC1        |\n",
      "|canbus_test|bus_33|[18 FC 03 F4]|8  |[FF FF 00 00 2E 00 18 38]|1684317233501|null |null        |\n",
      "+-----------+------+-------------+---+-------------------------+-------------+-----+------------+\n",
      "\n"
     ]
    },
    {
     "name": "stderr",
     "output_type": "stream",
     "text": [
      "\r",
      "                                                                                \r"
     ]
    },
    {
     "name": "stdout",
     "output_type": "stream",
     "text": [
      "23/05/17 18:46:37 WARN KafkaDataConsumer: KafkaDataConsumer is not running in UninterruptibleThread. It may hang when KafkaDataConsumer's methods are interrupted because of KAFKA-1894\n",
      "23/05/17 18:46:37 WARN KafkaDataConsumer: KafkaDataConsumer is not running in UninterruptibleThread. It may hang when KafkaDataConsumer's methods are interrupted because of KAFKA-1894\n",
      "23/05/17 18:46:37 WARN KafkaDataConsumer: KafkaDataConsumer is not running in UninterruptibleThread. It may hang when KafkaDataConsumer's methods are interrupted because of KAFKA-1894\n",
      "23/05/17 18:46:37 WARN KafkaDataConsumer: KafkaDataConsumer is not running in UninterruptibleThread. It may hang when KafkaDataConsumer's methods are interrupted because of KAFKA-1894\n",
      "23/05/17 18:46:37 WARN KafkaDataConsumer: KafkaDataConsumer is not running in UninterruptibleThread. It may hang when KafkaDataConsumer's methods are interrupted because of KAFKA-1894\n"
     ]
    },
    {
     "name": "stderr",
     "output_type": "stream",
     "text": [
      "\r",
      "[Stage 75:>                                                         (0 + 1) / 1]\r",
      "418583294\n",
      "419348478\n",
      "150892286\n",
      "419348478\n",
      "419319806\n",
      "\r",
      "                                                                                \r"
     ]
    },
    {
     "name": "stdout",
     "output_type": "stream",
     "text": [
      "-------------------------------------------\n",
      "Batch: 75\n",
      "-------------------------------------------\n",
      "+-----------+------+-------------+---+-------------------------+-------------+-----+------------+\n",
      "|topic      |bus_id|can_id       |dlc|data                     |timestamp    |value|message_name|\n",
      "+-----------+------+-------------+---+-------------------------+-------------+-----+------------+\n",
      "|canbus_test|bus_37|[18 F3 12 00]|8  |[4B 4B FF 4B FF FF FF 9F]|1684318494163|null |null        |\n",
      "|canbus_test|bus_34|[18 FE BF 0B]|8  |[00 00 7D 7D 7D 7D FF FF]|1684317845609|null |EBC2        |\n",
      "|canbus_test|bus_35|[08 FE 6E 0B]|8  |[00 00 00 00 00 00 00 00]|1684318717606|null |HRW         |\n",
      "|canbus_test|bus_36|[18 FE BF 0B]|8  |[00 00 7D 7D 7D 7D FF FF]|1684318017500|null |EBC2        |\n",
      "|canbus_test|bus_33|[18 FE 4F 0B]|8  |[FF FF FF FF FF FF FF FF]|1684317234505|null |VDC1        |\n",
      "+-----------+------+-------------+---+-------------------------+-------------+-----+------------+\n",
      "\n",
      "23/05/17 18:46:38 WARN KafkaDataConsumer: KafkaDataConsumer is not running in UninterruptibleThread. It may hang when KafkaDataConsumer's methods are interrupted because of KAFKA-1894\n",
      "23/05/17 18:46:38 WARN KafkaDataConsumer: KafkaDataConsumer is not running in UninterruptibleThread. It may hang when KafkaDataConsumer's methods are interrupted because of KAFKA-1894\n",
      "23/05/17 18:46:38 WARN KafkaDataConsumer: KafkaDataConsumer is not running in UninterruptibleThread. It may hang when KafkaDataConsumer's methods are interrupted because of KAFKA-1894\n",
      "23/05/17 18:46:38 WARN KafkaDataConsumer: KafkaDataConsumer is not running in UninterruptibleThread. It may hang when KafkaDataConsumer's methods are interrupted because of KAFKA-1894\n",
      "23/05/17 18:46:38 WARN KafkaDataConsumer: KafkaDataConsumer is not running in UninterruptibleThread. It may hang when KafkaDataConsumer's methods are interrupted because of KAFKA-1894\n"
     ]
    },
    {
     "name": "stderr",
     "output_type": "stream",
     "text": [
      "\r",
      "[Stage 76:>                                                         (0 + 1) / 1]\r",
      "419373310\n",
      "217996030\n",
      "418382334\n",
      "419351294\n",
      "418382334\n",
      "\r",
      "                                                                                \r"
     ]
    },
    {
     "name": "stdout",
     "output_type": "stream",
     "text": [
      "-------------------------------------------\n",
      "Batch: 76\n",
      "-------------------------------------------\n",
      "+-----------+------+-------------+---+-------------------------+-------------+-----+------------+\n",
      "|topic      |bus_id|can_id       |dlc|data                     |timestamp    |value|message_name|\n",
      "+-----------+------+-------------+---+-------------------------+-------------+-----+------------+\n",
      "|canbus_test|bus_37|[18 FF 20 EF]|8  |[F0 7D 00 00 7D EF FF 7D]|1684318495168|null |null        |\n",
      "|canbus_test|bus_34|[0C FE 5A 2F]|8  |[11 00 00 00 D3 F5 FF F0]|1684317846620|null |ASC1        |\n",
      "|canbus_test|bus_35|[18 F0 01 0B]|8  |[00 00 F3 FF FF 01 FF F7]|1684318718604|null |EBC1        |\n",
      "|canbus_test|bus_36|[18 FE CA 2F]|8  |[F3 FF 00 00 00 00 FF FF]|1684318018496|null |DM1         |\n",
      "|canbus_test|bus_33|[18 F0 01 0B]|8  |[00 00 F3 FF FF 01 FF F7]|1684317235507|null |EBC1        |\n",
      "+-----------+------+-------------+---+-------------------------+-------------+-----+------------+\n",
      "\n",
      "23/05/17 18:46:39 WARN KafkaDataConsumer: KafkaDataConsumer is not running in UninterruptibleThread. It may hang when KafkaDataConsumer's methods are interrupted because of KAFKA-1894\n",
      "23/05/17 18:46:39 WARN KafkaDataConsumer: KafkaDataConsumer is not running in UninterruptibleThread. It may hang when KafkaDataConsumer's methods are interrupted because of KAFKA-1894\n",
      "23/05/17 18:46:39 WARN KafkaDataConsumer: KafkaDataConsumer is not running in UninterruptibleThread. It may hang when KafkaDataConsumer's methods are interrupted because of KAFKA-1894\n",
      "23/05/17 18:46:39 WARN KafkaDataConsumer: KafkaDataConsumer is not running in UninterruptibleThread. It may hang when KafkaDataConsumer's methods are interrupted because of KAFKA-1894\n",
      "23/05/17 18:46:39 WARN KafkaDataConsumer: KafkaDataConsumer is not running in UninterruptibleThread. It may hang when KafkaDataConsumer's methods are interrupted because of KAFKA-1894\n"
     ]
    },
    {
     "name": "stderr",
     "output_type": "stream",
     "text": [
      "\r",
      "[Stage 77:>                                                         (0 + 1) / 1]\r",
      "419351294\n",
      "418382334\n",
      "418382334\n",
      "150892286\n",
      "419351294\n",
      "\r",
      "                                                                                \r"
     ]
    },
    {
     "name": "stdout",
     "output_type": "stream",
     "text": [
      "-------------------------------------------\n",
      "Batch: 77\n",
      "-------------------------------------------\n",
      "+-----------+------+-------------+---+-------------------------+-------------+-----+------------+\n",
      "|topic      |bus_id|can_id       |dlc|data                     |timestamp    |value|message_name|\n",
      "+-----------+------+-------------+---+-------------------------+-------------+-----+------------+\n",
      "|canbus_test|bus_37|[18 FE CA 2F]|8  |[F3 FF 00 00 00 00 FF FF]|1684318497191|null |DM1         |\n",
      "|canbus_test|bus_34|[18 F0 01 0B]|8  |[00 00 F3 FF FF 01 FF F7]|1684317847658|null |EBC1        |\n",
      "|canbus_test|bus_35|[18 F0 01 0B]|8  |[00 00 F3 FF FF 01 FF F7]|1684318719619|null |EBC1        |\n",
      "|canbus_test|bus_36|[08 FE 6E 0B]|8  |[00 00 00 00 00 00 00 00]|1684318019500|null |HRW         |\n",
      "|canbus_test|bus_33|[18 FE CA 2F]|8  |[F3 FF 00 00 00 00 FF FF]|1684317236515|null |DM1         |\n",
      "+-----------+------+-------------+---+-------------------------+-------------+-----+------------+\n",
      "\n",
      "23/05/17 18:46:40 WARN KafkaDataConsumer: KafkaDataConsumer is not running in UninterruptibleThread. It may hang when KafkaDataConsumer's methods are interrupted because of KAFKA-1894\n",
      "23/05/17 18:46:40 WARN KafkaDataConsumer: KafkaDataConsumer is not running in UninterruptibleThread. It may hang when KafkaDataConsumer's methods are interrupted because of KAFKA-1894\n",
      "23/05/17 18:46:40 WARN KafkaDataConsumer: KafkaDataConsumer is not running in UninterruptibleThread. It may hang when KafkaDataConsumer's methods are interrupted because of KAFKA-1894\n",
      "23/05/17 18:46:40 WARN KafkaDataConsumer: KafkaDataConsumer is not running in UninterruptibleThread. It may hang when KafkaDataConsumer's methods are interrupted because of KAFKA-1894\n",
      "23/05/17 18:46:40 WARN KafkaDataConsumer: KafkaDataConsumer is not running in UninterruptibleThread. It may hang when KafkaDataConsumer's methods are interrupted because of KAFKA-1894\n"
     ]
    },
    {
     "name": "stderr",
     "output_type": "stream",
     "text": [
      "419319806:>                                                         (0 + 1) / 1]\n",
      "419351294\n",
      "419174654\n",
      "419174142\n",
      "419348478\n",
      "                                                                                \r"
     ]
    },
    {
     "name": "stdout",
     "output_type": "stream",
     "text": [
      "-------------------------------------------\n",
      "Batch: 78\n",
      "-------------------------------------------\n",
      "+-----------+------+-------------+---+-------------------------+-------------+-----+------------+\n",
      "|topic      |bus_id|can_id       |dlc|data                     |timestamp    |value|message_name|\n",
      "+-----------+------+-------------+---+-------------------------+-------------+-----+------------+\n",
      "|canbus_test|bus_37|[18 FE 4F 0B]|8  |[FF FF FF FF FF FF FF FF]|1684318498208|null |VDC1        |\n",
      "|canbus_test|bus_34|[18 FE CA 2F]|8  |[F3 FF 00 00 00 00 FF FF]|1684317848670|null |DM1         |\n",
      "|canbus_test|bus_35|[18 FC 18 21]|8  |[00 10 9A 88 0A 49 FF F8]|1684318720620|null |null        |\n",
      "|canbus_test|bus_33|[18 FC 16 21]|8  |[03 C7 00 00 72 02 FF 41]|1684317237532|null |null        |\n",
      "|canbus_test|bus_36|[18 FE BF 0B]|8  |[00 00 7D 7D 7D 7D FF FF]|1684318020489|null |EBC2        |\n",
      "+-----------+------+-------------+---+-------------------------+-------------+-----+------------+\n",
      "\n",
      "23/05/17 18:46:41 WARN KafkaDataConsumer: KafkaDataConsumer is not running in UninterruptibleThread. It may hang when KafkaDataConsumer's methods are interrupted because of KAFKA-1894\n",
      "23/05/17 18:46:41 WARN KafkaDataConsumer: KafkaDataConsumer is not running in UninterruptibleThread. It may hang when KafkaDataConsumer's methods are interrupted because of KAFKA-1894\n",
      "23/05/17 18:46:41 WARN KafkaDataConsumer: KafkaDataConsumer is not running in UninterruptibleThread. It may hang when KafkaDataConsumer's methods are interrupted because of KAFKA-1894\n",
      "23/05/17 18:46:41 WARN KafkaDataConsumer: KafkaDataConsumer is not running in UninterruptibleThread. It may hang when KafkaDataConsumer's methods are interrupted because of KAFKA-1894\n",
      "23/05/17 18:46:41 WARN KafkaDataConsumer: KafkaDataConsumer is not running in UninterruptibleThread. It may hang when KafkaDataConsumer's methods are interrupted because of KAFKA-1894\n"
     ]
    },
    {
     "name": "stderr",
     "output_type": "stream",
     "text": [
      "\r",
      "[Stage 79:>                                                         (0 + 1) / 1]\r",
      "217055998\n",
      "419173630\n",
      "217055998\n",
      "418382334\n",
      "217056510\n"
     ]
    },
    {
     "name": "stdout",
     "output_type": "stream",
     "text": [
      "-------------------------------------------\n",
      "Batch: 79\n",
      "-------------------------------------------\n",
      "+-----------+------+-------------+---+-------------------------+-------------+-----+------------+\n",
      "|topic      |bus_id|can_id       |dlc|data                     |timestamp    |value|message_name|\n",
      "+-----------+------+-------------+---+-------------------------+-------------+-----+------------+\n",
      "|canbus_test|bus_37|[0C F0 02 03]|8  |[CD FF FE FF FF FF FF FF]|1684318499222|null |ETC1        |\n",
      "|canbus_test|bus_34|[18 FC 14 21]|8  |[FF FF 00 00 71 02 FF 0D]|1684317849704|null |null        |\n",
      "|canbus_test|bus_35|[0C F0 02 03]|8  |[CD FF FE FF FF FF FF FF]|1684318721617|null |ETC1        |\n",
      "|canbus_test|bus_36|[18 F0 01 0B]|8  |[00 00 F3 FF FF 01 FF F7]|1684318021487|null |EBC1        |\n",
      "|canbus_test|bus_33|[0C F0 04 00]|8  |[FF 7D 7D 00 00 FF FF FF]|1684317238537|null |EEC1        |\n",
      "+-----------+------+-------------+---+-------------------------+-------------+-----+------------+\n",
      "\n"
     ]
    },
    {
     "name": "stderr",
     "output_type": "stream",
     "text": [
      "\r",
      "                                                                                \r"
     ]
    },
    {
     "name": "stdout",
     "output_type": "stream",
     "text": [
      "23/05/17 18:46:42 WARN KafkaDataConsumer: KafkaDataConsumer is not running in UninterruptibleThread. It may hang when KafkaDataConsumer's methods are interrupted because of KAFKA-1894\n",
      "23/05/17 18:46:42 WARN KafkaDataConsumer: KafkaDataConsumer is not running in UninterruptibleThread. It may hang when KafkaDataConsumer's methods are interrupted because of KAFKA-1894\n",
      "23/05/17 18:46:42 WARN KafkaDataConsumer: KafkaDataConsumer is not running in UninterruptibleThread. It may hang when KafkaDataConsumer's methods are interrupted because of KAFKA-1894\n",
      "23/05/17 18:46:42 WARN KafkaDataConsumer: KafkaDataConsumer is not running in UninterruptibleThread. It may hang when KafkaDataConsumer's methods are interrupted because of KAFKA-1894\n",
      "23/05/17 18:46:42 WARN KafkaDataConsumer: KafkaDataConsumer is not running in UninterruptibleThread. It may hang when KafkaDataConsumer's methods are interrupted because of KAFKA-1894\n"
     ]
    },
    {
     "name": "stderr",
     "output_type": "stream",
     "text": [
      "\r",
      "[Stage 80:>                                                         (0 + 1) / 1]\r",
      "419348478\n",
      "419343870\n",
      "150892286\n",
      "217055998\n",
      "150892286\n",
      "\r",
      "                                                                                \r"
     ]
    },
    {
     "name": "stdout",
     "output_type": "stream",
     "text": [
      "-------------------------------------------\n",
      "Batch: 80\n",
      "-------------------------------------------\n",
      "+-----------+------+-------------+---+-------------------------+-------------+-----+------------+\n",
      "|topic      |bus_id|can_id       |dlc|data                     |timestamp    |value|message_name|\n",
      "+-----------+------+-------------+---+-------------------------+-------------+-----+------------+\n",
      "|canbus_test|bus_37|[18 FE BF 0B]|8  |[00 00 7D 7D 7D 7D FF FF]|1684318500233|null |EBC2        |\n",
      "|canbus_test|bus_34|[18 FE AD 0B]|8  |[00 00 00 00 FE FE FF FF]|1684317850706|null |EBC3        |\n",
      "|canbus_test|bus_35|[08 FE 6E 0B]|8  |[00 00 00 00 00 00 00 00]|1684318722626|null |HRW         |\n",
      "|canbus_test|bus_36|[0C F0 02 03]|8  |[CD FF FE FF FF FF FF FF]|1684318022484|null |ETC1        |\n",
      "|canbus_test|bus_33|[08 FE 6E 0B]|8  |[00 00 00 00 00 00 00 00]|1684317239540|null |HRW         |\n",
      "+-----------+------+-------------+---+-------------------------+-------------+-----+------------+\n",
      "\n",
      "23/05/17 18:46:43 WARN KafkaDataConsumer: KafkaDataConsumer is not running in UninterruptibleThread. It may hang when KafkaDataConsumer's methods are interrupted because of KAFKA-1894\n",
      "23/05/17 18:46:43 WARN KafkaDataConsumer: KafkaDataConsumer is not running in UninterruptibleThread. It may hang when KafkaDataConsumer's methods are interrupted because of KAFKA-1894\n",
      "23/05/17 18:46:43 WARN KafkaDataConsumer: KafkaDataConsumer is not running in UninterruptibleThread. It may hang when KafkaDataConsumer's methods are interrupted because of KAFKA-1894\n",
      "23/05/17 18:46:43 WARN KafkaDataConsumer: KafkaDataConsumer is not running in UninterruptibleThread. It may hang when KafkaDataConsumer's methods are interrupted because of KAFKA-1894\n",
      "23/05/17 18:46:43 WARN KafkaDataConsumer: KafkaDataConsumer is not running in UninterruptibleThread. It may hang when KafkaDataConsumer's methods are interrupted because of KAFKA-1894\n"
     ]
    },
    {
     "name": "stderr",
     "output_type": "stream",
     "text": [
      "419170302:>                                                         (0 + 1) / 1]\n",
      "419284222\n",
      "419322366\n",
      "418382334\n",
      "418382334\n",
      "                                                                                \r"
     ]
    },
    {
     "name": "stdout",
     "output_type": "stream",
     "text": [
      "-------------------------------------------\n",
      "Batch: 81\n",
      "-------------------------------------------\n",
      "+-----------+------+-------------+---+-------------------------+-------------+-----+------------+\n",
      "|topic      |bus_id|can_id       |dlc|data                     |timestamp    |value|message_name|\n",
      "+-----------+------+-------------+---+-------------------------+-------------+-----+------------+\n",
      "|canbus_test|bus_37|[18 FC 07 F4]|8  |[CC 09 59 07 8A 02 60 5D]|1684318501247|null |null        |\n",
      "|canbus_test|bus_34|[18 FD C4 0B]|8  |[E0 08 FF F3 FF FF FF FF]|1684317851714|null |EBC5        |\n",
      "|canbus_test|bus_35|[18 FE 59 2F]|8  |[08 7D 00 7D EA 7C B4 7C]|1684318723627|null |ASC3        |\n",
      "|canbus_test|bus_33|[18 F0 01 0B]|8  |[00 00 F3 FF FF 01 FF F7]|1684317240543|null |EBC1        |\n",
      "|canbus_test|bus_36|[18 F0 01 0B]|8  |[00 00 F3 FF FF 01 FF F7]|1684318023475|null |EBC1        |\n",
      "+-----------+------+-------------+---+-------------------------+-------------+-----+------------+\n",
      "\n",
      "23/05/17 18:46:44 WARN KafkaDataConsumer: KafkaDataConsumer is not running in UninterruptibleThread. It may hang when KafkaDataConsumer's methods are interrupted because of KAFKA-1894\n",
      "23/05/17 18:46:44 WARN KafkaDataConsumer: KafkaDataConsumer is not running in UninterruptibleThread. It may hang when KafkaDataConsumer's methods are interrupted because of KAFKA-1894\n",
      "23/05/17 18:46:44 WARN KafkaDataConsumer: KafkaDataConsumer is not running in UninterruptibleThread. It may hang when KafkaDataConsumer's methods are interrupted because of KAFKA-1894\n",
      "23/05/17 18:46:44 WARN KafkaDataConsumer: KafkaDataConsumer is not running in UninterruptibleThread. It may hang when KafkaDataConsumer's methods are interrupted because of KAFKA-1894\n",
      "23/05/17 18:46:44 WARN KafkaDataConsumer: KafkaDataConsumer is not running in UninterruptibleThread. It may hang when KafkaDataConsumer's methods are interrupted because of KAFKA-1894\n"
     ]
    },
    {
     "name": "stderr",
     "output_type": "stream",
     "text": [
      "418583294:>                                                         (0 + 1) / 1]\n",
      "419174142\n",
      "419322366\n",
      "419348478\n",
      "419319550\n",
      "                                                                                \r"
     ]
    },
    {
     "name": "stdout",
     "output_type": "stream",
     "text": [
      "-------------------------------------------\n",
      "Batch: 82\n",
      "-------------------------------------------\n",
      "+-----------+------+-------------+---+-------------------------+-------------+-----+------------+\n",
      "|topic      |bus_id|can_id       |dlc|data                     |timestamp    |value|message_name|\n",
      "+-----------+------+-------------+---+-------------------------+-------------+-----+------------+\n",
      "|canbus_test|bus_37|[18 F3 12 00]|8  |[4B 4B FF 4B FF FF FF 9F]|1684318502260|null |null        |\n",
      "|canbus_test|bus_35|[18 FC 16 21]|8  |[03 C7 00 00 72 02 FF 41]|1684318724628|null |null        |\n",
      "|canbus_test|bus_34|[18 FE 59 2F]|8  |[DE 7C EF 7C 07 7D D4 7C]|1684317852722|null |ASC3        |\n",
      "|canbus_test|bus_36|[18 FE BF 0B]|8  |[00 00 7D 7D 7D 7D FF FF]|1684318024501|null |EBC2        |\n",
      "|canbus_test|bus_33|[18 FE 4E EC]|8  |[02 F3 FF 3F FF FF FF FF]|1684317241547|null |DC1         |\n",
      "+-----------+------+-------------+---+-------------------------+-------------+-----+------------+\n",
      "\n",
      "23/05/17 18:46:45 WARN KafkaDataConsumer: KafkaDataConsumer is not running in UninterruptibleThread. It may hang when KafkaDataConsumer's methods are interrupted because of KAFKA-1894\n",
      "23/05/17 18:46:45 WARN KafkaDataConsumer: KafkaDataConsumer is not running in UninterruptibleThread. It may hang when KafkaDataConsumer's methods are interrupted because of KAFKA-1894\n",
      "23/05/17 18:46:45 WARN KafkaDataConsumer: KafkaDataConsumer is not running in UninterruptibleThread. It may hang when KafkaDataConsumer's methods are interrupted because of KAFKA-1894\n",
      "23/05/17 18:46:45 WARN KafkaDataConsumer: KafkaDataConsumer is not running in UninterruptibleThread. It may hang when KafkaDataConsumer's methods are interrupted because of KAFKA-1894\n",
      "23/05/17 18:46:45 WARN KafkaDataConsumer: KafkaDataConsumer is not running in UninterruptibleThread. It may hang when KafkaDataConsumer's methods are interrupted because of KAFKA-1894\n"
     ]
    },
    {
     "name": "stderr",
     "output_type": "stream",
     "text": [
      "418382334:>                                                         (0 + 1) / 1]\n",
      "418583038\n",
      "419318526\n",
      "418382334\n",
      "215105790\n",
      "                                                                                \r"
     ]
    },
    {
     "name": "stdout",
     "output_type": "stream",
     "text": [
      "-------------------------------------------\n",
      "Batch: 83\n",
      "-------------------------------------------\n",
      "+-----------+------+-------------+---+-------------------------+-------------+-----+------------+\n",
      "|topic      |bus_id|can_id       |dlc|data                     |timestamp    |value|message_name|\n",
      "+-----------+------+-------------+---+-------------------------+-------------+-----+------------+\n",
      "|canbus_test|bus_37|[18 F0 01 0B]|8  |[00 00 F3 FF FF 01 FF F7]|1684318503266|null |EBC1        |\n",
      "|canbus_test|bus_34|[18 F3 11 00]|8  |[D0 00 00 00 00 FF 22 8C]|1684317854757|null |null        |\n",
      "|canbus_test|bus_35|[18 FE 4A 03]|8  |[FF FC C2 F0 FF FF FF FF]|1684318726665|null |ETC7        |\n",
      "|canbus_test|bus_33|[18 F0 01 0B]|8  |[00 00 F3 FF FF 01 FF F7]|1684317242557|null |EBC1        |\n",
      "|canbus_test|bus_36|[0C D2 40 27]|8  |[00 00 A0 00 00 00 00 00]|1684318025504|null |null        |\n",
      "+-----------+------+-------------+---+-------------------------+-------------+-----+------------+\n",
      "\n",
      "23/05/17 18:46:46 WARN KafkaDataConsumer: KafkaDataConsumer is not running in UninterruptibleThread. It may hang when KafkaDataConsumer's methods are interrupted because of KAFKA-1894\n",
      "23/05/17 18:46:46 WARN KafkaDataConsumer: KafkaDataConsumer is not running in UninterruptibleThread. It may hang when KafkaDataConsumer's methods are interrupted because of KAFKA-1894\n",
      "23/05/17 18:46:46 WARN KafkaDataConsumer: KafkaDataConsumer is not running in UninterruptibleThread. It may hang when KafkaDataConsumer's methods are interrupted because of KAFKA-1894\n",
      "23/05/17 18:46:46 WARN KafkaDataConsumer: KafkaDataConsumer is not running in UninterruptibleThread. It may hang when KafkaDataConsumer's methods are interrupted because of KAFKA-1894\n",
      "23/05/17 18:46:46 WARN KafkaDataConsumer: KafkaDataConsumer is not running in UninterruptibleThread. It may hang when KafkaDataConsumer's methods are interrupted because of KAFKA-1894\n"
     ]
    },
    {
     "name": "stderr",
     "output_type": "stream",
     "text": [
      "419174142:>                                                         (0 + 1) / 1]\n",
      "418601982\n",
      "217051134\n",
      "419351294\n",
      "419284222\n",
      "                                                                                \r"
     ]
    },
    {
     "name": "stdout",
     "output_type": "stream",
     "text": [
      "-------------------------------------------\n",
      "Batch: 84\n",
      "-------------------------------------------\n",
      "+-----------+------+-------------+---+-------------------------+-------------+-----+------------+\n",
      "|topic      |bus_id|can_id       |dlc|data                     |timestamp    |value|message_name|\n",
      "+-----------+------+-------------+---+-------------------------+-------------+-----+------------+\n",
      "|canbus_test|bus_37|[18 FC 16 21]|8  |[03 C7 00 00 72 02 FF 41]|1684318504274|null |null        |\n",
      "|canbus_test|bus_34|[18 F3 5B 00]|8  |[FF FF 00 00 FF FF FF 81]|1684317855766|null |null        |\n",
      "|canbus_test|bus_35|[0C EF EF 0B]|8  |[CC FA 7D FF FF FF FF 16]|1684318727670|null |null        |\n",
      "|canbus_test|bus_33|[18 FE CA 2F]|8  |[F3 FF 00 00 00 00 FF FF]|1684317243559|null |DM1         |\n",
      "|canbus_test|bus_36|[18 FD C4 0B]|8  |[E0 08 FF F3 FF FF FF FF]|1684318026515|null |EBC5        |\n",
      "+-----------+------+-------------+---+-------------------------+-------------+-----+------------+\n",
      "\n",
      "23/05/17 18:46:47 WARN KafkaDataConsumer: KafkaDataConsumer is not running in UninterruptibleThread. It may hang when KafkaDataConsumer's methods are interrupted because of KAFKA-1894\n",
      "23/05/17 18:46:47 WARN KafkaDataConsumer: KafkaDataConsumer is not running in UninterruptibleThread. It may hang when KafkaDataConsumer's methods are interrupted because of KAFKA-1894\n",
      "23/05/17 18:46:47 WARN KafkaDataConsumer: KafkaDataConsumer is not running in UninterruptibleThread. It may hang when KafkaDataConsumer's methods are interrupted because of KAFKA-1894\n",
      "23/05/17 18:46:47 WARN KafkaDataConsumer: KafkaDataConsumer is not running in UninterruptibleThread. It may hang when KafkaDataConsumer's methods are interrupted because of KAFKA-1894\n",
      "23/05/17 18:46:47 WARN KafkaDataConsumer: KafkaDataConsumer is not running in UninterruptibleThread. It may hang when KafkaDataConsumer's methods are interrupted because of KAFKA-1894\n"
     ]
    },
    {
     "name": "stderr",
     "output_type": "stream",
     "text": [
      "\r",
      "[Stage 85:>                                                         (0 + 1) / 1]\r",
      "150892286\n",
      "419175166\n",
      "418382078\n",
      "419351294\n",
      "419170814\n",
      "\r",
      "                                                                                \r"
     ]
    },
    {
     "name": "stdout",
     "output_type": "stream",
     "text": [
      "-------------------------------------------\n",
      "Batch: 85\n",
      "-------------------------------------------\n",
      "+-----------+------+-------------+---+-------------------------+-------------+-----+------------+\n",
      "|topic      |bus_id|can_id       |dlc|data                     |timestamp    |value|message_name|\n",
      "+-----------+------+-------------+---+-------------------------+-------------+-----+------------+\n",
      "|canbus_test|bus_37|[08 FE 6E 0B]|8  |[00 00 00 00 00 00 00 00]|1684318505284|null |HRW         |\n",
      "|canbus_test|bus_34|[18 FC 1A 21]|8  |[00 00 72 02 00 00 00 0A]|1684317856777|null |null        |\n",
      "|canbus_test|bus_35|[18 F0 00 10]|8  |[FF 7D FF FF FF FF FF 7D]|1684318728668|null |ERC1        |\n",
      "|canbus_test|bus_33|[18 FE CA 2F]|8  |[F3 FF 00 00 00 00 FF FF]|1684317244562|null |DM1         |\n",
      "|canbus_test|bus_36|[18 FC 09 F4]|8  |[30 00 00 00 96 96 FE 22]|1684318027524|null |null        |\n",
      "+-----------+------+-------------+---+-------------------------+-------------+-----+------------+\n",
      "\n",
      "23/05/17 18:46:48 WARN KafkaDataConsumer: KafkaDataConsumer is not running in UninterruptibleThread. It may hang when KafkaDataConsumer's methods are interrupted because of KAFKA-1894\n",
      "23/05/17 18:46:48 WARN KafkaDataConsumer: KafkaDataConsumer is not running in UninterruptibleThread. It may hang when KafkaDataConsumer's methods are interrupted because of KAFKA-1894\n",
      "23/05/17 18:46:48 WARN KafkaDataConsumer: KafkaDataConsumer is not running in UninterruptibleThread. It may hang when KafkaDataConsumer's methods are interrupted because of KAFKA-1894\n",
      "23/05/17 18:46:48 WARN KafkaDataConsumer: KafkaDataConsumer is not running in UninterruptibleThread. It may hang when KafkaDataConsumer's methods are interrupted because of KAFKA-1894\n",
      "23/05/17 18:46:48 WARN KafkaDataConsumer: KafkaDataConsumer is not running in UninterruptibleThread. It may hang when KafkaDataConsumer's methods are interrupted because of KAFKA-1894\n"
     ]
    },
    {
     "name": "stderr",
     "output_type": "stream",
     "text": [
      "\r",
      "[Stage 86:>                                                         (0 + 1) / 1]\r",
      "419348478\n",
      "419170302\n",
      "418382334\n",
      "418382334\n",
      "419348478\n",
      "\r",
      "                                                                                \r"
     ]
    },
    {
     "name": "stdout",
     "output_type": "stream",
     "text": [
      "-------------------------------------------\n",
      "Batch: 86\n",
      "-------------------------------------------\n",
      "+-----------+------+-------------+---+-------------------------+-------------+-----+------------+\n",
      "|topic      |bus_id|can_id       |dlc|data                     |timestamp    |value|message_name|\n",
      "+-----------+------+-------------+---+-------------------------+-------------+-----+------------+\n",
      "|canbus_test|bus_37|[18 FE BF 0B]|8  |[00 00 7D 7D 7D 7D FF FF]|1684318506301|null |EBC2        |\n",
      "|canbus_test|bus_34|[18 FC 07 F4]|8  |[CC 09 59 07 8B 02 61 5B]|1684317857782|null |null        |\n",
      "|canbus_test|bus_35|[18 F0 01 0B]|8  |[00 00 F3 FF FF 01 FF F7]|1684318729671|null |EBC1        |\n",
      "|canbus_test|bus_33|[18 F0 01 0B]|8  |[00 00 F3 FF FF 01 FF F7]|1684317245564|null |EBC1        |\n",
      "|canbus_test|bus_36|[18 FE BF 0B]|8  |[00 00 7D 7D 7D 7D FF FF]|1684318028526|null |EBC2        |\n",
      "+-----------+------+-------------+---+-------------------------+-------------+-----+------------+\n",
      "\n",
      "23/05/17 18:46:49 WARN KafkaDataConsumer: KafkaDataConsumer is not running in UninterruptibleThread. It may hang when KafkaDataConsumer's methods are interrupted because of KAFKA-1894\n",
      "23/05/17 18:46:49 WARN KafkaDataConsumer: KafkaDataConsumer is not running in UninterruptibleThread. It may hang when KafkaDataConsumer's methods are interrupted because of KAFKA-1894\n",
      "23/05/17 18:46:49 WARN KafkaDataConsumer: KafkaDataConsumer is not running in UninterruptibleThread. It may hang when KafkaDataConsumer's methods are interrupted because of KAFKA-1894\n",
      "23/05/17 18:46:49 WARN KafkaDataConsumer: KafkaDataConsumer is not running in UninterruptibleThread. It may hang when KafkaDataConsumer's methods are interrupted because of KAFKA-1894\n",
      "23/05/17 18:46:49 WARN KafkaDataConsumer: KafkaDataConsumer is not running in UninterruptibleThread. It may hang when KafkaDataConsumer's methods are interrupted because of KAFKA-1894\n"
     ]
    },
    {
     "name": "stderr",
     "output_type": "stream",
     "text": [
      "418382334:>                                                         (0 + 1) / 1]\n",
      "419320318\n",
      "418382334\n",
      "418583294\n",
      "217055998\n",
      "                                                                                \r"
     ]
    },
    {
     "name": "stdout",
     "output_type": "stream",
     "text": [
      "-------------------------------------------\n",
      "Batch: 87\n",
      "-------------------------------------------\n",
      "+-----------+------+-------------+---+-------------------------+-------------+-----+------------+\n",
      "|topic      |bus_id|can_id       |dlc|data                     |timestamp    |value|message_name|\n",
      "+-----------+------+-------------+---+-------------------------+-------------+-----+------------+\n",
      "|canbus_test|bus_37|[18 F0 01 0B]|8  |[00 00 F3 FF FF 01 FF F7]|1684318507309|null |EBC1        |\n",
      "|canbus_test|bus_34|[18 FE 51 27]|8  |[7C FF FF FF FF FF FF FF]|1684317858785|null |ACC2        |\n",
      "|canbus_test|bus_35|[18 F0 01 0B]|8  |[00 00 F3 FF FF 01 FF F7]|1684318730671|null |EBC1        |\n",
      "|canbus_test|bus_33|[18 F3 12 00]|8  |[4D 4D FF 4E FF FF FF 96]|1684317246568|null |null        |\n",
      "|canbus_test|bus_36|[0C F0 02 03]|8  |[CD FF FE FF FF FF FF FF]|1684318029533|null |ETC1        |\n",
      "+-----------+------+-------------+---+-------------------------+-------------+-----+------------+\n",
      "\n",
      "23/05/17 18:46:50 WARN KafkaDataConsumer: KafkaDataConsumer is not running in UninterruptibleThread. It may hang when KafkaDataConsumer's methods are interrupted because of KAFKA-1894\n",
      "23/05/17 18:46:50 WARN KafkaDataConsumer: KafkaDataConsumer is not running in UninterruptibleThread. It may hang when KafkaDataConsumer's methods are interrupted because of KAFKA-1894\n",
      "23/05/17 18:46:50 WARN KafkaDataConsumer: KafkaDataConsumer is not running in UninterruptibleThread. It may hang when KafkaDataConsumer's methods are interrupted because of KAFKA-1894\n",
      "23/05/17 18:46:50 WARN KafkaDataConsumer: KafkaDataConsumer is not running in UninterruptibleThread. It may hang when KafkaDataConsumer's methods are interrupted because of KAFKA-1894\n",
      "23/05/17 18:46:50 WARN KafkaDataConsumer: KafkaDataConsumer is not running in UninterruptibleThread. It may hang when KafkaDataConsumer's methods are interrupted because of KAFKA-1894\n"
     ]
    },
    {
     "name": "stderr",
     "output_type": "stream",
     "text": [
      "217055998:>                                                         (0 + 1) / 1]\n",
      "419348478\n",
      "419348478\n",
      "217055998\n",
      "217056254\n",
      "                                                                                \r"
     ]
    },
    {
     "name": "stdout",
     "output_type": "stream",
     "text": [
      "-------------------------------------------\n",
      "Batch: 88\n",
      "-------------------------------------------\n",
      "+-----------+------+-------------+---+-------------------------+-------------+-----+------------+\n",
      "|topic      |bus_id|can_id       |dlc|data                     |timestamp    |value|message_name|\n",
      "+-----------+------+-------------+---+-------------------------+-------------+-----+------------+\n",
      "|canbus_test|bus_37|[0C F0 02 03]|8  |[CD FF FE FF FF FF FF FF]|1684318508321|null |ETC1        |\n",
      "|canbus_test|bus_34|[18 FE BF 0B]|8  |[00 00 7D 7D 7D 7D FF FF]|1684317859793|null |EBC2        |\n",
      "|canbus_test|bus_35|[18 FE BF 0B]|8  |[00 00 7D 7D 7D 7D FF FF]|1684318731670|null |EBC2        |\n",
      "|canbus_test|bus_36|[0C F0 02 03]|8  |[CD FF FE FF FF FF FF FF]|1684318030544|null |ETC1        |\n",
      "|canbus_test|bus_33|[0C F0 03 00]|8  |[FD 00 FF FF FF FF FF FF]|1684317247585|null |EEC2        |\n",
      "+-----------+------+-------------+---+-------------------------+-------------+-----+------------+\n",
      "\n",
      "23/05/17 18:46:51 WARN KafkaDataConsumer: KafkaDataConsumer is not running in UninterruptibleThread. It may hang when KafkaDataConsumer's methods are interrupted because of KAFKA-1894\n",
      "23/05/17 18:46:51 WARN KafkaDataConsumer: KafkaDataConsumer is not running in UninterruptibleThread. It may hang when KafkaDataConsumer's methods are interrupted because of KAFKA-1894\n",
      "23/05/17 18:46:51 WARN KafkaDataConsumer: KafkaDataConsumer is not running in UninterruptibleThread. It may hang when KafkaDataConsumer's methods are interrupted because of KAFKA-1894\n",
      "23/05/17 18:46:51 WARN KafkaDataConsumer: KafkaDataConsumer is not running in UninterruptibleThread. It may hang when KafkaDataConsumer's methods are interrupted because of KAFKA-1894\n",
      "23/05/17 18:46:51 WARN KafkaDataConsumer: KafkaDataConsumer is not running in UninterruptibleThread. It may hang when KafkaDataConsumer's methods are interrupted because of KAFKA-1894\n"
     ]
    },
    {
     "name": "stderr",
     "output_type": "stream",
     "text": [
      "419170558:>                                                         (0 + 1) / 1]\n",
      "418382334\n",
      "150892286\n",
      "418382334\n",
      "150892286\n",
      "                                                                                \r"
     ]
    },
    {
     "name": "stdout",
     "output_type": "stream",
     "text": [
      "-------------------------------------------\n",
      "Batch: 89\n",
      "-------------------------------------------\n",
      "+-----------+------+-------------+---+-------------------------+-------------+-----+------------+\n",
      "|topic      |bus_id|can_id       |dlc|data                     |timestamp    |value|message_name|\n",
      "+-----------+------+-------------+---+-------------------------+-------------+-----+------------+\n",
      "|canbus_test|bus_37|[18 FC 08 F4]|8  |[73 02 44 27 64 41 18 E0]|1684318509345|null |null        |\n",
      "|canbus_test|bus_34|[18 F0 01 0B]|8  |[00 00 F3 FF FF 01 FF F7]|1684317860788|null |EBC1        |\n",
      "|canbus_test|bus_35|[08 FE 6E 0B]|8  |[00 00 00 00 00 00 00 00]|1684318732667|null |HRW         |\n",
      "|canbus_test|bus_33|[18 F0 01 0B]|8  |[00 00 F3 FF FF 01 FF F7]|1684317248620|null |EBC1        |\n",
      "|canbus_test|bus_36|[08 FE 6E 0B]|8  |[00 00 00 00 00 00 00 00]|1684318031544|null |HRW         |\n",
      "+-----------+------+-------------+---+-------------------------+-------------+-----+------------+\n",
      "\n",
      "23/05/17 18:46:52 WARN KafkaDataConsumer: KafkaDataConsumer is not running in UninterruptibleThread. It may hang when KafkaDataConsumer's methods are interrupted because of KAFKA-1894\n",
      "23/05/17 18:46:52 WARN KafkaDataConsumer: KafkaDataConsumer is not running in UninterruptibleThread. It may hang when KafkaDataConsumer's methods are interrupted because of KAFKA-1894\n",
      "23/05/17 18:46:52 WARN KafkaDataConsumer: KafkaDataConsumer is not running in UninterruptibleThread. It may hang when KafkaDataConsumer's methods are interrupted because of KAFKA-1894\n",
      "23/05/17 18:46:52 WARN KafkaDataConsumer: KafkaDataConsumer is not running in UninterruptibleThread. It may hang when KafkaDataConsumer's methods are interrupted because of KAFKA-1894\n",
      "23/05/17 18:46:52 WARN KafkaDataConsumer: KafkaDataConsumer is not running in UninterruptibleThread. It may hang when KafkaDataConsumer's methods are interrupted because of KAFKA-1894\n"
     ]
    },
    {
     "name": "stderr",
     "output_type": "stream",
     "text": [
      "\r",
      "[Stage 90:>                                                         (0 + 1) / 1]\r",
      "418382334\n",
      "419356670\n",
      "419319550\n",
      "418382334\n",
      "217055998\n",
      "\r",
      "                                                                                \r"
     ]
    },
    {
     "name": "stdout",
     "output_type": "stream",
     "text": [
      "-------------------------------------------\n",
      "Batch: 90\n",
      "-------------------------------------------\n",
      "+-----------+------+-------------+---+-------------------------+-------------+-----+------------+\n",
      "|topic      |bus_id|can_id       |dlc|data                     |timestamp    |value|message_name|\n",
      "+-----------+------+-------------+---+-------------------------+-------------+-----+------------+\n",
      "|canbus_test|bus_37|[18 F0 01 0B]|8  |[00 00 F3 FF FF 01 FF F7]|1684318510366|null |EBC1        |\n",
      "|canbus_test|bus_34|[18 FE DF EF]|8  |[7D FF FF FF 7D FF FF FF]|1684317861793|null |EEC3        |\n",
      "|canbus_test|bus_35|[18 FE 4E EC]|8  |[00 F3 FF 3F FF FF FF FF]|1684318733666|null |DC1         |\n",
      "|canbus_test|bus_33|[18 F0 01 0B]|8  |[00 00 F3 FF FF 01 FF F7]|1684317249621|null |EBC1        |\n",
      "|canbus_test|bus_36|[0C F0 02 03]|8  |[CD FF FE FF FF FF FF FF]|1684318032544|null |ETC1        |\n",
      "+-----------+------+-------------+---+-------------------------+-------------+-----+------------+\n",
      "\n",
      "23/05/17 18:46:53 WARN KafkaDataConsumer: KafkaDataConsumer is not running in UninterruptibleThread. It may hang when KafkaDataConsumer's methods are interrupted because of KAFKA-1894\n",
      "23/05/17 18:46:53 WARN KafkaDataConsumer: KafkaDataConsumer is not running in UninterruptibleThread. It may hang when KafkaDataConsumer's methods are interrupted because of KAFKA-1894\n",
      "23/05/17 18:46:53 WARN KafkaDataConsumer: KafkaDataConsumer is not running in UninterruptibleThread. It may hang when KafkaDataConsumer's methods are interrupted because of KAFKA-1894\n",
      "23/05/17 18:46:53 WARN KafkaDataConsumer: KafkaDataConsumer is not running in UninterruptibleThread. It may hang when KafkaDataConsumer's methods are interrupted because of KAFKA-1894\n",
      "23/05/17 18:46:53 WARN KafkaDataConsumer: KafkaDataConsumer is not running in UninterruptibleThread. It may hang when KafkaDataConsumer's methods are interrupted because of KAFKA-1894\n"
     ]
    },
    {
     "name": "stderr",
     "output_type": "stream",
     "text": [
      "\r",
      "[Stage 91:>                                                         (0 + 1) / 1]\r",
      "419351294\n",
      "418382334\n",
      "419094782\n",
      "419172606\n",
      "418383358\n",
      "\r",
      "                                                                                \r"
     ]
    },
    {
     "name": "stdout",
     "output_type": "stream",
     "text": [
      "-------------------------------------------\n",
      "Batch: 91\n",
      "-------------------------------------------\n",
      "+-----------+------+-------------+---+-------------------------+-------------+-----+------------+\n",
      "|topic      |bus_id|can_id       |dlc|data                     |timestamp    |value|message_name|\n",
      "+-----------+------+-------------+---+-------------------------+-------------+-----+------------+\n",
      "|canbus_test|bus_37|[18 FE CA 2F]|8  |[F3 FF 00 00 00 00 FF FF]|1684318511390|null |DM1         |\n",
      "|canbus_test|bus_35|[18 F0 01 0B]|8  |[00 00 F3 FF FF 01 FF F7]|1684318734674|null |EBC1        |\n",
      "|canbus_test|bus_34|[18 FA E0 21]|8  |[FF FF FF 05 DC 13 F1 FF]|1684317862805|null |null        |\n",
      "|canbus_test|bus_33|[18 FC 10 F4]|8  |[FF FF 60 26 44 44 00 00]|1684317250630|null |null        |\n",
      "|canbus_test|bus_36|[18 F0 05 03]|8  |[FF FF FF 7D FF FF FF FF]|1684318033547|null |ETC2        |\n",
      "+-----------+------+-------------+---+-------------------------+-------------+-----+------------+\n",
      "\n",
      "23/05/17 18:46:54 WARN KafkaDataConsumer: KafkaDataConsumer is not running in UninterruptibleThread. It may hang when KafkaDataConsumer's methods are interrupted because of KAFKA-1894\n",
      "23/05/17 18:46:54 WARN KafkaDataConsumer: KafkaDataConsumer is not running in UninterruptibleThread. It may hang when KafkaDataConsumer's methods are interrupted because of KAFKA-1894\n",
      "23/05/17 18:46:54 WARN KafkaDataConsumer: KafkaDataConsumer is not running in UninterruptibleThread. It may hang when KafkaDataConsumer's methods are interrupted because of KAFKA-1894\n",
      "23/05/17 18:46:54 WARN KafkaDataConsumer: KafkaDataConsumer is not running in UninterruptibleThread. It may hang when KafkaDataConsumer's methods are interrupted because of KAFKA-1894\n",
      "23/05/17 18:46:54 WARN KafkaDataConsumer: KafkaDataConsumer is not running in UninterruptibleThread. It may hang when KafkaDataConsumer's methods are interrupted because of KAFKA-1894\n"
     ]
    },
    {
     "name": "stderr",
     "output_type": "stream",
     "text": [
      "\r",
      "[Stage 92:>                                                         (0 + 1) / 1]\r",
      "215105790\n",
      "418382334\n",
      "419172606\n",
      "418582014\n",
      "418382334\n",
      "\r",
      "                                                                                \r"
     ]
    },
    {
     "name": "stdout",
     "output_type": "stream",
     "text": [
      "-------------------------------------------\n",
      "Batch: 92\n",
      "-------------------------------------------\n",
      "+-----------+------+-------------+---+-------------------------+-------------+-----+------------+\n",
      "|topic      |bus_id|can_id       |dlc|data                     |timestamp    |value|message_name|\n",
      "+-----------+------+-------------+---+-------------------------+-------------+-----+------------+\n",
      "|canbus_test|bus_37|[0C D2 40 27]|8  |[00 00 A0 00 00 00 00 00]|1684318512413|null |null        |\n",
      "|canbus_test|bus_35|[18 F0 01 0B]|8  |[00 00 F3 FF FF 01 FF F7]|1684318735681|null |EBC1        |\n",
      "|canbus_test|bus_33|[18 FC 10 F4]|8  |[FF FF 60 26 44 44 00 00]|1684317251631|null |null        |\n",
      "|canbus_test|bus_34|[18 F3 0D 00]|8  |[00 ED 08 FF FF 02 00 00]|1684317863803|null |null        |\n",
      "|canbus_test|bus_36|[18 F0 01 0B]|8  |[00 00 F3 FF FF 01 FF F7]|1684318034561|null |EBC1        |\n",
      "+-----------+------+-------------+---+-------------------------+-------------+-----+------------+\n",
      "\n",
      "23/05/17 18:46:55 WARN KafkaDataConsumer: KafkaDataConsumer is not running in UninterruptibleThread. It may hang when KafkaDataConsumer's methods are interrupted because of KAFKA-1894\n",
      "23/05/17 18:46:55 WARN KafkaDataConsumer: KafkaDataConsumer is not running in UninterruptibleThread. It may hang when KafkaDataConsumer's methods are interrupted because of KAFKA-1894\n",
      "23/05/17 18:46:55 WARN KafkaDataConsumer: KafkaDataConsumer is not running in UninterruptibleThread. It may hang when KafkaDataConsumer's methods are interrupted because of KAFKA-1894\n",
      "23/05/17 18:46:55 WARN KafkaDataConsumer: KafkaDataConsumer is not running in UninterruptibleThread. It may hang when KafkaDataConsumer's methods are interrupted because of KAFKA-1894\n",
      "23/05/17 18:46:55 WARN KafkaDataConsumer: KafkaDataConsumer is not running in UninterruptibleThread. It may hang when KafkaDataConsumer's methods are interrupted because of KAFKA-1894\n"
     ]
    },
    {
     "name": "stderr",
     "output_type": "stream",
     "text": [
      "\r",
      "[Stage 93:>                                                         (0 + 1) / 1]\r",
      "217055998\n",
      "418382334\n",
      "418382334\n",
      "419348478\n",
      "419348478\n",
      "\r",
      "                                                                                \r"
     ]
    },
    {
     "name": "stdout",
     "output_type": "stream",
     "text": [
      "-------------------------------------------\n",
      "Batch: 93\n",
      "-------------------------------------------\n",
      "+-----------+------+-------------+---+-------------------------+-------------+-----+------------+\n",
      "|topic      |bus_id|can_id       |dlc|data                     |timestamp    |value|message_name|\n",
      "+-----------+------+-------------+---+-------------------------+-------------+-----+------------+\n",
      "|canbus_test|bus_37|[0C F0 02 03]|8  |[CD FF FE FF FF FF FF FF]|1684318513422|null |ETC1        |\n",
      "|canbus_test|bus_33|[18 F0 01 0B]|8  |[00 00 F3 FF FF 01 FF F7]|1684317252641|null |EBC1        |\n",
      "|canbus_test|bus_36|[18 F0 01 0B]|8  |[00 00 F3 FF FF 01 FF F7]|1684318035558|null |EBC1        |\n",
      "|canbus_test|bus_34|[18 FE BF 0B]|8  |[00 00 7D 7D 7D 7D FF FF]|1684317864812|null |EBC2        |\n",
      "|canbus_test|bus_35|[18 FE BF 0B]|8  |[00 00 7D 7D 7D 7D FF FF]|1684318736682|null |EBC2        |\n",
      "+-----------+------+-------------+---+-------------------------+-------------+-----+------------+\n",
      "\n",
      "23/05/17 18:46:56 WARN KafkaDataConsumer: KafkaDataConsumer is not running in UninterruptibleThread. It may hang when KafkaDataConsumer's methods are interrupted because of KAFKA-1894\n",
      "23/05/17 18:46:56 WARN KafkaDataConsumer: KafkaDataConsumer is not running in UninterruptibleThread. It may hang when KafkaDataConsumer's methods are interrupted because of KAFKA-1894\n",
      "23/05/17 18:46:56 WARN KafkaDataConsumer: KafkaDataConsumer is not running in UninterruptibleThread. It may hang when KafkaDataConsumer's methods are interrupted because of KAFKA-1894\n",
      "23/05/17 18:46:56 WARN KafkaDataConsumer: KafkaDataConsumer is not running in UninterruptibleThread. It may hang when KafkaDataConsumer's methods are interrupted because of KAFKA-1894\n",
      "23/05/17 18:46:56 WARN KafkaDataConsumer: KafkaDataConsumer is not running in UninterruptibleThread. It may hang when KafkaDataConsumer's methods are interrupted because of KAFKA-1894\n"
     ]
    },
    {
     "name": "stderr",
     "output_type": "stream",
     "text": [
      "\r",
      "[Stage 94:>                                                         (0 + 1) / 1]\r",
      "419351294\n",
      "418583294\n",
      "419373310\n",
      "419174142\n",
      "419348478\n",
      "\r",
      "                                                                                \r"
     ]
    },
    {
     "name": "stdout",
     "output_type": "stream",
     "text": [
      "-------------------------------------------\n",
      "Batch: 94\n",
      "-------------------------------------------\n",
      "+-----------+------+-------------+---+-------------------------+-------------+-----+------------+\n",
      "|topic      |bus_id|can_id       |dlc|data                     |timestamp    |value|message_name|\n",
      "+-----------+------+-------------+---+-------------------------+-------------+-----+------------+\n",
      "|canbus_test|bus_37|[18 FE CA 2F]|8  |[F3 FF 00 00 00 00 FF FF]|1684318514440|null |DM1         |\n",
      "|canbus_test|bus_35|[18 F3 12 00]|8  |[39 80 21 00 14 18 21 FF]|1684318737692|null |null        |\n",
      "|canbus_test|bus_36|[18 FF 20 EF]|8  |[F0 7D 00 00 7D EF FF 7D]|1684318036559|null |null        |\n",
      "|canbus_test|bus_34|[18 FC 16 21]|8  |[03 C7 00 00 72 02 FF 41]|1684317865824|null |null        |\n",
      "|canbus_test|bus_33|[18 FE BF 0B]|8  |[00 00 7D 7D 7D 7D FF FF]|1684317253649|null |EBC2        |\n",
      "+-----------+------+-------------+---+-------------------------+-------------+-----+------------+\n",
      "\n",
      "23/05/17 18:46:57 WARN KafkaDataConsumer: KafkaDataConsumer is not running in UninterruptibleThread. It may hang when KafkaDataConsumer's methods are interrupted because of KAFKA-1894\n",
      "23/05/17 18:46:57 WARN KafkaDataConsumer: KafkaDataConsumer is not running in UninterruptibleThread. It may hang when KafkaDataConsumer's methods are interrupted because of KAFKA-1894\n",
      "23/05/17 18:46:57 WARN KafkaDataConsumer: KafkaDataConsumer is not running in UninterruptibleThread. It may hang when KafkaDataConsumer's methods are interrupted because of KAFKA-1894\n",
      "23/05/17 18:46:57 WARN KafkaDataConsumer: KafkaDataConsumer is not running in UninterruptibleThread. It may hang when KafkaDataConsumer's methods are interrupted because of KAFKA-1894\n",
      "23/05/17 18:46:57 WARN KafkaDataConsumer: KafkaDataConsumer is not running in UninterruptibleThread. It may hang when KafkaDataConsumer's methods are interrupted because of KAFKA-1894\n"
     ]
    },
    {
     "name": "stderr",
     "output_type": "stream",
     "text": [
      "419351294:>                                                         (0 + 1) / 1]\n",
      "418382334\n",
      "418382334\n",
      "150892286\n",
      "419351294\n",
      "                                                                                \r"
     ]
    },
    {
     "name": "stdout",
     "output_type": "stream",
     "text": [
      "-------------------------------------------\n",
      "Batch: 95\n",
      "-------------------------------------------\n",
      "+-----------+------+-------------+---+-------------------------+-------------+-----+------------+\n",
      "|topic      |bus_id|can_id       |dlc|data                     |timestamp    |value|message_name|\n",
      "+-----------+------+-------------+---+-------------------------+-------------+-----+------------+\n",
      "|canbus_test|bus_37|[18 FE CA 2F]|8  |[F3 FF 00 00 00 00 FF FF]|1684318515478|null |DM1         |\n",
      "|canbus_test|bus_35|[18 F0 01 0B]|8  |[00 00 F3 FF FF 01 FF F7]|1684318738693|null |EBC1        |\n",
      "|canbus_test|bus_36|[18 F0 01 0B]|8  |[00 00 F3 FF FF 01 FF F7]|1684318038598|null |EBC1        |\n",
      "|canbus_test|bus_34|[08 FE 6E 0B]|8  |[00 00 00 00 00 00 00 00]|1684317866839|null |HRW         |\n",
      "|canbus_test|bus_33|[18 FE CA 2F]|8  |[F3 FF 00 00 00 00 FF FF]|1684317254654|null |DM1         |\n",
      "+-----------+------+-------------+---+-------------------------+-------------+-----+------------+\n",
      "\n",
      "23/05/17 18:46:58 WARN KafkaDataConsumer: KafkaDataConsumer is not running in UninterruptibleThread. It may hang when KafkaDataConsumer's methods are interrupted because of KAFKA-1894\n",
      "23/05/17 18:46:58 WARN KafkaDataConsumer: KafkaDataConsumer is not running in UninterruptibleThread. It may hang when KafkaDataConsumer's methods are interrupted because of KAFKA-1894\n",
      "23/05/17 18:46:58 WARN KafkaDataConsumer: KafkaDataConsumer is not running in UninterruptibleThread. It may hang when KafkaDataConsumer's methods are interrupted because of KAFKA-1894\n",
      "23/05/17 18:46:58 WARN KafkaDataConsumer: KafkaDataConsumer is not running in UninterruptibleThread. It may hang when KafkaDataConsumer's methods are interrupted because of KAFKA-1894\n",
      "23/05/17 18:46:58 WARN KafkaDataConsumer: KafkaDataConsumer is not running in UninterruptibleThread. It may hang when KafkaDataConsumer's methods are interrupted because of KAFKA-1894\n"
     ]
    },
    {
     "name": "stderr",
     "output_type": "stream",
     "text": [
      "419173630:>                                                         (0 + 1) / 1]\n",
      "217055998\n",
      "418382334\n",
      "419094782\n",
      "418382334\n",
      "                                                                                \r"
     ]
    },
    {
     "name": "stdout",
     "output_type": "stream",
     "text": [
      "-------------------------------------------\n",
      "Batch: 96\n",
      "-------------------------------------------\n",
      "+-----------+------+-------------+---+-------------------------+-------------+-----+------------+\n",
      "|topic      |bus_id|can_id       |dlc|data                     |timestamp    |value|message_name|\n",
      "+-----------+------+-------------+---+-------------------------+-------------+-----+------------+\n",
      "|canbus_test|bus_37|[18 FC 14 21]|8  |[FF FF 00 00 71 02 FF 0D]|1684318516498|null |null        |\n",
      "|canbus_test|bus_35|[0C F0 02 03]|8  |[CD FF FE FF FF FF FF FF]|1684318739718|null |ETC1        |\n",
      "|canbus_test|bus_36|[18 F0 01 0B]|8  |[00 00 F3 FF FF 01 FF F7]|1684318040634|null |EBC1        |\n",
      "|canbus_test|bus_34|[18 FA E0 21]|8  |[FF FF FF 05 DC 13 F1 FF]|1684317867848|null |null        |\n",
      "|canbus_test|bus_33|[18 F0 01 0B]|8  |[00 00 F3 FF FF 01 FF F7]|1684317255662|null |EBC1        |\n",
      "+-----------+------+-------------+---+-------------------------+-------------+-----+------------+\n",
      "\n",
      "23/05/17 18:46:59 WARN KafkaDataConsumer: KafkaDataConsumer is not running in UninterruptibleThread. It may hang when KafkaDataConsumer's methods are interrupted because of KAFKA-1894\n",
      "23/05/17 18:46:59 WARN KafkaDataConsumer: KafkaDataConsumer is not running in UninterruptibleThread. It may hang when KafkaDataConsumer's methods are interrupted because of KAFKA-1894\n",
      "23/05/17 18:46:59 WARN KafkaDataConsumer: KafkaDataConsumer is not running in UninterruptibleThread. It may hang when KafkaDataConsumer's methods are interrupted because of KAFKA-1894\n",
      "23/05/17 18:46:59 WARN KafkaDataConsumer: KafkaDataConsumer is not running in UninterruptibleThread. It may hang when KafkaDataConsumer's methods are interrupted because of KAFKA-1894\n",
      "23/05/17 18:46:59 WARN KafkaDataConsumer: KafkaDataConsumer is not running in UninterruptibleThread. It may hang when KafkaDataConsumer's methods are interrupted because of KAFKA-1894\n"
     ]
    },
    {
     "name": "stderr",
     "output_type": "stream",
     "text": [
      "\r",
      "[Stage 97:>                                                         (0 + 1) / 1]\r",
      "217055998\n",
      "217055998\n",
      "419351294\n",
      "419348478\n",
      "217996030\n",
      "\r",
      "                                                                                \r"
     ]
    },
    {
     "name": "stdout",
     "output_type": "stream",
     "text": [
      "-------------------------------------------\n",
      "Batch: 97\n",
      "-------------------------------------------\n",
      "+-----------+------+-------------+---+-------------------------+-------------+-----+------------+\n",
      "|topic      |bus_id|can_id       |dlc|data                     |timestamp    |value|message_name|\n",
      "+-----------+------+-------------+---+-------------------------+-------------+-----+------------+\n",
      "|canbus_test|bus_37|[0C F0 02 03]|8  |[CD FF FE FF FF FF FF FF]|1684318517514|null |ETC1        |\n",
      "|canbus_test|bus_33|[0C F0 02 03]|8  |[CD FF FE FF FF FF FF FF]|1684317256666|null |ETC1        |\n",
      "|canbus_test|bus_34|[18 FE CA 2F]|8  |[F3 FF 00 00 00 00 FF FF]|1684317868860|null |DM1         |\n",
      "|canbus_test|bus_35|[18 FE BF 0B]|8  |[00 00 7D 7D 7D 7D FF FF]|1684318740714|null |EBC2        |\n",
      "|canbus_test|bus_36|[0C FE 5A 21]|8  |[FF FF FF FF EF FF FF FF]|1684318041647|null |ASC1        |\n",
      "+-----------+------+-------------+---+-------------------------+-------------+-----+------------+\n",
      "\n",
      "23/05/17 18:47:00 WARN KafkaDataConsumer: KafkaDataConsumer is not running in UninterruptibleThread. It may hang when KafkaDataConsumer's methods are interrupted because of KAFKA-1894\n",
      "23/05/17 18:47:00 WARN KafkaDataConsumer: KafkaDataConsumer is not running in UninterruptibleThread. It may hang when KafkaDataConsumer's methods are interrupted because of KAFKA-1894\n",
      "23/05/17 18:47:00 WARN KafkaDataConsumer: KafkaDataConsumer is not running in UninterruptibleThread. It may hang when KafkaDataConsumer's methods are interrupted because of KAFKA-1894\n",
      "23/05/17 18:47:00 WARN KafkaDataConsumer: KafkaDataConsumer is not running in UninterruptibleThread. It may hang when KafkaDataConsumer's methods are interrupted because of KAFKA-1894\n",
      "23/05/17 18:47:00 WARN KafkaDataConsumer: KafkaDataConsumer is not running in UninterruptibleThread. It may hang when KafkaDataConsumer's methods are interrupted because of KAFKA-1894\n"
     ]
    },
    {
     "name": "stderr",
     "output_type": "stream",
     "text": [
      "\r",
      "[Stage 98:>                                                         (0 + 1) / 1]\r",
      "419319806\n",
      "418382078\n",
      "418583806\n",
      "419348478\n",
      "419351294\n",
      "\r",
      "                                                                                \r"
     ]
    },
    {
     "name": "stdout",
     "output_type": "stream",
     "text": [
      "-------------------------------------------\n",
      "Batch: 98\n",
      "-------------------------------------------\n",
      "+-----------+------+-------------+---+-------------------------+-------------+-----+------------+\n",
      "|topic      |bus_id|can_id       |dlc|data                     |timestamp    |value|message_name|\n",
      "+-----------+------+-------------+---+-------------------------+-------------+-----+------------+\n",
      "|canbus_test|bus_35|[18 FE 4F 0B]|8  |[FF FF FF FF FF FF FF FF]|1684318741710|null |VDC1        |\n",
      "|canbus_test|bus_36|[18 F0 00 10]|8  |[FF 7D FF FF FF FF FF 7D]|1684318042655|null |ERC1        |\n",
      "|canbus_test|bus_37|[18 F3 14 00]|8  |[36 00 C9 0C C8 0C C9 0C]|1684318518520|null |null        |\n",
      "|canbus_test|bus_33|[18 FE BF 0B]|8  |[00 00 7D 7D 7D 7D FF FF]|1684317257691|null |EBC2        |\n",
      "|canbus_test|bus_34|[18 FE CA 2F]|8  |[F3 FF 00 00 00 00 FF FF]|1684317869871|null |DM1         |\n",
      "+-----------+------+-------------+---+-------------------------+-------------+-----+------------+\n",
      "\n",
      "23/05/17 18:47:01 WARN KafkaDataConsumer: KafkaDataConsumer is not running in UninterruptibleThread. It may hang when KafkaDataConsumer's methods are interrupted because of KAFKA-1894\n",
      "23/05/17 18:47:01 WARN KafkaDataConsumer: KafkaDataConsumer is not running in UninterruptibleThread. It may hang when KafkaDataConsumer's methods are interrupted because of KAFKA-1894\n",
      "23/05/17 18:47:01 WARN KafkaDataConsumer: KafkaDataConsumer is not running in UninterruptibleThread. It may hang when KafkaDataConsumer's methods are interrupted because of KAFKA-1894\n",
      "23/05/17 18:47:01 WARN KafkaDataConsumer: KafkaDataConsumer is not running in UninterruptibleThread. It may hang when KafkaDataConsumer's methods are interrupted because of KAFKA-1894\n",
      "23/05/17 18:47:01 WARN KafkaDataConsumer: KafkaDataConsumer is not running in UninterruptibleThread. It may hang when KafkaDataConsumer's methods are interrupted because of KAFKA-1894\n"
     ]
    },
    {
     "name": "stderr",
     "output_type": "stream",
     "text": [
      "\r",
      "[Stage 99:>                                                         (0 + 1) / 1]\r",
      "418382334\n",
      "419319550\n",
      "419348478\n",
      "418382334\n",
      "419348478\n",
      "\r",
      "                                                                                \r"
     ]
    },
    {
     "name": "stdout",
     "output_type": "stream",
     "text": [
      "-------------------------------------------\n",
      "Batch: 99\n",
      "-------------------------------------------\n",
      "+-----------+------+-------------+---+-------------------------+-------------+-----+------------+\n",
      "|topic      |bus_id|can_id       |dlc|data                     |timestamp    |value|message_name|\n",
      "+-----------+------+-------------+---+-------------------------+-------------+-----+------------+\n",
      "|canbus_test|bus_33|[18 F0 01 0B]|8  |[00 00 F3 FF FF 01 FF F7]|1684317258700|null |EBC1        |\n",
      "|canbus_test|bus_36|[18 FE 4E EC]|8  |[02 F3 FF 3F FF FF FF FF]|1684318043658|null |DC1         |\n",
      "|canbus_test|bus_34|[18 FE BF 0B]|8  |[00 00 7D 7D 7D 7D FF FF]|1684317870879|null |EBC2        |\n",
      "|canbus_test|bus_37|[18 F0 01 0B]|8  |[00 00 F3 FF FF 01 FF F7]|1684318519536|null |EBC1        |\n",
      "|canbus_test|bus_35|[18 FE BF 0B]|8  |[00 00 7D 7D 7D 7D FF FF]|1684318742699|null |EBC2        |\n",
      "+-----------+------+-------------+---+-------------------------+-------------+-----+------------+\n",
      "\n",
      "23/05/17 18:47:02 WARN KafkaDataConsumer: KafkaDataConsumer is not running in UninterruptibleThread. It may hang when KafkaDataConsumer's methods are interrupted because of KAFKA-1894\n",
      "23/05/17 18:47:02 WARN KafkaDataConsumer: KafkaDataConsumer is not running in UninterruptibleThread. It may hang when KafkaDataConsumer's methods are interrupted because of KAFKA-1894\n",
      "23/05/17 18:47:02 WARN KafkaDataConsumer: KafkaDataConsumer is not running in UninterruptibleThread. It may hang when KafkaDataConsumer's methods are interrupted because of KAFKA-1894\n",
      "23/05/17 18:47:02 WARN KafkaDataConsumer: KafkaDataConsumer is not running in UninterruptibleThread. It may hang when KafkaDataConsumer's methods are interrupted because of KAFKA-1894\n",
      "23/05/17 18:47:02 WARN KafkaDataConsumer: KafkaDataConsumer is not running in UninterruptibleThread. It may hang when KafkaDataConsumer's methods are interrupted because of KAFKA-1894\n"
     ]
    },
    {
     "name": "stderr",
     "output_type": "stream",
     "text": [
      "\r",
      "[Stage 100:>                                                        (0 + 1) / 1]\r",
      "419351294\n",
      "418382334\n",
      "418382334\n",
      "419351294\n",
      "419351294\n",
      "\r",
      "                                                                                \r"
     ]
    },
    {
     "name": "stdout",
     "output_type": "stream",
     "text": [
      "-------------------------------------------\n",
      "Batch: 100\n",
      "-------------------------------------------\n",
      "+-----------+------+-------------+---+-------------------------+-------------+-----+------------+\n",
      "|topic      |bus_id|can_id       |dlc|data                     |timestamp    |value|message_name|\n",
      "+-----------+------+-------------+---+-------------------------+-------------+-----+------------+\n",
      "|canbus_test|bus_34|[18 FE CA 2F]|8  |[F3 FF 00 00 00 00 FF FF]|1684317871884|null |DM1         |\n",
      "|canbus_test|bus_36|[18 F0 01 0B]|8  |[00 00 F3 FF FF 01 FF F7]|1684318044665|null |EBC1        |\n",
      "|canbus_test|bus_37|[18 F0 01 0B]|8  |[00 00 F3 FF FF 01 FF F7]|1684318520556|null |EBC1        |\n",
      "|canbus_test|bus_35|[18 FE CA 2F]|8  |[F3 FF 00 00 00 00 FF FF]|1684318743717|null |DM1         |\n",
      "|canbus_test|bus_33|[18 FE CA 2F]|8  |[F3 FF 00 00 00 00 FF FF]|1684317259712|null |DM1         |\n",
      "+-----------+------+-------------+---+-------------------------+-------------+-----+------------+\n",
      "\n",
      "23/05/17 18:47:03 WARN KafkaDataConsumer: KafkaDataConsumer is not running in UninterruptibleThread. It may hang when KafkaDataConsumer's methods are interrupted because of KAFKA-1894\n",
      "23/05/17 18:47:03 WARN KafkaDataConsumer: KafkaDataConsumer is not running in UninterruptibleThread. It may hang when KafkaDataConsumer's methods are interrupted because of KAFKA-1894\n",
      "23/05/17 18:47:03 WARN KafkaDataConsumer: KafkaDataConsumer is not running in UninterruptibleThread. It may hang when KafkaDataConsumer's methods are interrupted because of KAFKA-1894\n",
      "23/05/17 18:47:03 WARN KafkaDataConsumer: KafkaDataConsumer is not running in UninterruptibleThread. It may hang when KafkaDataConsumer's methods are interrupted because of KAFKA-1894\n",
      "23/05/17 18:47:03 WARN KafkaDataConsumer: KafkaDataConsumer is not running in UninterruptibleThread. It may hang when KafkaDataConsumer's methods are interrupted because of KAFKA-1894\n"
     ]
    },
    {
     "name": "stderr",
     "output_type": "stream",
     "text": [
      "\r",
      "[Stage 101:>                                                        (0 + 1) / 1]\r",
      "418382078\n",
      "217055998\n",
      "419348478\n",
      "419348478\n",
      "419170302\n",
      "\r",
      "                                                                                \r"
     ]
    },
    {
     "name": "stdout",
     "output_type": "stream",
     "text": [
      "-------------------------------------------\n",
      "Batch: 101\n",
      "-------------------------------------------\n",
      "+-----------+------+-------------+---+-------------------------+-------------+-----+------------+\n",
      "|topic      |bus_id|can_id       |dlc|data                     |timestamp    |value|message_name|\n",
      "+-----------+------+-------------+---+-------------------------+-------------+-----+------------+\n",
      "|canbus_test|bus_33|[18 F0 00 10]|8  |[FF 7D FF FF FF FF FF 7D]|1684317260745|null |ERC1        |\n",
      "|canbus_test|bus_36|[0C F0 02 03]|8  |[CD FF FE FF FF FF FF FF]|1684318045673|null |ETC1        |\n",
      "|canbus_test|bus_37|[18 FE BF 0B]|8  |[00 00 7D 7D 7D 7D FF FF]|1684318521574|null |EBC2        |\n",
      "|canbus_test|bus_35|[18 FE BF 0B]|8  |[00 00 7D 7D 7D 7D FF FF]|1684318744714|null |EBC2        |\n",
      "|canbus_test|bus_34|[18 FC 07 F4]|8  |[CC 09 59 07 8B 02 61 5B]|1684317872898|null |null        |\n",
      "+-----------+------+-------------+---+-------------------------+-------------+-----+------------+\n",
      "\n",
      "23/05/17 18:47:04 WARN KafkaDataConsumer: KafkaDataConsumer is not running in UninterruptibleThread. It may hang when KafkaDataConsumer's methods are interrupted because of KAFKA-1894\n",
      "23/05/17 18:47:04 WARN KafkaDataConsumer: KafkaDataConsumer is not running in UninterruptibleThread. It may hang when KafkaDataConsumer's methods are interrupted because of KAFKA-1894\n",
      "23/05/17 18:47:04 WARN KafkaDataConsumer: KafkaDataConsumer is not running in UninterruptibleThread. It may hang when KafkaDataConsumer's methods are interrupted because of KAFKA-1894\n",
      "23/05/17 18:47:04 WARN KafkaDataConsumer: KafkaDataConsumer is not running in UninterruptibleThread. It may hang when KafkaDataConsumer's methods are interrupted because of KAFKA-1894\n",
      "23/05/17 18:47:04 WARN KafkaDataConsumer: KafkaDataConsumer is not running in UninterruptibleThread. It may hang when KafkaDataConsumer's methods are interrupted because of KAFKA-1894\n"
     ]
    },
    {
     "name": "stderr",
     "output_type": "stream",
     "text": [
      "\r",
      "[Stage 102:>                                                        (0 + 1) / 1]\r",
      "419173630\n",
      "419348478\n",
      "419343870\n",
      "217055998\n",
      "418382334\n",
      "\r",
      "                                                                                \r"
     ]
    },
    {
     "name": "stdout",
     "output_type": "stream",
     "text": [
      "-------------------------------------------\n",
      "Batch: 102\n",
      "-------------------------------------------\n",
      "+-----------+------+-------------+---+-------------------------+-------------+-----+------------+\n",
      "|topic      |bus_id|can_id       |dlc|data                     |timestamp    |value|message_name|\n",
      "+-----------+------+-------------+---+-------------------------+-------------+-----+------------+\n",
      "|canbus_test|bus_33|[18 FC 14 21]|8  |[FF FF 00 00 71 02 FF 0D]|1684317262803|null |null        |\n",
      "|canbus_test|bus_35|[18 FE BF 0B]|8  |[00 00 7D 7D 7D 7D FF FF]|1684318745715|null |EBC2        |\n",
      "|canbus_test|bus_34|[18 FE AD 0B]|8  |[00 00 00 00 FE FE FF FF]|1684317873905|null |EBC3        |\n",
      "|canbus_test|bus_36|[0C F0 02 03]|8  |[CD FF FE FF FF FF FF FF]|1684318046694|null |ETC1        |\n",
      "|canbus_test|bus_37|[18 F0 01 0B]|8  |[00 00 F3 FF FF 01 FF F7]|1684318522601|null |EBC1        |\n",
      "+-----------+------+-------------+---+-------------------------+-------------+-----+------------+\n",
      "\n",
      "23/05/17 18:47:05 WARN KafkaDataConsumer: KafkaDataConsumer is not running in UninterruptibleThread. It may hang when KafkaDataConsumer's methods are interrupted because of KAFKA-1894\n",
      "23/05/17 18:47:05 WARN KafkaDataConsumer: KafkaDataConsumer is not running in UninterruptibleThread. It may hang when KafkaDataConsumer's methods are interrupted because of KAFKA-1894\n",
      "23/05/17 18:47:05 WARN KafkaDataConsumer: KafkaDataConsumer is not running in UninterruptibleThread. It may hang when KafkaDataConsumer's methods are interrupted because of KAFKA-1894\n",
      "23/05/17 18:47:05 WARN KafkaDataConsumer: KafkaDataConsumer is not running in UninterruptibleThread. It may hang when KafkaDataConsumer's methods are interrupted because of KAFKA-1894\n",
      "23/05/17 18:47:05 WARN KafkaDataConsumer: KafkaDataConsumer is not running in UninterruptibleThread. It may hang when KafkaDataConsumer's methods are interrupted because of KAFKA-1894\n"
     ]
    },
    {
     "name": "stderr",
     "output_type": "stream",
     "text": [
      "\r",
      "[Stage 103:>                                                        (0 + 1) / 1]\r",
      "419348478\n",
      "419173630\n",
      "418382334\n",
      "419351294\n",
      "217055998\n",
      "\r",
      "                                                                                \r"
     ]
    },
    {
     "name": "stdout",
     "output_type": "stream",
     "text": [
      "-------------------------------------------\n",
      "Batch: 103\n",
      "-------------------------------------------\n",
      "+-----------+------+-------------+---+-------------------------+-------------+-----+------------+\n",
      "|topic      |bus_id|can_id       |dlc|data                     |timestamp    |value|message_name|\n",
      "+-----------+------+-------------+---+-------------------------+-------------+-----+------------+\n",
      "|canbus_test|bus_37|[18 FE BF 0B]|8  |[00 00 7D 7D 7D 7D FF FF]|1684318523619|null |EBC2        |\n",
      "|canbus_test|bus_36|[18 FC 14 21]|8  |[FF FF 00 00 71 02 FF 0D]|1684318047701|null |null        |\n",
      "|canbus_test|bus_34|[18 F0 01 0B]|8  |[00 00 F3 FF FF 01 FF F7]|1684317874918|null |EBC1        |\n",
      "|canbus_test|bus_35|[18 FE CA 2F]|8  |[F3 FF 00 00 00 00 FF FF]|1684318746728|null |DM1         |\n",
      "|canbus_test|bus_33|[0C F0 02 03]|8  |[CD FF FE FF FF FF FF FF]|1684317263825|null |ETC1        |\n",
      "+-----------+------+-------------+---+-------------------------+-------------+-----+------------+\n",
      "\n",
      "23/05/17 18:47:06 WARN KafkaDataConsumer: KafkaDataConsumer is not running in UninterruptibleThread. It may hang when KafkaDataConsumer's methods are interrupted because of KAFKA-1894\n",
      "23/05/17 18:47:06 WARN KafkaDataConsumer: KafkaDataConsumer is not running in UninterruptibleThread. It may hang when KafkaDataConsumer's methods are interrupted because of KAFKA-1894\n",
      "23/05/17 18:47:06 WARN KafkaDataConsumer: KafkaDataConsumer is not running in UninterruptibleThread. It may hang when KafkaDataConsumer's methods are interrupted because of KAFKA-1894\n",
      "23/05/17 18:47:06 WARN KafkaDataConsumer: KafkaDataConsumer is not running in UninterruptibleThread. It may hang when KafkaDataConsumer's methods are interrupted because of KAFKA-1894\n",
      "23/05/17 18:47:06 WARN KafkaDataConsumer: KafkaDataConsumer is not running in UninterruptibleThread. It may hang when KafkaDataConsumer's methods are interrupted because of KAFKA-1894\n"
     ]
    },
    {
     "name": "stderr",
     "output_type": "stream",
     "text": [
      "\r",
      "[Stage 104:>                                                        (0 + 1) / 1]\r",
      "418382334\n",
      "217055998\n",
      "418382334\n",
      "418382334\n",
      "419170558\n",
      "\r",
      "                                                                                \r"
     ]
    },
    {
     "name": "stdout",
     "output_type": "stream",
     "text": [
      "-------------------------------------------\n",
      "Batch: 104\n",
      "-------------------------------------------\n",
      "+-----------+------+-------------+---+-------------------------+-------------+-----+------------+\n",
      "|topic      |bus_id|can_id       |dlc|data                     |timestamp    |value|message_name|\n",
      "+-----------+------+-------------+---+-------------------------+-------------+-----+------------+\n",
      "|canbus_test|bus_33|[18 F0 01 0B]|8  |[00 00 F3 FF FF 01 FF F7]|1684317264828|null |EBC1        |\n",
      "|canbus_test|bus_37|[0C F0 02 03]|8  |[CD FF FE FF FF FF FF FF]|1684318524633|null |ETC1        |\n",
      "|canbus_test|bus_34|[18 F0 01 0B]|8  |[00 00 F3 FF FF 01 FF F7]|1684317875935|null |EBC1        |\n",
      "|canbus_test|bus_36|[18 F0 01 0B]|8  |[00 00 F3 FF FF 01 FF F7]|1684318048703|null |EBC1        |\n",
      "|canbus_test|bus_35|[18 FC 08 F4]|8  |[73 02 60 27 64 41 18 C4]|1684318747748|null |null        |\n",
      "+-----------+------+-------------+---+-------------------------+-------------+-----+------------+\n",
      "\n",
      "23/05/17 18:47:07 WARN KafkaDataConsumer: KafkaDataConsumer is not running in UninterruptibleThread. It may hang when KafkaDataConsumer's methods are interrupted because of KAFKA-1894\n",
      "23/05/17 18:47:07 WARN KafkaDataConsumer: KafkaDataConsumer is not running in UninterruptibleThread. It may hang when KafkaDataConsumer's methods are interrupted because of KAFKA-1894\n",
      "23/05/17 18:47:07 WARN KafkaDataConsumer: KafkaDataConsumer is not running in UninterruptibleThread. It may hang when KafkaDataConsumer's methods are interrupted because of KAFKA-1894\n",
      "23/05/17 18:47:07 WARN KafkaDataConsumer: KafkaDataConsumer is not running in UninterruptibleThread. It may hang when KafkaDataConsumer's methods are interrupted because of KAFKA-1894\n",
      "23/05/17 18:47:07 WARN KafkaDataConsumer: KafkaDataConsumer is not running in UninterruptibleThread. It may hang when KafkaDataConsumer's methods are interrupted because of KAFKA-1894\n"
     ]
    },
    {
     "name": "stderr",
     "output_type": "stream",
     "text": [
      "\r",
      "[Stage 105:>                                                        (0 + 1) / 1]\r",
      "419174398\n",
      "217056510\n",
      "419351294\n",
      "418383358\n",
      "418382078\n",
      "\r",
      "                                                                                \r"
     ]
    },
    {
     "name": "stdout",
     "output_type": "stream",
     "text": [
      "-------------------------------------------\n",
      "Batch: 105\n",
      "-------------------------------------------\n",
      "+-----------+------+-------------+---+-------------------------+-------------+-----+------------+\n",
      "|topic      |bus_id|can_id       |dlc|data                     |timestamp    |value|message_name|\n",
      "+-----------+------+-------------+---+-------------------------+-------------+-----+------------+\n",
      "|canbus_test|bus_33|[18 FC 17 21]|8  |[F8 2A 20 4E FF FF FE EE]|1684317265843|null |null        |\n",
      "|canbus_test|bus_34|[0C F0 04 00]|8  |[FF 7D 7D 00 00 FF FF FF]|1684317876944|null |EEC1        |\n",
      "|canbus_test|bus_37|[18 FE CA 2F]|8  |[F3 FF 00 00 00 00 FF FF]|1684318525645|null |DM1         |\n",
      "|canbus_test|bus_35|[18 F0 05 03]|8  |[FF FF FF 7D FF FF FF FF]|1684318748763|null |ETC2        |\n",
      "|canbus_test|bus_36|[18 F0 00 10]|8  |[FF 7D FF FF FF FF FF 7D]|1684318049705|null |ERC1        |\n",
      "+-----------+------+-------------+---+-------------------------+-------------+-----+------------+\n",
      "\n",
      "23/05/17 18:47:08 WARN KafkaDataConsumer: KafkaDataConsumer is not running in UninterruptibleThread. It may hang when KafkaDataConsumer's methods are interrupted because of KAFKA-1894\n",
      "23/05/17 18:47:08 WARN KafkaDataConsumer: KafkaDataConsumer is not running in UninterruptibleThread. It may hang when KafkaDataConsumer's methods are interrupted because of KAFKA-1894\n",
      "23/05/17 18:47:08 WARN KafkaDataConsumer: KafkaDataConsumer is not running in UninterruptibleThread. It may hang when KafkaDataConsumer's methods are interrupted because of KAFKA-1894\n",
      "23/05/17 18:47:08 WARN KafkaDataConsumer: KafkaDataConsumer is not running in UninterruptibleThread. It may hang when KafkaDataConsumer's methods are interrupted because of KAFKA-1894\n",
      "23/05/17 18:47:08 WARN KafkaDataConsumer: KafkaDataConsumer is not running in UninterruptibleThread. It may hang when KafkaDataConsumer's methods are interrupted because of KAFKA-1894\n"
     ]
    },
    {
     "name": "stderr",
     "output_type": "stream",
     "text": [
      "\r",
      "[Stage 106:>                                                        (0 + 1) / 1]\r",
      "419170302\n",
      "419319806\n",
      "419348478\n",
      "418580734\n",
      "419348478\n",
      "\r",
      "                                                                                \r"
     ]
    },
    {
     "name": "stdout",
     "output_type": "stream",
     "text": [
      "-------------------------------------------\n",
      "Batch: 106\n",
      "-------------------------------------------\n",
      "+-----------+------+-------------+---+-------------------------+-------------+-----+------------+\n",
      "|topic      |bus_id|can_id       |dlc|data                     |timestamp    |value|message_name|\n",
      "+-----------+------+-------------+---+-------------------------+-------------+-----+------------+\n",
      "|canbus_test|bus_37|[18 FC 07 F4]|8  |[CC 09 59 07 8A 02 60 5D]|1684318526665|null |null        |\n",
      "|canbus_test|bus_36|[18 FE 4F 0B]|8  |[FF FF FF FF FF FF FF FF]|1684318050708|null |VDC1        |\n",
      "|canbus_test|bus_34|[18 FE BF 0B]|8  |[00 00 7D 7D 7D 7D FF FF]|1684317877958|null |EBC2        |\n",
      "|canbus_test|bus_35|[18 F3 08 00]|8  |[20 12 C7 03 00 13 01 6F]|1684318749771|null |null        |\n",
      "|canbus_test|bus_33|[18 FE BF 0B]|8  |[00 00 7D 7D 7D 7D FF FF]|1684317266861|null |EBC2        |\n",
      "+-----------+------+-------------+---+-------------------------+-------------+-----+------------+\n",
      "\n",
      "23/05/17 18:47:09 WARN KafkaDataConsumer: KafkaDataConsumer is not running in UninterruptibleThread. It may hang when KafkaDataConsumer's methods are interrupted because of KAFKA-1894\n",
      "23/05/17 18:47:09 WARN KafkaDataConsumer: KafkaDataConsumer is not running in UninterruptibleThread. It may hang when KafkaDataConsumer's methods are interrupted because of KAFKA-1894\n",
      "23/05/17 18:47:09 WARN KafkaDataConsumer: KafkaDataConsumer is not running in UninterruptibleThread. It may hang when KafkaDataConsumer's methods are interrupted because of KAFKA-1894\n",
      "23/05/17 18:47:09 WARN KafkaDataConsumer: KafkaDataConsumer is not running in UninterruptibleThread. It may hang when KafkaDataConsumer's methods are interrupted because of KAFKA-1894\n",
      "23/05/17 18:47:09 WARN KafkaDataConsumer: KafkaDataConsumer is not running in UninterruptibleThread. It may hang when KafkaDataConsumer's methods are interrupted because of KAFKA-1894\n"
     ]
    },
    {
     "name": "stderr",
     "output_type": "stream",
     "text": [
      "\r",
      "[Stage 107:>                                                        (0 + 1) / 1]\r",
      "419343870\n",
      "418583806\n",
      "418580478\n",
      "419355134\n",
      "150892286\n",
      "\r",
      "                                                                                \r"
     ]
    },
    {
     "name": "stdout",
     "output_type": "stream",
     "text": [
      "-------------------------------------------\n",
      "Batch: 107\n",
      "-------------------------------------------\n",
      "+-----------+------+-------------+---+-------------------------+-------------+-----+------------+\n",
      "|topic      |bus_id|can_id       |dlc|data                     |timestamp    |value|message_name|\n",
      "+-----------+------+-------------+---+-------------------------+-------------+-----+------------+\n",
      "|canbus_test|bus_37|[18 FE AD 0B]|8  |[00 00 00 00 FE FE FF FF]|1684318528710|null |EBC3        |\n",
      "|canbus_test|bus_34|[18 F3 14 00]|8  |[40 00 C7 0C C9 0C C8 0C]|1684317878964|null |null        |\n",
      "|canbus_test|bus_35|[18 F3 07 00]|8  |[FE 48 F8 2A 9C 46 47 EA]|1684318750771|null |null        |\n",
      "|canbus_test|bus_36|[18 FE D9 10]|8  |[5F FF FF FF FF FF FF FF]|1684318051710|null |AUXIO1      |\n",
      "|canbus_test|bus_33|[08 FE 6E 0B]|8  |[00 00 00 00 00 00 00 00]|1684317267880|null |HRW         |\n",
      "+-----------+------+-------------+---+-------------------------+-------------+-----+------------+\n",
      "\n",
      "23/05/17 18:47:10 WARN KafkaDataConsumer: KafkaDataConsumer is not running in UninterruptibleThread. It may hang when KafkaDataConsumer's methods are interrupted because of KAFKA-1894\n",
      "23/05/17 18:47:10 WARN KafkaDataConsumer: KafkaDataConsumer is not running in UninterruptibleThread. It may hang when KafkaDataConsumer's methods are interrupted because of KAFKA-1894\n",
      "23/05/17 18:47:10 WARN KafkaDataConsumer: KafkaDataConsumer is not running in UninterruptibleThread. It may hang when KafkaDataConsumer's methods are interrupted because of KAFKA-1894\n",
      "23/05/17 18:47:10 WARN KafkaDataConsumer: KafkaDataConsumer is not running in UninterruptibleThread. It may hang when KafkaDataConsumer's methods are interrupted because of KAFKA-1894\n",
      "23/05/17 18:47:10 WARN KafkaDataConsumer: KafkaDataConsumer is not running in UninterruptibleThread. It may hang when KafkaDataConsumer's methods are interrupted because of KAFKA-1894\n"
     ]
    },
    {
     "name": "stderr",
     "output_type": "stream",
     "text": [
      "\r",
      "[Stage 108:>                                                        (0 + 1) / 1]\r",
      "419169534\n",
      "418382334\n",
      "418382334\n",
      "418578686\n",
      "418382334\n",
      "\r",
      "                                                                                \r"
     ]
    },
    {
     "name": "stdout",
     "output_type": "stream",
     "text": [
      "-------------------------------------------\n",
      "Batch: 108\n",
      "-------------------------------------------\n",
      "+-----------+------+-------------+---+-------------------------+-------------+-----+------------+\n",
      "|topic      |bus_id|can_id       |dlc|data                     |timestamp    |value|message_name|\n",
      "+-----------+------+-------------+---+-------------------------+-------------+-----+------------+\n",
      "|canbus_test|bus_35|[18 FC 04 F4]|8  |[84 01 05 3A 40 41 D5 62]|1684318751770|null |null        |\n",
      "|canbus_test|bus_36|[18 F0 01 0B]|8  |[00 00 F3 FF FF 01 FF F7]|1684318052715|null |EBC1        |\n",
      "|canbus_test|bus_34|[18 F0 01 0B]|8  |[00 00 F3 FF FF 01 FF F7]|1684317879983|null |EBC1        |\n",
      "|canbus_test|bus_37|[18 F3 00 00]|8  |[00 00 00 00 00 00 00 7E]|1684318529761|null |null        |\n",
      "|canbus_test|bus_33|[18 F0 01 0B]|8  |[00 00 F3 FF FF 01 FF F7]|1684317268916|null |EBC1        |\n",
      "+-----------+------+-------------+---+-------------------------+-------------+-----+------------+\n",
      "\n",
      "23/05/17 18:47:11 WARN KafkaDataConsumer: KafkaDataConsumer is not running in UninterruptibleThread. It may hang when KafkaDataConsumer's methods are interrupted because of KAFKA-1894\n",
      "23/05/17 18:47:11 WARN KafkaDataConsumer: KafkaDataConsumer is not running in UninterruptibleThread. It may hang when KafkaDataConsumer's methods are interrupted because of KAFKA-1894\n",
      "23/05/17 18:47:11 WARN KafkaDataConsumer: KafkaDataConsumer is not running in UninterruptibleThread. It may hang when KafkaDataConsumer's methods are interrupted because of KAFKA-1894\n",
      "23/05/17 18:47:11 WARN KafkaDataConsumer: KafkaDataConsumer is not running in UninterruptibleThread. It may hang when KafkaDataConsumer's methods are interrupted because of KAFKA-1894\n",
      "23/05/17 18:47:11 WARN KafkaDataConsumer: KafkaDataConsumer is not running in UninterruptibleThread. It may hang when KafkaDataConsumer's methods are interrupted because of KAFKA-1894\n"
     ]
    },
    {
     "name": "stderr",
     "output_type": "stream",
     "text": [
      "\r",
      "[Stage 109:>                                                        (0 + 1) / 1]\r",
      "418586622\n",
      "419348478\n",
      "419319550\n",
      "419351294\n",
      "419351294\n",
      "\r",
      "                                                                                \r"
     ]
    },
    {
     "name": "stdout",
     "output_type": "stream",
     "text": [
      "-------------------------------------------\n",
      "Batch: 109\n",
      "-------------------------------------------\n",
      "+-----------+------+-------------+---+-------------------------+-------------+-----+------------+\n",
      "|topic      |bus_id|can_id       |dlc|data                     |timestamp    |value|message_name|\n",
      "+-----------+------+-------------+---+-------------------------+-------------+-----+------------+\n",
      "|canbus_test|bus_35|[18 F3 1F 00]|8  |[E4 FF FF FF FF FF FF 9A]|1684318752777|null |null        |\n",
      "|canbus_test|bus_34|[18 FE BF 0B]|8  |[00 00 7D 7D 7D 7D FF FF]|1684317880995|null |EBC2        |\n",
      "|canbus_test|bus_37|[18 FE 4E EC]|8  |[02 F3 FF 3F FF FF FF FF]|1684318530802|null |DC1         |\n",
      "|canbus_test|bus_36|[18 FE CA 2F]|8  |[F3 FF 00 00 00 00 FF FF]|1684318053729|null |DM1         |\n",
      "|canbus_test|bus_33|[18 FE CA 2F]|8  |[F3 FF 00 00 00 00 FF FF]|1684317269926|null |DM1         |\n",
      "+-----------+------+-------------+---+-------------------------+-------------+-----+------------+\n",
      "\n",
      "23/05/17 18:47:12 WARN KafkaDataConsumer: KafkaDataConsumer is not running in UninterruptibleThread. It may hang when KafkaDataConsumer's methods are interrupted because of KAFKA-1894\n",
      "23/05/17 18:47:12 WARN KafkaDataConsumer: KafkaDataConsumer is not running in UninterruptibleThread. It may hang when KafkaDataConsumer's methods are interrupted because of KAFKA-1894\n",
      "23/05/17 18:47:12 WARN KafkaDataConsumer: KafkaDataConsumer is not running in UninterruptibleThread. It may hang when KafkaDataConsumer's methods are interrupted because of KAFKA-1894\n",
      "23/05/17 18:47:12 WARN KafkaDataConsumer: KafkaDataConsumer is not running in UninterruptibleThread. It may hang when KafkaDataConsumer's methods are interrupted because of KAFKA-1894\n",
      "23/05/17 18:47:12 WARN KafkaDataConsumer: KafkaDataConsumer is not running in UninterruptibleThread. It may hang when KafkaDataConsumer's methods are interrupted because of KAFKA-1894\n"
     ]
    },
    {
     "name": "stderr",
     "output_type": "stream",
     "text": [
      "\r",
      "[Stage 110:>                                                        (0 + 1) / 1]\r",
      "418382334\n",
      "418580734\n",
      "419172606\n",
      "419348478\n",
      "150892286\n",
      "\r",
      "                                                                                \r"
     ]
    },
    {
     "name": "stdout",
     "output_type": "stream",
     "text": [
      "-------------------------------------------\n",
      "Batch: 110\n",
      "-------------------------------------------\n",
      "+-----------+------+-------------+---+-------------------------+-------------+-----+------------+\n",
      "|topic      |bus_id|can_id       |dlc|data                     |timestamp    |value|message_name|\n",
      "+-----------+------+-------------+---+-------------------------+-------------+-----+------------+\n",
      "|canbus_test|bus_37|[18 F0 01 0B]|8  |[00 00 F3 FF FF 01 FF F7]|1684318531807|null |EBC1        |\n",
      "|canbus_test|bus_35|[18 F3 08 00]|8  |[20 12 C7 03 00 13 01 6F]|1684318753771|null |null        |\n",
      "|canbus_test|bus_36|[18 FC 10 F4]|8  |[FF FF 5B 26 44 44 00 00]|1684318054736|null |null        |\n",
      "|canbus_test|bus_34|[18 FE BF 0B]|8  |[00 00 7D 7D 7D 7D FF FF]|1684317882008|null |EBC2        |\n",
      "|canbus_test|bus_33|[08 FE 6E 0B]|8  |[00 00 00 00 00 00 00 00]|1684317270935|null |HRW         |\n",
      "+-----------+------+-------------+---+-------------------------+-------------+-----+------------+\n",
      "\n",
      "23/05/17 18:47:13 WARN KafkaDataConsumer: KafkaDataConsumer is not running in UninterruptibleThread. It may hang when KafkaDataConsumer's methods are interrupted because of KAFKA-1894\n",
      "23/05/17 18:47:13 WARN KafkaDataConsumer: KafkaDataConsumer is not running in UninterruptibleThread. It may hang when KafkaDataConsumer's methods are interrupted because of KAFKA-1894\n",
      "23/05/17 18:47:13 WARN KafkaDataConsumer: KafkaDataConsumer is not running in UninterruptibleThread. It may hang when KafkaDataConsumer's methods are interrupted because of KAFKA-1894\n",
      "23/05/17 18:47:13 WARN KafkaDataConsumer: KafkaDataConsumer is not running in UninterruptibleThread. It may hang when KafkaDataConsumer's methods are interrupted because of KAFKA-1894\n",
      "23/05/17 18:47:13 WARN KafkaDataConsumer: KafkaDataConsumer is not running in UninterruptibleThread. It may hang when KafkaDataConsumer's methods are interrupted because of KAFKA-1894\n"
     ]
    },
    {
     "name": "stderr",
     "output_type": "stream",
     "text": [
      "\r",
      "[Stage 111:>                                                        (0 + 1) / 1]\r",
      "419099646\n",
      "217055998\n",
      "419284222\n",
      "217769726\n",
      "150892286\n",
      "\r",
      "                                                                                \r"
     ]
    },
    {
     "name": "stdout",
     "output_type": "stream",
     "text": [
      "-------------------------------------------\n",
      "Batch: 111\n",
      "-------------------------------------------\n",
      "+-----------+------+-------------+---+-------------------------+-------------+-----+------------+\n",
      "|topic      |bus_id|can_id       |dlc|data                     |timestamp    |value|message_name|\n",
      "+-----------+------+-------------+---+-------------------------+-------------+-----+------------+\n",
      "|canbus_test|bus_37|[18 FA F3 21]|8  |[00 50 10 0A 00 00 20 F4]|1684318532820|null |null        |\n",
      "|canbus_test|bus_35|[0C F0 02 03]|8  |[CD FF FE FF FF FF FF FF]|1684318754768|null |ETC1        |\n",
      "|canbus_test|bus_34|[18 FD C4 0B]|8  |[E0 08 FF F3 FF FF FF FF]|1684317883014|null |EBC5        |\n",
      "|canbus_test|bus_36|[0C FA E6 21]|8  |[00 10 00 00 0C 01 00 63]|1684318055747|null |null        |\n",
      "|canbus_test|bus_33|[08 FE 6E 0B]|8  |[00 00 00 00 00 00 00 00]|1684317271935|null |HRW         |\n",
      "+-----------+------+-------------+---+-------------------------+-------------+-----+------------+\n",
      "\n",
      "23/05/17 18:47:14 WARN KafkaDataConsumer: KafkaDataConsumer is not running in UninterruptibleThread. It may hang when KafkaDataConsumer's methods are interrupted because of KAFKA-1894\n",
      "23/05/17 18:47:14 WARN KafkaDataConsumer: KafkaDataConsumer is not running in UninterruptibleThread. It may hang when KafkaDataConsumer's methods are interrupted because of KAFKA-1894\n",
      "23/05/17 18:47:14 WARN KafkaDataConsumer: KafkaDataConsumer is not running in UninterruptibleThread. It may hang when KafkaDataConsumer's methods are interrupted because of KAFKA-1894\n",
      "23/05/17 18:47:14 WARN KafkaDataConsumer: KafkaDataConsumer is not running in UninterruptibleThread. It may hang when KafkaDataConsumer's methods are interrupted because of KAFKA-1894\n",
      "23/05/17 18:47:14 WARN KafkaDataConsumer: KafkaDataConsumer is not running in UninterruptibleThread. It may hang when KafkaDataConsumer's methods are interrupted because of KAFKA-1894\n"
     ]
    },
    {
     "name": "stderr",
     "output_type": "stream",
     "text": [
      "\r",
      "[Stage 112:>                                                        (0 + 1) / 1]\r",
      "419168766\n",
      "217996030\n",
      "419351294\n",
      "419351294\n",
      "418382334\n",
      "\r",
      "                                                                                \r"
     ]
    },
    {
     "name": "stdout",
     "output_type": "stream",
     "text": [
      "-------------------------------------------\n",
      "Batch: 112\n",
      "-------------------------------------------\n",
      "+-----------+------+-------------+---+-------------------------+-------------+-----+------------+\n",
      "|topic      |bus_id|can_id       |dlc|data                     |timestamp    |value|message_name|\n",
      "+-----------+------+-------------+---+-------------------------+-------------+-----+------------+\n",
      "|canbus_test|bus_34|[18 FC 01 F4]|8  |[61 87 04 CC 47 00 00 00]|1684317884024|null |null        |\n",
      "|canbus_test|bus_35|[0C FE 5A 2F]|8  |[11 00 00 00 D3 F5 FF F0]|1684318755764|null |ASC1        |\n",
      "|canbus_test|bus_37|[18 FE CA 2F]|8  |[F3 FF 00 00 00 00 FF FF]|1684318533842|null |DM1         |\n",
      "|canbus_test|bus_33|[18 FE CA 2F]|8  |[F3 FF 00 00 00 00 FF FF]|1684317272934|null |DM1         |\n",
      "|canbus_test|bus_36|[18 F0 01 0B]|8  |[00 00 F3 FF FF 01 FF F7]|1684318056750|null |EBC1        |\n",
      "+-----------+------+-------------+---+-------------------------+-------------+-----+------------+\n",
      "\n",
      "23/05/17 18:47:15 WARN KafkaDataConsumer: KafkaDataConsumer is not running in UninterruptibleThread. It may hang when KafkaDataConsumer's methods are interrupted because of KAFKA-1894\n",
      "23/05/17 18:47:15 WARN KafkaDataConsumer: KafkaDataConsumer is not running in UninterruptibleThread. It may hang when KafkaDataConsumer's methods are interrupted because of KAFKA-1894\n",
      "23/05/17 18:47:15 WARN KafkaDataConsumer: KafkaDataConsumer is not running in UninterruptibleThread. It may hang when KafkaDataConsumer's methods are interrupted because of KAFKA-1894\n",
      "23/05/17 18:47:15 WARN KafkaDataConsumer: KafkaDataConsumer is not running in UninterruptibleThread. It may hang when KafkaDataConsumer's methods are interrupted because of KAFKA-1894\n",
      "23/05/17 18:47:15 WARN KafkaDataConsumer: KafkaDataConsumer is not running in UninterruptibleThread. It may hang when KafkaDataConsumer's methods are interrupted because of KAFKA-1894\n"
     ]
    },
    {
     "name": "stderr",
     "output_type": "stream",
     "text": [
      "\r",
      "[Stage 113:>                                                        (0 + 1) / 1]\r",
      "419351294\n",
      "419174910\n",
      "419361278\n",
      "217056510\n",
      "418382334\n",
      "\r",
      "                                                                                \r"
     ]
    },
    {
     "name": "stdout",
     "output_type": "stream",
     "text": [
      "-------------------------------------------\n",
      "Batch: 113\n",
      "-------------------------------------------\n",
      "+-----------+------+-------------+---+-------------------------+-------------+-----+------------+\n",
      "|topic      |bus_id|can_id       |dlc|data                     |timestamp    |value|message_name|\n",
      "+-----------+------+-------------+---+-------------------------+-------------+-----+------------+\n",
      "|canbus_test|bus_37|[18 FE CA 2F]|8  |[F3 FF 00 00 00 00 FF FF]|1684318534867|null |DM1         |\n",
      "|canbus_test|bus_35|[18 FC 19 21]|8  |[00 00 71 02 00 00 00 0D]|1684318757792|null |null        |\n",
      "|canbus_test|bus_34|[18 FE F1 00]|8  |[F7 00 00 0F FF FF FF FF]|1684317886054|null |CCVS        |\n",
      "|canbus_test|bus_36|[0C F0 04 00]|8  |[FF FF FF 00 00 FF FF FF]|1684318057747|null |EEC1        |\n",
      "|canbus_test|bus_33|[18 F0 01 0B]|8  |[00 00 F3 FF FF 01 FF F7]|1684317273929|null |EBC1        |\n",
      "+-----------+------+-------------+---+-------------------------+-------------+-----+------------+\n",
      "\n",
      "23/05/17 18:47:16 WARN KafkaDataConsumer: KafkaDataConsumer is not running in UninterruptibleThread. It may hang when KafkaDataConsumer's methods are interrupted because of KAFKA-1894\n",
      "23/05/17 18:47:16 WARN KafkaDataConsumer: KafkaDataConsumer is not running in UninterruptibleThread. It may hang when KafkaDataConsumer's methods are interrupted because of KAFKA-1894\n",
      "23/05/17 18:47:16 WARN KafkaDataConsumer: KafkaDataConsumer is not running in UninterruptibleThread. It may hang when KafkaDataConsumer's methods are interrupted because of KAFKA-1894\n",
      "23/05/17 18:47:16 WARN KafkaDataConsumer: KafkaDataConsumer is not running in UninterruptibleThread. It may hang when KafkaDataConsumer's methods are interrupted because of KAFKA-1894\n",
      "23/05/17 18:47:16 WARN KafkaDataConsumer: KafkaDataConsumer is not running in UninterruptibleThread. It may hang when KafkaDataConsumer's methods are interrupted because of KAFKA-1894\n"
     ]
    },
    {
     "name": "stderr",
     "output_type": "stream",
     "text": [
      "\r",
      "[Stage 114:>                                                        (0 + 1) / 1]\r",
      "418382334\n",
      "418382334\n",
      "418382334\n",
      "418580478\n",
      "418382334\n"
     ]
    },
    {
     "name": "stdout",
     "output_type": "stream",
     "text": [
      "-------------------------------------------\n",
      "Batch: 114\n",
      "-------------------------------------------\n",
      "+-----------+------+-------------+---+-------------------------+-------------+-----+------------+\n",
      "|topic      |bus_id|can_id       |dlc|data                     |timestamp    |value|message_name|\n",
      "+-----------+------+-------------+---+-------------------------+-------------+-----+------------+\n",
      "|canbus_test|bus_37|[18 F0 01 0B]|8  |[00 00 F3 FF FF 01 FF F7]|1684318535905|null |EBC1        |\n",
      "|canbus_test|bus_34|[18 F0 01 0B]|8  |[00 00 F3 FF FF 01 FF F7]|1684317888087|null |EBC1        |\n",
      "|canbus_test|bus_35|[18 F0 01 0B]|8  |[00 00 F3 FF FF 01 FF F7]|1684318758795|null |EBC1        |\n",
      "|canbus_test|bus_36|[18 F3 07 00]|8  |[FE 49 F8 2A 9C 46 47 EB]|1684318058757|null |null        |\n",
      "|canbus_test|bus_33|[18 F0 01 17]|8  |[FF FF FF FF FF FF FF F7]|1684317274936|null |EBC1        |\n",
      "+-----------+------+-------------+---+-------------------------+-------------+-----+------------+\n",
      "\n"
     ]
    },
    {
     "name": "stderr",
     "output_type": "stream",
     "text": [
      "\r",
      "                                                                                \r"
     ]
    },
    {
     "name": "stdout",
     "output_type": "stream",
     "text": [
      "23/05/17 18:47:17 WARN KafkaDataConsumer: KafkaDataConsumer is not running in UninterruptibleThread. It may hang when KafkaDataConsumer's methods are interrupted because of KAFKA-1894\n",
      "23/05/17 18:47:17 WARN KafkaDataConsumer: KafkaDataConsumer is not running in UninterruptibleThread. It may hang when KafkaDataConsumer's methods are interrupted because of KAFKA-1894\n",
      "23/05/17 18:47:17 WARN KafkaDataConsumer: KafkaDataConsumer is not running in UninterruptibleThread. It may hang when KafkaDataConsumer's methods are interrupted because of KAFKA-1894\n",
      "23/05/17 18:47:17 WARN KafkaDataConsumer: KafkaDataConsumer is not running in UninterruptibleThread. It may hang when KafkaDataConsumer's methods are interrupted because of KAFKA-1894\n",
      "23/05/17 18:47:17 WARN KafkaDataConsumer: KafkaDataConsumer is not running in UninterruptibleThread. It may hang when KafkaDataConsumer's methods are interrupted because of KAFKA-1894\n"
     ]
    },
    {
     "name": "stderr",
     "output_type": "stream",
     "text": [
      "\r",
      "[Stage 115:>                                                        (0 + 1) / 1]\r",
      "418583550\n",
      "201326846\n",
      "419174910\n",
      "217055998\n",
      "419351294\n",
      "\r",
      "                                                                                \r"
     ]
    },
    {
     "name": "stdout",
     "output_type": "stream",
     "text": [
      "-------------------------------------------\n",
      "Batch: 115\n",
      "-------------------------------------------\n",
      "+-----------+------+-------------+---+-------------------------+-------------+-----+------------+\n",
      "|topic      |bus_id|can_id       |dlc|data                     |timestamp    |value|message_name|\n",
      "+-----------+------+-------------+---+-------------------------+-------------+-----+------------+\n",
      "|canbus_test|bus_37|[18 F3 13 00]|8  |[0A 00 44 44 44 44 44 44]|1684318536927|null |null        |\n",
      "|canbus_test|bus_34|[0C 00 00 0B]|8  |[30 FF FF FA FF FF FF 25]|1684317889097|null |null        |\n",
      "|canbus_test|bus_35|[18 FC 19 21]|8  |[00 00 71 02 00 00 00 0D]|1684318759792|null |null        |\n",
      "|canbus_test|bus_36|[0C F0 02 03]|8  |[CD FF FE FF FF FF FF FF]|1684318059754|null |ETC1        |\n",
      "|canbus_test|bus_33|[18 FE CA 2F]|8  |[F3 FF 00 00 00 00 FF FF]|1684317275962|null |DM1         |\n",
      "+-----------+------+-------------+---+-------------------------+-------------+-----+------------+\n",
      "\n",
      "23/05/17 18:47:18 WARN KafkaDataConsumer: KafkaDataConsumer is not running in UninterruptibleThread. It may hang when KafkaDataConsumer's methods are interrupted because of KAFKA-1894\n",
      "23/05/17 18:47:18 WARN KafkaDataConsumer: KafkaDataConsumer is not running in UninterruptibleThread. It may hang when KafkaDataConsumer's methods are interrupted because of KAFKA-1894\n",
      "23/05/17 18:47:18 WARN KafkaDataConsumer: KafkaDataConsumer is not running in UninterruptibleThread. It may hang when KafkaDataConsumer's methods are interrupted because of KAFKA-1894\n",
      "23/05/17 18:47:18 WARN KafkaDataConsumer: KafkaDataConsumer is not running in UninterruptibleThread. It may hang when KafkaDataConsumer's methods are interrupted because of KAFKA-1894\n",
      "23/05/17 18:47:18 WARN KafkaDataConsumer: KafkaDataConsumer is not running in UninterruptibleThread. It may hang when KafkaDataConsumer's methods are interrupted because of KAFKA-1894\n"
     ]
    },
    {
     "name": "stderr",
     "output_type": "stream",
     "text": [
      "\r",
      "[Stage 116:>                                                        (0 + 1) / 1]\r",
      "419284222\n",
      "419351294\n",
      "419286270\n",
      "217996030\n",
      "217051134\n",
      "\r",
      "                                                                                \r"
     ]
    },
    {
     "name": "stdout",
     "output_type": "stream",
     "text": [
      "-------------------------------------------\n",
      "Batch: 116\n",
      "-------------------------------------------\n",
      "+-----------+------+-------------+---+-------------------------+-------------+-----+------------+\n",
      "|topic      |bus_id|can_id       |dlc|data                     |timestamp    |value|message_name|\n",
      "+-----------+------+-------------+---+-------------------------+-------------+-----+------------+\n",
      "|canbus_test|bus_34|[18 FD C4 0B]|8  |[E0 08 FF F3 FF FF FF FF]|1684317890114|null |EBC5        |\n",
      "|canbus_test|bus_37|[18 FE CA 2F]|8  |[F3 FF 00 00 00 00 FF FF]|1684318537934|null |DM1         |\n",
      "|canbus_test|bus_35|[18 FD CC 27]|8  |[FF F0 FF FF FF FF FF FF]|1684318760794|null |null        |\n",
      "|canbus_test|bus_36|[0C FE 5A 21]|8  |[FF FF FF FF F7 FF FF FF]|1684318060749|null |ASC1        |\n",
      "|canbus_test|bus_33|[0C EF EF 0B]|8  |[CC FA 7D FF FF FF FF 53]|1684317276964|null |null        |\n",
      "+-----------+------+-------------+---+-------------------------+-------------+-----+------------+\n",
      "\n",
      "23/05/17 18:47:19 WARN KafkaDataConsumer: KafkaDataConsumer is not running in UninterruptibleThread. It may hang when KafkaDataConsumer's methods are interrupted because of KAFKA-1894\n",
      "23/05/17 18:47:19 WARN KafkaDataConsumer: KafkaDataConsumer is not running in UninterruptibleThread. It may hang when KafkaDataConsumer's methods are interrupted because of KAFKA-1894\n",
      "23/05/17 18:47:19 WARN KafkaDataConsumer: KafkaDataConsumer is not running in UninterruptibleThread. It may hang when KafkaDataConsumer's methods are interrupted because of KAFKA-1894\n",
      "23/05/17 18:47:19 WARN KafkaDataConsumer: KafkaDataConsumer is not running in UninterruptibleThread. It may hang when KafkaDataConsumer's methods are interrupted because of KAFKA-1894\n",
      "23/05/17 18:47:19 WARN KafkaDataConsumer: KafkaDataConsumer is not running in UninterruptibleThread. It may hang when KafkaDataConsumer's methods are interrupted because of KAFKA-1894\n"
     ]
    },
    {
     "name": "stderr",
     "output_type": "stream",
     "text": [
      "\r",
      "[Stage 117:>                                                        (0 + 1) / 1]\r",
      "419319806\n",
      "419169534\n",
      "418382334\n",
      "418578942\n",
      "217051134\n",
      "\r",
      "                                                                                \r"
     ]
    },
    {
     "name": "stdout",
     "output_type": "stream",
     "text": [
      "-------------------------------------------\n",
      "Batch: 117\n",
      "-------------------------------------------\n",
      "+-----------+------+-------------+---+-------------------------+-------------+-----+------------+\n",
      "|topic      |bus_id|can_id       |dlc|data                     |timestamp    |value|message_name|\n",
      "+-----------+------+-------------+---+-------------------------+-------------+-----+------------+\n",
      "|canbus_test|bus_35|[18 FE 4F 0B]|8  |[FF FF FF FF FF FF FF FF]|1684318761811|null |VDC1        |\n",
      "|canbus_test|bus_34|[18 FC 04 F4]|8  |[84 01 05 3A 40 41 D5 62]|1684317891123|null |null        |\n",
      "|canbus_test|bus_37|[18 F0 01 0B]|8  |[00 00 F3 FF FF 01 FF F7]|1684318538965|null |EBC1        |\n",
      "|canbus_test|bus_36|[18 F3 01 00]|8  |[00 00 00 00 00 00 00 7E]|1684318061753|null |null        |\n",
      "|canbus_test|bus_33|[0C EF EF 0B]|8  |[CC FA 7D FF FF FF FF 05]|1684317277964|null |null        |\n",
      "+-----------+------+-------------+---+-------------------------+-------------+-----+------------+\n",
      "\n",
      "23/05/17 18:47:20 WARN KafkaDataConsumer: KafkaDataConsumer is not running in UninterruptibleThread. It may hang when KafkaDataConsumer's methods are interrupted because of KAFKA-1894\n",
      "23/05/17 18:47:20 WARN KafkaDataConsumer: KafkaDataConsumer is not running in UninterruptibleThread. It may hang when KafkaDataConsumer's methods are interrupted because of KAFKA-1894\n",
      "23/05/17 18:47:20 WARN KafkaDataConsumer: KafkaDataConsumer is not running in UninterruptibleThread. It may hang when KafkaDataConsumer's methods are interrupted because of KAFKA-1894\n",
      "23/05/17 18:47:20 WARN KafkaDataConsumer: KafkaDataConsumer is not running in UninterruptibleThread. It may hang when KafkaDataConsumer's methods are interrupted because of KAFKA-1894\n",
      "23/05/17 18:47:20 WARN KafkaDataConsumer: KafkaDataConsumer is not running in UninterruptibleThread. It may hang when KafkaDataConsumer's methods are interrupted because of KAFKA-1894\n"
     ]
    },
    {
     "name": "stderr",
     "output_type": "stream",
     "text": [
      "4193512948:>                                                        (0 + 1) / 1]\n",
      "418382334\n",
      "217055998\n",
      "418584062\n",
      "419351294\n",
      "                                                                                \r"
     ]
    },
    {
     "name": "stdout",
     "output_type": "stream",
     "text": [
      "-------------------------------------------\n",
      "Batch: 118\n",
      "-------------------------------------------\n",
      "+-----------+------+-------------+---+-------------------------+-------------+-----+------------+\n",
      "|topic      |bus_id|can_id       |dlc|data                     |timestamp    |value|message_name|\n",
      "+-----------+------+-------------+---+-------------------------+-------------+-----+------------+\n",
      "|canbus_test|bus_37|[18 FE CA 2F]|8  |[F3 FF 00 00 00 00 FF FF]|1684318539967|null |DM1         |\n",
      "|canbus_test|bus_34|[18 F0 01 0B]|8  |[00 00 F3 FF FF 01 FF F7]|1684317892140|null |EBC1        |\n",
      "|canbus_test|bus_35|[0C F0 02 03]|8  |[CD FF FE FF FF FF FF FF]|1684318762818|null |ETC1        |\n",
      "|canbus_test|bus_36|[18 F3 15 00]|8  |[00 05 00 00 00 00 00 7B]|1684318062763|null |null        |\n",
      "|canbus_test|bus_33|[18 FE CA 2F]|8  |[F3 FF 00 00 00 00 FF FF]|1684317278963|null |DM1         |\n",
      "+-----------+------+-------------+---+-------------------------+-------------+-----+------------+\n",
      "\n",
      "23/05/17 18:47:21 WARN KafkaDataConsumer: KafkaDataConsumer is not running in UninterruptibleThread. It may hang when KafkaDataConsumer's methods are interrupted because of KAFKA-1894\n",
      "23/05/17 18:47:21 WARN KafkaDataConsumer: KafkaDataConsumer is not running in UninterruptibleThread. It may hang when KafkaDataConsumer's methods are interrupted because of KAFKA-1894\n",
      "23/05/17 18:47:21 WARN KafkaDataConsumer: KafkaDataConsumer is not running in UninterruptibleThread. It may hang when KafkaDataConsumer's methods are interrupted because of KAFKA-1894\n",
      "23/05/17 18:47:21 WARN KafkaDataConsumer: KafkaDataConsumer is not running in UninterruptibleThread. It may hang when KafkaDataConsumer's methods are interrupted because of KAFKA-1894\n",
      "23/05/17 18:47:21 WARN KafkaDataConsumer: KafkaDataConsumer is not running in UninterruptibleThread. It may hang when KafkaDataConsumer's methods are interrupted because of KAFKA-1894\n"
     ]
    },
    {
     "name": "stderr",
     "output_type": "stream",
     "text": [
      "4183833589:>                                                        (0 + 1) / 1]\n",
      "418382334\n",
      "419356670\n",
      "419318526\n",
      "419170302\n",
      "                                                                                \r"
     ]
    },
    {
     "name": "stdout",
     "output_type": "stream",
     "text": [
      "-------------------------------------------\n",
      "Batch: 119\n",
      "-------------------------------------------\n",
      "+-----------+------+-------------+---+-------------------------+-------------+-----+------------+\n",
      "|topic      |bus_id|can_id       |dlc|data                     |timestamp    |value|message_name|\n",
      "+-----------+------+-------------+---+-------------------------+-------------+-----+------------+\n",
      "|canbus_test|bus_34|[18 F0 05 03]|8  |[FF FF FF 7D FF FF FF FF]|1684317893145|null |ETC2        |\n",
      "|canbus_test|bus_37|[18 F0 01 0B]|8  |[00 00 F3 FF FF 01 FF F7]|1684318540959|null |EBC1        |\n",
      "|canbus_test|bus_35|[18 FE DF EF]|8  |[7D FF FF FF 7D FF FF FF]|1684318763835|null |EEC3        |\n",
      "|canbus_test|bus_36|[18 FE 4A 03]|8  |[FF FC C2 F0 FF FF FF FF]|1684318063792|null |ETC7        |\n",
      "|canbus_test|bus_33|[18 FC 07 F4]|8  |[CC 09 59 07 8D 02 61 59]|1684317279975|null |null        |\n",
      "+-----------+------+-------------+---+-------------------------+-------------+-----+------------+\n",
      "\n",
      "23/05/17 18:47:22 WARN KafkaDataConsumer: KafkaDataConsumer is not running in UninterruptibleThread. It may hang when KafkaDataConsumer's methods are interrupted because of KAFKA-1894\n",
      "23/05/17 18:47:22 WARN KafkaDataConsumer: KafkaDataConsumer is not running in UninterruptibleThread. It may hang when KafkaDataConsumer's methods are interrupted because of KAFKA-1894\n",
      "23/05/17 18:47:22 WARN KafkaDataConsumer: KafkaDataConsumer is not running in UninterruptibleThread. It may hang when KafkaDataConsumer's methods are interrupted because of KAFKA-1894\n",
      "23/05/17 18:47:22 WARN KafkaDataConsumer: KafkaDataConsumer is not running in UninterruptibleThread. It may hang when KafkaDataConsumer's methods are interrupted because of KAFKA-1894\n",
      "23/05/17 18:47:22 WARN KafkaDataConsumer: KafkaDataConsumer is not running in UninterruptibleThread. It may hang when KafkaDataConsumer's methods are interrupted because of KAFKA-1894\n"
     ]
    },
    {
     "name": "stderr",
     "output_type": "stream",
     "text": [
      "\r",
      "[Stage 120:>                                                        (0 + 1) / 1]\r",
      "419171838\n",
      "418382334\n",
      "419171582\n",
      "419356670\n",
      "419348478\n",
      "\r",
      "                                                                                \r"
     ]
    },
    {
     "name": "stdout",
     "output_type": "stream",
     "text": [
      "-------------------------------------------\n",
      "Batch: 120\n",
      "-------------------------------------------\n",
      "+-----------+------+-------------+---+-------------------------+-------------+-----+------------+\n",
      "|topic      |bus_id|can_id       |dlc|data                     |timestamp    |value|message_name|\n",
      "+-----------+------+-------------+---+-------------------------+-------------+-----+------------+\n",
      "|canbus_test|bus_34|[18 FC 0D F4]|8  |[A3 01 A3 3F 45 13 44 01]|1684317894154|null |null        |\n",
      "|canbus_test|bus_37|[18 F0 01 0B]|8  |[00 00 F3 FF FF 01 FF F7]|1684318541995|null |EBC1        |\n",
      "|canbus_test|bus_35|[18 FC 0C F4]|8  |[A3 67 A3 00 46 13 44 01]|1684318764842|null |null        |\n",
      "|canbus_test|bus_36|[18 FE DF EF]|8  |[7D FF FF FF 7D FF FF FF]|1684318064793|null |EEC3        |\n",
      "|canbus_test|bus_33|[18 FE BF 0B]|8  |[00 00 7D 7D 7D 7D FF FF]|1684317280988|null |EBC2        |\n",
      "+-----------+------+-------------+---+-------------------------+-------------+-----+------------+\n",
      "\n",
      "23/05/17 18:47:23 WARN KafkaDataConsumer: KafkaDataConsumer is not running in UninterruptibleThread. It may hang when KafkaDataConsumer's methods are interrupted because of KAFKA-1894\n",
      "23/05/17 18:47:23 WARN KafkaDataConsumer: KafkaDataConsumer is not running in UninterruptibleThread. It may hang when KafkaDataConsumer's methods are interrupted because of KAFKA-1894\n",
      "23/05/17 18:47:23 WARN KafkaDataConsumer: KafkaDataConsumer is not running in UninterruptibleThread. It may hang when KafkaDataConsumer's methods are interrupted because of KAFKA-1894\n",
      "23/05/17 18:47:23 WARN KafkaDataConsumer: KafkaDataConsumer is not running in UninterruptibleThread. It may hang when KafkaDataConsumer's methods are interrupted because of KAFKA-1894\n",
      "23/05/17 18:47:23 WARN KafkaDataConsumer: KafkaDataConsumer is not running in UninterruptibleThread. It may hang when KafkaDataConsumer's methods are interrupted because of KAFKA-1894\n"
     ]
    },
    {
     "name": "stderr",
     "output_type": "stream",
     "text": [
      "2151014381:>                                                        (0 + 1) / 1]\n",
      "419351294\n",
      "217056254\n",
      "215105790\n",
      "419351294\n",
      "                                                                                \r"
     ]
    },
    {
     "name": "stdout",
     "output_type": "stream",
     "text": [
      "-------------------------------------------\n",
      "Batch: 121\n",
      "-------------------------------------------\n",
      "+-----------+------+-------------+---+-------------------------+-------------+-----+------------+\n",
      "|topic      |bus_id|can_id       |dlc|data                     |timestamp    |value|message_name|\n",
      "+-----------+------+-------------+---+-------------------------+-------------+-----+------------+\n",
      "|canbus_test|bus_37|[0C D2 2F 27]|8  |[00 00 A0 00 00 00 00 00]|1684318543013|null |null        |\n",
      "|canbus_test|bus_34|[18 FE CA 2F]|8  |[F3 FF 00 00 00 00 FF FF]|1684317895160|null |DM1         |\n",
      "|canbus_test|bus_35|[0C F0 03 00]|8  |[FD 00 FF FF FF FF FF FF]|1684318765859|null |EEC2        |\n",
      "|canbus_test|bus_36|[0C D2 40 27]|8  |[00 00 A0 00 00 00 00 00]|1684318065805|null |null        |\n",
      "|canbus_test|bus_33|[18 FE CA 2F]|8  |[F3 FF 00 00 00 00 FF FF]|1684317281993|null |DM1         |\n",
      "+-----------+------+-------------+---+-------------------------+-------------+-----+------------+\n",
      "\n",
      "23/05/17 18:47:24 WARN KafkaDataConsumer: KafkaDataConsumer is not running in UninterruptibleThread. It may hang when KafkaDataConsumer's methods are interrupted because of KAFKA-1894\n",
      "23/05/17 18:47:24 WARN KafkaDataConsumer: KafkaDataConsumer is not running in UninterruptibleThread. It may hang when KafkaDataConsumer's methods are interrupted because of KAFKA-1894\n",
      "23/05/17 18:47:24 WARN KafkaDataConsumer: KafkaDataConsumer is not running in UninterruptibleThread. It may hang when KafkaDataConsumer's methods are interrupted because of KAFKA-1894\n",
      "23/05/17 18:47:24 WARN KafkaDataConsumer: KafkaDataConsumer is not running in UninterruptibleThread. It may hang when KafkaDataConsumer's methods are interrupted because of KAFKA-1894\n",
      "23/05/17 18:47:24 WARN KafkaDataConsumer: KafkaDataConsumer is not running in UninterruptibleThread. It may hang when KafkaDataConsumer's methods are interrupted because of KAFKA-1894\n"
     ]
    },
    {
     "name": "stderr",
     "output_type": "stream",
     "text": [
      "2179960302:>                                                        (0 + 1) / 1]\n",
      "419170558\n",
      "419320318\n",
      "419348478\n",
      "419094782\n",
      "                                                                                \r"
     ]
    },
    {
     "name": "stdout",
     "output_type": "stream",
     "text": [
      "-------------------------------------------\n",
      "Batch: 122\n",
      "-------------------------------------------\n",
      "+-----------+------+-------------+---+-------------------------+-------------+-----+------------+\n",
      "|topic      |bus_id|can_id       |dlc|data                     |timestamp    |value|message_name|\n",
      "+-----------+------+-------------+---+-------------------------+-------------+-----+------------+\n",
      "|canbus_test|bus_37|[0C FE 5A 2F]|8  |[11 00 00 00 D3 F5 FF F0]|1684318544023|null |ASC1        |\n",
      "|canbus_test|bus_35|[18 FC 08 F4]|8  |[73 02 61 27 64 41 18 C5]|1684318766864|null |null        |\n",
      "|canbus_test|bus_33|[18 FE 51 27]|8  |[7C FF FF FF FF FF FF FF]|1684317282988|null |ACC2        |\n",
      "|canbus_test|bus_34|[18 FE BF 0B]|8  |[00 00 7D 7D 7D 7D FF FF]|1684317896165|null |EBC2        |\n",
      "|canbus_test|bus_36|[18 FA E0 21]|8  |[FF FF FF 05 DC 13 F1 FF]|1684318066849|null |null        |\n",
      "+-----------+------+-------------+---+-------------------------+-------------+-----+------------+\n",
      "\n",
      "23/05/17 18:47:25 WARN KafkaDataConsumer: KafkaDataConsumer is not running in UninterruptibleThread. It may hang when KafkaDataConsumer's methods are interrupted because of KAFKA-1894\n",
      "23/05/17 18:47:25 WARN KafkaDataConsumer: KafkaDataConsumer is not running in UninterruptibleThread. It may hang when KafkaDataConsumer's methods are interrupted because of KAFKA-1894\n",
      "23/05/17 18:47:25 WARN KafkaDataConsumer: KafkaDataConsumer is not running in UninterruptibleThread. It may hang when KafkaDataConsumer's methods are interrupted because of KAFKA-1894\n",
      "23/05/17 18:47:25 WARN KafkaDataConsumer: KafkaDataConsumer is not running in UninterruptibleThread. It may hang when KafkaDataConsumer's methods are interrupted because of KAFKA-1894\n",
      "23/05/17 18:47:25 WARN KafkaDataConsumer: KafkaDataConsumer is not running in UninterruptibleThread. It may hang when KafkaDataConsumer's methods are interrupted because of KAFKA-1894\n"
     ]
    },
    {
     "name": "stderr",
     "output_type": "stream",
     "text": [
      "4193512943:>                                                        (0 + 1) / 1]\n",
      "419348478\n",
      "419174142\n",
      "419170302\n",
      "419348478\n",
      "                                                                                \r"
     ]
    },
    {
     "name": "stdout",
     "output_type": "stream",
     "text": [
      "-------------------------------------------\n",
      "Batch: 123\n",
      "-------------------------------------------\n",
      "+-----------+------+-------------+---+-------------------------+-------------+-----+------------+\n",
      "|topic      |bus_id|can_id       |dlc|data                     |timestamp    |value|message_name|\n",
      "+-----------+------+-------------+---+-------------------------+-------------+-----+------------+\n",
      "|canbus_test|bus_37|[18 FE CA 2F]|8  |[F3 FF 00 00 00 00 FF FF]|1684318545062|null |DM1         |\n",
      "|canbus_test|bus_34|[18 FE BF 0B]|8  |[00 00 7D 7D 7D 7D FF FF]|1684317897174|null |EBC2        |\n",
      "|canbus_test|bus_35|[18 FC 16 21]|8  |[03 C7 00 00 72 02 FF 41]|1684318767876|null |null        |\n",
      "|canbus_test|bus_36|[18 FC 07 F4]|8  |[CC 09 59 07 8B 02 61 5B]|1684318067866|null |null        |\n",
      "|canbus_test|bus_33|[18 FE BF 0B]|8  |[00 00 7D 7D 7D 7D FF FF]|1684317283991|null |EBC2        |\n",
      "+-----------+------+-------------+---+-------------------------+-------------+-----+------------+\n",
      "\n",
      "23/05/17 18:47:26 WARN KafkaDataConsumer: KafkaDataConsumer is not running in UninterruptibleThread. It may hang when KafkaDataConsumer's methods are interrupted because of KAFKA-1894\n",
      "23/05/17 18:47:26 WARN KafkaDataConsumer: KafkaDataConsumer is not running in UninterruptibleThread. It may hang when KafkaDataConsumer's methods are interrupted because of KAFKA-1894\n",
      "23/05/17 18:47:26 WARN KafkaDataConsumer: KafkaDataConsumer is not running in UninterruptibleThread. It may hang when KafkaDataConsumer's methods are interrupted because of KAFKA-1894\n",
      "23/05/17 18:47:26 WARN KafkaDataConsumer: KafkaDataConsumer is not running in UninterruptibleThread. It may hang when KafkaDataConsumer's methods are interrupted because of KAFKA-1894\n",
      "23/05/17 18:47:26 WARN KafkaDataConsumer: KafkaDataConsumer is not running in UninterruptibleThread. It may hang when KafkaDataConsumer's methods are interrupted because of KAFKA-1894\n"
     ]
    },
    {
     "name": "stderr",
     "output_type": "stream",
     "text": [
      "4193512944:>                                                        (0 + 1) / 1]\n",
      "418382334\n",
      "419351294\n",
      "419348478\n",
      "419169534\n",
      "                                                                                \r"
     ]
    },
    {
     "name": "stdout",
     "output_type": "stream",
     "text": [
      "-------------------------------------------\n",
      "Batch: 124\n",
      "-------------------------------------------\n",
      "+-----------+------+-------------+---+-------------------------+-------------+-----+------------+\n",
      "|topic      |bus_id|can_id       |dlc|data                     |timestamp    |value|message_name|\n",
      "+-----------+------+-------------+---+-------------------------+-------------+-----+------------+\n",
      "|canbus_test|bus_37|[18 FE CA 2F]|8  |[F3 FF 00 00 00 00 FF FF]|1684318546086|null |DM1         |\n",
      "|canbus_test|bus_34|[18 F0 01 0B]|8  |[00 00 F3 FF FF 01 FF F7]|1684317898175|null |EBC1        |\n",
      "|canbus_test|bus_35|[18 FE CA 2F]|8  |[F3 FF 00 00 00 00 FF FF]|1684318768874|null |DM1         |\n",
      "|canbus_test|bus_36|[18 FE BF 0B]|8  |[00 00 7D 7D 7D 7D FF FF]|1684318068883|null |EBC2        |\n",
      "|canbus_test|bus_33|[18 FC 04 F4]|8  |[84 01 05 3A 40 41 D5 62]|1684317284988|null |null        |\n",
      "+-----------+------+-------------+---+-------------------------+-------------+-----+------------+\n",
      "\n",
      "23/05/17 18:47:27 WARN KafkaDataConsumer: KafkaDataConsumer is not running in UninterruptibleThread. It may hang when KafkaDataConsumer's methods are interrupted because of KAFKA-1894\n",
      "23/05/17 18:47:27 WARN KafkaDataConsumer: KafkaDataConsumer is not running in UninterruptibleThread. It may hang when KafkaDataConsumer's methods are interrupted because of KAFKA-1894\n",
      "23/05/17 18:47:27 WARN KafkaDataConsumer: KafkaDataConsumer is not running in UninterruptibleThread. It may hang when KafkaDataConsumer's methods are interrupted because of KAFKA-1894\n",
      "23/05/17 18:47:27 WARN KafkaDataConsumer: KafkaDataConsumer is not running in UninterruptibleThread. It may hang when KafkaDataConsumer's methods are interrupted because of KAFKA-1894\n",
      "23/05/17 18:47:27 WARN KafkaDataConsumer: KafkaDataConsumer is not running in UninterruptibleThread. It may hang when KafkaDataConsumer's methods are interrupted because of KAFKA-1894\n"
     ]
    },
    {
     "name": "stderr",
     "output_type": "stream",
     "text": [
      "4183823345:>                                                        (0 + 1) / 1]\n",
      "419348478\n",
      "419348478\n",
      "418382334\n",
      "418382334\n",
      "                                                                                \r"
     ]
    },
    {
     "name": "stdout",
     "output_type": "stream",
     "text": [
      "-------------------------------------------\n",
      "Batch: 125\n",
      "-------------------------------------------\n",
      "+-----------+------+-------------+---+-------------------------+-------------+-----+------------+\n",
      "|topic      |bus_id|can_id       |dlc|data                     |timestamp    |value|message_name|\n",
      "+-----------+------+-------------+---+-------------------------+-------------+-----+------------+\n",
      "|canbus_test|bus_37|[18 F0 01 0B]|8  |[00 00 F3 FF FF 01 FF F7]|1684318547099|null |EBC1        |\n",
      "|canbus_test|bus_34|[18 FE BF 0B]|8  |[00 00 7D 7D 7D 7D FF FF]|1684317899179|null |EBC2        |\n",
      "|canbus_test|bus_35|[18 FE BF 0B]|8  |[00 00 7D 7D 7D 7D FF FF]|1684318769885|null |EBC2        |\n",
      "|canbus_test|bus_36|[18 F0 01 0B]|8  |[00 00 F3 FF FF 01 FF F7]|1684318069896|null |EBC1        |\n",
      "|canbus_test|bus_33|[18 F0 01 0B]|8  |[00 00 F3 FF FF 01 FF F7]|1684317285983|null |EBC1        |\n",
      "+-----------+------+-------------+---+-------------------------+-------------+-----+------------+\n",
      "\n",
      "23/05/17 18:47:28 WARN KafkaDataConsumer: KafkaDataConsumer is not running in UninterruptibleThread. It may hang when KafkaDataConsumer's methods are interrupted because of KAFKA-1894\n",
      "23/05/17 18:47:28 WARN KafkaDataConsumer: KafkaDataConsumer is not running in UninterruptibleThread. It may hang when KafkaDataConsumer's methods are interrupted because of KAFKA-1894\n",
      "23/05/17 18:47:28 WARN KafkaDataConsumer: KafkaDataConsumer is not running in UninterruptibleThread. It may hang when KafkaDataConsumer's methods are interrupted because of KAFKA-1894\n",
      "23/05/17 18:47:28 WARN KafkaDataConsumer: KafkaDataConsumer is not running in UninterruptibleThread. It may hang when KafkaDataConsumer's methods are interrupted because of KAFKA-1894\n",
      "23/05/17 18:47:28 WARN KafkaDataConsumer: KafkaDataConsumer is not running in UninterruptibleThread. It may hang when KafkaDataConsumer's methods are interrupted because of KAFKA-1894\n"
     ]
    },
    {
     "name": "stderr",
     "output_type": "stream",
     "text": [
      "4193484786:>                                                        (0 + 1) / 1]\n",
      "418382334\n",
      "150892286\n",
      "418382334\n",
      "419351294\n",
      "                                                                                \r"
     ]
    },
    {
     "name": "stdout",
     "output_type": "stream",
     "text": [
      "-------------------------------------------\n",
      "Batch: 126\n",
      "-------------------------------------------\n",
      "+-----------+------+-------------+---+-------------------------+-------------+-----+------------+\n",
      "|topic      |bus_id|can_id       |dlc|data                     |timestamp    |value|message_name|\n",
      "+-----------+------+-------------+---+-------------------------+-------------+-----+------------+\n",
      "|canbus_test|bus_37|[18 FE BF 0B]|8  |[00 00 7D 7D 7D 7D FF FF]|1684318548142|null |EBC2        |\n",
      "|canbus_test|bus_34|[18 F0 01 0B]|8  |[00 00 F3 FF FF 01 FF F7]|1684317900190|null |EBC1        |\n",
      "|canbus_test|bus_35|[08 FE 6E 0B]|8  |[00 00 00 00 00 00 00 00]|1684318770927|null |HRW         |\n",
      "|canbus_test|bus_36|[18 F0 01 0B]|8  |[00 00 F3 FF FF 01 FF F7]|1684318071933|null |EBC1        |\n",
      "|canbus_test|bus_33|[18 FE CA 2F]|8  |[F3 FF 00 00 00 00 FF FF]|1684317286988|null |DM1         |\n",
      "+-----------+------+-------------+---+-------------------------+-------------+-----+------------+\n",
      "\n",
      "23/05/17 18:47:29 WARN KafkaDataConsumer: KafkaDataConsumer is not running in UninterruptibleThread. It may hang when KafkaDataConsumer's methods are interrupted because of KAFKA-1894\n",
      "23/05/17 18:47:29 WARN KafkaDataConsumer: KafkaDataConsumer is not running in UninterruptibleThread. It may hang when KafkaDataConsumer's methods are interrupted because of KAFKA-1894\n",
      "23/05/17 18:47:29 WARN KafkaDataConsumer: KafkaDataConsumer is not running in UninterruptibleThread. It may hang when KafkaDataConsumer's methods are interrupted because of KAFKA-1894\n",
      "23/05/17 18:47:29 WARN KafkaDataConsumer: KafkaDataConsumer is not running in UninterruptibleThread. It may hang when KafkaDataConsumer's methods are interrupted because of KAFKA-1894\n",
      "23/05/17 18:47:29 WARN KafkaDataConsumer: KafkaDataConsumer is not running in UninterruptibleThread. It may hang when KafkaDataConsumer's methods are interrupted because of KAFKA-1894\n"
     ]
    },
    {
     "name": "stderr",
     "output_type": "stream",
     "text": [
      "4193512947:>                                                        (0 + 1) / 1]\n",
      "419348478\n",
      "419351294\n",
      "419174654\n",
      "418583294\n",
      "                                                                                \r"
     ]
    },
    {
     "name": "stdout",
     "output_type": "stream",
     "text": [
      "-------------------------------------------\n",
      "Batch: 127\n",
      "-------------------------------------------\n",
      "+-----------+------+-------------+---+-------------------------+-------------+-----+------------+\n",
      "|topic      |bus_id|can_id       |dlc|data                     |timestamp    |value|message_name|\n",
      "+-----------+------+-------------+---+-------------------------+-------------+-----+------------+\n",
      "|canbus_test|bus_37|[18 FE CA 2F]|8  |[F3 FF 00 00 00 00 FF FF]|1684318549186|null |DM1         |\n",
      "|canbus_test|bus_34|[18 FE BF 0B]|8  |[00 00 7D 7D 7D 7D FF FF]|1684317901201|null |EBC2        |\n",
      "|canbus_test|bus_35|[18 FE CA 2F]|8  |[F3 FF 00 00 00 00 FF FF]|1684318771934|null |DM1         |\n",
      "|canbus_test|bus_36|[18 FC 18 21]|8  |[00 10 9A 88 0A 49 FF F8]|1684318072967|null |null        |\n",
      "|canbus_test|bus_33|[18 F3 12 00]|8  |[39 80 21 00 14 18 21 FF]|1684317287987|null |null        |\n",
      "+-----------+------+-------------+---+-------------------------+-------------+-----+------------+\n",
      "\n",
      "23/05/17 18:47:30 WARN KafkaDataConsumer: KafkaDataConsumer is not running in UninterruptibleThread. It may hang when KafkaDataConsumer's methods are interrupted because of KAFKA-1894\n",
      "23/05/17 18:47:30 WARN KafkaDataConsumer: KafkaDataConsumer is not running in UninterruptibleThread. It may hang when KafkaDataConsumer's methods are interrupted because of KAFKA-1894\n",
      "23/05/17 18:47:30 WARN KafkaDataConsumer: KafkaDataConsumer is not running in UninterruptibleThread. It may hang when KafkaDataConsumer's methods are interrupted because of KAFKA-1894\n",
      "23/05/17 18:47:30 WARN KafkaDataConsumer: KafkaDataConsumer is not running in UninterruptibleThread. It may hang when KafkaDataConsumer's methods are interrupted because of KAFKA-1894\n",
      "23/05/17 18:47:30 WARN KafkaDataConsumer: KafkaDataConsumer is not running in UninterruptibleThread. It may hang when KafkaDataConsumer's methods are interrupted because of KAFKA-1894\n"
     ]
    },
    {
     "name": "stderr",
     "output_type": "stream",
     "text": [
      "4193484788:>                                                        (0 + 1) / 1]\n",
      "419351294\n",
      "418382334\n",
      "419351294\n",
      "419348478\n",
      "                                                                                \r"
     ]
    },
    {
     "name": "stdout",
     "output_type": "stream",
     "text": [
      "-------------------------------------------\n",
      "Batch: 128\n",
      "-------------------------------------------\n",
      "+-----------+------+-------------+---+-------------------------+-------------+-----+------------+\n",
      "|topic      |bus_id|can_id       |dlc|data                     |timestamp    |value|message_name|\n",
      "+-----------+------+-------------+---+-------------------------+-------------+-----+------------+\n",
      "|canbus_test|bus_37|[18 FE BF 0B]|8  |[00 00 7D 7D 7D 7D FF FF]|1684318550221|null |EBC2        |\n",
      "|canbus_test|bus_34|[18 FE CA 2F]|8  |[F3 FF 00 00 00 00 FF FF]|1684317902216|null |DM1         |\n",
      "|canbus_test|bus_35|[18 F0 01 0B]|8  |[00 00 F3 FF FF 01 FF F7]|1684318772934|null |EBC1        |\n",
      "|canbus_test|bus_36|[18 FE CA 2F]|8  |[F3 FF 00 00 00 00 FF FF]|1684318073969|null |DM1         |\n",
      "|canbus_test|bus_33|[18 FE BF 0B]|8  |[00 00 7D 7D 7D 7D FF FF]|1684317288990|null |EBC2        |\n",
      "+-----------+------+-------------+---+-------------------------+-------------+-----+------------+\n",
      "\n",
      "23/05/17 18:47:31 WARN KafkaDataConsumer: KafkaDataConsumer is not running in UninterruptibleThread. It may hang when KafkaDataConsumer's methods are interrupted because of KAFKA-1894\n",
      "23/05/17 18:47:31 WARN KafkaDataConsumer: KafkaDataConsumer is not running in UninterruptibleThread. It may hang when KafkaDataConsumer's methods are interrupted because of KAFKA-1894\n",
      "23/05/17 18:47:31 WARN KafkaDataConsumer: KafkaDataConsumer is not running in UninterruptibleThread. It may hang when KafkaDataConsumer's methods are interrupted because of KAFKA-1894\n",
      "23/05/17 18:47:31 WARN KafkaDataConsumer: KafkaDataConsumer is not running in UninterruptibleThread. It may hang when KafkaDataConsumer's methods are interrupted because of KAFKA-1894\n",
      "23/05/17 18:47:31 WARN KafkaDataConsumer: KafkaDataConsumer is not running in UninterruptibleThread. It may hang when KafkaDataConsumer's methods are interrupted because of KAFKA-1894\n"
     ]
    },
    {
     "name": "stderr",
     "output_type": "stream",
     "text": [
      "4193484789:>                                                        (0 + 1) / 1]\n",
      "418382334\n",
      "419351294\n",
      "419348478\n",
      "419351294\n",
      "                                                                                \r"
     ]
    },
    {
     "name": "stdout",
     "output_type": "stream",
     "text": [
      "-------------------------------------------\n",
      "Batch: 129\n",
      "-------------------------------------------\n",
      "+-----------+------+-------------+---+-------------------------+-------------+-----+------------+\n",
      "|topic      |bus_id|can_id       |dlc|data                     |timestamp    |value|message_name|\n",
      "+-----------+------+-------------+---+-------------------------+-------------+-----+------------+\n",
      "|canbus_test|bus_37|[18 FE BF 0B]|8  |[00 00 7D 7D 7D 7D FF FF]|1684318551229|null |EBC2        |\n",
      "|canbus_test|bus_34|[18 F0 01 0B]|8  |[00 00 F3 FF FF 01 FF F7]|1684317903225|null |EBC1        |\n",
      "|canbus_test|bus_35|[18 FE CA 2F]|8  |[F3 FF 00 00 00 00 FF FF]|1684318773930|null |DM1         |\n",
      "|canbus_test|bus_36|[18 FE BF 0B]|8  |[00 00 7D 7D 7D 7D FF FF]|1684318074980|null |EBC2        |\n",
      "|canbus_test|bus_33|[18 FE CA 2F]|8  |[F3 FF 00 00 00 00 FF FF]|1684317289989|null |DM1         |\n",
      "+-----------+------+-------------+---+-------------------------+-------------+-----+------------+\n",
      "\n",
      "23/05/17 18:47:32 WARN KafkaDataConsumer: KafkaDataConsumer is not running in UninterruptibleThread. It may hang when KafkaDataConsumer's methods are interrupted because of KAFKA-1894\n",
      "23/05/17 18:47:32 WARN KafkaDataConsumer: KafkaDataConsumer is not running in UninterruptibleThread. It may hang when KafkaDataConsumer's methods are interrupted because of KAFKA-1894\n",
      "23/05/17 18:47:32 WARN KafkaDataConsumer: KafkaDataConsumer is not running in UninterruptibleThread. It may hang when KafkaDataConsumer's methods are interrupted because of KAFKA-1894\n",
      "23/05/17 18:47:32 WARN KafkaDataConsumer: KafkaDataConsumer is not running in UninterruptibleThread. It may hang when KafkaDataConsumer's methods are interrupted because of KAFKA-1894\n",
      "23/05/17 18:47:32 WARN KafkaDataConsumer: KafkaDataConsumer is not running in UninterruptibleThread. It may hang when KafkaDataConsumer's methods are interrupted because of KAFKA-1894\n"
     ]
    },
    {
     "name": "stderr",
     "output_type": "stream",
     "text": [
      "\r",
      "[Stage 130:>                                                        (0 + 1) / 1]\r",
      "419351294\n",
      "419348478\n",
      "419351294\n",
      "419351294\n",
      "419348478\n",
      "\r",
      "                                                                                \r"
     ]
    },
    {
     "name": "stdout",
     "output_type": "stream",
     "text": [
      "-------------------------------------------\n",
      "Batch: 130\n",
      "-------------------------------------------\n",
      "+-----------+------+-------------+---+-------------------------+-------------+-----+------------+\n",
      "|topic      |bus_id|can_id       |dlc|data                     |timestamp    |value|message_name|\n",
      "+-----------+------+-------------+---+-------------------------+-------------+-----+------------+\n",
      "|canbus_test|bus_37|[18 FE CA 2F]|8  |[F3 FF 00 00 00 00 FF FF]|1684318552266|null |DM1         |\n",
      "|canbus_test|bus_34|[18 FE BF 0B]|8  |[00 00 7D 7D 7D 7D FF FF]|1684317904238|null |EBC2        |\n",
      "|canbus_test|bus_35|[18 FE CA 2F]|8  |[F3 FF 00 00 00 00 FF FF]|1684318774945|null |DM1         |\n",
      "|canbus_test|bus_36|[18 FE CA 2F]|8  |[F3 FF 00 00 00 00 FF FF]|1684318075980|null |DM1         |\n",
      "|canbus_test|bus_33|[18 FE BF 0B]|8  |[00 00 7D 7D 7D 7D FF FF]|1684317290982|null |EBC2        |\n",
      "+-----------+------+-------------+---+-------------------------+-------------+-----+------------+\n",
      "\n",
      "23/05/17 18:47:33 WARN KafkaDataConsumer: KafkaDataConsumer is not running in UninterruptibleThread. It may hang when KafkaDataConsumer's methods are interrupted because of KAFKA-1894\n",
      "23/05/17 18:47:33 WARN KafkaDataConsumer: KafkaDataConsumer is not running in UninterruptibleThread. It may hang when KafkaDataConsumer's methods are interrupted because of KAFKA-1894\n",
      "23/05/17 18:47:33 WARN KafkaDataConsumer: KafkaDataConsumer is not running in UninterruptibleThread. It may hang when KafkaDataConsumer's methods are interrupted because of KAFKA-1894\n",
      "23/05/17 18:47:33 WARN KafkaDataConsumer: KafkaDataConsumer is not running in UninterruptibleThread. It may hang when KafkaDataConsumer's methods are interrupted because of KAFKA-1894\n",
      "23/05/17 18:47:33 WARN KafkaDataConsumer: KafkaDataConsumer is not running in UninterruptibleThread. It may hang when KafkaDataConsumer's methods are interrupted because of KAFKA-1894\n"
     ]
    },
    {
     "name": "stderr",
     "output_type": "stream",
     "text": [
      "4183823341:>                                                        (0 + 1) / 1]\n",
      "419094782\n",
      "418382334\n",
      "217996030\n",
      "419351294\n",
      "                                                                                \r"
     ]
    },
    {
     "name": "stdout",
     "output_type": "stream",
     "text": [
      "-------------------------------------------\n",
      "Batch: 131\n",
      "-------------------------------------------\n",
      "+-----------+------+-------------+---+-------------------------+-------------+-----+------------+\n",
      "|topic      |bus_id|can_id       |dlc|data                     |timestamp    |value|message_name|\n",
      "+-----------+------+-------------+---+-------------------------+-------------+-----+------------+\n",
      "|canbus_test|bus_37|[18 F0 01 0B]|8  |[00 00 F3 FF FF 01 FF F7]|1684318553265|null |EBC1        |\n",
      "|canbus_test|bus_34|[18 FA E0 21]|8  |[FF FF FF 05 DC 13 F1 FF]|1684317905248|null |null        |\n",
      "|canbus_test|bus_35|[18 F0 01 0B]|8  |[00 00 F3 FF FF 01 FF F7]|1684318775944|null |EBC1        |\n",
      "|canbus_test|bus_36|[0C FE 5A 2F]|8  |[11 00 00 00 D3 F5 FF F0]|1684318077021|null |ASC1        |\n",
      "|canbus_test|bus_33|[18 FE CA 2F]|8  |[F3 FF 00 00 00 00 FF FF]|1684317291990|null |DM1         |\n",
      "+-----------+------+-------------+---+-------------------------+-------------+-----+------------+\n",
      "\n",
      "23/05/17 18:47:34 WARN KafkaDataConsumer: KafkaDataConsumer is not running in UninterruptibleThread. It may hang when KafkaDataConsumer's methods are interrupted because of KAFKA-1894\n",
      "23/05/17 18:47:34 WARN KafkaDataConsumer: KafkaDataConsumer is not running in UninterruptibleThread. It may hang when KafkaDataConsumer's methods are interrupted because of KAFKA-1894\n",
      "23/05/17 18:47:34 WARN KafkaDataConsumer: KafkaDataConsumer is not running in UninterruptibleThread. It may hang when KafkaDataConsumer's methods are interrupted because of KAFKA-1894\n",
      "23/05/17 18:47:34 WARN KafkaDataConsumer: KafkaDataConsumer is not running in UninterruptibleThread. It may hang when KafkaDataConsumer's methods are interrupted because of KAFKA-1894\n",
      "23/05/17 18:47:34 WARN KafkaDataConsumer: KafkaDataConsumer is not running in UninterruptibleThread. It may hang when KafkaDataConsumer's methods are interrupted because of KAFKA-1894\n"
     ]
    },
    {
     "name": "stderr",
     "output_type": "stream",
     "text": [
      "4183823342:>                                                        (0 + 1) / 1]\n",
      "419319550\n",
      "418382334\n",
      "419351294\n",
      "419094782\n",
      "                                                                                \r"
     ]
    },
    {
     "name": "stdout",
     "output_type": "stream",
     "text": [
      "-------------------------------------------\n",
      "Batch: 132\n",
      "-------------------------------------------\n",
      "+-----------+------+-------------+---+-------------------------+-------------+-----+------------+\n",
      "|topic      |bus_id|can_id       |dlc|data                     |timestamp    |value|message_name|\n",
      "+-----------+------+-------------+---+-------------------------+-------------+-----+------------+\n",
      "|canbus_test|bus_37|[18 F0 01 0B]|8  |[00 00 F3 FF FF 01 FF F7]|1684318554264|null |EBC1        |\n",
      "|canbus_test|bus_34|[18 FE 4E EC]|8  |[02 F3 FF 3F FF FF FF FF]|1684317906254|null |DC1         |\n",
      "|canbus_test|bus_35|[18 F0 01 0B]|8  |[00 00 F3 FF FF 01 FF F7]|1684318776922|null |EBC1        |\n",
      "|canbus_test|bus_36|[18 FE CA 2F]|8  |[F3 FF 00 00 00 00 FF FF]|1684318078022|null |DM1         |\n",
      "|canbus_test|bus_33|[18 FA E0 21]|8  |[FF FF FF 05 DC 13 F1 FF]|1684317294042|null |null        |\n",
      "+-----------+------+-------------+---+-------------------------+-------------+-----+------------+\n",
      "\n",
      "23/05/17 18:47:35 WARN KafkaDataConsumer: KafkaDataConsumer is not running in UninterruptibleThread. It may hang when KafkaDataConsumer's methods are interrupted because of KAFKA-1894\n",
      "23/05/17 18:47:35 WARN KafkaDataConsumer: KafkaDataConsumer is not running in UninterruptibleThread. It may hang when KafkaDataConsumer's methods are interrupted because of KAFKA-1894\n",
      "23/05/17 18:47:35 WARN KafkaDataConsumer: KafkaDataConsumer is not running in UninterruptibleThread. It may hang when KafkaDataConsumer's methods are interrupted because of KAFKA-1894\n",
      "23/05/17 18:47:35 WARN KafkaDataConsumer: KafkaDataConsumer is not running in UninterruptibleThread. It may hang when KafkaDataConsumer's methods are interrupted because of KAFKA-1894\n",
      "23/05/17 18:47:35 WARN KafkaDataConsumer: KafkaDataConsumer is not running in UninterruptibleThread. It may hang when KafkaDataConsumer's methods are interrupted because of KAFKA-1894\n"
     ]
    },
    {
     "name": "stderr",
     "output_type": "stream",
     "text": [
      "\r",
      "[Stage 133:>                                                        (0 + 1) / 1]\r",
      "419351294\n",
      "419094782\n",
      "217055998\n",
      "418382334\n",
      "419351294\n",
      "\r",
      "                                                                                \r"
     ]
    },
    {
     "name": "stdout",
     "output_type": "stream",
     "text": [
      "-------------------------------------------\n",
      "Batch: 133\n",
      "-------------------------------------------\n",
      "+-----------+------+-------------+---+-------------------------+-------------+-----+------------+\n",
      "|topic      |bus_id|can_id       |dlc|data                     |timestamp    |value|message_name|\n",
      "+-----------+------+-------------+---+-------------------------+-------------+-----+------------+\n",
      "|canbus_test|bus_34|[18 FE CA 2F]|8  |[F3 FF 00 00 00 00 FF FF]|1684317907259|null |DM1         |\n",
      "|canbus_test|bus_37|[18 FA E0 21]|8  |[FF FF FF 05 DC 13 F1 FF]|1684318555260|null |null        |\n",
      "|canbus_test|bus_35|[0C F0 02 03]|8  |[CD FF FE FF FF FF FF FF]|1684318777928|null |ETC1        |\n",
      "|canbus_test|bus_36|[18 F0 01 0B]|8  |[00 00 F3 FF FF 01 FF F7]|1684318079026|null |EBC1        |\n",
      "|canbus_test|bus_33|[18 FE CA 2F]|8  |[F3 FF 00 00 00 00 FF FF]|1684317295051|null |DM1         |\n",
      "+-----------+------+-------------+---+-------------------------+-------------+-----+------------+\n",
      "\n",
      "23/05/17 18:47:36 WARN KafkaDataConsumer: KafkaDataConsumer is not running in UninterruptibleThread. It may hang when KafkaDataConsumer's methods are interrupted because of KAFKA-1894\n",
      "23/05/17 18:47:36 WARN KafkaDataConsumer: KafkaDataConsumer is not running in UninterruptibleThread. It may hang when KafkaDataConsumer's methods are interrupted because of KAFKA-1894\n",
      "23/05/17 18:47:36 WARN KafkaDataConsumer: KafkaDataConsumer is not running in UninterruptibleThread. It may hang when KafkaDataConsumer's methods are interrupted because of KAFKA-1894\n",
      "23/05/17 18:47:36 WARN KafkaDataConsumer: KafkaDataConsumer is not running in UninterruptibleThread. It may hang when KafkaDataConsumer's methods are interrupted because of KAFKA-1894\n",
      "23/05/17 18:47:36 WARN KafkaDataConsumer: KafkaDataConsumer is not running in UninterruptibleThread. It may hang when KafkaDataConsumer's methods are interrupted because of KAFKA-1894\n"
     ]
    },
    {
     "name": "stderr",
     "output_type": "stream",
     "text": [
      "\r",
      "[Stage 134:>                                                        (0 + 1) / 1]\r",
      "217996030\n",
      "419351294\n",
      "150892286\n",
      "419173630\n",
      "418382334\n",
      "\r",
      "                                                                                \r"
     ]
    },
    {
     "name": "stdout",
     "output_type": "stream",
     "text": [
      "-------------------------------------------\n",
      "Batch: 134\n",
      "-------------------------------------------\n",
      "+-----------+------+-------------+---+-------------------------+-------------+-----+------------+\n",
      "|topic      |bus_id|can_id       |dlc|data                     |timestamp    |value|message_name|\n",
      "+-----------+------+-------------+---+-------------------------+-------------+-----+------------+\n",
      "|canbus_test|bus_37|[0C FE 5A 21]|8  |[FF FF FF FF EF FF FF FF]|1684318556256|null |ASC1        |\n",
      "|canbus_test|bus_34|[18 FE CA 2F]|8  |[F3 FF 00 00 00 00 FF FF]|1684317908262|null |DM1         |\n",
      "|canbus_test|bus_35|[08 FE 6E 0B]|8  |[00 00 00 00 00 00 00 00]|1684318778947|null |HRW         |\n",
      "|canbus_test|bus_36|[18 FC 14 21]|8  |[FF FF 00 00 71 02 FF 0D]|1684318080052|null |null        |\n",
      "|canbus_test|bus_33|[18 F0 01 0B]|8  |[00 00 F3 FF FF 01 FF F7]|1684317296049|null |EBC1        |\n",
      "+-----------+------+-------------+---+-------------------------+-------------+-----+------------+\n",
      "\n",
      "23/05/17 18:47:37 WARN KafkaDataConsumer: KafkaDataConsumer is not running in UninterruptibleThread. It may hang when KafkaDataConsumer's methods are interrupted because of KAFKA-1894\n",
      "23/05/17 18:47:37 WARN KafkaDataConsumer: KafkaDataConsumer is not running in UninterruptibleThread. It may hang when KafkaDataConsumer's methods are interrupted because of KAFKA-1894\n",
      "23/05/17 18:47:37 WARN KafkaDataConsumer: KafkaDataConsumer is not running in UninterruptibleThread. It may hang when KafkaDataConsumer's methods are interrupted because of KAFKA-1894\n",
      "23/05/17 18:47:37 WARN KafkaDataConsumer: KafkaDataConsumer is not running in UninterruptibleThread. It may hang when KafkaDataConsumer's methods are interrupted because of KAFKA-1894\n",
      "23/05/17 18:47:37 WARN KafkaDataConsumer: KafkaDataConsumer is not running in UninterruptibleThread. It may hang when KafkaDataConsumer's methods are interrupted because of KAFKA-1894\n"
     ]
    },
    {
     "name": "stderr",
     "output_type": "stream",
     "text": [
      "\r",
      "[Stage 135:>                                                        (0 + 1) / 1]\r",
      "217055998\n",
      "418382334\n",
      "419351294\n",
      "418382334\n",
      "419348478\n",
      "\r",
      "                                                                                \r"
     ]
    },
    {
     "name": "stdout",
     "output_type": "stream",
     "text": [
      "-------------------------------------------\n",
      "Batch: 135\n",
      "-------------------------------------------\n",
      "+-----------+------+-------------+---+-------------------------+-------------+-----+------------+\n",
      "|topic      |bus_id|can_id       |dlc|data                     |timestamp    |value|message_name|\n",
      "+-----------+------+-------------+---+-------------------------+-------------+-----+------------+\n",
      "|canbus_test|bus_37|[0C F0 02 03]|8  |[CD FF FE FF FF FF FF FF]|1684318557263|null |ETC1        |\n",
      "|canbus_test|bus_34|[18 F0 01 0B]|8  |[00 00 F3 FF FF 01 FF F7]|1684317909264|null |EBC1        |\n",
      "|canbus_test|bus_35|[18 FE CA 2F]|8  |[F3 FF 00 00 00 00 FF FF]|1684318779942|null |DM1         |\n",
      "|canbus_test|bus_36|[18 F0 01 0B]|8  |[00 00 F3 FF FF 01 FF F7]|1684318081056|null |EBC1        |\n",
      "|canbus_test|bus_33|[18 FE BF 0B]|8  |[00 00 7D 7D 7D 7D FF FF]|1684317298128|null |EBC2        |\n",
      "+-----------+------+-------------+---+-------------------------+-------------+-----+------------+\n",
      "\n",
      "23/05/17 18:47:38 WARN KafkaDataConsumer: KafkaDataConsumer is not running in UninterruptibleThread. It may hang when KafkaDataConsumer's methods are interrupted because of KAFKA-1894\n",
      "23/05/17 18:47:38 WARN KafkaDataConsumer: KafkaDataConsumer is not running in UninterruptibleThread. It may hang when KafkaDataConsumer's methods are interrupted because of KAFKA-1894\n",
      "23/05/17 18:47:38 WARN KafkaDataConsumer: KafkaDataConsumer is not running in UninterruptibleThread. It may hang when KafkaDataConsumer's methods are interrupted because of KAFKA-1894\n",
      "23/05/17 18:47:38 WARN KafkaDataConsumer: KafkaDataConsumer is not running in UninterruptibleThread. It may hang when KafkaDataConsumer's methods are interrupted because of KAFKA-1894\n",
      "23/05/17 18:47:38 WARN KafkaDataConsumer: KafkaDataConsumer is not running in UninterruptibleThread. It may hang when KafkaDataConsumer's methods are interrupted because of KAFKA-1894\n"
     ]
    },
    {
     "name": "stderr",
     "output_type": "stream",
     "text": [
      "\r",
      "[Stage 136:>                                                        (0 + 1) / 1]\r",
      "217055998\n",
      "419174142\n",
      "419351294\n",
      "150892286\n",
      "419351294\n",
      "\r",
      "                                                                                \r"
     ]
    },
    {
     "name": "stdout",
     "output_type": "stream",
     "text": [
      "-------------------------------------------\n",
      "Batch: 136\n",
      "-------------------------------------------\n",
      "+-----------+------+-------------+---+-------------------------+-------------+-----+------------+\n",
      "|topic      |bus_id|can_id       |dlc|data                     |timestamp    |value|message_name|\n",
      "+-----------+------+-------------+---+-------------------------+-------------+-----+------------+\n",
      "|canbus_test|bus_37|[0C F0 02 03]|8  |[CD FF FE FF FF FF FF FF]|1684318559334|null |ETC1        |\n",
      "|canbus_test|bus_34|[18 FC 16 21]|8  |[03 C7 00 00 72 02 FF 41]|1684317910276|null |null        |\n",
      "|canbus_test|bus_35|[18 FE CA 2F]|8  |[F3 FF 00 00 00 00 FF FF]|1684318780958|null |DM1         |\n",
      "|canbus_test|bus_36|[08 FE 6E 0B]|8  |[00 00 00 00 00 00 00 00]|1684318082061|null |HRW         |\n",
      "|canbus_test|bus_33|[18 FE CA 2F]|8  |[F3 FF 00 00 00 00 FF FF]|1684317300161|null |DM1         |\n",
      "+-----------+------+-------------+---+-------------------------+-------------+-----+------------+\n",
      "\n",
      "23/05/17 18:47:39 WARN KafkaDataConsumer: KafkaDataConsumer is not running in UninterruptibleThread. It may hang when KafkaDataConsumer's methods are interrupted because of KAFKA-1894\n",
      "23/05/17 18:47:39 WARN KafkaDataConsumer: KafkaDataConsumer is not running in UninterruptibleThread. It may hang when KafkaDataConsumer's methods are interrupted because of KAFKA-1894\n",
      "23/05/17 18:47:39 WARN KafkaDataConsumer: KafkaDataConsumer is not running in UninterruptibleThread. It may hang when KafkaDataConsumer's methods are interrupted because of KAFKA-1894\n",
      "23/05/17 18:47:39 WARN KafkaDataConsumer: KafkaDataConsumer is not running in UninterruptibleThread. It may hang when KafkaDataConsumer's methods are interrupted because of KAFKA-1894\n",
      "23/05/17 18:47:39 WARN KafkaDataConsumer: KafkaDataConsumer is not running in UninterruptibleThread. It may hang when KafkaDataConsumer's methods are interrupted because of KAFKA-1894\n"
     ]
    },
    {
     "name": "stderr",
     "output_type": "stream",
     "text": [
      "4193512947:>                                                        (0 + 1) / 1]\n",
      "418382334\n",
      "419351294\n",
      "419351294\n",
      "419351294\n",
      "                                                                                \r"
     ]
    },
    {
     "name": "stdout",
     "output_type": "stream",
     "text": [
      "-------------------------------------------\n",
      "Batch: 137\n",
      "-------------------------------------------\n",
      "+-----------+------+-------------+---+-------------------------+-------------+-----+------------+\n",
      "|topic      |bus_id|can_id       |dlc|data                     |timestamp    |value|message_name|\n",
      "+-----------+------+-------------+---+-------------------------+-------------+-----+------------+\n",
      "|canbus_test|bus_37|[18 FE CA 2F]|8  |[F3 FF 00 00 00 00 FF FF]|1684318560349|null |DM1         |\n",
      "|canbus_test|bus_34|[18 F0 01 0B]|8  |[00 00 F3 FF FF 01 FF F7]|1684317911284|null |EBC1        |\n",
      "|canbus_test|bus_35|[18 FE CA 2F]|8  |[F3 FF 00 00 00 00 FF FF]|1684318781956|null |DM1         |\n",
      "|canbus_test|bus_36|[18 FE CA 2F]|8  |[F3 FF 00 00 00 00 FF FF]|1684318083068|null |DM1         |\n",
      "|canbus_test|bus_33|[18 FE CA 2F]|8  |[F3 FF 00 00 00 00 FF FF]|1684317301148|null |DM1         |\n",
      "+-----------+------+-------------+---+-------------------------+-------------+-----+------------+\n",
      "\n",
      "23/05/17 18:47:40 WARN KafkaDataConsumer: KafkaDataConsumer is not running in UninterruptibleThread. It may hang when KafkaDataConsumer's methods are interrupted because of KAFKA-1894\n",
      "23/05/17 18:47:40 WARN KafkaDataConsumer: KafkaDataConsumer is not running in UninterruptibleThread. It may hang when KafkaDataConsumer's methods are interrupted because of KAFKA-1894\n",
      "23/05/17 18:47:40 WARN KafkaDataConsumer: KafkaDataConsumer is not running in UninterruptibleThread. It may hang when KafkaDataConsumer's methods are interrupted because of KAFKA-1894\n",
      "23/05/17 18:47:41 WARN KafkaDataConsumer: KafkaDataConsumer is not running in UninterruptibleThread. It may hang when KafkaDataConsumer's methods are interrupted because of KAFKA-1894\n",
      "23/05/17 18:47:41 WARN KafkaDataConsumer: KafkaDataConsumer is not running in UninterruptibleThread. It may hang when KafkaDataConsumer's methods are interrupted because of KAFKA-1894\n"
     ]
    },
    {
     "name": "stderr",
     "output_type": "stream",
     "text": [
      "4183833588:>                                                        (0 + 1) / 1]\n",
      "418382334\n",
      "419351294\n",
      "419174654\n",
      "418382334\n",
      "                                                                                \r"
     ]
    },
    {
     "name": "stdout",
     "output_type": "stream",
     "text": [
      "-------------------------------------------\n",
      "Batch: 138\n",
      "-------------------------------------------\n",
      "+-----------+------+-------------+---+-------------------------+-------------+-----+------------+\n",
      "|topic      |bus_id|can_id       |dlc|data                     |timestamp    |value|message_name|\n",
      "+-----------+------+-------------+---+-------------------------+-------------+-----+------------+\n",
      "|canbus_test|bus_37|[18 F0 05 03]|8  |[FF FF FF 7D FF FF FF FF]|1684318561358|null |ETC2        |\n",
      "|canbus_test|bus_34|[18 F0 01 0B]|8  |[00 00 F3 FF FF 01 FF F7]|1684317912300|null |EBC1        |\n",
      "|canbus_test|bus_35|[18 FE CA 2F]|8  |[F3 FF 00 00 00 00 FF FF]|1684318782954|null |DM1         |\n",
      "|canbus_test|bus_36|[18 FC 18 21]|8  |[00 10 9B 88 0A 49 FF F9]|1684318084074|null |null        |\n",
      "|canbus_test|bus_33|[18 F0 01 0B]|8  |[00 00 F3 FF FF 01 FF F7]|1684317302146|null |EBC1        |\n",
      "+-----------+------+-------------+---+-------------------------+-------------+-----+------------+\n",
      "\n",
      "23/05/17 18:47:41 WARN KafkaDataConsumer: KafkaDataConsumer is not running in UninterruptibleThread. It may hang when KafkaDataConsumer's methods are interrupted because of KAFKA-1894\n",
      "23/05/17 18:47:41 WARN KafkaDataConsumer: KafkaDataConsumer is not running in UninterruptibleThread. It may hang when KafkaDataConsumer's methods are interrupted because of KAFKA-1894\n",
      "23/05/17 18:47:41 WARN KafkaDataConsumer: KafkaDataConsumer is not running in UninterruptibleThread. It may hang when KafkaDataConsumer's methods are interrupted because of KAFKA-1894\n",
      "23/05/17 18:47:41 WARN KafkaDataConsumer: KafkaDataConsumer is not running in UninterruptibleThread. It may hang when KafkaDataConsumer's methods are interrupted because of KAFKA-1894\n",
      "23/05/17 18:47:42 WARN KafkaDataConsumer: KafkaDataConsumer is not running in UninterruptibleThread. It may hang when KafkaDataConsumer's methods are interrupted because of KAFKA-1894\n"
     ]
    },
    {
     "name": "stderr",
     "output_type": "stream",
     "text": [
      "4193512949:>                                                        (0 + 1) / 1]\n",
      "419348478\n",
      "419351294\n",
      "419170302\n",
      "419348478\n",
      "                                                                                \r"
     ]
    },
    {
     "name": "stdout",
     "output_type": "stream",
     "text": [
      "-------------------------------------------\n",
      "Batch: 139\n",
      "-------------------------------------------\n",
      "+-----------+------+-------------+---+-------------------------+-------------+-----+------------+\n",
      "|topic      |bus_id|can_id       |dlc|data                     |timestamp    |value|message_name|\n",
      "+-----------+------+-------------+---+-------------------------+-------------+-----+------------+\n",
      "|canbus_test|bus_37|[18 FE CA 2F]|8  |[F3 FF 00 00 00 00 FF FF]|1684318562370|null |DM1         |\n",
      "|canbus_test|bus_34|[18 FE BF 0B]|8  |[00 00 7D 7D 7D 7D FF FF]|1684317913311|null |EBC2        |\n",
      "|canbus_test|bus_35|[18 FE CA 2F]|8  |[F3 FF 00 00 00 00 FF FF]|1684318783946|null |DM1         |\n",
      "|canbus_test|bus_36|[18 FC 07 F4]|8  |[CC 09 59 07 8B 02 61 5B]|1684318085084|null |null        |\n",
      "|canbus_test|bus_33|[18 FE BF 0B]|8  |[00 00 7D 7D 7D 7D FF FF]|1684317303148|null |EBC2        |\n",
      "+-----------+------+-------------+---+-------------------------+-------------+-----+------------+\n",
      "\n",
      "23/05/17 18:47:42 WARN KafkaDataConsumer: KafkaDataConsumer is not running in UninterruptibleThread. It may hang when KafkaDataConsumer's methods are interrupted because of KAFKA-1894\n",
      "23/05/17 18:47:42 WARN KafkaDataConsumer: KafkaDataConsumer is not running in UninterruptibleThread. It may hang when KafkaDataConsumer's methods are interrupted because of KAFKA-1894\n",
      "23/05/17 18:47:42 WARN KafkaDataConsumer: KafkaDataConsumer is not running in UninterruptibleThread. It may hang when KafkaDataConsumer's methods are interrupted because of KAFKA-1894\n",
      "23/05/17 18:47:43 WARN KafkaDataConsumer: KafkaDataConsumer is not running in UninterruptibleThread. It may hang when KafkaDataConsumer's methods are interrupted because of KAFKA-1894\n",
      "23/05/17 18:47:43 WARN KafkaDataConsumer: KafkaDataConsumer is not running in UninterruptibleThread. It may hang when KafkaDataConsumer's methods are interrupted because of KAFKA-1894\n"
     ]
    },
    {
     "name": "stderr",
     "output_type": "stream",
     "text": [
      "\r",
      "[Stage 140:>                                                        (0 + 1) / 1]\r",
      "418382334\n",
      "419319550\n",
      "418382334\n",
      "419170814\n",
      "419170558\n",
      "\r",
      "                                                                                \r"
     ]
    },
    {
     "name": "stdout",
     "output_type": "stream",
     "text": [
      "-------------------------------------------\n",
      "Batch: 140\n",
      "-------------------------------------------\n",
      "+-----------+------+-------------+---+-------------------------+-------------+-----+------------+\n",
      "|topic      |bus_id|can_id       |dlc|data                     |timestamp    |value|message_name|\n",
      "+-----------+------+-------------+---+-------------------------+-------------+-----+------------+\n",
      "|canbus_test|bus_34|[18 F0 01 0B]|8  |[00 00 F3 FF FF 01 FF F7]|1684317914324|null |EBC1        |\n",
      "|canbus_test|bus_35|[18 FE 4E EC]|8  |[00 F3 FF 3F FF FF FF FF]|1684318784970|null |DC1         |\n",
      "|canbus_test|bus_36|[18 F0 01 0B]|8  |[00 00 F3 FF FF 01 FF F7]|1684318086097|null |EBC1        |\n",
      "|canbus_test|bus_33|[18 FC 09 F4]|8  |[2B 00 00 00 96 96 FE 29]|1684317304187|null |null        |\n",
      "|canbus_test|bus_37|[18 FC 08 F4]|8  |[73 02 5D 27 64 41 18 C9]|1684318563387|null |null        |\n",
      "+-----------+------+-------------+---+-------------------------+-------------+-----+------------+\n",
      "\n",
      "23/05/17 18:47:43 WARN KafkaDataConsumer: KafkaDataConsumer is not running in UninterruptibleThread. It may hang when KafkaDataConsumer's methods are interrupted because of KAFKA-1894\n",
      "23/05/17 18:47:43 WARN KafkaDataConsumer: KafkaDataConsumer is not running in UninterruptibleThread. It may hang when KafkaDataConsumer's methods are interrupted because of KAFKA-1894\n",
      "23/05/17 18:47:43 WARN KafkaDataConsumer: KafkaDataConsumer is not running in UninterruptibleThread. It may hang when KafkaDataConsumer's methods are interrupted because of KAFKA-1894\n",
      "23/05/17 18:47:44 WARN KafkaDataConsumer: KafkaDataConsumer is not running in UninterruptibleThread. It may hang when KafkaDataConsumer's methods are interrupted because of KAFKA-1894\n",
      "23/05/17 18:47:44 WARN KafkaDataConsumer: KafkaDataConsumer is not running in UninterruptibleThread. It may hang when KafkaDataConsumer's methods are interrupted because of KAFKA-1894\n"
     ]
    },
    {
     "name": "stderr",
     "output_type": "stream",
     "text": [
      "\r",
      "[Stage 141:>                                                        (0 + 1) / 1]\r",
      "419348478\n",
      "419170302\n",
      "419351294\n",
      "418382334\n",
      "215101438\n",
      "\r",
      "                                                                                \r"
     ]
    },
    {
     "name": "stdout",
     "output_type": "stream",
     "text": [
      "-------------------------------------------\n",
      "Batch: 141\n",
      "-------------------------------------------\n",
      "+-----------+------+-------------+---+-------------------------+-------------+-----+------------+\n",
      "|topic      |bus_id|can_id       |dlc|data                     |timestamp    |value|message_name|\n",
      "+-----------+------+-------------+---+-------------------------+-------------+-----+------------+\n",
      "|canbus_test|bus_37|[18 FE BF 0B]|8  |[00 00 7D 7D 7D 7D FF FF]|1684318564390|null |EBC2        |\n",
      "|canbus_test|bus_34|[18 FC 07 F4]|8  |[CC 09 59 07 8B 02 61 5B]|1684317915332|null |null        |\n",
      "|canbus_test|bus_35|[18 FE CA 2F]|8  |[F3 FF 00 00 00 00 FF FF]|1684318785996|null |DM1         |\n",
      "|canbus_test|bus_36|[18 F0 01 0B]|8  |[00 00 F3 FF FF 01 FF F7]|1684318087107|null |EBC1        |\n",
      "|canbus_test|bus_33|[0C D2 2F 27]|8  |[00 00 A0 00 00 00 00 00]|1684317305195|null |null        |\n",
      "+-----------+------+-------------+---+-------------------------+-------------+-----+------------+\n",
      "\n",
      "23/05/17 18:47:44 WARN KafkaDataConsumer: KafkaDataConsumer is not running in UninterruptibleThread. It may hang when KafkaDataConsumer's methods are interrupted because of KAFKA-1894\n",
      "23/05/17 18:47:44 WARN KafkaDataConsumer: KafkaDataConsumer is not running in UninterruptibleThread. It may hang when KafkaDataConsumer's methods are interrupted because of KAFKA-1894\n",
      "23/05/17 18:47:44 WARN KafkaDataConsumer: KafkaDataConsumer is not running in UninterruptibleThread. It may hang when KafkaDataConsumer's methods are interrupted because of KAFKA-1894\n",
      "23/05/17 18:47:45 WARN KafkaDataConsumer: KafkaDataConsumer is not running in UninterruptibleThread. It may hang when KafkaDataConsumer's methods are interrupted because of KAFKA-1894\n",
      "23/05/17 18:47:45 WARN KafkaDataConsumer: KafkaDataConsumer is not running in UninterruptibleThread. It may hang when KafkaDataConsumer's methods are interrupted because of KAFKA-1894\n"
     ]
    },
    {
     "name": "stderr",
     "output_type": "stream",
     "text": [
      "\r",
      "[Stage 142:>                                                        (0 + 1) / 1]\r",
      "419319806\n",
      "419361278\n",
      "419348478\n",
      "150892286\n",
      "217055998\n",
      "\r",
      "                                                                                \r"
     ]
    },
    {
     "name": "stdout",
     "output_type": "stream",
     "text": [
      "-------------------------------------------\n",
      "Batch: 142\n",
      "-------------------------------------------\n",
      "+-----------+------+-------------+---+-------------------------+-------------+-----+------------+\n",
      "|topic      |bus_id|can_id       |dlc|data                     |timestamp    |value|message_name|\n",
      "+-----------+------+-------------+---+-------------------------+-------------+-----+------------+\n",
      "|canbus_test|bus_37|[18 FE 4F 0B]|8  |[FF FF FF FF FF FF FF FF]|1684318565409|null |VDC1        |\n",
      "|canbus_test|bus_34|[18 FE F1 17]|8  |[04 00 00 00 00 00 00 00]|1684317916342|null |CCVS        |\n",
      "|canbus_test|bus_35|[18 FE BF 0B]|8  |[00 00 7D 7D 7D 7D FF FF]|1684318786992|null |EBC2        |\n",
      "|canbus_test|bus_36|[08 FE 6E 0B]|8  |[00 00 00 00 00 00 00 00]|1684318088121|null |HRW         |\n",
      "|canbus_test|bus_33|[0C F0 02 03]|8  |[CD FF FE FF FF FF FF FF]|1684317306197|null |ETC1        |\n",
      "+-----------+------+-------------+---+-------------------------+-------------+-----+------------+\n",
      "\n",
      "23/05/17 18:47:45 WARN KafkaDataConsumer: KafkaDataConsumer is not running in UninterruptibleThread. It may hang when KafkaDataConsumer's methods are interrupted because of KAFKA-1894\n",
      "23/05/17 18:47:45 WARN KafkaDataConsumer: KafkaDataConsumer is not running in UninterruptibleThread. It may hang when KafkaDataConsumer's methods are interrupted because of KAFKA-1894\n",
      "23/05/17 18:47:45 WARN KafkaDataConsumer: KafkaDataConsumer is not running in UninterruptibleThread. It may hang when KafkaDataConsumer's methods are interrupted because of KAFKA-1894\n",
      "23/05/17 18:47:45 WARN KafkaDataConsumer: KafkaDataConsumer is not running in UninterruptibleThread. It may hang when KafkaDataConsumer's methods are interrupted because of KAFKA-1894\n",
      "23/05/17 18:47:46 WARN KafkaDataConsumer: KafkaDataConsumer is not running in UninterruptibleThread. It may hang when KafkaDataConsumer's methods are interrupted because of KAFKA-1894\n"
     ]
    },
    {
     "name": "stderr",
     "output_type": "stream",
     "text": [
      "\r",
      "[Stage 143:>                                                        (0 + 1) / 1]\r",
      "419284222\n",
      "419318526\n",
      "419351294\n",
      "419351294\n",
      "418382078\n",
      "\r",
      "                                                                                \r"
     ]
    },
    {
     "name": "stdout",
     "output_type": "stream",
     "text": [
      "-------------------------------------------\n",
      "Batch: 143\n",
      "-------------------------------------------\n",
      "+-----------+------+-------------+---+-------------------------+-------------+-----+------------+\n",
      "|topic      |bus_id|can_id       |dlc|data                     |timestamp    |value|message_name|\n",
      "+-----------+------+-------------+---+-------------------------+-------------+-----+------------+\n",
      "|canbus_test|bus_37|[18 FD C4 0B]|8  |[E0 08 FF F3 FF FF FF FF]|1684318566419|null |EBC5        |\n",
      "|canbus_test|bus_34|[18 FE 4A 03]|8  |[FF FC C2 F0 FF FF FF FF]|1684317917354|null |ETC7        |\n",
      "|canbus_test|bus_35|[18 FE CA 2F]|8  |[F3 FF 00 00 00 00 FF FF]|1684318789012|null |DM1         |\n",
      "|canbus_test|bus_36|[18 FE CA 2F]|8  |[F3 FF 00 00 00 00 FF FF]|1684318089132|null |DM1         |\n",
      "|canbus_test|bus_33|[18 F0 00 10]|8  |[FF 7D FF FF FF FF FF 7D]|1684317307196|null |ERC1        |\n",
      "+-----------+------+-------------+---+-------------------------+-------------+-----+------------+\n",
      "\n",
      "23/05/17 18:47:46 WARN KafkaDataConsumer: KafkaDataConsumer is not running in UninterruptibleThread. It may hang when KafkaDataConsumer's methods are interrupted because of KAFKA-1894\n",
      "23/05/17 18:47:46 WARN KafkaDataConsumer: KafkaDataConsumer is not running in UninterruptibleThread. It may hang when KafkaDataConsumer's methods are interrupted because of KAFKA-1894\n",
      "23/05/17 18:47:46 WARN KafkaDataConsumer: KafkaDataConsumer is not running in UninterruptibleThread. It may hang when KafkaDataConsumer's methods are interrupted because of KAFKA-1894\n",
      "23/05/17 18:47:47 WARN KafkaDataConsumer: KafkaDataConsumer is not running in UninterruptibleThread. It may hang when KafkaDataConsumer's methods are interrupted because of KAFKA-1894\n",
      "23/05/17 18:47:47 WARN KafkaDataConsumer: KafkaDataConsumer is not running in UninterruptibleThread. It may hang when KafkaDataConsumer's methods are interrupted because of KAFKA-1894\n"
     ]
    },
    {
     "name": "stderr",
     "output_type": "stream",
     "text": [
      "\r",
      "[Stage 144:>                                                        (0 + 1) / 1]\r",
      "419174398\n",
      "217996030\n",
      "217055998\n",
      "418583550\n",
      "419351294\n",
      "\r",
      "                                                                                \r"
     ]
    },
    {
     "name": "stdout",
     "output_type": "stream",
     "text": [
      "-------------------------------------------\n",
      "Batch: 144\n",
      "-------------------------------------------\n",
      "+-----------+------+-------------+---+-------------------------+-------------+-----+------------+\n",
      "|topic      |bus_id|can_id       |dlc|data                     |timestamp    |value|message_name|\n",
      "+-----------+------+-------------+---+-------------------------+-------------+-----+------------+\n",
      "|canbus_test|bus_37|[18 FC 17 21]|8  |[F8 2A 20 4E FF FF FE EE]|1684318567430|null |null        |\n",
      "|canbus_test|bus_34|[0C FE 5A 2F]|8  |[11 00 00 00 D3 F5 FF F0]|1684317919420|null |ASC1        |\n",
      "|canbus_test|bus_35|[0C F0 02 03]|8  |[CD FF FE FF FF FF FF FF]|1684318790008|null |ETC1        |\n",
      "|canbus_test|bus_36|[18 F3 13 00]|8  |[0A 00 44 44 44 44 44 44]|1684318090137|null |null        |\n",
      "|canbus_test|bus_33|[18 FE CA 2F]|8  |[F3 FF 00 00 00 00 FF FF]|1684317308201|null |DM1         |\n",
      "+-----------+------+-------------+---+-------------------------+-------------+-----+------------+\n",
      "\n",
      "23/05/17 18:47:47 WARN KafkaDataConsumer: KafkaDataConsumer is not running in UninterruptibleThread. It may hang when KafkaDataConsumer's methods are interrupted because of KAFKA-1894\n",
      "23/05/17 18:47:47 WARN KafkaDataConsumer: KafkaDataConsumer is not running in UninterruptibleThread. It may hang when KafkaDataConsumer's methods are interrupted because of KAFKA-1894\n",
      "23/05/17 18:47:47 WARN KafkaDataConsumer: KafkaDataConsumer is not running in UninterruptibleThread. It may hang when KafkaDataConsumer's methods are interrupted because of KAFKA-1894\n",
      "23/05/17 18:47:48 WARN KafkaDataConsumer: KafkaDataConsumer is not running in UninterruptibleThread. It may hang when KafkaDataConsumer's methods are interrupted because of KAFKA-1894\n",
      "23/05/17 18:47:48 WARN KafkaDataConsumer: KafkaDataConsumer is not running in UninterruptibleThread. It may hang when KafkaDataConsumer's methods are interrupted because of KAFKA-1894\n"
     ]
    },
    {
     "name": "stderr",
     "output_type": "stream",
     "text": [
      "\r",
      "[Stage 145:>                                                        (0 + 1) / 1]\r",
      "419173118\n",
      "419351294\n",
      "419170302\n",
      "217996030\n",
      "419348478\n",
      "\r",
      "                                                                                \r"
     ]
    },
    {
     "name": "stdout",
     "output_type": "stream",
     "text": [
      "-------------------------------------------\n",
      "Batch: 145\n",
      "-------------------------------------------\n",
      "+-----------+------+-------------+---+-------------------------+-------------+-----+------------+\n",
      "|topic      |bus_id|can_id       |dlc|data                     |timestamp    |value|message_name|\n",
      "+-----------+------+-------------+---+-------------------------+-------------+-----+------------+\n",
      "|canbus_test|bus_37|[18 FC 12 21]|8  |[CD DC 3C FF FF FF FF 98]|1684318568446|null |null        |\n",
      "|canbus_test|bus_34|[18 FE CA 2F]|8  |[F3 FF 00 00 00 00 FF FF]|1684317920426|null |DM1         |\n",
      "|canbus_test|bus_35|[18 FC 07 F4]|8  |[CC 09 59 07 89 02 60 5C]|1684318790995|null |null        |\n",
      "|canbus_test|bus_36|[0C FE 5A 21]|8  |[FF FF FF FF EF FF FF FF]|1684318091147|null |ASC1        |\n",
      "|canbus_test|bus_33|[18 FE BF 0B]|8  |[00 00 7D 7D 7D 7D FF FF]|1684317309211|null |EBC2        |\n",
      "+-----------+------+-------------+---+-------------------------+-------------+-----+------------+\n",
      "\n",
      "23/05/17 18:47:48 WARN KafkaDataConsumer: KafkaDataConsumer is not running in UninterruptibleThread. It may hang when KafkaDataConsumer's methods are interrupted because of KAFKA-1894\n",
      "23/05/17 18:47:48 WARN KafkaDataConsumer: KafkaDataConsumer is not running in UninterruptibleThread. It may hang when KafkaDataConsumer's methods are interrupted because of KAFKA-1894\n",
      "23/05/17 18:47:48 WARN KafkaDataConsumer: KafkaDataConsumer is not running in UninterruptibleThread. It may hang when KafkaDataConsumer's methods are interrupted because of KAFKA-1894\n",
      "23/05/17 18:47:49 WARN KafkaDataConsumer: KafkaDataConsumer is not running in UninterruptibleThread. It may hang when KafkaDataConsumer's methods are interrupted because of KAFKA-1894\n",
      "23/05/17 18:47:49 WARN KafkaDataConsumer: KafkaDataConsumer is not running in UninterruptibleThread. It may hang when KafkaDataConsumer's methods are interrupted because of KAFKA-1894\n"
     ]
    },
    {
     "name": "stderr",
     "output_type": "stream",
     "text": [
      "\r",
      "[Stage 146:>                                                        (0 + 1) / 1]\r",
      "418382334\n",
      "419170302\n",
      "418382334\n",
      "418583806\n",
      "217055998\n",
      "\r",
      "                                                                                \r"
     ]
    },
    {
     "name": "stdout",
     "output_type": "stream",
     "text": [
      "-------------------------------------------\n",
      "Batch: 146\n",
      "-------------------------------------------\n",
      "+-----------+------+-------------+---+-------------------------+-------------+-----+------------+\n",
      "|topic      |bus_id|can_id       |dlc|data                     |timestamp    |value|message_name|\n",
      "+-----------+------+-------------+---+-------------------------+-------------+-----+------------+\n",
      "|canbus_test|bus_37|[18 F0 01 0B]|8  |[00 00 F3 FF FF 01 FF F7]|1684318569471|null |EBC1        |\n",
      "|canbus_test|bus_34|[18 FC 07 F4]|8  |[CC 09 59 07 8B 02 61 5B]|1684317921441|null |null        |\n",
      "|canbus_test|bus_35|[18 F0 01 0B]|8  |[00 00 F3 FF FF 01 FF F7]|1684318791983|null |EBC1        |\n",
      "|canbus_test|bus_36|[18 F3 14 00]|8  |[12 00 C7 0C C8 0C C8 0C]|1684318092152|null |null        |\n",
      "|canbus_test|bus_33|[0C F0 02 03]|8  |[CD FF FE FF FF FF FF FF]|1684317310206|null |ETC1        |\n",
      "+-----------+------+-------------+---+-------------------------+-------------+-----+------------+\n",
      "\n",
      "23/05/17 18:47:49 WARN KafkaDataConsumer: KafkaDataConsumer is not running in UninterruptibleThread. It may hang when KafkaDataConsumer's methods are interrupted because of KAFKA-1894\n",
      "23/05/17 18:47:49 WARN KafkaDataConsumer: KafkaDataConsumer is not running in UninterruptibleThread. It may hang when KafkaDataConsumer's methods are interrupted because of KAFKA-1894\n",
      "23/05/17 18:47:49 WARN KafkaDataConsumer: KafkaDataConsumer is not running in UninterruptibleThread. It may hang when KafkaDataConsumer's methods are interrupted because of KAFKA-1894\n",
      "23/05/17 18:47:49 WARN KafkaDataConsumer: KafkaDataConsumer is not running in UninterruptibleThread. It may hang when KafkaDataConsumer's methods are interrupted because of KAFKA-1894\n",
      "23/05/17 18:47:50 WARN KafkaDataConsumer: KafkaDataConsumer is not running in UninterruptibleThread. It may hang when KafkaDataConsumer's methods are interrupted because of KAFKA-1894\n"
     ]
    },
    {
     "name": "stderr",
     "output_type": "stream",
     "text": [
      "\r",
      "[Stage 147:>                                                        (0 + 1) / 1]\r",
      "419173630\n",
      "419173118\n",
      "419348478\n",
      "217055998\n",
      "419348478\n",
      "\r",
      "                                                                                \r"
     ]
    },
    {
     "name": "stdout",
     "output_type": "stream",
     "text": [
      "-------------------------------------------\n",
      "Batch: 147\n",
      "-------------------------------------------\n",
      "+-----------+------+-------------+---+-------------------------+-------------+-----+------------+\n",
      "|topic      |bus_id|can_id       |dlc|data                     |timestamp    |value|message_name|\n",
      "+-----------+------+-------------+---+-------------------------+-------------+-----+------------+\n",
      "|canbus_test|bus_37|[18 FC 14 21]|8  |[FF FF 00 00 71 02 FF 0D]|1684318570500|null |null        |\n",
      "|canbus_test|bus_34|[18 FC 12 21]|8  |[CD DC 3C FF FF FF FF 98]|1684317922448|null |null        |\n",
      "|canbus_test|bus_35|[18 FE BF 0B]|8  |[00 00 7D 7D 7D 7D FF FF]|1684318792983|null |EBC2        |\n",
      "|canbus_test|bus_36|[0C F0 02 03]|8  |[CD FF FE FF FF FF FF FF]|1684318093155|null |ETC1        |\n",
      "|canbus_test|bus_33|[18 FE BF 0B]|8  |[00 00 7D 7D 7D 7D FF FF]|1684317311214|null |EBC2        |\n",
      "+-----------+------+-------------+---+-------------------------+-------------+-----+------------+\n",
      "\n",
      "23/05/17 18:47:50 WARN KafkaDataConsumer: KafkaDataConsumer is not running in UninterruptibleThread. It may hang when KafkaDataConsumer's methods are interrupted because of KAFKA-1894\n",
      "23/05/17 18:47:50 WARN KafkaDataConsumer: KafkaDataConsumer is not running in UninterruptibleThread. It may hang when KafkaDataConsumer's methods are interrupted because of KAFKA-1894\n",
      "23/05/17 18:47:50 WARN KafkaDataConsumer: KafkaDataConsumer is not running in UninterruptibleThread. It may hang when KafkaDataConsumer's methods are interrupted because of KAFKA-1894\n",
      "23/05/17 18:47:51 WARN KafkaDataConsumer: KafkaDataConsumer is not running in UninterruptibleThread. It may hang when KafkaDataConsumer's methods are interrupted because of KAFKA-1894\n",
      "23/05/17 18:47:51 WARN KafkaDataConsumer: KafkaDataConsumer is not running in UninterruptibleThread. It may hang when KafkaDataConsumer's methods are interrupted because of KAFKA-1894\n"
     ]
    },
    {
     "name": "stderr",
     "output_type": "stream",
     "text": [
      "\r",
      "[Stage 148:>                                                        (0 + 1) / 1]\r",
      "419348478\n",
      "419319550\n",
      "217055998\n",
      "419170814\n",
      "419351294\n",
      "\r",
      "                                                                                \r"
     ]
    },
    {
     "name": "stdout",
     "output_type": "stream",
     "text": [
      "-------------------------------------------\n",
      "Batch: 148\n",
      "-------------------------------------------\n",
      "+-----------+------+-------------+---+-------------------------+-------------+-----+------------+\n",
      "|topic      |bus_id|can_id       |dlc|data                     |timestamp    |value|message_name|\n",
      "+-----------+------+-------------+---+-------------------------+-------------+-----+------------+\n",
      "|canbus_test|bus_37|[18 FE BF 0B]|8  |[00 00 7D 7D 7D 7D FF FF]|1684318571518|null |EBC2        |\n",
      "|canbus_test|bus_34|[18 FE 4E EC]|8  |[02 F3 FF 3F FF FF FF FF]|1684317923456|null |DC1         |\n",
      "|canbus_test|bus_35|[0C F0 02 03]|8  |[CD FF FE FF FF FF FF FF]|1684318793988|null |ETC1        |\n",
      "|canbus_test|bus_36|[18 FC 09 F4]|8  |[21 00 00 00 96 96 FE 33]|1684318094182|null |null        |\n",
      "|canbus_test|bus_33|[18 FE CA 2F]|8  |[F3 FF 00 00 00 00 FF FF]|1684317312219|null |DM1         |\n",
      "+-----------+------+-------------+---+-------------------------+-------------+-----+------------+\n",
      "\n",
      "23/05/17 18:47:51 WARN KafkaDataConsumer: KafkaDataConsumer is not running in UninterruptibleThread. It may hang when KafkaDataConsumer's methods are interrupted because of KAFKA-1894\n",
      "23/05/17 18:47:51 WARN KafkaDataConsumer: KafkaDataConsumer is not running in UninterruptibleThread. It may hang when KafkaDataConsumer's methods are interrupted because of KAFKA-1894\n",
      "23/05/17 18:47:51 WARN KafkaDataConsumer: KafkaDataConsumer is not running in UninterruptibleThread. It may hang when KafkaDataConsumer's methods are interrupted because of KAFKA-1894\n",
      "23/05/17 18:47:52 WARN KafkaDataConsumer: KafkaDataConsumer is not running in UninterruptibleThread. It may hang when KafkaDataConsumer's methods are interrupted because of KAFKA-1894\n",
      "23/05/17 18:47:52 WARN KafkaDataConsumer: KafkaDataConsumer is not running in UninterruptibleThread. It may hang when KafkaDataConsumer's methods are interrupted because of KAFKA-1894\n"
     ]
    },
    {
     "name": "stderr",
     "output_type": "stream",
     "text": [
      "\r",
      "[Stage 149:>                                                        (0 + 1) / 1]\r",
      "419348478\n",
      "419319550\n",
      "419348478\n",
      "418382334\n",
      "418592254\n"
     ]
    },
    {
     "name": "stdout",
     "output_type": "stream",
     "text": [
      "-------------------------------------------\n",
      "Batch: 149\n",
      "-------------------------------------------\n",
      "+-----------+------+-------------+---+-------------------------+-------------+-----+------------+\n",
      "|topic      |bus_id|can_id       |dlc|data                     |timestamp    |value|message_name|\n",
      "+-----------+------+-------------+---+-------------------------+-------------+-----+------------+\n",
      "|canbus_test|bus_37|[18 FE BF 0B]|8  |[00 00 7D 7D 7D 7D FF FF]|1684318572540|null |EBC2        |\n",
      "|canbus_test|bus_34|[18 FE 4E EC]|8  |[02 F3 FF 3F FF FF FF FF]|1684317924456|null |DC1         |\n",
      "|canbus_test|bus_35|[18 FE BF 0B]|8  |[00 00 7D 7D 7D 7D FF FF]|1684318794991|null |EBC2        |\n",
      "|canbus_test|bus_33|[18 F0 01 0B]|8  |[00 00 F3 FF FF 01 FF F7]|1684317313210|null |EBC1        |\n",
      "|canbus_test|bus_36|[18 F3 35 00]|8  |[C2 00 C9 0C 07 00 C6 0C]|1684318095186|null |null        |\n",
      "+-----------+------+-------------+---+-------------------------+-------------+-----+------------+\n",
      "\n"
     ]
    },
    {
     "name": "stderr",
     "output_type": "stream",
     "text": [
      "\r",
      "                                                                                \r"
     ]
    },
    {
     "name": "stdout",
     "output_type": "stream",
     "text": [
      "23/05/17 18:47:52 WARN KafkaDataConsumer: KafkaDataConsumer is not running in UninterruptibleThread. It may hang when KafkaDataConsumer's methods are interrupted because of KAFKA-1894\n",
      "23/05/17 18:47:52 WARN KafkaDataConsumer: KafkaDataConsumer is not running in UninterruptibleThread. It may hang when KafkaDataConsumer's methods are interrupted because of KAFKA-1894\n",
      "23/05/17 18:47:52 WARN KafkaDataConsumer: KafkaDataConsumer is not running in UninterruptibleThread. It may hang when KafkaDataConsumer's methods are interrupted because of KAFKA-1894\n",
      "23/05/17 18:47:53 WARN KafkaDataConsumer: KafkaDataConsumer is not running in UninterruptibleThread. It may hang when KafkaDataConsumer's methods are interrupted because of KAFKA-1894\n",
      "23/05/17 18:47:53 WARN KafkaDataConsumer: KafkaDataConsumer is not running in UninterruptibleThread. It may hang when KafkaDataConsumer's methods are interrupted because of KAFKA-1894\n"
     ]
    },
    {
     "name": "stderr",
     "output_type": "stream",
     "text": [
      "4193484780:>                                                        (0 + 1) / 1]\n",
      "217055998\n",
      "215105790\n",
      "419351294\n",
      "419348478\n",
      "                                                                                \r"
     ]
    },
    {
     "name": "stdout",
     "output_type": "stream",
     "text": [
      "-------------------------------------------\n",
      "Batch: 150\n",
      "-------------------------------------------\n",
      "+-----------+------+-------------+---+-------------------------+-------------+-----+------------+\n",
      "|topic      |bus_id|can_id       |dlc|data                     |timestamp    |value|message_name|\n",
      "+-----------+------+-------------+---+-------------------------+-------------+-----+------------+\n",
      "|canbus_test|bus_37|[18 FE BF 0B]|8  |[00 00 7D 7D 7D 7D FF FF]|1684318573551|null |EBC2        |\n",
      "|canbus_test|bus_34|[0C F0 02 03]|8  |[CD FF FE FF FF FF FF FF]|1684317925472|null |ETC1        |\n",
      "|canbus_test|bus_35|[0C D2 40 27]|8  |[00 00 A0 00 00 00 00 00]|1684318796019|null |null        |\n",
      "|canbus_test|bus_36|[18 FE CA 2F]|8  |[F3 FF 00 00 00 00 FF FF]|1684318096202|null |DM1         |\n",
      "|canbus_test|bus_33|[18 FE BF 0B]|8  |[00 00 7D 7D 7D 7D FF FF]|1684317314207|null |EBC2        |\n",
      "+-----------+------+-------------+---+-------------------------+-------------+-----+------------+\n",
      "\n",
      "23/05/17 18:47:53 WARN KafkaDataConsumer: KafkaDataConsumer is not running in UninterruptibleThread. It may hang when KafkaDataConsumer's methods are interrupted because of KAFKA-1894\n",
      "23/05/17 18:47:53 WARN KafkaDataConsumer: KafkaDataConsumer is not running in UninterruptibleThread. It may hang when KafkaDataConsumer's methods are interrupted because of KAFKA-1894\n",
      "23/05/17 18:47:53 WARN KafkaDataConsumer: KafkaDataConsumer is not running in UninterruptibleThread. It may hang when KafkaDataConsumer's methods are interrupted because of KAFKA-1894\n",
      "23/05/17 18:47:53 WARN KafkaDataConsumer: KafkaDataConsumer is not running in UninterruptibleThread. It may hang when KafkaDataConsumer's methods are interrupted because of KAFKA-1894\n",
      "23/05/17 18:47:54 WARN KafkaDataConsumer: KafkaDataConsumer is not running in UninterruptibleThread. It may hang when KafkaDataConsumer's methods are interrupted because of KAFKA-1894\n"
     ]
    },
    {
     "name": "stderr",
     "output_type": "stream",
     "text": [
      "\r",
      "[Stage 151:>                                                        (0 + 1) / 1]\r",
      "418382334\n",
      "418382334\n",
      "419351294\n",
      "419284222\n",
      "419348478\n",
      "\r",
      "                                                                                \r"
     ]
    },
    {
     "name": "stdout",
     "output_type": "stream",
     "text": [
      "-------------------------------------------\n",
      "Batch: 151\n",
      "-------------------------------------------\n",
      "+-----------+------+-------------+---+-------------------------+-------------+-----+------------+\n",
      "|topic      |bus_id|can_id       |dlc|data                     |timestamp    |value|message_name|\n",
      "+-----------+------+-------------+---+-------------------------+-------------+-----+------------+\n",
      "|canbus_test|bus_37|[18 F0 01 0B]|8  |[00 00 F3 FF FF 01 FF F7]|1684318574561|null |EBC1        |\n",
      "|canbus_test|bus_34|[18 F0 01 0B]|8  |[00 00 F3 FF FF 01 FF F7]|1684317926480|null |EBC1        |\n",
      "|canbus_test|bus_35|[18 FE CA 2F]|8  |[F3 FF 00 00 00 00 FF FF]|1684318797018|null |DM1         |\n",
      "|canbus_test|bus_36|[18 FD C4 0B]|8  |[E0 08 FF F3 FF FF FF FF]|1684318097216|null |EBC5        |\n",
      "|canbus_test|bus_33|[18 FE BF 0B]|8  |[00 00 7D 7D 7D 7D FF FF]|1684317315216|null |EBC2        |\n",
      "+-----------+------+-------------+---+-------------------------+-------------+-----+------------+\n",
      "\n",
      "23/05/17 18:47:54 WARN KafkaDataConsumer: KafkaDataConsumer is not running in UninterruptibleThread. It may hang when KafkaDataConsumer's methods are interrupted because of KAFKA-1894\n",
      "23/05/17 18:47:54 WARN KafkaDataConsumer: KafkaDataConsumer is not running in UninterruptibleThread. It may hang when KafkaDataConsumer's methods are interrupted because of KAFKA-1894\n",
      "23/05/17 18:47:54 WARN KafkaDataConsumer: KafkaDataConsumer is not running in UninterruptibleThread. It may hang when KafkaDataConsumer's methods are interrupted because of KAFKA-1894\n",
      "23/05/17 18:47:55 WARN KafkaDataConsumer: KafkaDataConsumer is not running in UninterruptibleThread. It may hang when KafkaDataConsumer's methods are interrupted because of KAFKA-1894\n",
      "23/05/17 18:47:55 WARN KafkaDataConsumer: KafkaDataConsumer is not running in UninterruptibleThread. It may hang when KafkaDataConsumer's methods are interrupted because of KAFKA-1894\n"
     ]
    },
    {
     "name": "stderr",
     "output_type": "stream",
     "text": [
      "4193512942:>                                                        (0 + 1) / 1]\n",
      "419348478\n",
      "418119678\n",
      "419351294\n",
      "419348478\n",
      "                                                                                \r"
     ]
    },
    {
     "name": "stdout",
     "output_type": "stream",
     "text": [
      "-------------------------------------------\n",
      "Batch: 152\n",
      "-------------------------------------------\n",
      "+-----------+------+-------------+---+-------------------------+-------------+-----+------------+\n",
      "|topic      |bus_id|can_id       |dlc|data                     |timestamp    |value|message_name|\n",
      "+-----------+------+-------------+---+-------------------------+-------------+-----+------------+\n",
      "|canbus_test|bus_37|[18 FE CA 2F]|8  |[F3 FF 00 00 00 00 FF FF]|1684318575575|null |DM1         |\n",
      "|canbus_test|bus_34|[18 FE BF 0B]|8  |[00 00 7D 7D 7D 7D FF FF]|1684317927483|null |EBC2        |\n",
      "|canbus_test|bus_35|[18 EB FF EF]|8  |[02 FF FF FF FF FF FF FF]|1684318798021|null |null        |\n",
      "|canbus_test|bus_36|[18 FE CA 2F]|8  |[F3 FF 00 00 00 00 FF FF]|1684318098234|null |DM1         |\n",
      "|canbus_test|bus_33|[18 FE BF 0B]|8  |[00 00 7D 7D 7D 7D FF FF]|1684317316228|null |EBC2        |\n",
      "+-----------+------+-------------+---+-------------------------+-------------+-----+------------+\n",
      "\n",
      "23/05/17 18:47:55 WARN KafkaDataConsumer: KafkaDataConsumer is not running in UninterruptibleThread. It may hang when KafkaDataConsumer's methods are interrupted because of KAFKA-1894\n",
      "23/05/17 18:47:55 WARN KafkaDataConsumer: KafkaDataConsumer is not running in UninterruptibleThread. It may hang when KafkaDataConsumer's methods are interrupted because of KAFKA-1894\n",
      "23/05/17 18:47:55 WARN KafkaDataConsumer: KafkaDataConsumer is not running in UninterruptibleThread. It may hang when KafkaDataConsumer's methods are interrupted because of KAFKA-1894\n",
      "23/05/17 18:47:56 WARN KafkaDataConsumer: KafkaDataConsumer is not running in UninterruptibleThread. It may hang when KafkaDataConsumer's methods are interrupted because of KAFKA-1894\n",
      "23/05/17 18:47:56 WARN KafkaDataConsumer: KafkaDataConsumer is not running in UninterruptibleThread. It may hang when KafkaDataConsumer's methods are interrupted because of KAFKA-1894\n"
     ]
    },
    {
     "name": "stderr",
     "output_type": "stream",
     "text": [
      "4191726063:>                                                        (0 + 1) / 1]\n",
      "419320318\n",
      "419356670\n",
      "419351294\n",
      "419351294\n",
      "                                                                                \r"
     ]
    },
    {
     "name": "stdout",
     "output_type": "stream",
     "text": [
      "-------------------------------------------\n",
      "Batch: 153\n",
      "-------------------------------------------\n",
      "+-----------+------+-------------+---+-------------------------+-------------+-----+------------+\n",
      "|topic      |bus_id|can_id       |dlc|data                     |timestamp    |value|message_name|\n",
      "+-----------+------+-------------+---+-------------------------+-------------+-----+------------+\n",
      "|canbus_test|bus_37|[18 FC 10 F4]|8  |[FF FF 56 26 44 44 00 00]|1684318576589|null |null        |\n",
      "|canbus_test|bus_34|[18 FE 51 27]|8  |[7C FF FF FF FF FF FF FF]|1684317928492|null |ACC2        |\n",
      "|canbus_test|bus_35|[18 FE DF EF]|8  |[7D FF FF FF 7D FF FF FF]|1684318799017|null |EEC3        |\n",
      "|canbus_test|bus_36|[18 FE CA 2F]|8  |[F3 FF 00 00 00 00 FF FF]|1684318099245|null |DM1         |\n",
      "|canbus_test|bus_33|[18 FE CA 2F]|8  |[F3 FF 00 00 00 00 FF FF]|1684317317231|null |DM1         |\n",
      "+-----------+------+-------------+---+-------------------------+-------------+-----+------------+\n",
      "\n",
      "23/05/17 18:47:56 WARN KafkaDataConsumer: KafkaDataConsumer is not running in UninterruptibleThread. It may hang when KafkaDataConsumer's methods are interrupted because of KAFKA-1894\n",
      "23/05/17 18:47:56 WARN KafkaDataConsumer: KafkaDataConsumer is not running in UninterruptibleThread. It may hang when KafkaDataConsumer's methods are interrupted because of KAFKA-1894\n",
      "23/05/17 18:47:56 WARN KafkaDataConsumer: KafkaDataConsumer is not running in UninterruptibleThread. It may hang when KafkaDataConsumer's methods are interrupted because of KAFKA-1894\n",
      "23/05/17 18:47:57 WARN KafkaDataConsumer: KafkaDataConsumer is not running in UninterruptibleThread. It may hang when KafkaDataConsumer's methods are interrupted because of KAFKA-1894\n",
      "23/05/17 18:47:57 WARN KafkaDataConsumer: KafkaDataConsumer is not running in UninterruptibleThread. It may hang when KafkaDataConsumer's methods are interrupted because of KAFKA-1894\n"
     ]
    },
    {
     "name": "stderr",
     "output_type": "stream",
     "text": [
      "4191708144:>                                                        (0 + 1) / 1]\n",
      "419356670\n",
      "419348478\n",
      "217996030\n",
      "217055998\n",
      "                                                                                \r"
     ]
    },
    {
     "name": "stdout",
     "output_type": "stream",
     "text": [
      "-------------------------------------------\n",
      "Batch: 154\n",
      "-------------------------------------------\n",
      "+-----------+------+-------------+---+-------------------------+-------------+-----+------------+\n",
      "|topic      |bus_id|can_id       |dlc|data                     |timestamp    |value|message_name|\n",
      "+-----------+------+-------------+---+-------------------------+-------------+-----+------------+\n",
      "|canbus_test|bus_37|[18 FC 09 F4]|8  |[2F 00 00 00 96 96 FE 25]|1684318577600|null |null        |\n",
      "|canbus_test|bus_34|[18 FE DF 00]|8  |[7D FF FF FF FF FF FF FF]|1684317929496|null |EEC3        |\n",
      "|canbus_test|bus_35|[18 FE BF 0B]|8  |[00 00 7D 7D 7D 7D FF FF]|1684318800036|null |EBC2        |\n",
      "|canbus_test|bus_36|[0C FE 5A 21]|8  |[FF FF FF FF EF FF FF FF]|1684318100247|null |ASC1        |\n",
      "|canbus_test|bus_33|[0C F0 02 03]|8  |[CD FF FE FF FF FF FF FF]|1684317318245|null |ETC1        |\n",
      "+-----------+------+-------------+---+-------------------------+-------------+-----+------------+\n",
      "\n",
      "23/05/17 18:47:57 WARN KafkaDataConsumer: KafkaDataConsumer is not running in UninterruptibleThread. It may hang when KafkaDataConsumer's methods are interrupted because of KAFKA-1894\n",
      "23/05/17 18:47:57 WARN KafkaDataConsumer: KafkaDataConsumer is not running in UninterruptibleThread. It may hang when KafkaDataConsumer's methods are interrupted because of KAFKA-1894\n",
      "23/05/17 18:47:57 WARN KafkaDataConsumer: KafkaDataConsumer is not running in UninterruptibleThread. It may hang when KafkaDataConsumer's methods are interrupted because of KAFKA-1894\n",
      "23/05/17 18:47:57 WARN KafkaDataConsumer: KafkaDataConsumer is not running in UninterruptibleThread. It may hang when KafkaDataConsumer's methods are interrupted because of KAFKA-1894\n",
      "23/05/17 18:47:58 WARN KafkaDataConsumer: KafkaDataConsumer is not running in UninterruptibleThread. It may hang when KafkaDataConsumer's methods are interrupted because of KAFKA-1894\n"
     ]
    },
    {
     "name": "stderr",
     "output_type": "stream",
     "text": [
      "4193484785:>                                                        (0 + 1) / 1]\n",
      "215105790\n",
      "419348478\n",
      "419318526\n",
      "418382334\n",
      "                                                                                \r"
     ]
    },
    {
     "name": "stdout",
     "output_type": "stream",
     "text": [
      "-------------------------------------------\n",
      "Batch: 155\n",
      "-------------------------------------------\n",
      "+-----------+------+-------------+---+-------------------------+-------------+-----+------------+\n",
      "|topic      |bus_id|can_id       |dlc|data                     |timestamp    |value|message_name|\n",
      "+-----------+------+-------------+---+-------------------------+-------------+-----+------------+\n",
      "|canbus_test|bus_37|[18 FE BF 0B]|8  |[00 00 7D 7D 7D 7D FF FF]|1684318578616|null |EBC2        |\n",
      "|canbus_test|bus_34|[0C D2 40 27]|8  |[00 00 A0 00 00 00 00 00]|1684317930502|null |null        |\n",
      "|canbus_test|bus_35|[18 FE BF 0B]|8  |[00 00 7D 7D 7D 7D FF FF]|1684318801031|null |EBC2        |\n",
      "|canbus_test|bus_36|[18 FE 4A 03]|8  |[FF FE C2 F0 FF FF FF FF]|1684318101253|null |ETC7        |\n",
      "|canbus_test|bus_33|[18 F0 01 0B]|8  |[00 00 F3 FF FF 01 FF F7]|1684317319246|null |EBC1        |\n",
      "+-----------+------+-------------+---+-------------------------+-------------+-----+------------+\n",
      "\n",
      "23/05/17 18:47:58 WARN KafkaDataConsumer: KafkaDataConsumer is not running in UninterruptibleThread. It may hang when KafkaDataConsumer's methods are interrupted because of KAFKA-1894\n",
      "23/05/17 18:47:58 WARN KafkaDataConsumer: KafkaDataConsumer is not running in UninterruptibleThread. It may hang when KafkaDataConsumer's methods are interrupted because of KAFKA-1894\n",
      "23/05/17 18:47:58 WARN KafkaDataConsumer: KafkaDataConsumer is not running in UninterruptibleThread. It may hang when KafkaDataConsumer's methods are interrupted because of KAFKA-1894\n",
      "23/05/17 18:47:59 WARN KafkaDataConsumer: KafkaDataConsumer is not running in UninterruptibleThread. It may hang when KafkaDataConsumer's methods are interrupted because of KAFKA-1894\n",
      "23/05/17 18:47:59 WARN KafkaDataConsumer: KafkaDataConsumer is not running in UninterruptibleThread. It may hang when KafkaDataConsumer's methods are interrupted because of KAFKA-1894\n"
     ]
    },
    {
     "name": "stderr",
     "output_type": "stream",
     "text": [
      "4183823346:>                                                        (0 + 1) / 1]\n",
      "418583806\n",
      "217996030\n",
      "419373310\n",
      "419318526\n",
      "                                                                                \r"
     ]
    },
    {
     "name": "stdout",
     "output_type": "stream",
     "text": [
      "-------------------------------------------\n",
      "Batch: 156\n",
      "-------------------------------------------\n",
      "+-----------+------+-------------+---+-------------------------+-------------+-----+------------+\n",
      "|topic      |bus_id|can_id       |dlc|data                     |timestamp    |value|message_name|\n",
      "+-----------+------+-------------+---+-------------------------+-------------+-----+------------+\n",
      "|canbus_test|bus_37|[18 F0 01 0B]|8  |[00 00 F3 FF FF 01 FF F7]|1684318579628|null |EBC1        |\n",
      "|canbus_test|bus_34|[18 F3 14 00]|8  |[4D 00 C7 0C C8 0C C8 0C]|1684317931508|null |null        |\n",
      "|canbus_test|bus_35|[0C FE 5A 2F]|8  |[11 00 00 00 D3 F5 FF F0]|1684318802024|null |ASC1        |\n",
      "|canbus_test|bus_36|[18 FF 20 EF]|8  |[F0 7D 00 00 7D EF FF 7D]|1684318103269|null |null        |\n",
      "|canbus_test|bus_33|[18 FE 4A 03]|8  |[FF FC C2 F0 FF FF FF FF]|1684317320243|null |ETC7        |\n",
      "+-----------+------+-------------+---+-------------------------+-------------+-----+------------+\n",
      "\n",
      "23/05/17 18:47:59 WARN KafkaDataConsumer: KafkaDataConsumer is not running in UninterruptibleThread. It may hang when KafkaDataConsumer's methods are interrupted because of KAFKA-1894\n",
      "23/05/17 18:47:59 WARN KafkaDataConsumer: KafkaDataConsumer is not running in UninterruptibleThread. It may hang when KafkaDataConsumer's methods are interrupted because of KAFKA-1894\n",
      "23/05/17 18:47:59 WARN KafkaDataConsumer: KafkaDataConsumer is not running in UninterruptibleThread. It may hang when KafkaDataConsumer's methods are interrupted because of KAFKA-1894\n",
      "23/05/17 18:48:00 WARN KafkaDataConsumer: KafkaDataConsumer is not running in UninterruptibleThread. It may hang when KafkaDataConsumer's methods are interrupted because of KAFKA-1894\n",
      "23/05/17 18:48:00 WARN KafkaDataConsumer: KafkaDataConsumer is not running in UninterruptibleThread. It may hang when KafkaDataConsumer's methods are interrupted because of KAFKA-1894\n"
     ]
    },
    {
     "name": "stderr",
     "output_type": "stream",
     "text": [
      "4193512947:>                                                        (0 + 1) / 1]\n",
      "418382334\n",
      "215101438\n",
      "419351294\n",
      "418382334\n",
      "                                                                                \r"
     ]
    },
    {
     "name": "stdout",
     "output_type": "stream",
     "text": [
      "-------------------------------------------\n",
      "Batch: 157\n",
      "-------------------------------------------\n",
      "+-----------+------+-------------+---+-------------------------+-------------+-----+------------+\n",
      "|topic      |bus_id|can_id       |dlc|data                     |timestamp    |value|message_name|\n",
      "+-----------+------+-------------+---+-------------------------+-------------+-----+------------+\n",
      "|canbus_test|bus_37|[18 FE CA 2F]|8  |[F3 FF 00 00 00 00 FF FF]|1684318580650|null |DM1         |\n",
      "|canbus_test|bus_34|[18 F0 01 0B]|8  |[00 00 F3 FF FF 01 FF F7]|1684317932521|null |EBC1        |\n",
      "|canbus_test|bus_35|[0C D2 2F 27]|8  |[00 00 A0 00 00 00 00 00]|1684318803019|null |null        |\n",
      "|canbus_test|bus_36|[18 FE CA 2F]|8  |[F3 FF 00 00 00 00 FF FF]|1684318104274|null |DM1         |\n",
      "|canbus_test|bus_33|[18 F0 01 0B]|8  |[00 00 F3 FF FF 01 FF F7]|1684317321242|null |EBC1        |\n",
      "+-----------+------+-------------+---+-------------------------+-------------+-----+------------+\n",
      "\n",
      "23/05/17 18:48:00 WARN KafkaDataConsumer: KafkaDataConsumer is not running in UninterruptibleThread. It may hang when KafkaDataConsumer's methods are interrupted because of KAFKA-1894\n",
      "23/05/17 18:48:00 WARN KafkaDataConsumer: KafkaDataConsumer is not running in UninterruptibleThread. It may hang when KafkaDataConsumer's methods are interrupted because of KAFKA-1894\n",
      "23/05/17 18:48:00 WARN KafkaDataConsumer: KafkaDataConsumer is not running in UninterruptibleThread. It may hang when KafkaDataConsumer's methods are interrupted because of KAFKA-1894\n",
      "23/05/17 18:48:01 WARN KafkaDataConsumer: KafkaDataConsumer is not running in UninterruptibleThread. It may hang when KafkaDataConsumer's methods are interrupted because of KAFKA-1894\n",
      "23/05/17 18:48:01 WARN KafkaDataConsumer: KafkaDataConsumer is not running in UninterruptibleThread. It may hang when KafkaDataConsumer's methods are interrupted because of KAFKA-1894\n"
     ]
    },
    {
     "name": "stderr",
     "output_type": "stream",
     "text": [
      "4193612788:>                                                        (0 + 1) / 1]\n",
      "418382334\n",
      "419351294\n",
      "419174398\n",
      "419348478\n",
      "                                                                                \r"
     ]
    },
    {
     "name": "stdout",
     "output_type": "stream",
     "text": [
      "-------------------------------------------\n",
      "Batch: 158\n",
      "-------------------------------------------\n",
      "+-----------+------+-------------+---+-------------------------+-------------+-----+------------+\n",
      "|topic      |bus_id|can_id       |dlc|data                     |timestamp    |value|message_name|\n",
      "+-----------+------+-------------+---+-------------------------+-------------+-----+------------+\n",
      "|canbus_test|bus_37|[18 FE F1 00]|8  |[F7 00 00 0F FF FF FF FF]|1684318581668|null |CCVS        |\n",
      "|canbus_test|bus_34|[18 F0 01 0B]|8  |[00 00 F3 FF FF 01 FF F7]|1684317933523|null |EBC1        |\n",
      "|canbus_test|bus_35|[18 FE CA 2F]|8  |[F3 FF 00 00 00 00 FF FF]|1684318804058|null |DM1         |\n",
      "|canbus_test|bus_36|[18 FC 17 21]|8  |[F8 2A 20 4E FF FF FE EE]|1684318105279|null |null        |\n",
      "|canbus_test|bus_33|[18 FE BF 0B]|8  |[00 00 7D 7D 7D 7D FF FF]|1684317322247|null |EBC2        |\n",
      "+-----------+------+-------------+---+-------------------------+-------------+-----+------------+\n",
      "\n",
      "23/05/17 18:48:01 WARN KafkaDataConsumer: KafkaDataConsumer is not running in UninterruptibleThread. It may hang when KafkaDataConsumer's methods are interrupted because of KAFKA-1894\n",
      "23/05/17 18:48:01 WARN KafkaDataConsumer: KafkaDataConsumer is not running in UninterruptibleThread. It may hang when KafkaDataConsumer's methods are interrupted because of KAFKA-1894\n",
      "23/05/17 18:48:01 WARN KafkaDataConsumer: KafkaDataConsumer is not running in UninterruptibleThread. It may hang when KafkaDataConsumer's methods are interrupted because of KAFKA-1894\n",
      "23/05/17 18:48:01 WARN KafkaDataConsumer: KafkaDataConsumer is not running in UninterruptibleThread. It may hang when KafkaDataConsumer's methods are interrupted because of KAFKA-1894\n",
      "23/05/17 18:48:02 WARN KafkaDataConsumer: KafkaDataConsumer is not running in UninterruptibleThread. It may hang when KafkaDataConsumer's methods are interrupted because of KAFKA-1894\n"
     ]
    },
    {
     "name": "stderr",
     "output_type": "stream",
     "text": [
      "\r",
      "[Stage 159:>                                                        (0 + 1) / 1]\r",
      "419351294\n",
      "217769726\n",
      "418382334\n",
      "419348478\n",
      "418382334\n",
      "\r",
      "                                                                                \r"
     ]
    },
    {
     "name": "stdout",
     "output_type": "stream",
     "text": [
      "-------------------------------------------\n",
      "Batch: 159\n",
      "-------------------------------------------\n",
      "+-----------+------+-------------+---+-------------------------+-------------+-----+------------+\n",
      "|topic      |bus_id|can_id       |dlc|data                     |timestamp    |value|message_name|\n",
      "+-----------+------+-------------+---+-------------------------+-------------+-----+------------+\n",
      "|canbus_test|bus_37|[18 FE CA 2F]|8  |[F3 FF 00 00 00 00 FF FF]|1684318582690|null |DM1         |\n",
      "|canbus_test|bus_34|[0C FA E6 21]|8  |[00 10 00 00 0C 01 00 63]|1684317934559|null |null        |\n",
      "|canbus_test|bus_35|[18 F0 01 0B]|8  |[00 00 F3 FF FF 01 FF F7]|1684318805066|null |EBC1        |\n",
      "|canbus_test|bus_36|[18 FE BF 0B]|8  |[00 00 7D 7D 7D 7D FF FF]|1684318106287|null |EBC2        |\n",
      "|canbus_test|bus_33|[18 F0 01 0B]|8  |[00 00 F3 FF FF 01 FF F7]|1684317323249|null |EBC1        |\n",
      "+-----------+------+-------------+---+-------------------------+-------------+-----+------------+\n",
      "\n",
      "23/05/17 18:48:02 WARN KafkaDataConsumer: KafkaDataConsumer is not running in UninterruptibleThread. It may hang when KafkaDataConsumer's methods are interrupted because of KAFKA-1894\n",
      "23/05/17 18:48:02 WARN KafkaDataConsumer: KafkaDataConsumer is not running in UninterruptibleThread. It may hang when KafkaDataConsumer's methods are interrupted because of KAFKA-1894\n",
      "23/05/17 18:48:02 WARN KafkaDataConsumer: KafkaDataConsumer is not running in UninterruptibleThread. It may hang when KafkaDataConsumer's methods are interrupted because of KAFKA-1894\n",
      "23/05/17 18:48:03 WARN KafkaDataConsumer: KafkaDataConsumer is not running in UninterruptibleThread. It may hang when KafkaDataConsumer's methods are interrupted because of KAFKA-1894\n",
      "23/05/17 18:48:03 WARN KafkaDataConsumer: KafkaDataConsumer is not running in UninterruptibleThread. It may hang when KafkaDataConsumer's methods are interrupted because of KAFKA-1894\n"
     ]
    },
    {
     "name": "stderr",
     "output_type": "stream",
     "text": [
      "2013268460:>                                                        (0 + 1) / 1]\n",
      "418382334\n",
      "419351294\n",
      "419351294\n",
      "418583806\n",
      "                                                                                \r"
     ]
    },
    {
     "name": "stdout",
     "output_type": "stream",
     "text": [
      "-------------------------------------------\n",
      "Batch: 160\n",
      "-------------------------------------------\n",
      "+-----------+------+-------------+---+-------------------------+-------------+-----+------------+\n",
      "|topic      |bus_id|can_id       |dlc|data                     |timestamp    |value|message_name|\n",
      "+-----------+------+-------------+---+-------------------------+-------------+-----+------------+\n",
      "|canbus_test|bus_37|[0C 00 00 0B]|8  |[30 FF FF FA FF FF FF 47]|1684318583703|null |null        |\n",
      "|canbus_test|bus_34|[18 F0 01 0B]|8  |[00 00 F3 FF FF 01 FF F7]|1684317935574|null |EBC1        |\n",
      "|canbus_test|bus_35|[18 FE CA 2F]|8  |[F3 FF 00 00 00 00 FF FF]|1684318806073|null |DM1         |\n",
      "|canbus_test|bus_36|[18 FE CA 2F]|8  |[F3 FF 00 00 00 00 FF FF]|1684318107303|null |DM1         |\n",
      "|canbus_test|bus_33|[18 F3 14 00]|8  |[1A 00 C8 0C C7 0C C7 0C]|1684317324277|null |null        |\n",
      "+-----------+------+-------------+---+-------------------------+-------------+-----+------------+\n",
      "\n",
      "23/05/17 18:48:03 WARN KafkaDataConsumer: KafkaDataConsumer is not running in UninterruptibleThread. It may hang when KafkaDataConsumer's methods are interrupted because of KAFKA-1894\n",
      "23/05/17 18:48:03 WARN KafkaDataConsumer: KafkaDataConsumer is not running in UninterruptibleThread. It may hang when KafkaDataConsumer's methods are interrupted because of KAFKA-1894\n",
      "23/05/17 18:48:03 WARN KafkaDataConsumer: KafkaDataConsumer is not running in UninterruptibleThread. It may hang when KafkaDataConsumer's methods are interrupted because of KAFKA-1894\n",
      "23/05/17 18:48:04 WARN KafkaDataConsumer: KafkaDataConsumer is not running in UninterruptibleThread. It may hang when KafkaDataConsumer's methods are interrupted because of KAFKA-1894\n",
      "23/05/17 18:48:04 WARN KafkaDataConsumer: KafkaDataConsumer is not running in UninterruptibleThread. It may hang when KafkaDataConsumer's methods are interrupted because of KAFKA-1894\n"
     ]
    },
    {
     "name": "stderr",
     "output_type": "stream",
     "text": [
      "\r",
      "[Stage 161:>                                                        (0 + 1) / 1]\r",
      "419348478\n",
      "418382334\n",
      "419351294\n",
      "150892286\n",
      "419348478\n",
      "\r",
      "                                                                                \r"
     ]
    },
    {
     "name": "stdout",
     "output_type": "stream",
     "text": [
      "-------------------------------------------\n",
      "Batch: 161\n",
      "-------------------------------------------\n",
      "+-----------+------+-------------+---+-------------------------+-------------+-----+------------+\n",
      "|topic      |bus_id|can_id       |dlc|data                     |timestamp    |value|message_name|\n",
      "+-----------+------+-------------+---+-------------------------+-------------+-----+------------+\n",
      "|canbus_test|bus_37|[18 FE BF 0B]|8  |[00 00 7D 7D 7D 7D FF FF]|1684318584722|null |EBC2        |\n",
      "|canbus_test|bus_34|[18 F0 01 0B]|8  |[00 00 F3 FF FF 01 FF F7]|1684317936593|null |EBC1        |\n",
      "|canbus_test|bus_35|[18 FE CA 2F]|8  |[F3 FF 00 00 00 00 FF FF]|1684318807082|null |DM1         |\n",
      "|canbus_test|bus_36|[08 FE 6E 0B]|8  |[00 00 00 00 00 00 00 00]|1684318108347|null |HRW         |\n",
      "|canbus_test|bus_33|[18 FE BF 0B]|8  |[00 00 7D 7D 7D 7D FF FF]|1684317325273|null |EBC2        |\n",
      "+-----------+------+-------------+---+-------------------------+-------------+-----+------------+\n",
      "\n",
      "23/05/17 18:48:04 WARN KafkaDataConsumer: KafkaDataConsumer is not running in UninterruptibleThread. It may hang when KafkaDataConsumer's methods are interrupted because of KAFKA-1894\n",
      "23/05/17 18:48:04 WARN KafkaDataConsumer: KafkaDataConsumer is not running in UninterruptibleThread. It may hang when KafkaDataConsumer's methods are interrupted because of KAFKA-1894\n",
      "23/05/17 18:48:04 WARN KafkaDataConsumer: KafkaDataConsumer is not running in UninterruptibleThread. It may hang when KafkaDataConsumer's methods are interrupted because of KAFKA-1894\n",
      "23/05/17 18:48:05 WARN KafkaDataConsumer: KafkaDataConsumer is not running in UninterruptibleThread. It may hang when KafkaDataConsumer's methods are interrupted because of KAFKA-1894\n",
      "23/05/17 18:48:05 WARN KafkaDataConsumer: KafkaDataConsumer is not running in UninterruptibleThread. It may hang when KafkaDataConsumer's methods are interrupted because of KAFKA-1894\n"
     ]
    },
    {
     "name": "stderr",
     "output_type": "stream",
     "text": [
      "4183823342:>                                                        (0 + 1) / 1]\n",
      "419173630\n",
      "419351294\n",
      "419348478\n",
      "419351294\n",
      "                                                                                \r"
     ]
    },
    {
     "name": "stdout",
     "output_type": "stream",
     "text": [
      "-------------------------------------------\n",
      "Batch: 162\n",
      "-------------------------------------------\n",
      "+-----------+------+-------------+---+-------------------------+-------------+-----+------------+\n",
      "|topic      |bus_id|can_id       |dlc|data                     |timestamp    |value|message_name|\n",
      "+-----------+------+-------------+---+-------------------------+-------------+-----+------------+\n",
      "|canbus_test|bus_37|[18 F0 01 0B]|8  |[00 00 F3 FF FF 01 FF F7]|1684318585735|null |EBC1        |\n",
      "|canbus_test|bus_34|[18 FC 14 21]|8  |[FF FF 00 00 71 02 FF 0D]|1684317937600|null |null        |\n",
      "|canbus_test|bus_35|[18 FE CA 2F]|8  |[F3 FF 00 00 00 00 FF FF]|1684318808086|null |DM1         |\n",
      "|canbus_test|bus_36|[18 FE BF 0B]|8  |[00 00 7D 7D 7D 7D FF FF]|1684318109358|null |EBC2        |\n",
      "|canbus_test|bus_33|[18 FE CA 2F]|8  |[F3 FF 00 00 00 00 FF FF]|1684317326271|null |DM1         |\n",
      "+-----------+------+-------------+---+-------------------------+-------------+-----+------------+\n",
      "\n",
      "23/05/17 18:48:06 WARN KafkaDataConsumer: KafkaDataConsumer is not running in UninterruptibleThread. It may hang when KafkaDataConsumer's methods are interrupted because of KAFKA-1894\n",
      "23/05/17 18:48:06 WARN KafkaDataConsumer: KafkaDataConsumer is not running in UninterruptibleThread. It may hang when KafkaDataConsumer's methods are interrupted because of KAFKA-1894\n",
      "23/05/17 18:48:06 WARN KafkaDataConsumer: KafkaDataConsumer is not running in UninterruptibleThread. It may hang when KafkaDataConsumer's methods are interrupted because of KAFKA-1894\n",
      "23/05/17 18:48:06 WARN KafkaDataConsumer: KafkaDataConsumer is not running in UninterruptibleThread. It may hang when KafkaDataConsumer's methods are interrupted because of KAFKA-1894\n",
      "23/05/17 18:48:06 WARN KafkaDataConsumer: KafkaDataConsumer is not running in UninterruptibleThread. It may hang when KafkaDataConsumer's methods are interrupted because of KAFKA-1894\n"
     ]
    },
    {
     "name": "stderr",
     "output_type": "stream",
     "text": [
      "\r",
      "[Stage 163:>                                                        (0 + 1) / 1]\r",
      "418382334\n",
      "419348478\n",
      "419351294\n",
      "419351294\n",
      "419351294\n",
      "\r",
      "                                                                                \r"
     ]
    },
    {
     "name": "stdout",
     "output_type": "stream",
     "text": [
      "-------------------------------------------\n",
      "Batch: 163\n",
      "-------------------------------------------\n",
      "+-----------+------+-------------+---+-------------------------+-------------+-----+------------+\n",
      "|topic      |bus_id|can_id       |dlc|data                     |timestamp    |value|message_name|\n",
      "+-----------+------+-------------+---+-------------------------+-------------+-----+------------+\n",
      "|canbus_test|bus_37|[18 F0 01 0B]|8  |[00 00 F3 FF FF 01 FF F7]|1684318586745|null |EBC1        |\n",
      "|canbus_test|bus_34|[18 FE BF 0B]|8  |[00 00 7D 7D 7D 7D FF FF]|1684317938608|null |EBC2        |\n",
      "|canbus_test|bus_35|[18 FE CA 2F]|8  |[F3 FF 00 00 00 00 FF FF]|1684318809090|null |DM1         |\n",
      "|canbus_test|bus_36|[18 FE CA 2F]|8  |[F3 FF 00 00 00 00 FF FF]|1684318110372|null |DM1         |\n",
      "|canbus_test|bus_33|[18 FE CA 2F]|8  |[F3 FF 00 00 00 00 FF FF]|1684317327257|null |DM1         |\n",
      "+-----------+------+-------------+---+-------------------------+-------------+-----+------------+\n",
      "\n",
      "23/05/17 18:48:06 WARN KafkaDataConsumer: KafkaDataConsumer is not running in UninterruptibleThread. It may hang when KafkaDataConsumer's methods are interrupted because of KAFKA-1894\n",
      "23/05/17 18:48:06 WARN KafkaDataConsumer: KafkaDataConsumer is not running in UninterruptibleThread. It may hang when KafkaDataConsumer's methods are interrupted because of KAFKA-1894\n",
      "23/05/17 18:48:06 WARN KafkaDataConsumer: KafkaDataConsumer is not running in UninterruptibleThread. It may hang when KafkaDataConsumer's methods are interrupted because of KAFKA-1894\n",
      "23/05/17 18:48:07 WARN KafkaDataConsumer: KafkaDataConsumer is not running in UninterruptibleThread. It may hang when KafkaDataConsumer's methods are interrupted because of KAFKA-1894\n",
      "23/05/17 18:48:07 WARN KafkaDataConsumer: KafkaDataConsumer is not running in UninterruptibleThread. It may hang when KafkaDataConsumer's methods are interrupted because of KAFKA-1894\n"
     ]
    },
    {
     "name": "stderr",
     "output_type": "stream",
     "text": [
      "\r",
      "[Stage 164:>                                                        (0 + 1) / 1]\r",
      "419174654\n",
      "418382334\n",
      "419348478\n",
      "150892286\n",
      "201326846\n",
      "\r",
      "                                                                                \r"
     ]
    },
    {
     "name": "stdout",
     "output_type": "stream",
     "text": [
      "-------------------------------------------\n",
      "Batch: 164\n",
      "-------------------------------------------\n",
      "+-----------+------+-------------+---+-------------------------+-------------+-----+------------+\n",
      "|topic      |bus_id|can_id       |dlc|data                     |timestamp    |value|message_name|\n",
      "+-----------+------+-------------+---+-------------------------+-------------+-----+------------+\n",
      "|canbus_test|bus_37|[18 FC 18 21]|8  |[00 10 9B 88 0A 49 FF F9]|1684318587747|null |null        |\n",
      "|canbus_test|bus_34|[18 F0 01 0B]|8  |[00 00 F3 FF FF 01 FF F7]|1684317939615|null |EBC1        |\n",
      "|canbus_test|bus_35|[18 FE BF 0B]|8  |[00 00 7D 7D 7D 7D FF FF]|1684318810094|null |EBC2        |\n",
      "|canbus_test|bus_36|[08 FE 6E 0B]|8  |[00 00 00 00 00 00 00 00]|1684318111381|null |HRW         |\n",
      "|canbus_test|bus_33|[0C 00 00 0B]|8  |[30 FF FF FA FF FF FF 25]|1684317328298|null |null        |\n",
      "+-----------+------+-------------+---+-------------------------+-------------+-----+------------+\n",
      "\n",
      "23/05/17 18:48:07 WARN KafkaDataConsumer: KafkaDataConsumer is not running in UninterruptibleThread. It may hang when KafkaDataConsumer's methods are interrupted because of KAFKA-1894\n",
      "23/05/17 18:48:07 WARN KafkaDataConsumer: KafkaDataConsumer is not running in UninterruptibleThread. It may hang when KafkaDataConsumer's methods are interrupted because of KAFKA-1894\n",
      "23/05/17 18:48:07 WARN KafkaDataConsumer: KafkaDataConsumer is not running in UninterruptibleThread. It may hang when KafkaDataConsumer's methods are interrupted because of KAFKA-1894\n",
      "23/05/17 18:48:08 WARN KafkaDataConsumer: KafkaDataConsumer is not running in UninterruptibleThread. It may hang when KafkaDataConsumer's methods are interrupted because of KAFKA-1894\n",
      "23/05/17 18:48:08 WARN KafkaDataConsumer: KafkaDataConsumer is not running in UninterruptibleThread. It may hang when KafkaDataConsumer's methods are interrupted because of KAFKA-1894\n"
     ]
    },
    {
     "name": "stderr",
     "output_type": "stream",
     "text": [
      "\r",
      "[Stage 165:>                                                        (0 + 1) / 1]\r",
      "419168510\n",
      "419319550\n",
      "217055998\n",
      "217055998\n",
      "419173630\n",
      "\r",
      "                                                                                \r"
     ]
    },
    {
     "name": "stdout",
     "output_type": "stream",
     "text": [
      "-------------------------------------------\n",
      "Batch: 165\n",
      "-------------------------------------------\n",
      "+-----------+------+-------------+---+-------------------------+-------------+-----+------------+\n",
      "|topic      |bus_id|can_id       |dlc|data                     |timestamp    |value|message_name|\n",
      "+-----------+------+-------------+---+-------------------------+-------------+-----+------------+\n",
      "|canbus_test|bus_37|[18 FC 00 F4]|8  |[00 00 00 D8 00 00 00 A6]|1684318588754|null |null        |\n",
      "|canbus_test|bus_34|[18 FE 4E EC]|8  |[02 F3 FF 3F FF FF FF FF]|1684317940653|null |DC1         |\n",
      "|canbus_test|bus_35|[0C F0 02 03]|8  |[CD FF FE FF FF FF FF FF]|1684318811089|null |ETC1        |\n",
      "|canbus_test|bus_36|[0C F0 02 03]|8  |[CD FF FE FF FF FF FF FF]|1684318112395|null |ETC1        |\n",
      "|canbus_test|bus_33|[18 FC 14 21]|8  |[FF FF 00 00 71 02 FF 0D]|1684317329307|null |null        |\n",
      "+-----------+------+-------------+---+-------------------------+-------------+-----+------------+\n",
      "\n",
      "23/05/17 18:48:08 WARN KafkaDataConsumer: KafkaDataConsumer is not running in UninterruptibleThread. It may hang when KafkaDataConsumer's methods are interrupted because of KAFKA-1894\n",
      "23/05/17 18:48:08 WARN KafkaDataConsumer: KafkaDataConsumer is not running in UninterruptibleThread. It may hang when KafkaDataConsumer's methods are interrupted because of KAFKA-1894\n",
      "23/05/17 18:48:08 WARN KafkaDataConsumer: KafkaDataConsumer is not running in UninterruptibleThread. It may hang when KafkaDataConsumer's methods are interrupted because of KAFKA-1894\n",
      "23/05/17 18:48:09 WARN KafkaDataConsumer: KafkaDataConsumer is not running in UninterruptibleThread. It may hang when KafkaDataConsumer's methods are interrupted because of KAFKA-1894\n",
      "23/05/17 18:48:09 WARN KafkaDataConsumer: KafkaDataConsumer is not running in UninterruptibleThread. It may hang when KafkaDataConsumer's methods are interrupted because of KAFKA-1894\n"
     ]
    },
    {
     "name": "stderr",
     "output_type": "stream",
     "text": [
      "\r",
      "[Stage 166:>                                                        (0 + 1) / 1]\r",
      "419348478\n",
      "418382078\n",
      "419348478\n",
      "419351294\n",
      "419351294\n",
      "\r",
      "                                                                                \r"
     ]
    },
    {
     "name": "stdout",
     "output_type": "stream",
     "text": [
      "-------------------------------------------\n",
      "Batch: 166\n",
      "-------------------------------------------\n",
      "+-----------+------+-------------+---+-------------------------+-------------+-----+------------+\n",
      "|topic      |bus_id|can_id       |dlc|data                     |timestamp    |value|message_name|\n",
      "+-----------+------+-------------+---+-------------------------+-------------+-----+------------+\n",
      "|canbus_test|bus_37|[18 FE BF 0B]|8  |[00 00 7D 7D 7D 7D FF FF]|1684318590802|null |EBC2        |\n",
      "|canbus_test|bus_34|[18 F0 00 10]|8  |[FF 7D FF FF FF FF FF 7D]|1684317941654|null |ERC1        |\n",
      "|canbus_test|bus_35|[18 FE BF 0B]|8  |[00 00 7D 7D 7D 7D FF FF]|1684318812116|null |EBC2        |\n",
      "|canbus_test|bus_36|[18 FE CA 2F]|8  |[F3 FF 00 00 00 00 FF FF]|1684318113395|null |DM1         |\n",
      "|canbus_test|bus_33|[18 FE CA 2F]|8  |[F3 FF 00 00 00 00 FF FF]|1684317331348|null |DM1         |\n",
      "+-----------+------+-------------+---+-------------------------+-------------+-----+------------+\n",
      "\n",
      "23/05/17 18:48:09 WARN KafkaDataConsumer: KafkaDataConsumer is not running in UninterruptibleThread. It may hang when KafkaDataConsumer's methods are interrupted because of KAFKA-1894\n",
      "23/05/17 18:48:09 WARN KafkaDataConsumer: KafkaDataConsumer is not running in UninterruptibleThread. It may hang when KafkaDataConsumer's methods are interrupted because of KAFKA-1894\n",
      "23/05/17 18:48:09 WARN KafkaDataConsumer: KafkaDataConsumer is not running in UninterruptibleThread. It may hang when KafkaDataConsumer's methods are interrupted because of KAFKA-1894\n",
      "23/05/17 18:48:09 WARN KafkaDataConsumer: KafkaDataConsumer is not running in UninterruptibleThread. It may hang when KafkaDataConsumer's methods are interrupted because of KAFKA-1894\n",
      "23/05/17 18:48:10 WARN KafkaDataConsumer: KafkaDataConsumer is not running in UninterruptibleThread. It may hang when KafkaDataConsumer's methods are interrupted because of KAFKA-1894\n"
     ]
    },
    {
     "name": "stderr",
     "output_type": "stream",
     "text": [
      "\r",
      "[Stage 167:>                                                        (0 + 1) / 1]\r",
      "217055998\n",
      "419373310\n",
      "418382078\n",
      "419373310\n",
      "419348478\n",
      "\r",
      "                                                                                \r"
     ]
    },
    {
     "name": "stdout",
     "output_type": "stream",
     "text": [
      "-------------------------------------------\n",
      "Batch: 167\n",
      "-------------------------------------------\n",
      "+-----------+------+-------------+---+-------------------------+-------------+-----+------------+\n",
      "|topic      |bus_id|can_id       |dlc|data                     |timestamp    |value|message_name|\n",
      "+-----------+------+-------------+---+-------------------------+-------------+-----+------------+\n",
      "|canbus_test|bus_37|[0C F0 02 03]|8  |[CD FF FE FF FF FF FF FF]|1684318591804|null |ETC1        |\n",
      "|canbus_test|bus_34|[18 FF 20 EF]|8  |[F0 7D 00 00 7D EF FF 7D]|1684317942696|null |null        |\n",
      "|canbus_test|bus_35|[18 F0 00 10]|8  |[FF 7D FF FF FF FF FF 7D]|1684318813121|null |ERC1        |\n",
      "|canbus_test|bus_36|[18 FF 20 EF]|8  |[F0 7D 00 00 7D EF FF 7D]|1684318114398|null |null        |\n",
      "|canbus_test|bus_33|[18 FE BF 0B]|8  |[00 00 7D 7D 7D 7D FF FF]|1684317332357|null |EBC2        |\n",
      "+-----------+------+-------------+---+-------------------------+-------------+-----+------------+\n",
      "\n",
      "23/05/17 18:48:10 WARN KafkaDataConsumer: KafkaDataConsumer is not running in UninterruptibleThread. It may hang when KafkaDataConsumer's methods are interrupted because of KAFKA-1894\n",
      "23/05/17 18:48:10 WARN KafkaDataConsumer: KafkaDataConsumer is not running in UninterruptibleThread. It may hang when KafkaDataConsumer's methods are interrupted because of KAFKA-1894\n",
      "23/05/17 18:48:10 WARN KafkaDataConsumer: KafkaDataConsumer is not running in UninterruptibleThread. It may hang when KafkaDataConsumer's methods are interrupted because of KAFKA-1894\n",
      "23/05/17 18:48:11 WARN KafkaDataConsumer: KafkaDataConsumer is not running in UninterruptibleThread. It may hang when KafkaDataConsumer's methods are interrupted because of KAFKA-1894\n",
      "23/05/17 18:48:11 WARN KafkaDataConsumer: KafkaDataConsumer is not running in UninterruptibleThread. It may hang when KafkaDataConsumer's methods are interrupted because of KAFKA-1894\n"
     ]
    },
    {
     "name": "stderr",
     "output_type": "stream",
     "text": [
      "\r",
      "[Stage 168:>                                                        (0 + 1) / 1]\r",
      "419351294\n",
      "150892286\n",
      "419348478\n",
      "217056254\n",
      "419348478\n",
      "\r",
      "                                                                                \r"
     ]
    },
    {
     "name": "stdout",
     "output_type": "stream",
     "text": [
      "-------------------------------------------\n",
      "Batch: 168\n",
      "-------------------------------------------\n",
      "+-----------+------+-------------+---+-------------------------+-------------+-----+------------+\n",
      "|topic      |bus_id|can_id       |dlc|data                     |timestamp    |value|message_name|\n",
      "+-----------+------+-------------+---+-------------------------+-------------+-----+------------+\n",
      "|canbus_test|bus_37|[18 FE CA 2F]|8  |[F3 FF 00 00 00 00 FF FF]|1684318592803|null |DM1         |\n",
      "|canbus_test|bus_34|[08 FE 6E 0B]|8  |[00 00 00 00 00 00 00 00]|1684317943740|null |HRW         |\n",
      "|canbus_test|bus_35|[18 FE BF 0B]|8  |[00 00 7D 7D 7D 7D FF FF]|1684318814115|null |EBC2        |\n",
      "|canbus_test|bus_36|[0C F0 03 00]|8  |[FD 00 FF FF FF FF FF FF]|1684318115396|null |EEC2        |\n",
      "|canbus_test|bus_33|[18 FE BF 0B]|8  |[00 00 7D 7D 7D 7D FF FF]|1684317333350|null |EBC2        |\n",
      "+-----------+------+-------------+---+-------------------------+-------------+-----+------------+\n",
      "\n",
      "23/05/17 18:48:11 WARN KafkaDataConsumer: KafkaDataConsumer is not running in UninterruptibleThread. It may hang when KafkaDataConsumer's methods are interrupted because of KAFKA-1894\n",
      "23/05/17 18:48:11 WARN KafkaDataConsumer: KafkaDataConsumer is not running in UninterruptibleThread. It may hang when KafkaDataConsumer's methods are interrupted because of KAFKA-1894\n",
      "23/05/17 18:48:11 WARN KafkaDataConsumer: KafkaDataConsumer is not running in UninterruptibleThread. It may hang when KafkaDataConsumer's methods are interrupted because of KAFKA-1894\n",
      "23/05/17 18:48:12 WARN KafkaDataConsumer: KafkaDataConsumer is not running in UninterruptibleThread. It may hang when KafkaDataConsumer's methods are interrupted because of KAFKA-1894\n",
      "23/05/17 18:48:12 WARN KafkaDataConsumer: KafkaDataConsumer is not running in UninterruptibleThread. It may hang when KafkaDataConsumer's methods are interrupted because of KAFKA-1894\n"
     ]
    },
    {
     "name": "stderr",
     "output_type": "stream",
     "text": [
      "4191708149:>                                                        (0 + 1) / 1]\n",
      "418382334\n",
      "419284222\n",
      "217055998\n",
      "419318526\n",
      "                                                                                \r"
     ]
    },
    {
     "name": "stdout",
     "output_type": "stream",
     "text": [
      "-------------------------------------------\n",
      "Batch: 169\n",
      "-------------------------------------------\n",
      "+-----------+------+-------------+---+-------------------------+-------------+-----+------------+\n",
      "|topic      |bus_id|can_id       |dlc|data                     |timestamp    |value|message_name|\n",
      "+-----------+------+-------------+---+-------------------------+-------------+-----+------------+\n",
      "|canbus_test|bus_37|[18 FC 09 F4]|8  |[2F 00 00 00 96 96 FE 25]|1684318593827|null |null        |\n",
      "|canbus_test|bus_34|[18 F0 01 17]|8  |[FF FF FF FF FF FF FF F7]|1684317944748|null |EBC1        |\n",
      "|canbus_test|bus_35|[18 FD C4 0B]|8  |[E0 08 FF F3 FF FF FF FF]|1684318815121|null |EBC5        |\n",
      "|canbus_test|bus_36|[0C F0 02 03]|8  |[CD FF FE FF FF FF FF FF]|1684318116395|null |ETC1        |\n",
      "|canbus_test|bus_33|[18 FE 4A 03]|8  |[FF FC C2 F0 FF FF FF FF]|1684317334344|null |ETC7        |\n",
      "+-----------+------+-------------+---+-------------------------+-------------+-----+------------+\n",
      "\n",
      "23/05/17 18:48:13 WARN KafkaDataConsumer: KafkaDataConsumer is not running in UninterruptibleThread. It may hang when KafkaDataConsumer's methods are interrupted because of KAFKA-1894\n",
      "23/05/17 18:48:13 WARN KafkaDataConsumer: KafkaDataConsumer is not running in UninterruptibleThread. It may hang when KafkaDataConsumer's methods are interrupted because of KAFKA-1894\n",
      "23/05/17 18:48:13 WARN KafkaDataConsumer: KafkaDataConsumer is not running in UninterruptibleThread. It may hang when KafkaDataConsumer's methods are interrupted because of KAFKA-1894\n",
      "23/05/17 18:48:13 WARN KafkaDataConsumer: KafkaDataConsumer is not running in UninterruptibleThread. It may hang when KafkaDataConsumer's methods are interrupted because of KAFKA-1894\n",
      "23/05/17 18:48:13 WARN KafkaDataConsumer: KafkaDataConsumer is not running in UninterruptibleThread. It may hang when KafkaDataConsumer's methods are interrupted because of KAFKA-1894\n"
     ]
    },
    {
     "name": "stderr",
     "output_type": "stream",
     "text": [
      "2170559980:>                                                        (0 + 1) / 1]\n",
      "419344126\n",
      "418581758\n",
      "419348478\n",
      "217996030\n",
      "                                                                                \r"
     ]
    },
    {
     "name": "stdout",
     "output_type": "stream",
     "text": [
      "-------------------------------------------\n",
      "Batch: 170\n",
      "-------------------------------------------\n",
      "+-----------+------+-------------+---+-------------------------+-------------+-----+------------+\n",
      "|topic      |bus_id|can_id       |dlc|data                     |timestamp    |value|message_name|\n",
      "+-----------+------+-------------+---+-------------------------+-------------+-----+------------+\n",
      "|canbus_test|bus_37|[0C F0 02 03]|8  |[CD FF FE FF FF FF FF FF]|1684318594855|null |ETC1        |\n",
      "|canbus_test|bus_34|[18 FE AE 30]|8  |[FF FF 60 60 FF FF FF FF]|1684317945786|null |AIR1        |\n",
      "|canbus_test|bus_35|[18 F3 0C 00]|8  |[F3 3F 0F FF F0 FF CC 81]|1684318816162|null |null        |\n",
      "|canbus_test|bus_36|[18 FE BF 0B]|8  |[00 00 7D 7D 7D 7D FF FF]|1684318117397|null |EBC2        |\n",
      "|canbus_test|bus_33|[0C FE 5A 21]|8  |[FF FF FF FF EF FF FF FF]|1684317335338|null |ASC1        |\n",
      "+-----------+------+-------------+---+-------------------------+-------------+-----+------------+\n",
      "\n",
      "23/05/17 18:48:14 WARN KafkaDataConsumer: KafkaDataConsumer is not running in UninterruptibleThread. It may hang when KafkaDataConsumer's methods are interrupted because of KAFKA-1894\n",
      "23/05/17 18:48:14 WARN KafkaDataConsumer: KafkaDataConsumer is not running in UninterruptibleThread. It may hang when KafkaDataConsumer's methods are interrupted because of KAFKA-1894\n",
      "23/05/17 18:48:14 WARN KafkaDataConsumer: KafkaDataConsumer is not running in UninterruptibleThread. It may hang when KafkaDataConsumer's methods are interrupted because of KAFKA-1894\n",
      "23/05/17 18:48:14 WARN KafkaDataConsumer: KafkaDataConsumer is not running in UninterruptibleThread. It may hang when KafkaDataConsumer's methods are interrupted because of KAFKA-1894\n",
      "23/05/17 18:48:14 WARN KafkaDataConsumer: KafkaDataConsumer is not running in UninterruptibleThread. It may hang when KafkaDataConsumer's methods are interrupted because of KAFKA-1894\n"
     ]
    },
    {
     "name": "stderr",
     "output_type": "stream",
     "text": [
      "4193484781:>                                                        (0 + 1) / 1]\n",
      "419373310\n",
      "419351294\n",
      "419348478\n",
      "418382334\n",
      "                                                                                \r"
     ]
    },
    {
     "name": "stdout",
     "output_type": "stream",
     "text": [
      "-------------------------------------------\n",
      "Batch: 171\n",
      "-------------------------------------------\n",
      "+-----------+------+-------------+---+-------------------------+-------------+-----+------------+\n",
      "|topic      |bus_id|can_id       |dlc|data                     |timestamp    |value|message_name|\n",
      "+-----------+------+-------------+---+-------------------------+-------------+-----+------------+\n",
      "|canbus_test|bus_34|[18 FE BF 0B]|8  |[00 00 7D 7D 7D 7D FF FF]|1684317946816|null |EBC2        |\n",
      "|canbus_test|bus_37|[18 FF 20 EF]|8  |[F0 7D 00 00 7D EF FF 7D]|1684318595873|null |null        |\n",
      "|canbus_test|bus_35|[18 FE CA 2F]|8  |[F3 FF 00 00 00 00 FF FF]|1684318817196|null |DM1         |\n",
      "|canbus_test|bus_36|[18 FE BF 0B]|8  |[00 00 7D 7D 7D 7D FF FF]|1684318119461|null |EBC2        |\n",
      "|canbus_test|bus_33|[18 F0 01 0B]|8  |[00 00 F3 FF FF 01 FF F7]|1684317336332|null |EBC1        |\n",
      "+-----------+------+-------------+---+-------------------------+-------------+-----+------------+\n",
      "\n",
      "23/05/17 18:48:15 WARN KafkaDataConsumer: KafkaDataConsumer is not running in UninterruptibleThread. It may hang when KafkaDataConsumer's methods are interrupted because of KAFKA-1894\n",
      "23/05/17 18:48:15 WARN KafkaDataConsumer: KafkaDataConsumer is not running in UninterruptibleThread. It may hang when KafkaDataConsumer's methods are interrupted because of KAFKA-1894\n",
      "23/05/17 18:48:15 WARN KafkaDataConsumer: KafkaDataConsumer is not running in UninterruptibleThread. It may hang when KafkaDataConsumer's methods are interrupted because of KAFKA-1894\n",
      "23/05/17 18:48:15 WARN KafkaDataConsumer: KafkaDataConsumer is not running in UninterruptibleThread. It may hang when KafkaDataConsumer's methods are interrupted because of KAFKA-1894\n",
      "23/05/17 18:48:15 WARN KafkaDataConsumer: KafkaDataConsumer is not running in UninterruptibleThread. It may hang when KafkaDataConsumer's methods are interrupted because of KAFKA-1894\n"
     ]
    },
    {
     "name": "stderr",
     "output_type": "stream",
     "text": [
      "4193512942:>                                                        (0 + 1) / 1]\n",
      "217055998\n",
      "419348478\n",
      "201326846\n",
      "150892286\n",
      "                                                                                \r"
     ]
    },
    {
     "name": "stdout",
     "output_type": "stream",
     "text": [
      "-------------------------------------------\n",
      "Batch: 172\n",
      "-------------------------------------------\n",
      "+-----------+------+-------------+---+-------------------------+-------------+-----+------------+\n",
      "|topic      |bus_id|can_id       |dlc|data                     |timestamp    |value|message_name|\n",
      "+-----------+------+-------------+---+-------------------------+-------------+-----+------------+\n",
      "|canbus_test|bus_37|[18 FE CA 2F]|8  |[F3 FF 00 00 00 00 FF FF]|1684318596898|null |DM1         |\n",
      "|canbus_test|bus_34|[0C F0 02 03]|8  |[CD FF FE FF FF FF FF FF]|1684317947842|null |ETC1        |\n",
      "|canbus_test|bus_35|[18 FE BF 0B]|8  |[00 00 7D 7D 7D 7D FF FF]|1684318818201|null |EBC2        |\n",
      "|canbus_test|bus_36|[0C 00 00 0B]|8  |[30 FF FF FA FF FF FF 41]|1684318121499|null |null        |\n",
      "|canbus_test|bus_33|[08 FE 6E 0B]|8  |[00 00 00 00 00 00 00 00]|1684317337339|null |HRW         |\n",
      "+-----------+------+-------------+---+-------------------------+-------------+-----+------------+\n",
      "\n",
      "23/05/17 18:48:16 WARN KafkaDataConsumer: KafkaDataConsumer is not running in UninterruptibleThread. It may hang when KafkaDataConsumer's methods are interrupted because of KAFKA-1894\n",
      "23/05/17 18:48:16 WARN KafkaDataConsumer: KafkaDataConsumer is not running in UninterruptibleThread. It may hang when KafkaDataConsumer's methods are interrupted because of KAFKA-1894\n",
      "23/05/17 18:48:16 WARN KafkaDataConsumer: KafkaDataConsumer is not running in UninterruptibleThread. It may hang when KafkaDataConsumer's methods are interrupted because of KAFKA-1894\n",
      "23/05/17 18:48:16 WARN KafkaDataConsumer: KafkaDataConsumer is not running in UninterruptibleThread. It may hang when KafkaDataConsumer's methods are interrupted because of KAFKA-1894\n",
      "23/05/17 18:48:16 WARN KafkaDataConsumer: KafkaDataConsumer is not running in UninterruptibleThread. It may hang when KafkaDataConsumer's methods are interrupted because of KAFKA-1894\n"
     ]
    },
    {
     "name": "stderr",
     "output_type": "stream",
     "text": [
      "\r",
      "[Stage 173:>                                                        (0 + 1) / 1]\r",
      "419348478\n",
      "418583806\n",
      "418382334\n",
      "418382334\n",
      "217055998\n",
      "\r",
      "                                                                                \r"
     ]
    },
    {
     "name": "stdout",
     "output_type": "stream",
     "text": [
      "-------------------------------------------\n",
      "Batch: 173\n",
      "-------------------------------------------\n",
      "+-----------+------+-------------+---+-------------------------+-------------+-----+------------+\n",
      "|topic      |bus_id|can_id       |dlc|data                     |timestamp    |value|message_name|\n",
      "+-----------+------+-------------+---+-------------------------+-------------+-----+------------+\n",
      "|canbus_test|bus_37|[18 FE BF 0B]|8  |[00 00 7D 7D 7D 7D FF FF]|1684318597906|null |EBC2        |\n",
      "|canbus_test|bus_34|[18 F3 14 00]|8  |[05 00 C7 0C C8 0C C8 0C]|1684317949925|null |null        |\n",
      "|canbus_test|bus_35|[18 F0 01 17]|8  |[FF FF FF FF FF FF FF F7]|1684318820262|null |EBC1        |\n",
      "|canbus_test|bus_36|[18 F0 01 0B]|8  |[00 00 F3 FF FF 01 FF F7]|1684318122507|null |EBC1        |\n",
      "|canbus_test|bus_33|[0C F0 02 03]|8  |[CD FF FE FF FF FF FF FF]|1684317338335|null |ETC1        |\n",
      "+-----------+------+-------------+---+-------------------------+-------------+-----+------------+\n",
      "\n",
      "23/05/17 18:48:17 WARN KafkaDataConsumer: KafkaDataConsumer is not running in UninterruptibleThread. It may hang when KafkaDataConsumer's methods are interrupted because of KAFKA-1894\n",
      "23/05/17 18:48:17 WARN KafkaDataConsumer: KafkaDataConsumer is not running in UninterruptibleThread. It may hang when KafkaDataConsumer's methods are interrupted because of KAFKA-1894\n",
      "23/05/17 18:48:17 WARN KafkaDataConsumer: KafkaDataConsumer is not running in UninterruptibleThread. It may hang when KafkaDataConsumer's methods are interrupted because of KAFKA-1894\n",
      "23/05/17 18:48:17 WARN KafkaDataConsumer: KafkaDataConsumer is not running in UninterruptibleThread. It may hang when KafkaDataConsumer's methods are interrupted because of KAFKA-1894\n",
      "23/05/17 18:48:17 WARN KafkaDataConsumer: KafkaDataConsumer is not running in UninterruptibleThread. It may hang when KafkaDataConsumer's methods are interrupted because of KAFKA-1894\n"
     ]
    },
    {
     "name": "stderr",
     "output_type": "stream",
     "text": [
      "4193512944:>                                                        (0 + 1) / 1]\n",
      "418382334\n",
      "418382334\n",
      "419319806\n",
      "418382334\n",
      "                                                                                \r"
     ]
    },
    {
     "name": "stdout",
     "output_type": "stream",
     "text": [
      "-------------------------------------------\n",
      "Batch: 174\n",
      "-------------------------------------------\n",
      "+-----------+------+-------------+---+-------------------------+-------------+-----+------------+\n",
      "|topic      |bus_id|can_id       |dlc|data                     |timestamp    |value|message_name|\n",
      "+-----------+------+-------------+---+-------------------------+-------------+-----+------------+\n",
      "|canbus_test|bus_37|[18 FE CA 2F]|8  |[F3 FF 00 00 00 00 FF FF]|1684318598917|null |DM1         |\n",
      "|canbus_test|bus_34|[18 F0 01 0B]|8  |[00 00 F3 FF FF 01 FF F7]|1684317950933|null |EBC1        |\n",
      "|canbus_test|bus_35|[18 F0 01 0B]|8  |[00 00 F3 FF FF 01 FF F7]|1684318821256|null |EBC1        |\n",
      "|canbus_test|bus_36|[18 FE 4F 0B]|8  |[FF FF FF FF FF FF FF FF]|1684318123505|null |VDC1        |\n",
      "|canbus_test|bus_33|[18 F0 01 0B]|8  |[00 00 F3 FF FF 01 FF F7]|1684317339332|null |EBC1        |\n",
      "+-----------+------+-------------+---+-------------------------+-------------+-----+------------+\n",
      "\n",
      "23/05/17 18:48:18 WARN KafkaDataConsumer: KafkaDataConsumer is not running in UninterruptibleThread. It may hang when KafkaDataConsumer's methods are interrupted because of KAFKA-1894\n",
      "23/05/17 18:48:18 WARN KafkaDataConsumer: KafkaDataConsumer is not running in UninterruptibleThread. It may hang when KafkaDataConsumer's methods are interrupted because of KAFKA-1894\n",
      "23/05/17 18:48:18 WARN KafkaDataConsumer: KafkaDataConsumer is not running in UninterruptibleThread. It may hang when KafkaDataConsumer's methods are interrupted because of KAFKA-1894\n",
      "23/05/17 18:48:18 WARN KafkaDataConsumer: KafkaDataConsumer is not running in UninterruptibleThread. It may hang when KafkaDataConsumer's methods are interrupted because of KAFKA-1894\n",
      "23/05/17 18:48:18 WARN KafkaDataConsumer: KafkaDataConsumer is not running in UninterruptibleThread. It may hang when KafkaDataConsumer's methods are interrupted because of KAFKA-1894\n"
     ]
    },
    {
     "name": "stderr",
     "output_type": "stream",
     "text": [
      "4193223665:>                                                        (0 + 1) / 1]\n",
      "419170302\n",
      "419351294\n",
      "418382334\n",
      "217056254\n",
      "                                                                                \r"
     ]
    },
    {
     "name": "stdout",
     "output_type": "stream",
     "text": [
      "-------------------------------------------\n",
      "Batch: 175\n",
      "-------------------------------------------\n",
      "+-----------+------+-------------+---+-------------------------+-------------+-----+------------+\n",
      "|topic      |bus_id|can_id       |dlc|data                     |timestamp    |value|message_name|\n",
      "+-----------+------+-------------+---+-------------------------+-------------+-----+------------+\n",
      "|canbus_test|bus_37|[18 FE 59 2F]|8  |[F5 7C 00 7D FB 7C C4 7C]|1684318599926|null |ASC3        |\n",
      "|canbus_test|bus_34|[18 FC 07 F4]|8  |[CC 09 59 07 8B 02 61 5B]|1684317951967|null |null        |\n",
      "|canbus_test|bus_35|[18 FE CA 2F]|8  |[F3 FF 00 00 00 00 FF FF]|1684318822252|null |DM1         |\n",
      "|canbus_test|bus_36|[18 F0 01 0B]|8  |[00 00 F3 FF FF 01 FF F7]|1684318124512|null |EBC1        |\n",
      "|canbus_test|bus_33|[0C F0 03 00]|8  |[FD 00 FF FF FF FF FF FF]|1684317340336|null |EEC2        |\n",
      "+-----------+------+-------------+---+-------------------------+-------------+-----+------------+\n",
      "\n",
      "23/05/17 18:48:19 WARN KafkaDataConsumer: KafkaDataConsumer is not running in UninterruptibleThread. It may hang when KafkaDataConsumer's methods are interrupted because of KAFKA-1894\n",
      "23/05/17 18:48:19 WARN KafkaDataConsumer: KafkaDataConsumer is not running in UninterruptibleThread. It may hang when KafkaDataConsumer's methods are interrupted because of KAFKA-1894\n",
      "23/05/17 18:48:19 WARN KafkaDataConsumer: KafkaDataConsumer is not running in UninterruptibleThread. It may hang when KafkaDataConsumer's methods are interrupted because of KAFKA-1894\n",
      "23/05/17 18:48:19 WARN KafkaDataConsumer: KafkaDataConsumer is not running in UninterruptibleThread. It may hang when KafkaDataConsumer's methods are interrupted because of KAFKA-1894\n",
      "23/05/17 18:48:19 WARN KafkaDataConsumer: KafkaDataConsumer is not running in UninterruptibleThread. It may hang when KafkaDataConsumer's methods are interrupted because of KAFKA-1894\n"
     ]
    },
    {
     "name": "stderr",
     "output_type": "stream",
     "text": [
      "4193512946:>                                                        (0 + 1) / 1]\n",
      "419351294\n",
      "419169790\n",
      "217996030\n",
      "217056510\n",
      "                                                                                \r"
     ]
    },
    {
     "name": "stdout",
     "output_type": "stream",
     "text": [
      "-------------------------------------------\n",
      "Batch: 176\n",
      "-------------------------------------------\n",
      "+-----------+------+-------------+---+-------------------------+-------------+-----+------------+\n",
      "|topic      |bus_id|can_id       |dlc|data                     |timestamp    |value|message_name|\n",
      "+-----------+------+-------------+---+-------------------------+-------------+-----+------------+\n",
      "|canbus_test|bus_37|[18 FE CA 2F]|8  |[F3 FF 00 00 00 00 FF FF]|1684318600936|null |DM1         |\n",
      "|canbus_test|bus_34|[18 FE CA 2F]|8  |[F3 FF 00 00 00 00 FF FF]|1684317952982|null |DM1         |\n",
      "|canbus_test|bus_35|[18 FC 05 F4]|8  |[40 27 40 27 10 27 61 FF]|1684318823246|null |null        |\n",
      "|canbus_test|bus_36|[0C FE 5A 2F]|8  |[11 00 00 00 D3 F5 FF F0]|1684318125520|null |ASC1        |\n",
      "|canbus_test|bus_33|[0C F0 04 00]|8  |[FF 7D 7D 00 00 FF FF FF]|1684317341337|null |EEC1        |\n",
      "+-----------+------+-------------+---+-------------------------+-------------+-----+------------+\n",
      "\n",
      "23/05/17 18:48:20 WARN KafkaDataConsumer: KafkaDataConsumer is not running in UninterruptibleThread. It may hang when KafkaDataConsumer's methods are interrupted because of KAFKA-1894\n",
      "23/05/17 18:48:20 WARN KafkaDataConsumer: KafkaDataConsumer is not running in UninterruptibleThread. It may hang when KafkaDataConsumer's methods are interrupted because of KAFKA-1894\n",
      "23/05/17 18:48:20 WARN KafkaDataConsumer: KafkaDataConsumer is not running in UninterruptibleThread. It may hang when KafkaDataConsumer's methods are interrupted because of KAFKA-1894\n",
      "23/05/17 18:48:20 WARN KafkaDataConsumer: KafkaDataConsumer is not running in UninterruptibleThread. It may hang when KafkaDataConsumer's methods are interrupted because of KAFKA-1894\n",
      "23/05/17 18:48:20 WARN KafkaDataConsumer: KafkaDataConsumer is not running in UninterruptibleThread. It may hang when KafkaDataConsumer's methods are interrupted because of KAFKA-1894\n"
     ]
    },
    {
     "name": "stderr",
     "output_type": "stream",
     "text": [
      "4183823347:>                                                        (0 + 1) / 1]\n",
      "419351294\n",
      "419351294\n",
      "418382334\n",
      "150892286\n",
      "                                                                                \r"
     ]
    },
    {
     "name": "stdout",
     "output_type": "stream",
     "text": [
      "-------------------------------------------\n",
      "Batch: 177\n",
      "-------------------------------------------\n",
      "+-----------+------+-------------+---+-------------------------+-------------+-----+------------+\n",
      "|topic      |bus_id|can_id       |dlc|data                     |timestamp    |value|message_name|\n",
      "+-----------+------+-------------+---+-------------------------+-------------+-----+------------+\n",
      "|canbus_test|bus_37|[18 F0 01 0B]|8  |[00 00 F3 FF FF 01 FF F7]|1684318601949|null |EBC1        |\n",
      "|canbus_test|bus_34|[18 FE CA 2F]|8  |[F3 FF 00 00 00 00 FF FF]|1684317953991|null |DM1         |\n",
      "|canbus_test|bus_35|[18 FE CA 2F]|8  |[F3 FF 00 00 00 00 FF FF]|1684318824256|null |DM1         |\n",
      "|canbus_test|bus_36|[18 F0 01 0B]|8  |[00 00 F3 FF FF 01 FF F7]|1684318126527|null |EBC1        |\n",
      "|canbus_test|bus_33|[08 FE 6E 0B]|8  |[00 00 00 00 00 00 00 00]|1684317342335|null |HRW         |\n",
      "+-----------+------+-------------+---+-------------------------+-------------+-----+------------+\n",
      "\n",
      "23/05/17 18:48:21 WARN KafkaDataConsumer: KafkaDataConsumer is not running in UninterruptibleThread. It may hang when KafkaDataConsumer's methods are interrupted because of KAFKA-1894\n",
      "23/05/17 18:48:21 WARN KafkaDataConsumer: KafkaDataConsumer is not running in UninterruptibleThread. It may hang when KafkaDataConsumer's methods are interrupted because of KAFKA-1894\n",
      "23/05/17 18:48:21 WARN KafkaDataConsumer: KafkaDataConsumer is not running in UninterruptibleThread. It may hang when KafkaDataConsumer's methods are interrupted because of KAFKA-1894\n",
      "23/05/17 18:48:21 WARN KafkaDataConsumer: KafkaDataConsumer is not running in UninterruptibleThread. It may hang when KafkaDataConsumer's methods are interrupted because of KAFKA-1894\n",
      "23/05/17 18:48:21 WARN KafkaDataConsumer: KafkaDataConsumer is not running in UninterruptibleThread. It may hang when KafkaDataConsumer's methods are interrupted because of KAFKA-1894\n"
     ]
    },
    {
     "name": "stderr",
     "output_type": "stream",
     "text": [
      "4185817588:>                                                        (0 + 1) / 1]\n",
      "419373310\n",
      "418383358\n",
      "419351294\n",
      "419351294\n",
      "                                                                                \r"
     ]
    },
    {
     "name": "stdout",
     "output_type": "stream",
     "text": [
      "-------------------------------------------\n",
      "Batch: 178\n",
      "-------------------------------------------\n",
      "+-----------+------+-------------+---+-------------------------+-------------+-----+------------+\n",
      "|topic      |bus_id|can_id       |dlc|data                     |timestamp    |value|message_name|\n",
      "+-----------+------+-------------+---+-------------------------+-------------+-----+------------+\n",
      "|canbus_test|bus_37|[18 F3 0C 00]|8  |[F3 3F 0F FF F0 FF CC 81]|1684318602958|null |null        |\n",
      "|canbus_test|bus_34|[18 FF 20 EF]|8  |[F0 7D 00 00 7D EF FF 7D]|1684317955001|null |null        |\n",
      "|canbus_test|bus_35|[18 F0 05 03]|8  |[FF FF FF 7D FF FF FF FF]|1684318825262|null |ETC2        |\n",
      "|canbus_test|bus_36|[18 FE CA 2F]|8  |[F3 FF 00 00 00 00 FF FF]|1684318127532|null |DM1         |\n",
      "|canbus_test|bus_33|[18 FE CA 2F]|8  |[F3 FF 00 00 00 00 FF FF]|1684317343328|null |DM1         |\n",
      "+-----------+------+-------------+---+-------------------------+-------------+-----+------------+\n",
      "\n",
      "23/05/17 18:48:22 WARN KafkaDataConsumer: KafkaDataConsumer is not running in UninterruptibleThread. It may hang when KafkaDataConsumer's methods are interrupted because of KAFKA-1894\n",
      "23/05/17 18:48:22 WARN KafkaDataConsumer: KafkaDataConsumer is not running in UninterruptibleThread. It may hang when KafkaDataConsumer's methods are interrupted because of KAFKA-1894\n",
      "23/05/17 18:48:22 WARN KafkaDataConsumer: KafkaDataConsumer is not running in UninterruptibleThread. It may hang when KafkaDataConsumer's methods are interrupted because of KAFKA-1894\n",
      "23/05/17 18:48:22 WARN KafkaDataConsumer: KafkaDataConsumer is not running in UninterruptibleThread. It may hang when KafkaDataConsumer's methods are interrupted because of KAFKA-1894\n",
      "23/05/17 18:48:22 WARN KafkaDataConsumer: KafkaDataConsumer is not running in UninterruptibleThread. It may hang when KafkaDataConsumer's methods are interrupted because of KAFKA-1894\n"
     ]
    },
    {
     "name": "stderr",
     "output_type": "stream",
     "text": [
      "4193484789:>                                                        (0 + 1) / 1]\n",
      "418382334\n",
      "419348478\n",
      "419170302\n",
      "419174142\n",
      "                                                                                \r"
     ]
    },
    {
     "name": "stdout",
     "output_type": "stream",
     "text": [
      "-------------------------------------------\n",
      "Batch: 179\n",
      "-------------------------------------------\n",
      "+-----------+------+-------------+---+-------------------------+-------------+-----+------------+\n",
      "|topic      |bus_id|can_id       |dlc|data                     |timestamp    |value|message_name|\n",
      "+-----------+------+-------------+---+-------------------------+-------------+-----+------------+\n",
      "|canbus_test|bus_37|[18 FE BF 0B]|8  |[00 00 7D 7D 7D 7D FF FF]|1684318603967|null |EBC2        |\n",
      "|canbus_test|bus_34|[18 F0 01 0B]|8  |[00 00 F3 FF FF 01 FF F7]|1684317956019|null |EBC1        |\n",
      "|canbus_test|bus_35|[18 FE BF 0B]|8  |[00 00 7D 7D 7D 7D FF FF]|1684318826273|null |EBC2        |\n",
      "|canbus_test|bus_36|[18 FC 07 F4]|8  |[CC 09 59 07 8B 02 61 5B]|1684318128523|null |null        |\n",
      "|canbus_test|bus_33|[18 FC 16 21]|8  |[03 C7 00 00 72 02 FF 41]|1684317344331|null |null        |\n",
      "+-----------+------+-------------+---+-------------------------+-------------+-----+------------+\n",
      "\n",
      "23/05/17 18:48:23 WARN KafkaDataConsumer: KafkaDataConsumer is not running in UninterruptibleThread. It may hang when KafkaDataConsumer's methods are interrupted because of KAFKA-1894\n",
      "23/05/17 18:48:23 WARN KafkaDataConsumer: KafkaDataConsumer is not running in UninterruptibleThread. It may hang when KafkaDataConsumer's methods are interrupted because of KAFKA-1894\n",
      "23/05/17 18:48:23 WARN KafkaDataConsumer: KafkaDataConsumer is not running in UninterruptibleThread. It may hang when KafkaDataConsumer's methods are interrupted because of KAFKA-1894\n",
      "23/05/17 18:48:23 WARN KafkaDataConsumer: KafkaDataConsumer is not running in UninterruptibleThread. It may hang when KafkaDataConsumer's methods are interrupted because of KAFKA-1894\n",
      "23/05/17 18:48:23 WARN KafkaDataConsumer: KafkaDataConsumer is not running in UninterruptibleThread. It may hang when KafkaDataConsumer's methods are interrupted because of KAFKA-1894\n"
     ]
    },
    {
     "name": "stderr",
     "output_type": "stream",
     "text": [
      "4183823340:>                                                        (0 + 1) / 1]\n",
      "419348478\n",
      "217055998\n",
      "419170302\n",
      "419322366\n",
      "                                                                                \r"
     ]
    },
    {
     "name": "stdout",
     "output_type": "stream",
     "text": [
      "-------------------------------------------\n",
      "Batch: 180\n",
      "-------------------------------------------\n",
      "+-----------+------+-------------+---+-------------------------+-------------+-----+------------+\n",
      "|topic      |bus_id|can_id       |dlc|data                     |timestamp    |value|message_name|\n",
      "+-----------+------+-------------+---+-------------------------+-------------+-----+------------+\n",
      "|canbus_test|bus_37|[18 F0 01 0B]|8  |[00 00 F3 FF FF 01 FF F7]|1684318604979|null |EBC1        |\n",
      "|canbus_test|bus_34|[18 FE BF 0B]|8  |[00 00 7D 7D 7D 7D FF FF]|1684317957026|null |EBC2        |\n",
      "|canbus_test|bus_35|[0C F0 02 03]|8  |[CD FF FE FF FF FF FF FF]|1684318827279|null |ETC1        |\n",
      "|canbus_test|bus_36|[18 FC 07 F4]|8  |[CC 09 59 07 8B 02 61 5B]|1684318129522|null |null        |\n",
      "|canbus_test|bus_33|[18 FE 59 2F]|8  |[D8 7C E4 7C 0D 7D DA 7C]|1684317345323|null |ASC3        |\n",
      "+-----------+------+-------------+---+-------------------------+-------------+-----+------------+\n",
      "\n",
      "23/05/17 18:48:24 WARN KafkaDataConsumer: KafkaDataConsumer is not running in UninterruptibleThread. It may hang when KafkaDataConsumer's methods are interrupted because of KAFKA-1894\n",
      "23/05/17 18:48:24 WARN KafkaDataConsumer: KafkaDataConsumer is not running in UninterruptibleThread. It may hang when KafkaDataConsumer's methods are interrupted because of KAFKA-1894\n",
      "23/05/17 18:48:24 WARN KafkaDataConsumer: KafkaDataConsumer is not running in UninterruptibleThread. It may hang when KafkaDataConsumer's methods are interrupted because of KAFKA-1894\n",
      "23/05/17 18:48:24 WARN KafkaDataConsumer: KafkaDataConsumer is not running in UninterruptibleThread. It may hang when KafkaDataConsumer's methods are interrupted because of KAFKA-1894\n",
      "23/05/17 18:48:24 WARN KafkaDataConsumer: KafkaDataConsumer is not running in UninterruptibleThread. It may hang when KafkaDataConsumer's methods are interrupted because of KAFKA-1894\n"
     ]
    },
    {
     "name": "stderr",
     "output_type": "stream",
     "text": [
      "4183823341:>                                                        (0 + 1) / 1]\n",
      "150892286\n",
      "419174398\n",
      "418382334\n",
      "419351294\n",
      "                                                                                \r"
     ]
    },
    {
     "name": "stdout",
     "output_type": "stream",
     "text": [
      "-------------------------------------------\n",
      "Batch: 181\n",
      "-------------------------------------------\n",
      "+-----------+------+-------------+---+-------------------------+-------------+-----+------------+\n",
      "|topic      |bus_id|can_id       |dlc|data                     |timestamp    |value|message_name|\n",
      "+-----------+------+-------------+---+-------------------------+-------------+-----+------------+\n",
      "|canbus_test|bus_37|[18 F0 01 0B]|8  |[00 00 F3 FF FF 01 FF F7]|1684318605976|null |EBC1        |\n",
      "|canbus_test|bus_34|[08 FE 6E 0B]|8  |[00 00 00 00 00 00 00 00]|1684317958060|null |HRW         |\n",
      "|canbus_test|bus_35|[18 FC 17 21]|8  |[F8 2A 20 4E FF FF FE EE]|1684318828282|null |null        |\n",
      "|canbus_test|bus_36|[18 F0 01 0B]|8  |[00 00 F3 FF FF 01 FF F7]|1684318130520|null |EBC1        |\n",
      "|canbus_test|bus_33|[18 FE CA 2F]|8  |[F3 FF 00 00 00 00 FF FF]|1684317346318|null |DM1         |\n",
      "+-----------+------+-------------+---+-------------------------+-------------+-----+------------+\n",
      "\n",
      "23/05/17 18:48:25 WARN KafkaDataConsumer: KafkaDataConsumer is not running in UninterruptibleThread. It may hang when KafkaDataConsumer's methods are interrupted because of KAFKA-1894\n",
      "23/05/17 18:48:25 WARN KafkaDataConsumer: KafkaDataConsumer is not running in UninterruptibleThread. It may hang when KafkaDataConsumer's methods are interrupted because of KAFKA-1894\n",
      "23/05/17 18:48:25 WARN KafkaDataConsumer: KafkaDataConsumer is not running in UninterruptibleThread. It may hang when KafkaDataConsumer's methods are interrupted because of KAFKA-1894\n",
      "23/05/17 18:48:25 WARN KafkaDataConsumer: KafkaDataConsumer is not running in UninterruptibleThread. It may hang when KafkaDataConsumer's methods are interrupted because of KAFKA-1894\n",
      "23/05/17 18:48:25 WARN KafkaDataConsumer: KafkaDataConsumer is not running in UninterruptibleThread. It may hang when KafkaDataConsumer's methods are interrupted because of KAFKA-1894\n"
     ]
    },
    {
     "name": "stderr",
     "output_type": "stream",
     "text": [
      "\r",
      "[Stage 182:>                                                        (0 + 1) / 1]\r",
      "418382334\n",
      "418382334\n",
      "418382334\n",
      "418382334\n",
      "419284222\n",
      "\r",
      "                                                                                \r"
     ]
    },
    {
     "name": "stdout",
     "output_type": "stream",
     "text": [
      "-------------------------------------------\n",
      "Batch: 182\n",
      "-------------------------------------------\n",
      "+-----------+------+-------------+---+-------------------------+-------------+-----+------------+\n",
      "|topic      |bus_id|can_id       |dlc|data                     |timestamp    |value|message_name|\n",
      "+-----------+------+-------------+---+-------------------------+-------------+-----+------------+\n",
      "|canbus_test|bus_37|[18 F0 01 0B]|8  |[00 00 F3 FF FF 01 FF F7]|1684318606992|null |EBC1        |\n",
      "|canbus_test|bus_34|[18 F0 01 0B]|8  |[00 00 F3 FF FF 01 FF F7]|1684317959097|null |EBC1        |\n",
      "|canbus_test|bus_35|[18 F0 01 0B]|8  |[00 00 F3 FF FF 01 FF F7]|1684318829286|null |EBC1        |\n",
      "|canbus_test|bus_36|[18 F0 01 0B]|8  |[00 00 F3 FF FF 01 FF F7]|1684318131536|null |EBC1        |\n",
      "|canbus_test|bus_33|[18 FD C4 0B]|8  |[E0 08 FF F3 FF FF FF FF]|1684317347313|null |EBC5        |\n",
      "+-----------+------+-------------+---+-------------------------+-------------+-----+------------+\n",
      "\n",
      "23/05/17 18:48:26 WARN KafkaDataConsumer: KafkaDataConsumer is not running in UninterruptibleThread. It may hang when KafkaDataConsumer's methods are interrupted because of KAFKA-1894\n",
      "23/05/17 18:48:26 WARN KafkaDataConsumer: KafkaDataConsumer is not running in UninterruptibleThread. It may hang when KafkaDataConsumer's methods are interrupted because of KAFKA-1894\n",
      "23/05/17 18:48:26 WARN KafkaDataConsumer: KafkaDataConsumer is not running in UninterruptibleThread. It may hang when KafkaDataConsumer's methods are interrupted because of KAFKA-1894\n",
      "23/05/17 18:48:26 WARN KafkaDataConsumer: KafkaDataConsumer is not running in UninterruptibleThread. It may hang when KafkaDataConsumer's methods are interrupted because of KAFKA-1894\n",
      "23/05/17 18:48:26 WARN KafkaDataConsumer: KafkaDataConsumer is not running in UninterruptibleThread. It may hang when KafkaDataConsumer's methods are interrupted because of KAFKA-1894\n"
     ]
    },
    {
     "name": "stderr",
     "output_type": "stream",
     "text": [
      "\r",
      "[Stage 183:>                                                        (0 + 1) / 1]\r",
      "418382334\n",
      "419351294\n",
      "418382334\n",
      "419351294\n",
      "419348478\n",
      "\r",
      "                                                                                \r"
     ]
    },
    {
     "name": "stdout",
     "output_type": "stream",
     "text": [
      "-------------------------------------------\n",
      "Batch: 183\n",
      "-------------------------------------------\n",
      "+-----------+------+-------------+---+-------------------------+-------------+-----+------------+\n",
      "|topic      |bus_id|can_id       |dlc|data                     |timestamp    |value|message_name|\n",
      "+-----------+------+-------------+---+-------------------------+-------------+-----+------------+\n",
      "|canbus_test|bus_37|[18 F0 01 0B]|8  |[00 00 F3 FF FF 01 FF F7]|1684318608003|null |EBC1        |\n",
      "|canbus_test|bus_34|[18 FE CA 2F]|8  |[F3 FF 00 00 00 00 FF FF]|1684317960137|null |DM1         |\n",
      "|canbus_test|bus_35|[18 F0 01 0B]|8  |[00 00 F3 FF FF 01 FF F7]|1684318830310|null |EBC1        |\n",
      "|canbus_test|bus_36|[18 FE CA 2F]|8  |[F3 FF 00 00 00 00 FF FF]|1684318132542|null |DM1         |\n",
      "|canbus_test|bus_33|[18 FE BF 0B]|8  |[00 00 7D 7D 7D 7D FF FF]|1684317348307|null |EBC2        |\n",
      "+-----------+------+-------------+---+-------------------------+-------------+-----+------------+\n",
      "\n",
      "23/05/17 18:48:27 WARN KafkaDataConsumer: KafkaDataConsumer is not running in UninterruptibleThread. It may hang when KafkaDataConsumer's methods are interrupted because of KAFKA-1894\n",
      "23/05/17 18:48:27 WARN KafkaDataConsumer: KafkaDataConsumer is not running in UninterruptibleThread. It may hang when KafkaDataConsumer's methods are interrupted because of KAFKA-1894\n",
      "23/05/17 18:48:27 WARN KafkaDataConsumer: KafkaDataConsumer is not running in UninterruptibleThread. It may hang when KafkaDataConsumer's methods are interrupted because of KAFKA-1894\n",
      "23/05/17 18:48:27 WARN KafkaDataConsumer: KafkaDataConsumer is not running in UninterruptibleThread. It may hang when KafkaDataConsumer's methods are interrupted because of KAFKA-1894\n",
      "23/05/17 18:48:27 WARN KafkaDataConsumer: KafkaDataConsumer is not running in UninterruptibleThread. It may hang when KafkaDataConsumer's methods are interrupted because of KAFKA-1894\n"
     ]
    },
    {
     "name": "stderr",
     "output_type": "stream",
     "text": [
      "\r",
      "[Stage 184:>                                                        (0 + 1) / 1]\r",
      "418382334\n",
      "419351294\n",
      "419351294\n",
      "418596606\n",
      "419351294\n",
      "\r",
      "                                                                                \r"
     ]
    },
    {
     "name": "stdout",
     "output_type": "stream",
     "text": [
      "-------------------------------------------\n",
      "Batch: 184\n",
      "-------------------------------------------\n",
      "+-----------+------+-------------+---+-------------------------+-------------+-----+------------+\n",
      "|topic      |bus_id|can_id       |dlc|data                     |timestamp    |value|message_name|\n",
      "+-----------+------+-------------+---+-------------------------+-------------+-----+------------+\n",
      "|canbus_test|bus_37|[18 F0 01 0B]|8  |[00 00 F3 FF FF 01 FF F7]|1684318609014|null |EBC1        |\n",
      "|canbus_test|bus_34|[18 FE CA 2F]|8  |[F3 FF 00 00 00 00 FF FF]|1684317961138|null |DM1         |\n",
      "|canbus_test|bus_35|[18 FE CA 2F]|8  |[F3 FF 00 00 00 00 FF FF]|1684318831302|null |DM1         |\n",
      "|canbus_test|bus_36|[18 F3 46 F4]|8  |[00 00 00 00 B6 09 00 00]|1684318133550|null |null        |\n",
      "|canbus_test|bus_33|[18 FE CA 2F]|8  |[F3 FF 00 00 00 00 FF FF]|1684317349303|null |DM1         |\n",
      "+-----------+------+-------------+---+-------------------------+-------------+-----+------------+\n",
      "\n",
      "23/05/17 18:48:28 WARN KafkaDataConsumer: KafkaDataConsumer is not running in UninterruptibleThread. It may hang when KafkaDataConsumer's methods are interrupted because of KAFKA-1894\n",
      "23/05/17 18:48:28 WARN KafkaDataConsumer: KafkaDataConsumer is not running in UninterruptibleThread. It may hang when KafkaDataConsumer's methods are interrupted because of KAFKA-1894\n",
      "23/05/17 18:48:28 WARN KafkaDataConsumer: KafkaDataConsumer is not running in UninterruptibleThread. It may hang when KafkaDataConsumer's methods are interrupted because of KAFKA-1894\n",
      "23/05/17 18:48:28 WARN KafkaDataConsumer: KafkaDataConsumer is not running in UninterruptibleThread. It may hang when KafkaDataConsumer's methods are interrupted because of KAFKA-1894\n",
      "23/05/17 18:48:28 WARN KafkaDataConsumer: KafkaDataConsumer is not running in UninterruptibleThread. It may hang when KafkaDataConsumer's methods are interrupted because of KAFKA-1894\n"
     ]
    },
    {
     "name": "stderr",
     "output_type": "stream",
     "text": [
      "4183823345:>                                                        (0 + 1) / 1]\n",
      "418382334\n",
      "419351294\n",
      "418382334\n",
      "418582014\n",
      "                                                                                \r"
     ]
    },
    {
     "name": "stdout",
     "output_type": "stream",
     "text": [
      "-------------------------------------------\n",
      "Batch: 185\n",
      "-------------------------------------------\n",
      "+-----------+------+-------------+---+-------------------------+-------------+-----+------------+\n",
      "|topic      |bus_id|can_id       |dlc|data                     |timestamp    |value|message_name|\n",
      "+-----------+------+-------------+---+-------------------------+-------------+-----+------------+\n",
      "|canbus_test|bus_37|[18 F0 01 0B]|8  |[00 00 F3 FF FF 01 FF F7]|1684318610031|null |EBC1        |\n",
      "|canbus_test|bus_34|[18 F0 01 0B]|8  |[00 00 F3 FF FF 01 FF F7]|1684317962139|null |EBC1        |\n",
      "|canbus_test|bus_35|[18 FE CA 2F]|8  |[F3 FF 00 00 00 00 FF FF]|1684318832322|null |DM1         |\n",
      "|canbus_test|bus_36|[18 F0 01 0B]|8  |[00 00 F3 FF FF 01 FF F7]|1684318134555|null |EBC1        |\n",
      "|canbus_test|bus_33|[18 F3 0D 00]|8  |[00 B6 09 FF FF 02 00 00]|1684317350298|null |null        |\n",
      "+-----------+------+-------------+---+-------------------------+-------------+-----+------------+\n",
      "\n",
      "23/05/17 18:48:29 WARN KafkaDataConsumer: KafkaDataConsumer is not running in UninterruptibleThread. It may hang when KafkaDataConsumer's methods are interrupted because of KAFKA-1894\n",
      "23/05/17 18:48:29 WARN KafkaDataConsumer: KafkaDataConsumer is not running in UninterruptibleThread. It may hang when KafkaDataConsumer's methods are interrupted because of KAFKA-1894\n",
      "23/05/17 18:48:29 WARN KafkaDataConsumer: KafkaDataConsumer is not running in UninterruptibleThread. It may hang when KafkaDataConsumer's methods are interrupted because of KAFKA-1894\n",
      "23/05/17 18:48:29 WARN KafkaDataConsumer: KafkaDataConsumer is not running in UninterruptibleThread. It may hang when KafkaDataConsumer's methods are interrupted because of KAFKA-1894\n",
      "23/05/17 18:48:29 WARN KafkaDataConsumer: KafkaDataConsumer is not running in UninterruptibleThread. It may hang when KafkaDataConsumer's methods are interrupted because of KAFKA-1894\n"
     ]
    },
    {
     "name": "stderr",
     "output_type": "stream",
     "text": [
      "4183823346:>                                                        (0 + 1) / 1]\n",
      "217055998\n",
      "419351294\n",
      "419348478\n",
      "418382334\n",
      "                                                                                \r"
     ]
    },
    {
     "name": "stdout",
     "output_type": "stream",
     "text": [
      "-------------------------------------------\n",
      "Batch: 186\n",
      "-------------------------------------------\n",
      "+-----------+------+-------------+---+-------------------------+-------------+-----+------------+\n",
      "|topic      |bus_id|can_id       |dlc|data                     |timestamp    |value|message_name|\n",
      "+-----------+------+-------------+---+-------------------------+-------------+-----+------------+\n",
      "|canbus_test|bus_37|[18 F0 01 0B]|8  |[00 00 F3 FF FF 01 FF F7]|1684318611042|null |EBC1        |\n",
      "|canbus_test|bus_34|[0C F0 02 03]|8  |[CD FF FE FF FF FF FF FF]|1684317963142|null |ETC1        |\n",
      "|canbus_test|bus_35|[18 FE CA 2F]|8  |[F3 FF 00 00 00 00 FF FF]|1684318833315|null |DM1         |\n",
      "|canbus_test|bus_36|[18 FE BF 0B]|8  |[00 00 7D 7D 7D 7D FF FF]|1684318135579|null |EBC2        |\n",
      "|canbus_test|bus_33|[18 F0 01 0B]|8  |[00 00 F3 FF FF 01 FF F7]|1684317351306|null |EBC1        |\n",
      "+-----------+------+-------------+---+-------------------------+-------------+-----+------------+\n",
      "\n",
      "23/05/17 18:48:30 WARN KafkaDataConsumer: KafkaDataConsumer is not running in UninterruptibleThread. It may hang when KafkaDataConsumer's methods are interrupted because of KAFKA-1894\n",
      "23/05/17 18:48:30 WARN KafkaDataConsumer: KafkaDataConsumer is not running in UninterruptibleThread. It may hang when KafkaDataConsumer's methods are interrupted because of KAFKA-1894\n",
      "23/05/17 18:48:30 WARN KafkaDataConsumer: KafkaDataConsumer is not running in UninterruptibleThread. It may hang when KafkaDataConsumer's methods are interrupted because of KAFKA-1894\n",
      "23/05/17 18:48:30 WARN KafkaDataConsumer: KafkaDataConsumer is not running in UninterruptibleThread. It may hang when KafkaDataConsumer's methods are interrupted because of KAFKA-1894\n",
      "23/05/17 18:48:30 WARN KafkaDataConsumer: KafkaDataConsumer is not running in UninterruptibleThread. It may hang when KafkaDataConsumer's methods are interrupted because of KAFKA-1894\n"
     ]
    },
    {
     "name": "stderr",
     "output_type": "stream",
     "text": [
      "\r",
      "[Stage 187:>                                                        (0 + 1) / 1]\r",
      "419351294\n",
      "418382334\n",
      "419348478\n",
      "419348478\n",
      "418382334\n",
      "\r",
      "                                                                                \r"
     ]
    },
    {
     "name": "stdout",
     "output_type": "stream",
     "text": [
      "-------------------------------------------\n",
      "Batch: 187\n",
      "-------------------------------------------\n",
      "+-----------+------+-------------+---+-------------------------+-------------+-----+------------+\n",
      "|topic      |bus_id|can_id       |dlc|data                     |timestamp    |value|message_name|\n",
      "+-----------+------+-------------+---+-------------------------+-------------+-----+------------+\n",
      "|canbus_test|bus_37|[18 FE CA 2F]|8  |[F3 FF 00 00 00 00 FF FF]|1684318612052|null |DM1         |\n",
      "|canbus_test|bus_34|[18 F0 01 0B]|8  |[00 00 F3 FF FF 01 FF F7]|1684317964173|null |EBC1        |\n",
      "|canbus_test|bus_35|[18 FE BF 0B]|8  |[00 00 7D 7D 7D 7D FF FF]|1684318834312|null |EBC2        |\n",
      "|canbus_test|bus_36|[18 FE BF 0B]|8  |[00 00 7D 7D 7D 7D FF FF]|1684318136586|null |EBC2        |\n",
      "|canbus_test|bus_33|[18 F0 01 0B]|8  |[00 00 F3 FF FF 01 FF F7]|1684317352321|null |EBC1        |\n",
      "+-----------+------+-------------+---+-------------------------+-------------+-----+------------+\n",
      "\n",
      "23/05/17 18:48:31 WARN KafkaDataConsumer: KafkaDataConsumer is not running in UninterruptibleThread. It may hang when KafkaDataConsumer's methods are interrupted because of KAFKA-1894\n",
      "23/05/17 18:48:31 WARN KafkaDataConsumer: KafkaDataConsumer is not running in UninterruptibleThread. It may hang when KafkaDataConsumer's methods are interrupted because of KAFKA-1894\n",
      "23/05/17 18:48:31 WARN KafkaDataConsumer: KafkaDataConsumer is not running in UninterruptibleThread. It may hang when KafkaDataConsumer's methods are interrupted because of KAFKA-1894\n",
      "23/05/17 18:48:31 WARN KafkaDataConsumer: KafkaDataConsumer is not running in UninterruptibleThread. It may hang when KafkaDataConsumer's methods are interrupted because of KAFKA-1894\n",
      "23/05/17 18:48:31 WARN KafkaDataConsumer: KafkaDataConsumer is not running in UninterruptibleThread. It may hang when KafkaDataConsumer's methods are interrupted because of KAFKA-1894\n"
     ]
    },
    {
     "name": "stderr",
     "output_type": "stream",
     "text": [
      "1508922868:>                                                        (0 + 1) / 1]\n",
      "418382078\n",
      "418382334\n",
      "419351294\n",
      "419348478\n",
      "                                                                                \r"
     ]
    },
    {
     "name": "stdout",
     "output_type": "stream",
     "text": [
      "-------------------------------------------\n",
      "Batch: 188\n",
      "-------------------------------------------\n",
      "+-----------+------+-------------+---+-------------------------+-------------+-----+------------+\n",
      "|topic      |bus_id|can_id       |dlc|data                     |timestamp    |value|message_name|\n",
      "+-----------+------+-------------+---+-------------------------+-------------+-----+------------+\n",
      "|canbus_test|bus_37|[08 FE 6E 0B]|8  |[00 00 00 00 00 00 00 00]|1684318613065|null |HRW         |\n",
      "|canbus_test|bus_34|[18 F0 00 10]|8  |[FF 7D FF FF FF FF FF 7D]|1684317965204|null |ERC1        |\n",
      "|canbus_test|bus_35|[18 F0 01 0B]|8  |[00 00 F3 FF FF 01 FF F7]|1684318835315|null |EBC1        |\n",
      "|canbus_test|bus_36|[18 FE CA 2F]|8  |[F3 FF 00 00 00 00 FF FF]|1684318137587|null |DM1         |\n",
      "|canbus_test|bus_33|[18 FE BF 0B]|8  |[00 00 7D 7D 7D 7D FF FF]|1684317354359|null |EBC2        |\n",
      "+-----------+------+-------------+---+-------------------------+-------------+-----+------------+\n",
      "\n",
      "23/05/17 18:48:32 WARN KafkaDataConsumer: KafkaDataConsumer is not running in UninterruptibleThread. It may hang when KafkaDataConsumer's methods are interrupted because of KAFKA-1894\n",
      "23/05/17 18:48:32 WARN KafkaDataConsumer: KafkaDataConsumer is not running in UninterruptibleThread. It may hang when KafkaDataConsumer's methods are interrupted because of KAFKA-1894\n",
      "23/05/17 18:48:32 WARN KafkaDataConsumer: KafkaDataConsumer is not running in UninterruptibleThread. It may hang when KafkaDataConsumer's methods are interrupted because of KAFKA-1894\n",
      "23/05/17 18:48:32 WARN KafkaDataConsumer: KafkaDataConsumer is not running in UninterruptibleThread. It may hang when KafkaDataConsumer's methods are interrupted because of KAFKA-1894\n",
      "23/05/17 18:48:32 WARN KafkaDataConsumer: KafkaDataConsumer is not running in UninterruptibleThread. It may hang when KafkaDataConsumer's methods are interrupted because of KAFKA-1894\n"
     ]
    },
    {
     "name": "stderr",
     "output_type": "stream",
     "text": [
      "\r",
      "[Stage 189:>                                                        (0 + 1) / 1]\r",
      "419174142\n",
      "419348478\n",
      "418382334\n",
      "217055998\n",
      "419351294\n",
      "\r",
      "                                                                                \r"
     ]
    },
    {
     "name": "stdout",
     "output_type": "stream",
     "text": [
      "-------------------------------------------\n",
      "Batch: 189\n",
      "-------------------------------------------\n",
      "+-----------+------+-------------+---+-------------------------+-------------+-----+------------+\n",
      "|topic      |bus_id|can_id       |dlc|data                     |timestamp    |value|message_name|\n",
      "+-----------+------+-------------+---+-------------------------+-------------+-----+------------+\n",
      "|canbus_test|bus_37|[18 FC 16 21]|8  |[03 C7 00 00 72 02 FF 41]|1684318614076|null |null        |\n",
      "|canbus_test|bus_34|[18 FE BF 0B]|8  |[00 00 7D 7D 7D 7D FF FF]|1684317966240|null |EBC2        |\n",
      "|canbus_test|bus_35|[18 F0 01 0B]|8  |[00 00 F3 FF FF 01 FF F7]|1684318836343|null |EBC1        |\n",
      "|canbus_test|bus_36|[0C F0 02 03]|8  |[CD FF FE FF FF FF FF FF]|1684318138585|null |ETC1        |\n",
      "|canbus_test|bus_33|[18 FE CA 2F]|8  |[F3 FF 00 00 00 00 FF FF]|1684317355370|null |DM1         |\n",
      "+-----------+------+-------------+---+-------------------------+-------------+-----+------------+\n",
      "\n",
      "23/05/17 18:48:33 WARN KafkaDataConsumer: KafkaDataConsumer is not running in UninterruptibleThread. It may hang when KafkaDataConsumer's methods are interrupted because of KAFKA-1894\n",
      "23/05/17 18:48:33 WARN KafkaDataConsumer: KafkaDataConsumer is not running in UninterruptibleThread. It may hang when KafkaDataConsumer's methods are interrupted because of KAFKA-1894\n",
      "23/05/17 18:48:33 WARN KafkaDataConsumer: KafkaDataConsumer is not running in UninterruptibleThread. It may hang when KafkaDataConsumer's methods are interrupted because of KAFKA-1894\n",
      "23/05/17 18:48:33 WARN KafkaDataConsumer: KafkaDataConsumer is not running in UninterruptibleThread. It may hang when KafkaDataConsumer's methods are interrupted because of KAFKA-1894\n",
      "23/05/17 18:48:33 WARN KafkaDataConsumer: KafkaDataConsumer is not running in UninterruptibleThread. It may hang when KafkaDataConsumer's methods are interrupted because of KAFKA-1894\n"
     ]
    },
    {
     "name": "stderr",
     "output_type": "stream",
     "text": [
      "\r",
      "[Stage 190:>                                                        (0 + 1) / 1]\r",
      "419351294\n",
      "419351294\n",
      "419348478\n",
      "419351294\n",
      "419348478\n",
      "\r",
      "                                                                                \r"
     ]
    },
    {
     "name": "stdout",
     "output_type": "stream",
     "text": [
      "-------------------------------------------\n",
      "Batch: 190\n",
      "-------------------------------------------\n",
      "+-----------+------+-------------+---+-------------------------+-------------+-----+------------+\n",
      "|topic      |bus_id|can_id       |dlc|data                     |timestamp    |value|message_name|\n",
      "+-----------+------+-------------+---+-------------------------+-------------+-----+------------+\n",
      "|canbus_test|bus_34|[18 FE CA 2F]|8  |[F3 FF 00 00 00 00 FF FF]|1684317967241|null |DM1         |\n",
      "|canbus_test|bus_37|[18 FE CA 2F]|8  |[F3 FF 00 00 00 00 FF FF]|1684318616133|null |DM1         |\n",
      "|canbus_test|bus_35|[18 FE BF 0B]|8  |[00 00 7D 7D 7D 7D FF FF]|1684318837374|null |EBC2        |\n",
      "|canbus_test|bus_36|[18 FE CA 2F]|8  |[F3 FF 00 00 00 00 FF FF]|1684318139587|null |DM1         |\n",
      "|canbus_test|bus_33|[18 FE BF 0B]|8  |[00 00 7D 7D 7D 7D FF FF]|1684317356371|null |EBC2        |\n",
      "+-----------+------+-------------+---+-------------------------+-------------+-----+------------+\n",
      "\n",
      "23/05/17 18:48:34 WARN KafkaDataConsumer: KafkaDataConsumer is not running in UninterruptibleThread. It may hang when KafkaDataConsumer's methods are interrupted because of KAFKA-1894\n",
      "23/05/17 18:48:34 WARN KafkaDataConsumer: KafkaDataConsumer is not running in UninterruptibleThread. It may hang when KafkaDataConsumer's methods are interrupted because of KAFKA-1894\n",
      "23/05/17 18:48:34 WARN KafkaDataConsumer: KafkaDataConsumer is not running in UninterruptibleThread. It may hang when KafkaDataConsumer's methods are interrupted because of KAFKA-1894\n",
      "23/05/17 18:48:34 WARN KafkaDataConsumer: KafkaDataConsumer is not running in UninterruptibleThread. It may hang when KafkaDataConsumer's methods are interrupted because of KAFKA-1894\n",
      "23/05/17 18:48:34 WARN KafkaDataConsumer: KafkaDataConsumer is not running in UninterruptibleThread. It may hang when KafkaDataConsumer's methods are interrupted because of KAFKA-1894\n"
     ]
    },
    {
     "name": "stderr",
     "output_type": "stream",
     "text": [
      "\r",
      "[Stage 191:>                                                        (0 + 1) / 1]\r",
      "418382334\n",
      "217055998\n",
      "419351294\n",
      "150892286\n",
      "419351294\n",
      "\r",
      "                                                                                \r"
     ]
    },
    {
     "name": "stdout",
     "output_type": "stream",
     "text": [
      "-------------------------------------------\n",
      "Batch: 191\n",
      "-------------------------------------------\n",
      "+-----------+------+-------------+---+-------------------------+-------------+-----+------------+\n",
      "|topic      |bus_id|can_id       |dlc|data                     |timestamp    |value|message_name|\n",
      "+-----------+------+-------------+---+-------------------------+-------------+-----+------------+\n",
      "|canbus_test|bus_37|[18 F0 01 17]|8  |[FF FF FF FF FF FF FF F7]|1684318617156|null |EBC1        |\n",
      "|canbus_test|bus_34|[0C F0 02 03]|8  |[CD FF FE FF FF FF FF FF]|1684317968243|null |ETC1        |\n",
      "|canbus_test|bus_35|[18 FE CA 2F]|8  |[F3 FF 00 00 00 00 FF FF]|1684318838477|null |DM1         |\n",
      "|canbus_test|bus_36|[08 FE 6E 0B]|8  |[00 00 00 00 00 00 00 00]|1684318140581|null |HRW         |\n",
      "|canbus_test|bus_33|[18 FE CA 2F]|8  |[F3 FF 00 00 00 00 FF FF]|1684317357372|null |DM1         |\n",
      "+-----------+------+-------------+---+-------------------------+-------------+-----+------------+\n",
      "\n",
      "23/05/17 18:48:35 WARN KafkaDataConsumer: KafkaDataConsumer is not running in UninterruptibleThread. It may hang when KafkaDataConsumer's methods are interrupted because of KAFKA-1894\n",
      "23/05/17 18:48:35 WARN KafkaDataConsumer: KafkaDataConsumer is not running in UninterruptibleThread. It may hang when KafkaDataConsumer's methods are interrupted because of KAFKA-1894\n",
      "23/05/17 18:48:35 WARN KafkaDataConsumer: KafkaDataConsumer is not running in UninterruptibleThread. It may hang when KafkaDataConsumer's methods are interrupted because of KAFKA-1894\n",
      "23/05/17 18:48:35 WARN KafkaDataConsumer: KafkaDataConsumer is not running in UninterruptibleThread. It may hang when KafkaDataConsumer's methods are interrupted because of KAFKA-1894\n",
      "23/05/17 18:48:35 WARN KafkaDataConsumer: KafkaDataConsumer is not running in UninterruptibleThread. It may hang when KafkaDataConsumer's methods are interrupted because of KAFKA-1894\n"
     ]
    },
    {
     "name": "stderr",
     "output_type": "stream",
     "text": [
      "\r",
      "[Stage 192:>                                                        (0 + 1) / 1]\r",
      "419318526\n",
      "418581758\n",
      "419174142\n",
      "419172606\n",
      "418382334\n",
      "\r",
      "                                                                                \r"
     ]
    },
    {
     "name": "stdout",
     "output_type": "stream",
     "text": [
      "-------------------------------------------\n",
      "Batch: 192\n",
      "-------------------------------------------\n",
      "+-----------+------+-------------+---+-------------------------+-------------+-----+------------+\n",
      "|topic      |bus_id|can_id       |dlc|data                     |timestamp    |value|message_name|\n",
      "+-----------+------+-------------+---+-------------------------+-------------+-----+------------+\n",
      "|canbus_test|bus_37|[18 FE 4A 03]|8  |[FF FC C2 F0 FF FF FF FF]|1684318618172|null |ETC7        |\n",
      "|canbus_test|bus_34|[18 F3 0C 00]|8  |[F3 3F 0F FF F0 FF CC 81]|1684317969248|null |null        |\n",
      "|canbus_test|bus_35|[18 FC 16 21]|8  |[03 C7 00 00 72 02 FF 41]|1684318839474|null |null        |\n",
      "|canbus_test|bus_36|[18 FC 10 F4]|8  |[FF FF 5B 26 44 44 00 00]|1684318141613|null |null        |\n",
      "|canbus_test|bus_33|[18 F0 01 0B]|8  |[00 00 F3 FF FF 01 FF F7]|1684317358366|null |EBC1        |\n",
      "+-----------+------+-------------+---+-------------------------+-------------+-----+------------+\n",
      "\n",
      "23/05/17 18:48:36 WARN KafkaDataConsumer: KafkaDataConsumer is not running in UninterruptibleThread. It may hang when KafkaDataConsumer's methods are interrupted because of KAFKA-1894\n",
      "23/05/17 18:48:36 WARN KafkaDataConsumer: KafkaDataConsumer is not running in UninterruptibleThread. It may hang when KafkaDataConsumer's methods are interrupted because of KAFKA-1894\n",
      "23/05/17 18:48:36 WARN KafkaDataConsumer: KafkaDataConsumer is not running in UninterruptibleThread. It may hang when KafkaDataConsumer's methods are interrupted because of KAFKA-1894\n",
      "23/05/17 18:48:36 WARN KafkaDataConsumer: KafkaDataConsumer is not running in UninterruptibleThread. It may hang when KafkaDataConsumer's methods are interrupted because of KAFKA-1894\n",
      "23/05/17 18:48:36 WARN KafkaDataConsumer: KafkaDataConsumer is not running in UninterruptibleThread. It may hang when KafkaDataConsumer's methods are interrupted because of KAFKA-1894\n"
     ]
    },
    {
     "name": "stderr",
     "output_type": "stream",
     "text": [
      "4183823343:>                                                        (0 + 1) / 1]\n",
      "150892286\n",
      "201326846\n",
      "419351294\n",
      "419173630\n",
      "                                                                                \r"
     ]
    },
    {
     "name": "stdout",
     "output_type": "stream",
     "text": [
      "-------------------------------------------\n",
      "Batch: 193\n",
      "-------------------------------------------\n",
      "+-----------+------+-------------+---+-------------------------+-------------+-----+------------+\n",
      "|topic      |bus_id|can_id       |dlc|data                     |timestamp    |value|message_name|\n",
      "+-----------+------+-------------+---+-------------------------+-------------+-----+------------+\n",
      "|canbus_test|bus_37|[18 F0 01 0B]|8  |[00 00 F3 FF FF 01 FF F7]|1684318619188|null |EBC1        |\n",
      "|canbus_test|bus_34|[08 FE 6E 0B]|8  |[00 00 00 00 00 00 00 00]|1684317970260|null |HRW         |\n",
      "|canbus_test|bus_35|[0C 00 00 0B]|8  |[30 FF FF FA FF FF FF 47]|1684318840506|null |null        |\n",
      "|canbus_test|bus_36|[18 FE CA 2F]|8  |[F3 FF 00 00 00 00 FF FF]|1684318142620|null |DM1         |\n",
      "|canbus_test|bus_33|[18 FC 14 21]|8  |[FF FF 00 00 71 02 FF 0D]|1684317359354|null |null        |\n",
      "+-----------+------+-------------+---+-------------------------+-------------+-----+------------+\n",
      "\n",
      "23/05/17 18:48:37 WARN KafkaDataConsumer: KafkaDataConsumer is not running in UninterruptibleThread. It may hang when KafkaDataConsumer's methods are interrupted because of KAFKA-1894\n",
      "23/05/17 18:48:37 WARN KafkaDataConsumer: KafkaDataConsumer is not running in UninterruptibleThread. It may hang when KafkaDataConsumer's methods are interrupted because of KAFKA-1894\n",
      "23/05/17 18:48:37 WARN KafkaDataConsumer: KafkaDataConsumer is not running in UninterruptibleThread. It may hang when KafkaDataConsumer's methods are interrupted because of KAFKA-1894\n",
      "23/05/17 18:48:37 WARN KafkaDataConsumer: KafkaDataConsumer is not running in UninterruptibleThread. It may hang when KafkaDataConsumer's methods are interrupted because of KAFKA-1894\n",
      "23/05/17 18:48:37 WARN KafkaDataConsumer: KafkaDataConsumer is not running in UninterruptibleThread. It may hang when KafkaDataConsumer's methods are interrupted because of KAFKA-1894\n"
     ]
    },
    {
     "name": "stderr",
     "output_type": "stream",
     "text": [
      "4193512944:>                                                        (0 + 1) / 1]\n",
      "419343870\n",
      "419351294\n",
      "418382334\n",
      "418382334\n",
      "                                                                                \r"
     ]
    },
    {
     "name": "stdout",
     "output_type": "stream",
     "text": [
      "-------------------------------------------\n",
      "Batch: 194\n",
      "-------------------------------------------\n",
      "+-----------+------+-------------+---+-------------------------+-------------+-----+------------+\n",
      "|topic      |bus_id|can_id       |dlc|data                     |timestamp    |value|message_name|\n",
      "+-----------+------+-------------+---+-------------------------+-------------+-----+------------+\n",
      "|canbus_test|bus_34|[18 FE CA 2F]|8  |[F3 FF 00 00 00 00 FF FF]|1684317971261|null |DM1         |\n",
      "|canbus_test|bus_37|[18 FE AD 0B]|8  |[00 00 00 00 FE FE FF FF]|1684318620211|null |EBC3        |\n",
      "|canbus_test|bus_35|[18 FE CA 2F]|8  |[F3 FF 00 00 00 00 FF FF]|1684318841504|null |DM1         |\n",
      "|canbus_test|bus_33|[18 F0 01 0B]|8  |[00 00 F3 FF FF 01 FF F7]|1684317360357|null |EBC1        |\n",
      "|canbus_test|bus_36|[18 F0 01 0B]|8  |[00 00 F3 FF FF 01 FF F7]|1684318143635|null |EBC1        |\n",
      "+-----------+------+-------------+---+-------------------------+-------------+-----+------------+\n",
      "\n",
      "23/05/17 18:48:38 WARN KafkaDataConsumer: KafkaDataConsumer is not running in UninterruptibleThread. It may hang when KafkaDataConsumer's methods are interrupted because of KAFKA-1894\n",
      "23/05/17 18:48:38 WARN KafkaDataConsumer: KafkaDataConsumer is not running in UninterruptibleThread. It may hang when KafkaDataConsumer's methods are interrupted because of KAFKA-1894\n",
      "23/05/17 18:48:38 WARN KafkaDataConsumer: KafkaDataConsumer is not running in UninterruptibleThread. It may hang when KafkaDataConsumer's methods are interrupted because of KAFKA-1894\n",
      "23/05/17 18:48:38 WARN KafkaDataConsumer: KafkaDataConsumer is not running in UninterruptibleThread. It may hang when KafkaDataConsumer's methods are interrupted because of KAFKA-1894\n",
      "23/05/17 18:48:38 WARN KafkaDataConsumer: KafkaDataConsumer is not running in UninterruptibleThread. It may hang when KafkaDataConsumer's methods are interrupted because of KAFKA-1894\n"
     ]
    },
    {
     "name": "stderr",
     "output_type": "stream",
     "text": [
      "\r",
      "[Stage 195:>                                                        (0 + 1) / 1]\r",
      "419172606\n",
      "419351294\n",
      "418583806\n",
      "418382334\n",
      "419348478\n",
      "\r",
      "                                                                                \r"
     ]
    },
    {
     "name": "stdout",
     "output_type": "stream",
     "text": [
      "-------------------------------------------\n",
      "Batch: 195\n",
      "-------------------------------------------\n",
      "+-----------+------+-------------+---+-------------------------+-------------+-----+------------+\n",
      "|topic      |bus_id|can_id       |dlc|data                     |timestamp    |value|message_name|\n",
      "+-----------+------+-------------+---+-------------------------+-------------+-----+------------+\n",
      "|canbus_test|bus_37|[18 FC 10 F4]|8  |[FF FF 56 26 44 44 00 00]|1684318621228|null |null        |\n",
      "|canbus_test|bus_34|[18 FE CA 2F]|8  |[F3 FF 00 00 00 00 FF FF]|1684317972268|null |DM1         |\n",
      "|canbus_test|bus_35|[18 F3 14 00]|8  |[5B 00 C7 0C C7 0C C6 0C]|1684318842503|null |null        |\n",
      "|canbus_test|bus_33|[18 F0 01 0B]|8  |[00 00 F3 FF FF 01 FF F7]|1684317361366|null |EBC1        |\n",
      "|canbus_test|bus_36|[18 FE BF 0B]|8  |[00 00 7D 7D 7D 7D FF FF]|1684318144644|null |EBC2        |\n",
      "+-----------+------+-------------+---+-------------------------+-------------+-----+------------+\n",
      "\n",
      "23/05/17 18:48:39 WARN KafkaDataConsumer: KafkaDataConsumer is not running in UninterruptibleThread. It may hang when KafkaDataConsumer's methods are interrupted because of KAFKA-1894\n",
      "23/05/17 18:48:39 WARN KafkaDataConsumer: KafkaDataConsumer is not running in UninterruptibleThread. It may hang when KafkaDataConsumer's methods are interrupted because of KAFKA-1894\n",
      "23/05/17 18:48:39 WARN KafkaDataConsumer: KafkaDataConsumer is not running in UninterruptibleThread. It may hang when KafkaDataConsumer's methods are interrupted because of KAFKA-1894\n",
      "23/05/17 18:48:39 WARN KafkaDataConsumer: KafkaDataConsumer is not running in UninterruptibleThread. It may hang when KafkaDataConsumer's methods are interrupted because of KAFKA-1894\n",
      "23/05/17 18:48:39 WARN KafkaDataConsumer: KafkaDataConsumer is not running in UninterruptibleThread. It may hang when KafkaDataConsumer's methods are interrupted because of KAFKA-1894\n"
     ]
    },
    {
     "name": "stderr",
     "output_type": "stream",
     "text": [
      "\r",
      "[Stage 196:>                                                        (0 + 1) / 1]\r",
      "419351294\n",
      "419351294\n",
      "419348478\n",
      "419351294\n",
      "150892286\n",
      "\r",
      "                                                                                \r"
     ]
    },
    {
     "name": "stdout",
     "output_type": "stream",
     "text": [
      "-------------------------------------------\n",
      "Batch: 196\n",
      "-------------------------------------------\n",
      "+-----------+------+-------------+---+-------------------------+-------------+-----+------------+\n",
      "|topic      |bus_id|can_id       |dlc|data                     |timestamp    |value|message_name|\n",
      "+-----------+------+-------------+---+-------------------------+-------------+-----+------------+\n",
      "|canbus_test|bus_34|[18 FE CA 2F]|8  |[F3 FF 00 00 00 00 FF FF]|1684317973267|null |DM1         |\n",
      "|canbus_test|bus_37|[18 FE CA 2F]|8  |[F3 FF 00 00 00 00 FF FF]|1684318622248|null |DM1         |\n",
      "|canbus_test|bus_35|[18 FE BF 0B]|8  |[00 00 7D 7D 7D 7D FF FF]|1684318843492|null |EBC2        |\n",
      "|canbus_test|bus_33|[18 FE CA 2F]|8  |[F3 FF 00 00 00 00 FF FF]|1684317362382|null |DM1         |\n",
      "|canbus_test|bus_36|[08 FE 6E 0B]|8  |[00 00 00 00 00 00 00 00]|1684318145661|null |HRW         |\n",
      "+-----------+------+-------------+---+-------------------------+-------------+-----+------------+\n",
      "\n",
      "23/05/17 18:48:40 WARN KafkaDataConsumer: KafkaDataConsumer is not running in UninterruptibleThread. It may hang when KafkaDataConsumer's methods are interrupted because of KAFKA-1894\n",
      "23/05/17 18:48:40 WARN KafkaDataConsumer: KafkaDataConsumer is not running in UninterruptibleThread. It may hang when KafkaDataConsumer's methods are interrupted because of KAFKA-1894\n",
      "23/05/17 18:48:40 WARN KafkaDataConsumer: KafkaDataConsumer is not running in UninterruptibleThread. It may hang when KafkaDataConsumer's methods are interrupted because of KAFKA-1894\n",
      "23/05/17 18:48:40 WARN KafkaDataConsumer: KafkaDataConsumer is not running in UninterruptibleThread. It may hang when KafkaDataConsumer's methods are interrupted because of KAFKA-1894\n",
      "23/05/17 18:48:40 WARN KafkaDataConsumer: KafkaDataConsumer is not running in UninterruptibleThread. It may hang when KafkaDataConsumer's methods are interrupted because of KAFKA-1894\n"
     ]
    },
    {
     "name": "stderr",
     "output_type": "stream",
     "text": [
      "4191726067:>                                                        (0 + 1) / 1]\n",
      "418583294\n",
      "419348478\n",
      "419348478\n",
      "150892286\n",
      "                                                                                \r"
     ]
    },
    {
     "name": "stdout",
     "output_type": "stream",
     "text": [
      "-------------------------------------------\n",
      "Batch: 197\n",
      "-------------------------------------------\n",
      "+-----------+------+-------------+---+-------------------------+-------------+-----+------------+\n",
      "|topic      |bus_id|can_id       |dlc|data                     |timestamp    |value|message_name|\n",
      "+-----------+------+-------------+---+-------------------------+-------------+-----+------------+\n",
      "|canbus_test|bus_34|[18 FC 10 F4]|8  |[FF FF 5B 26 44 44 00 00]|1684317974266|null |null        |\n",
      "|canbus_test|bus_37|[18 F3 12 00]|8  |[4B 4B FF 4B FF FF FF 9F]|1684318623260|null |null        |\n",
      "|canbus_test|bus_35|[18 FE BF 0B]|8  |[00 00 7D 7D 7D 7D FF FF]|1684318844527|null |EBC2        |\n",
      "|canbus_test|bus_36|[18 FE BF 0B]|8  |[00 00 7D 7D 7D 7D FF FF]|1684318146670|null |EBC2        |\n",
      "|canbus_test|bus_33|[08 FE 6E 0B]|8  |[00 00 00 00 00 00 00 00]|1684317363399|null |HRW         |\n",
      "+-----------+------+-------------+---+-------------------------+-------------+-----+------------+\n",
      "\n",
      "23/05/17 18:48:41 WARN KafkaDataConsumer: KafkaDataConsumer is not running in UninterruptibleThread. It may hang when KafkaDataConsumer's methods are interrupted because of KAFKA-1894\n",
      "23/05/17 18:48:41 WARN KafkaDataConsumer: KafkaDataConsumer is not running in UninterruptibleThread. It may hang when KafkaDataConsumer's methods are interrupted because of KAFKA-1894\n",
      "23/05/17 18:48:41 WARN KafkaDataConsumer: KafkaDataConsumer is not running in UninterruptibleThread. It may hang when KafkaDataConsumer's methods are interrupted because of KAFKA-1894\n",
      "23/05/17 18:48:41 WARN KafkaDataConsumer: KafkaDataConsumer is not running in UninterruptibleThread. It may hang when KafkaDataConsumer's methods are interrupted because of KAFKA-1894\n",
      "23/05/17 18:48:41 WARN KafkaDataConsumer: KafkaDataConsumer is not running in UninterruptibleThread. It may hang when KafkaDataConsumer's methods are interrupted because of KAFKA-1894\n"
     ]
    },
    {
     "name": "stderr",
     "output_type": "stream",
     "text": [
      "4193512948:>                                                        (0 + 1) / 1]\n",
      "419348478\n",
      "419174142\n",
      "418382334\n",
      "419351294\n",
      "                                                                                \r"
     ]
    },
    {
     "name": "stdout",
     "output_type": "stream",
     "text": [
      "-------------------------------------------\n",
      "Batch: 198\n",
      "-------------------------------------------\n",
      "+-----------+------+-------------+---+-------------------------+-------------+-----+------------+\n",
      "|topic      |bus_id|can_id       |dlc|data                     |timestamp    |value|message_name|\n",
      "+-----------+------+-------------+---+-------------------------+-------------+-----+------------+\n",
      "|canbus_test|bus_34|[18 FE CA 2F]|8  |[F3 FF 00 00 00 00 FF FF]|1684317975266|null |DM1         |\n",
      "|canbus_test|bus_37|[18 FE BF 0B]|8  |[00 00 7D 7D 7D 7D FF FF]|1684318624271|null |EBC2        |\n",
      "|canbus_test|bus_35|[18 FC 16 21]|8  |[03 C7 00 00 72 02 FF 41]|1684318845526|null |null        |\n",
      "|canbus_test|bus_33|[18 F0 01 0B]|8  |[00 00 F3 FF FF 01 FF F7]|1684317364403|null |EBC1        |\n",
      "|canbus_test|bus_36|[18 FE CA 2F]|8  |[F3 FF 00 00 00 00 FF FF]|1684318147678|null |DM1         |\n",
      "+-----------+------+-------------+---+-------------------------+-------------+-----+------------+\n",
      "\n",
      "23/05/17 18:48:42 WARN KafkaDataConsumer: KafkaDataConsumer is not running in UninterruptibleThread. It may hang when KafkaDataConsumer's methods are interrupted because of KAFKA-1894\n",
      "23/05/17 18:48:42 WARN KafkaDataConsumer: KafkaDataConsumer is not running in UninterruptibleThread. It may hang when KafkaDataConsumer's methods are interrupted because of KAFKA-1894\n",
      "23/05/17 18:48:42 WARN KafkaDataConsumer: KafkaDataConsumer is not running in UninterruptibleThread. It may hang when KafkaDataConsumer's methods are interrupted because of KAFKA-1894\n",
      "23/05/17 18:48:42 WARN KafkaDataConsumer: KafkaDataConsumer is not running in UninterruptibleThread. It may hang when KafkaDataConsumer's methods are interrupted because of KAFKA-1894\n",
      "23/05/17 18:48:42 WARN KafkaDataConsumer: KafkaDataConsumer is not running in UninterruptibleThread. It may hang when KafkaDataConsumer's methods are interrupted because of KAFKA-1894\n"
     ]
    },
    {
     "name": "stderr",
     "output_type": "stream",
     "text": [
      "4193512949:>                                                        (0 + 1) / 1]\n",
      "419351294\n",
      "419348478\n",
      "419322366\n",
      "419174398\n",
      "                                                                                \r"
     ]
    },
    {
     "name": "stdout",
     "output_type": "stream",
     "text": [
      "-------------------------------------------\n",
      "Batch: 199\n",
      "-------------------------------------------\n",
      "+-----------+------+-------------+---+-------------------------+-------------+-----+------------+\n",
      "|topic      |bus_id|can_id       |dlc|data                     |timestamp    |value|message_name|\n",
      "+-----------+------+-------------+---+-------------------------+-------------+-----+------------+\n",
      "|canbus_test|bus_37|[18 FE CA 2F]|8  |[F3 FF 00 00 00 00 FF FF]|1684318625279|null |DM1         |\n",
      "|canbus_test|bus_34|[18 FE CA 2F]|8  |[F3 FF 00 00 00 00 FF FF]|1684317976270|null |DM1         |\n",
      "|canbus_test|bus_35|[18 FE BF 0B]|8  |[00 00 7D 7D 7D 7D FF FF]|1684318846526|null |EBC2        |\n",
      "|canbus_test|bus_33|[18 FE 59 2F]|8  |[DE 7C E4 7C 0D 7D DA 7C]|1684317365422|null |ASC3        |\n",
      "|canbus_test|bus_36|[18 FC 17 21]|8  |[F8 2A 20 4E FF FF FE EE]|1684318148678|null |null        |\n",
      "+-----------+------+-------------+---+-------------------------+-------------+-----+------------+\n",
      "\n",
      "23/05/17 18:48:43 WARN KafkaDataConsumer: KafkaDataConsumer is not running in UninterruptibleThread. It may hang when KafkaDataConsumer's methods are interrupted because of KAFKA-1894\n",
      "23/05/17 18:48:43 WARN KafkaDataConsumer: KafkaDataConsumer is not running in UninterruptibleThread. It may hang when KafkaDataConsumer's methods are interrupted because of KAFKA-1894\n",
      "23/05/17 18:48:43 WARN KafkaDataConsumer: KafkaDataConsumer is not running in UninterruptibleThread. It may hang when KafkaDataConsumer's methods are interrupted because of KAFKA-1894\n",
      "23/05/17 18:48:43 WARN KafkaDataConsumer: KafkaDataConsumer is not running in UninterruptibleThread. It may hang when KafkaDataConsumer's methods are interrupted because of KAFKA-1894\n",
      "23/05/17 18:48:43 WARN KafkaDataConsumer: KafkaDataConsumer is not running in UninterruptibleThread. It may hang when KafkaDataConsumer's methods are interrupted because of KAFKA-1894\n"
     ]
    },
    {
     "name": "stderr",
     "output_type": "stream",
     "text": [
      "4193484780:>                                                        (0 + 1) / 1]\n",
      "419170558\n",
      "217055998\n",
      "418382334\n",
      "217055998\n",
      "                                                                                \r"
     ]
    },
    {
     "name": "stdout",
     "output_type": "stream",
     "text": [
      "-------------------------------------------\n",
      "Batch: 200\n",
      "-------------------------------------------\n",
      "+-----------+------+-------------+---+-------------------------+-------------+-----+------------+\n",
      "|topic      |bus_id|can_id       |dlc|data                     |timestamp    |value|message_name|\n",
      "+-----------+------+-------------+---+-------------------------+-------------+-----+------------+\n",
      "|canbus_test|bus_37|[18 FE BF 0B]|8  |[00 00 7D 7D 7D 7D FF FF]|1684318626300|null |EBC2        |\n",
      "|canbus_test|bus_34|[18 FC 08 F4]|8  |[73 02 5B 27 64 42 18 C8]|1684317977281|null |null        |\n",
      "|canbus_test|bus_35|[0C F0 02 03]|8  |[CD FF FE FF FF FF FF FF]|1684318847529|null |ETC1        |\n",
      "|canbus_test|bus_33|[18 F0 01 0B]|8  |[00 00 F3 FF FF 01 FF F7]|1684317366428|null |EBC1        |\n",
      "|canbus_test|bus_36|[0C F0 02 03]|8  |[CD FF FE FF FF FF FF FF]|1684318149675|null |ETC1        |\n",
      "+-----------+------+-------------+---+-------------------------+-------------+-----+------------+\n",
      "\n",
      "23/05/17 18:48:44 WARN KafkaDataConsumer: KafkaDataConsumer is not running in UninterruptibleThread. It may hang when KafkaDataConsumer's methods are interrupted because of KAFKA-1894\n",
      "23/05/17 18:48:44 WARN KafkaDataConsumer: KafkaDataConsumer is not running in UninterruptibleThread. It may hang when KafkaDataConsumer's methods are interrupted because of KAFKA-1894\n",
      "23/05/17 18:48:44 WARN KafkaDataConsumer: KafkaDataConsumer is not running in UninterruptibleThread. It may hang when KafkaDataConsumer's methods are interrupted because of KAFKA-1894\n",
      "23/05/17 18:48:44 WARN KafkaDataConsumer: KafkaDataConsumer is not running in UninterruptibleThread. It may hang when KafkaDataConsumer's methods are interrupted because of KAFKA-1894\n",
      "23/05/17 18:48:44 WARN KafkaDataConsumer: KafkaDataConsumer is not running in UninterruptibleThread. It may hang when KafkaDataConsumer's methods are interrupted because of KAFKA-1894\n"
     ]
    },
    {
     "name": "stderr",
     "output_type": "stream",
     "text": [
      "4193512941:>                                                        (0 + 1) / 1]\n",
      "418382334\n",
      "418382334\n",
      "217055998\n",
      "418382334\n",
      "                                                                                \r"
     ]
    },
    {
     "name": "stdout",
     "output_type": "stream",
     "text": [
      "-------------------------------------------\n",
      "Batch: 201\n",
      "-------------------------------------------\n",
      "+-----------+------+-------------+---+-------------------------+-------------+-----+------------+\n",
      "|topic      |bus_id|can_id       |dlc|data                     |timestamp    |value|message_name|\n",
      "+-----------+------+-------------+---+-------------------------+-------------+-----+------------+\n",
      "|canbus_test|bus_37|[18 FE CA 2F]|8  |[F3 FF 00 00 00 00 FF FF]|1684318627339|null |DM1         |\n",
      "|canbus_test|bus_34|[18 F0 01 0B]|8  |[00 00 F3 FF FF 01 FF F7]|1684317978288|null |EBC1        |\n",
      "|canbus_test|bus_35|[18 F0 01 0B]|8  |[00 00 F3 FF FF 01 FF F7]|1684318848566|null |EBC1        |\n",
      "|canbus_test|bus_36|[0C F0 02 03]|8  |[CD FF FE FF FF FF FF FF]|1684318150675|null |ETC1        |\n",
      "|canbus_test|bus_33|[18 F0 01 17]|8  |[FF FF FF FF FF FF FF F7]|1684317367439|null |EBC1        |\n",
      "+-----------+------+-------------+---+-------------------------+-------------+-----+------------+\n",
      "\n",
      "23/05/17 18:48:45 WARN KafkaDataConsumer: KafkaDataConsumer is not running in UninterruptibleThread. It may hang when KafkaDataConsumer's methods are interrupted because of KAFKA-1894\n",
      "23/05/17 18:48:45 WARN KafkaDataConsumer: KafkaDataConsumer is not running in UninterruptibleThread. It may hang when KafkaDataConsumer's methods are interrupted because of KAFKA-1894\n",
      "23/05/17 18:48:45 WARN KafkaDataConsumer: KafkaDataConsumer is not running in UninterruptibleThread. It may hang when KafkaDataConsumer's methods are interrupted because of KAFKA-1894\n",
      "23/05/17 18:48:45 WARN KafkaDataConsumer: KafkaDataConsumer is not running in UninterruptibleThread. It may hang when KafkaDataConsumer's methods are interrupted because of KAFKA-1894\n",
      "23/05/17 18:48:45 WARN KafkaDataConsumer: KafkaDataConsumer is not running in UninterruptibleThread. It may hang when KafkaDataConsumer's methods are interrupted because of KAFKA-1894\n"
     ]
    },
    {
     "name": "stderr",
     "output_type": "stream",
     "text": [
      "4191703022:>                                                        (0 + 1) / 1]\n",
      "419170814\n",
      "418382334\n",
      "419173118\n",
      "419373310\n",
      "                                                                                \r"
     ]
    },
    {
     "name": "stdout",
     "output_type": "stream",
     "text": [
      "-------------------------------------------\n",
      "Batch: 202\n",
      "-------------------------------------------\n",
      "+-----------+------+-------------+---+-------------------------+-------------+-----+------------+\n",
      "|topic      |bus_id|can_id       |dlc|data                     |timestamp    |value|message_name|\n",
      "+-----------+------+-------------+---+-------------------------+-------------+-----+------------+\n",
      "|canbus_test|bus_34|[18 FC 07 F4]|8  |[CC 09 59 07 8B 02 61 5B]|1684317979291|null |null        |\n",
      "|canbus_test|bus_37|[18 FC 09 F4]|8  |[2D 00 00 00 96 96 FE 27]|1684318628347|null |null        |\n",
      "|canbus_test|bus_35|[18 F0 01 0B]|8  |[00 00 F3 FF FF 01 FF F7]|1684318850616|null |EBC1        |\n",
      "|canbus_test|bus_33|[18 FC 12 21]|8  |[CD DC 3C FF FF FF FF 98]|1684317368449|null |null        |\n",
      "|canbus_test|bus_36|[18 FF 20 EF]|8  |[F0 7D 00 00 7D EF FF 7D]|1684318151668|null |null        |\n",
      "+-----------+------+-------------+---+-------------------------+-------------+-----+------------+\n",
      "\n",
      "23/05/17 18:48:46 WARN KafkaDataConsumer: KafkaDataConsumer is not running in UninterruptibleThread. It may hang when KafkaDataConsumer's methods are interrupted because of KAFKA-1894\n",
      "23/05/17 18:48:46 WARN KafkaDataConsumer: KafkaDataConsumer is not running in UninterruptibleThread. It may hang when KafkaDataConsumer's methods are interrupted because of KAFKA-1894\n",
      "23/05/17 18:48:46 WARN KafkaDataConsumer: KafkaDataConsumer is not running in UninterruptibleThread. It may hang when KafkaDataConsumer's methods are interrupted because of KAFKA-1894\n",
      "23/05/17 18:48:46 WARN KafkaDataConsumer: KafkaDataConsumer is not running in UninterruptibleThread. It may hang when KafkaDataConsumer's methods are interrupted because of KAFKA-1894\n",
      "23/05/17 18:48:46 WARN KafkaDataConsumer: KafkaDataConsumer is not running in UninterruptibleThread. It may hang when KafkaDataConsumer's methods are interrupted because of KAFKA-1894\n"
     ]
    },
    {
     "name": "stderr",
     "output_type": "stream",
     "text": [
      "4193484783:>                                                        (0 + 1) / 1]\n",
      "418581758\n",
      "418382334\n",
      "419173630\n",
      "419348478\n",
      "                                                                                \r"
     ]
    },
    {
     "name": "stdout",
     "output_type": "stream",
     "text": [
      "-------------------------------------------\n",
      "Batch: 203\n",
      "-------------------------------------------\n",
      "+-----------+------+-------------+---+-------------------------+-------------+-----+------------+\n",
      "|topic      |bus_id|can_id       |dlc|data                     |timestamp    |value|message_name|\n",
      "+-----------+------+-------------+---+-------------------------+-------------+-----+------------+\n",
      "|canbus_test|bus_34|[18 FE BF 0B]|8  |[00 00 7D 7D 7D 7D FF FF]|1684317981308|null |EBC2        |\n",
      "|canbus_test|bus_37|[18 F3 0C 00]|8  |[F3 3F 0F FF F0 FF CC 81]|1684318629358|null |null        |\n",
      "|canbus_test|bus_35|[18 F0 01 0B]|8  |[00 00 F3 FF FF 01 FF F7]|1684318851624|null |EBC1        |\n",
      "|canbus_test|bus_33|[18 FC 14 21]|8  |[FF FF 00 00 71 02 FF 0D]|1684317369453|null |null        |\n",
      "|canbus_test|bus_36|[18 FE BF 0B]|8  |[00 00 7D 7D 7D 7D FF FF]|1684318153684|null |EBC2        |\n",
      "+-----------+------+-------------+---+-------------------------+-------------+-----+------------+\n",
      "\n",
      "23/05/17 18:48:47 WARN KafkaDataConsumer: KafkaDataConsumer is not running in UninterruptibleThread. It may hang when KafkaDataConsumer's methods are interrupted because of KAFKA-1894\n",
      "23/05/17 18:48:47 WARN KafkaDataConsumer: KafkaDataConsumer is not running in UninterruptibleThread. It may hang when KafkaDataConsumer's methods are interrupted because of KAFKA-1894\n",
      "23/05/17 18:48:47 WARN KafkaDataConsumer: KafkaDataConsumer is not running in UninterruptibleThread. It may hang when KafkaDataConsumer's methods are interrupted because of KAFKA-1894\n",
      "23/05/17 18:48:47 WARN KafkaDataConsumer: KafkaDataConsumer is not running in UninterruptibleThread. It may hang when KafkaDataConsumer's methods are interrupted because of KAFKA-1894\n",
      "23/05/17 18:48:47 WARN KafkaDataConsumer: KafkaDataConsumer is not running in UninterruptibleThread. It may hang when KafkaDataConsumer's methods are interrupted because of KAFKA-1894\n"
     ]
    },
    {
     "name": "stderr",
     "output_type": "stream",
     "text": [
      "4193512944:>                                                        (0 + 1) / 1]\n",
      "418382334\n",
      "419322366\n",
      "419351294\n",
      "215101438\n",
      "                                                                                \r"
     ]
    },
    {
     "name": "stdout",
     "output_type": "stream",
     "text": [
      "-------------------------------------------\n",
      "Batch: 204\n",
      "-------------------------------------------\n",
      "+-----------+------+-------------+---+-------------------------+-------------+-----+------------+\n",
      "|topic      |bus_id|can_id       |dlc|data                     |timestamp    |value|message_name|\n",
      "+-----------+------+-------------+---+-------------------------+-------------+-----+------------+\n",
      "|canbus_test|bus_37|[18 FE CA 2F]|8  |[F3 FF 00 00 00 00 FF FF]|1684318630373|null |DM1         |\n",
      "|canbus_test|bus_34|[18 F0 01 0B]|8  |[00 00 F3 FF FF 01 FF F7]|1684317982316|null |EBC1        |\n",
      "|canbus_test|bus_35|[18 FE 59 2F]|8  |[8E 7C D8 7C 07 7D FB 7C]|1684318852626|null |ASC3        |\n",
      "|canbus_test|bus_33|[18 FE CA 2F]|8  |[F3 FF 00 00 00 00 FF FF]|1684317370452|null |DM1         |\n",
      "|canbus_test|bus_36|[0C D2 2F 27]|8  |[00 00 A0 00 00 00 00 00]|1684318154706|null |null        |\n",
      "+-----------+------+-------------+---+-------------------------+-------------+-----+------------+\n",
      "\n",
      "23/05/17 18:48:48 WARN KafkaDataConsumer: KafkaDataConsumer is not running in UninterruptibleThread. It may hang when KafkaDataConsumer's methods are interrupted because of KAFKA-1894\n",
      "23/05/17 18:48:48 WARN KafkaDataConsumer: KafkaDataConsumer is not running in UninterruptibleThread. It may hang when KafkaDataConsumer's methods are interrupted because of KAFKA-1894\n",
      "23/05/17 18:48:48 WARN KafkaDataConsumer: KafkaDataConsumer is not running in UninterruptibleThread. It may hang when KafkaDataConsumer's methods are interrupted because of KAFKA-1894\n",
      "23/05/17 18:48:48 WARN KafkaDataConsumer: KafkaDataConsumer is not running in UninterruptibleThread. It may hang when KafkaDataConsumer's methods are interrupted because of KAFKA-1894\n",
      "23/05/17 18:48:48 WARN KafkaDataConsumer: KafkaDataConsumer is not running in UninterruptibleThread. It may hang when KafkaDataConsumer's methods are interrupted because of KAFKA-1894\n"
     ]
    },
    {
     "name": "stderr",
     "output_type": "stream",
     "text": [
      "\r",
      "[Stage 205:>                                                        (0 + 1) / 1]\r",
      "419351294\n",
      "419171070\n",
      "418382334\n",
      "419174142\n",
      "418382334\n",
      "\r",
      "                                                                                \r"
     ]
    },
    {
     "name": "stdout",
     "output_type": "stream",
     "text": [
      "-------------------------------------------\n",
      "Batch: 205\n",
      "-------------------------------------------\n",
      "+-----------+------+-------------+---+-------------------------+-------------+-----+------------+\n",
      "|topic      |bus_id|can_id       |dlc|data                     |timestamp    |value|message_name|\n",
      "+-----------+------+-------------+---+-------------------------+-------------+-----+------------+\n",
      "|canbus_test|bus_37|[18 FE CA 2F]|8  |[F3 FF 00 00 00 00 FF FF]|1684318631399|null |DM1         |\n",
      "|canbus_test|bus_34|[18 FC 0A F4]|8  |[FF 00 47 01 C1 00 47 01]|1684317983314|null |null        |\n",
      "|canbus_test|bus_33|[18 F0 01 0B]|8  |[00 00 F3 FF FF 01 FF F7]|1684317371454|null |EBC1        |\n",
      "|canbus_test|bus_35|[18 FC 16 21]|8  |[03 C7 00 00 72 02 FF 41]|1684318853626|null |null        |\n",
      "|canbus_test|bus_36|[18 F0 01 0B]|8  |[00 00 F3 FF FF 01 FF F7]|1684318155719|null |EBC1        |\n",
      "+-----------+------+-------------+---+-------------------------+-------------+-----+------------+\n",
      "\n",
      "23/05/17 18:48:49 WARN KafkaDataConsumer: KafkaDataConsumer is not running in UninterruptibleThread. It may hang when KafkaDataConsumer's methods are interrupted because of KAFKA-1894\n",
      "23/05/17 18:48:49 WARN KafkaDataConsumer: KafkaDataConsumer is not running in UninterruptibleThread. It may hang when KafkaDataConsumer's methods are interrupted because of KAFKA-1894\n",
      "23/05/17 18:48:49 WARN KafkaDataConsumer: KafkaDataConsumer is not running in UninterruptibleThread. It may hang when KafkaDataConsumer's methods are interrupted because of KAFKA-1894\n",
      "23/05/17 18:48:49 WARN KafkaDataConsumer: KafkaDataConsumer is not running in UninterruptibleThread. It may hang when KafkaDataConsumer's methods are interrupted because of KAFKA-1894\n",
      "23/05/17 18:48:49 WARN KafkaDataConsumer: KafkaDataConsumer is not running in UninterruptibleThread. It may hang when KafkaDataConsumer's methods are interrupted because of KAFKA-1894\n"
     ]
    },
    {
     "name": "stderr",
     "output_type": "stream",
     "text": [
      "4193484786:>                                                        (0 + 1) / 1]\n",
      "150892286\n",
      "419173630\n",
      "419174398\n",
      "419351294\n",
      "                                                                                \r"
     ]
    },
    {
     "name": "stdout",
     "output_type": "stream",
     "text": [
      "-------------------------------------------\n",
      "Batch: 206\n",
      "-------------------------------------------\n",
      "+-----------+------+-------------+---+-------------------------+-------------+-----+------------+\n",
      "|topic      |bus_id|can_id       |dlc|data                     |timestamp    |value|message_name|\n",
      "+-----------+------+-------------+---+-------------------------+-------------+-----+------------+\n",
      "|canbus_test|bus_37|[18 FE BF 0B]|8  |[00 00 7D 7D 7D 7D FF FF]|1684318632419|null |EBC2        |\n",
      "|canbus_test|bus_34|[08 FE 6E 0B]|8  |[00 00 00 00 00 00 00 00]|1684317984320|null |HRW         |\n",
      "|canbus_test|bus_33|[18 FC 14 21]|8  |[FF FF 00 00 71 02 FF 0D]|1684317372454|null |null        |\n",
      "|canbus_test|bus_35|[18 FC 17 21]|8  |[F8 2A 20 4E FF FF FE EE]|1684318854631|null |null        |\n",
      "|canbus_test|bus_36|[18 FE CA 2F]|8  |[F3 FF 00 00 00 00 FF FF]|1684318156726|null |DM1         |\n",
      "+-----------+------+-------------+---+-------------------------+-------------+-----+------------+\n",
      "\n",
      "23/05/17 18:48:50 WARN KafkaDataConsumer: KafkaDataConsumer is not running in UninterruptibleThread. It may hang when KafkaDataConsumer's methods are interrupted because of KAFKA-1894\n",
      "23/05/17 18:48:50 WARN KafkaDataConsumer: KafkaDataConsumer is not running in UninterruptibleThread. It may hang when KafkaDataConsumer's methods are interrupted because of KAFKA-1894\n",
      "23/05/17 18:48:50 WARN KafkaDataConsumer: KafkaDataConsumer is not running in UninterruptibleThread. It may hang when KafkaDataConsumer's methods are interrupted because of KAFKA-1894\n",
      "23/05/17 18:48:50 WARN KafkaDataConsumer: KafkaDataConsumer is not running in UninterruptibleThread. It may hang when KafkaDataConsumer's methods are interrupted because of KAFKA-1894\n",
      "23/05/17 18:48:50 WARN KafkaDataConsumer: KafkaDataConsumer is not running in UninterruptibleThread. It may hang when KafkaDataConsumer's methods are interrupted because of KAFKA-1894\n"
     ]
    },
    {
     "name": "stderr",
     "output_type": "stream",
     "text": [
      "2170559987:>                                                        (0 + 1) / 1]\n",
      "217996030\n",
      "217055998\n",
      "418382334\n",
      "418382334\n",
      "                                                                                \r"
     ]
    },
    {
     "name": "stdout",
     "output_type": "stream",
     "text": [
      "-------------------------------------------\n",
      "Batch: 207\n",
      "-------------------------------------------\n",
      "+-----------+------+-------------+---+-------------------------+-------------+-----+------------+\n",
      "|topic      |bus_id|can_id       |dlc|data                     |timestamp    |value|message_name|\n",
      "+-----------+------+-------------+---+-------------------------+-------------+-----+------------+\n",
      "|canbus_test|bus_37|[0C F0 02 03]|8  |[CD FF FE FF FF FF FF FF]|1684318633445|null |ETC1        |\n",
      "|canbus_test|bus_34|[0C FE 5A 2F]|8  |[11 00 00 00 D3 F5 FF F0]|1684317985321|null |ASC1        |\n",
      "|canbus_test|bus_33|[0C F0 02 03]|8  |[CD FF FE FF FF FF FF FF]|1684317373456|null |ETC1        |\n",
      "|canbus_test|bus_35|[18 F0 01 0B]|8  |[00 00 F3 FF FF 01 FF F7]|1684318855633|null |EBC1        |\n",
      "|canbus_test|bus_36|[18 F0 01 0B]|8  |[00 00 F3 FF FF 01 FF F7]|1684318157725|null |EBC1        |\n",
      "+-----------+------+-------------+---+-------------------------+-------------+-----+------------+\n",
      "\n",
      "23/05/17 18:48:51 WARN KafkaDataConsumer: KafkaDataConsumer is not running in UninterruptibleThread. It may hang when KafkaDataConsumer's methods are interrupted because of KAFKA-1894\n",
      "23/05/17 18:48:51 WARN KafkaDataConsumer: KafkaDataConsumer is not running in UninterruptibleThread. It may hang when KafkaDataConsumer's methods are interrupted because of KAFKA-1894\n",
      "23/05/17 18:48:51 WARN KafkaDataConsumer: KafkaDataConsumer is not running in UninterruptibleThread. It may hang when KafkaDataConsumer's methods are interrupted because of KAFKA-1894\n",
      "23/05/17 18:48:51 WARN KafkaDataConsumer: KafkaDataConsumer is not running in UninterruptibleThread. It may hang when KafkaDataConsumer's methods are interrupted because of KAFKA-1894\n",
      "23/05/17 18:48:51 WARN KafkaDataConsumer: KafkaDataConsumer is not running in UninterruptibleThread. It may hang when KafkaDataConsumer's methods are interrupted because of KAFKA-1894\n"
     ]
    },
    {
     "name": "stderr",
     "output_type": "stream",
     "text": [
      "4193484788:>                                                        (0 + 1) / 1]\n",
      "419351294\n",
      "419351294\n",
      "419351294\n",
      "217055998\n",
      "                                                                                \r"
     ]
    },
    {
     "name": "stdout",
     "output_type": "stream",
     "text": [
      "-------------------------------------------\n",
      "Batch: 208\n",
      "-------------------------------------------\n",
      "+-----------+------+-------------+---+-------------------------+-------------+-----+------------+\n",
      "|topic      |bus_id|can_id       |dlc|data                     |timestamp    |value|message_name|\n",
      "+-----------+------+-------------+---+-------------------------+-------------+-----+------------+\n",
      "|canbus_test|bus_37|[18 FE BF 0B]|8  |[00 00 7D 7D 7D 7D FF FF]|1684318634468|null |EBC2        |\n",
      "|canbus_test|bus_33|[18 FE CA 2F]|8  |[F3 FF 00 00 00 00 FF FF]|1684317374495|null |DM1         |\n",
      "|canbus_test|bus_34|[18 FE CA 2F]|8  |[F3 FF 00 00 00 00 FF FF]|1684317986323|null |DM1         |\n",
      "|canbus_test|bus_35|[18 FE CA 2F]|8  |[F3 FF 00 00 00 00 FF FF]|1684318856644|null |DM1         |\n",
      "|canbus_test|bus_36|[0C F0 02 03]|8  |[CD FF FE FF FF FF FF FF]|1684318158725|null |ETC1        |\n",
      "+-----------+------+-------------+---+-------------------------+-------------+-----+------------+\n",
      "\n",
      "23/05/17 18:48:52 WARN KafkaDataConsumer: KafkaDataConsumer is not running in UninterruptibleThread. It may hang when KafkaDataConsumer's methods are interrupted because of KAFKA-1894\n",
      "23/05/17 18:48:52 WARN KafkaDataConsumer: KafkaDataConsumer is not running in UninterruptibleThread. It may hang when KafkaDataConsumer's methods are interrupted because of KAFKA-1894\n",
      "23/05/17 18:48:52 WARN KafkaDataConsumer: KafkaDataConsumer is not running in UninterruptibleThread. It may hang when KafkaDataConsumer's methods are interrupted because of KAFKA-1894\n",
      "23/05/17 18:48:52 WARN KafkaDataConsumer: KafkaDataConsumer is not running in UninterruptibleThread. It may hang when KafkaDataConsumer's methods are interrupted because of KAFKA-1894\n",
      "23/05/17 18:48:52 WARN KafkaDataConsumer: KafkaDataConsumer is not running in UninterruptibleThread. It may hang when KafkaDataConsumer's methods are interrupted because of KAFKA-1894\n"
     ]
    },
    {
     "name": "stderr",
     "output_type": "stream",
     "text": [
      "4193484789:>                                                        (0 + 1) / 1]\n",
      "419351294\n",
      "419348478\n",
      "418382334\n",
      "217056254\n",
      "                                                                                \r"
     ]
    },
    {
     "name": "stdout",
     "output_type": "stream",
     "text": [
      "-------------------------------------------\n",
      "Batch: 209\n",
      "-------------------------------------------\n",
      "+-----------+------+-------------+---+-------------------------+-------------+-----+------------+\n",
      "|topic      |bus_id|can_id       |dlc|data                     |timestamp    |value|message_name|\n",
      "+-----------+------+-------------+---+-------------------------+-------------+-----+------------+\n",
      "|canbus_test|bus_37|[18 FE BF 0B]|8  |[00 00 7D 7D 7D 7D FF FF]|1684318635483|null |EBC2        |\n",
      "|canbus_test|bus_33|[18 FE CA 2F]|8  |[F3 FF 00 00 00 00 FF FF]|1684317375506|null |DM1         |\n",
      "|canbus_test|bus_34|[18 FE BF 0B]|8  |[00 00 7D 7D 7D 7D FF FF]|1684317987325|null |EBC2        |\n",
      "|canbus_test|bus_36|[18 F0 01 0B]|8  |[00 00 F3 FF FF 01 FF F7]|1684318159734|null |EBC1        |\n",
      "|canbus_test|bus_35|[0C F0 03 00]|8  |[FD 00 FF FF FF FF FF FF]|1684318857660|null |EEC2        |\n",
      "+-----------+------+-------------+---+-------------------------+-------------+-----+------------+\n",
      "\n",
      "23/05/17 18:48:53 WARN KafkaDataConsumer: KafkaDataConsumer is not running in UninterruptibleThread. It may hang when KafkaDataConsumer's methods are interrupted because of KAFKA-1894\n",
      "23/05/17 18:48:53 WARN KafkaDataConsumer: KafkaDataConsumer is not running in UninterruptibleThread. It may hang when KafkaDataConsumer's methods are interrupted because of KAFKA-1894\n",
      "23/05/17 18:48:53 WARN KafkaDataConsumer: KafkaDataConsumer is not running in UninterruptibleThread. It may hang when KafkaDataConsumer's methods are interrupted because of KAFKA-1894\n",
      "23/05/17 18:48:53 WARN KafkaDataConsumer: KafkaDataConsumer is not running in UninterruptibleThread. It may hang when KafkaDataConsumer's methods are interrupted because of KAFKA-1894\n",
      "23/05/17 18:48:53 WARN KafkaDataConsumer: KafkaDataConsumer is not running in UninterruptibleThread. It may hang when KafkaDataConsumer's methods are interrupted because of KAFKA-1894\n"
     ]
    },
    {
     "name": "stderr",
     "output_type": "stream",
     "text": [
      "\r",
      "[Stage 210:>                                                        (0 + 1) / 1]\r",
      "419351294\n",
      "419169534\n",
      "418382334\n",
      "419348478\n",
      "419351294\n",
      "\r",
      "                                                                                \r"
     ]
    },
    {
     "name": "stdout",
     "output_type": "stream",
     "text": [
      "-------------------------------------------\n",
      "Batch: 210\n",
      "-------------------------------------------\n",
      "+-----------+------+-------------+---+-------------------------+-------------+-----+------------+\n",
      "|topic      |bus_id|can_id       |dlc|data                     |timestamp    |value|message_name|\n",
      "+-----------+------+-------------+---+-------------------------+-------------+-----+------------+\n",
      "|canbus_test|bus_33|[18 FE CA 2F]|8  |[F3 FF 00 00 00 00 FF FF]|1684317376515|null |DM1         |\n",
      "|canbus_test|bus_35|[18 FC 04 F4]|8  |[84 01 05 3A 40 41 D5 62]|1684318858672|null |null        |\n",
      "|canbus_test|bus_36|[18 F0 01 0B]|8  |[00 00 F3 FF FF 01 FF F7]|1684318160737|null |EBC1        |\n",
      "|canbus_test|bus_37|[18 FE BF 0B]|8  |[00 00 7D 7D 7D 7D FF FF]|1684318636501|null |EBC2        |\n",
      "|canbus_test|bus_34|[18 FE CA 2F]|8  |[F3 FF 00 00 00 00 FF FF]|1684317988327|null |DM1         |\n",
      "+-----------+------+-------------+---+-------------------------+-------------+-----+------------+\n",
      "\n",
      "23/05/17 18:48:54 WARN KafkaDataConsumer: KafkaDataConsumer is not running in UninterruptibleThread. It may hang when KafkaDataConsumer's methods are interrupted because of KAFKA-1894\n",
      "23/05/17 18:48:54 WARN KafkaDataConsumer: KafkaDataConsumer is not running in UninterruptibleThread. It may hang when KafkaDataConsumer's methods are interrupted because of KAFKA-1894\n",
      "23/05/17 18:48:54 WARN KafkaDataConsumer: KafkaDataConsumer is not running in UninterruptibleThread. It may hang when KafkaDataConsumer's methods are interrupted because of KAFKA-1894\n",
      "23/05/17 18:48:54 WARN KafkaDataConsumer: KafkaDataConsumer is not running in UninterruptibleThread. It may hang when KafkaDataConsumer's methods are interrupted because of KAFKA-1894\n",
      "23/05/17 18:48:54 WARN KafkaDataConsumer: KafkaDataConsumer is not running in UninterruptibleThread. It may hang when KafkaDataConsumer's methods are interrupted because of KAFKA-1894\n"
     ]
    },
    {
     "name": "stderr",
     "output_type": "stream",
     "text": [
      "\r",
      "[Stage 211:>                                                        (0 + 1) / 1]\r",
      "419320318\n",
      "419348478\n",
      "217056254\n",
      "418583806\n",
      "418382334\n",
      "\r",
      "                                                                                \r"
     ]
    },
    {
     "name": "stdout",
     "output_type": "stream",
     "text": [
      "-------------------------------------------\n",
      "Batch: 211\n",
      "-------------------------------------------\n",
      "+-----------+------+-------------+---+-------------------------+-------------+-----+------------+\n",
      "|topic      |bus_id|can_id       |dlc|data                     |timestamp    |value|message_name|\n",
      "+-----------+------+-------------+---+-------------------------+-------------+-----+------------+\n",
      "|canbus_test|bus_37|[18 FE 51 27]|8  |[7C FF FF FF FF FF FF FF]|1684318637508|null |ACC2        |\n",
      "|canbus_test|bus_35|[18 FE BF 0B]|8  |[00 00 7D 7D 7D 7D FF FF]|1684318859682|null |EBC2        |\n",
      "|canbus_test|bus_36|[0C F0 03 00]|8  |[FD 00 FF FF FF FF FF FF]|1684318161746|null |EEC2        |\n",
      "|canbus_test|bus_33|[18 F3 14 00]|8  |[2E 00 C8 0C C8 0C C8 0C]|1684317377517|null |null        |\n",
      "|canbus_test|bus_34|[18 F0 01 0B]|8  |[00 00 F3 FF FF 01 FF F7]|1684317989327|null |EBC1        |\n",
      "+-----------+------+-------------+---+-------------------------+-------------+-----+------------+\n",
      "\n",
      "23/05/17 18:48:55 WARN KafkaDataConsumer: KafkaDataConsumer is not running in UninterruptibleThread. It may hang when KafkaDataConsumer's methods are interrupted because of KAFKA-1894\n",
      "23/05/17 18:48:55 WARN KafkaDataConsumer: KafkaDataConsumer is not running in UninterruptibleThread. It may hang when KafkaDataConsumer's methods are interrupted because of KAFKA-1894\n",
      "23/05/17 18:48:55 WARN KafkaDataConsumer: KafkaDataConsumer is not running in UninterruptibleThread. It may hang when KafkaDataConsumer's methods are interrupted because of KAFKA-1894\n",
      "23/05/17 18:48:55 WARN KafkaDataConsumer: KafkaDataConsumer is not running in UninterruptibleThread. It may hang when KafkaDataConsumer's methods are interrupted because of KAFKA-1894\n",
      "23/05/17 18:48:55 WARN KafkaDataConsumer: KafkaDataConsumer is not running in UninterruptibleThread. It may hang when KafkaDataConsumer's methods are interrupted because of KAFKA-1894\n"
     ]
    },
    {
     "name": "stderr",
     "output_type": "stream",
     "text": [
      "\r",
      "[Stage 212:>                                                        (0 + 1) / 1]\r",
      "418382334\n",
      "419351294\n",
      "418382334\n",
      "217055998\n",
      "418579710\n",
      "\r",
      "                                                                                \r"
     ]
    },
    {
     "name": "stdout",
     "output_type": "stream",
     "text": [
      "-------------------------------------------\n",
      "Batch: 212\n",
      "-------------------------------------------\n",
      "+-----------+------+-------------+---+-------------------------+-------------+-----+------------+\n",
      "|topic      |bus_id|can_id       |dlc|data                     |timestamp    |value|message_name|\n",
      "+-----------+------+-------------+---+-------------------------+-------------+-----+------------+\n",
      "|canbus_test|bus_37|[18 F0 01 0B]|8  |[00 00 F3 FF FF 01 FF F7]|1684318638518|null |EBC1        |\n",
      "|canbus_test|bus_34|[18 FE CA 2F]|8  |[F3 FF 00 00 00 00 FF FF]|1684317990336|null |DM1         |\n",
      "|canbus_test|bus_35|[18 F0 01 0B]|8  |[00 00 F3 FF FF 01 FF F7]|1684318860693|null |EBC1        |\n",
      "|canbus_test|bus_33|[0C F0 02 03]|8  |[CD FF FE FF FF FF FF FF]|1684317378525|null |ETC1        |\n",
      "|canbus_test|bus_36|[18 F3 04 25]|8  |[F3 FF AA EA FF FF 0A 00]|1684318162754|null |null        |\n",
      "+-----------+------+-------------+---+-------------------------+-------------+-----+------------+\n",
      "\n",
      "23/05/17 18:48:56 WARN KafkaDataConsumer: KafkaDataConsumer is not running in UninterruptibleThread. It may hang when KafkaDataConsumer's methods are interrupted because of KAFKA-1894\n",
      "23/05/17 18:48:56 WARN KafkaDataConsumer: KafkaDataConsumer is not running in UninterruptibleThread. It may hang when KafkaDataConsumer's methods are interrupted because of KAFKA-1894\n",
      "23/05/17 18:48:56 WARN KafkaDataConsumer: KafkaDataConsumer is not running in UninterruptibleThread. It may hang when KafkaDataConsumer's methods are interrupted because of KAFKA-1894\n",
      "23/05/17 18:48:56 WARN KafkaDataConsumer: KafkaDataConsumer is not running in UninterruptibleThread. It may hang when KafkaDataConsumer's methods are interrupted because of KAFKA-1894\n",
      "23/05/17 18:48:56 WARN KafkaDataConsumer: KafkaDataConsumer is not running in UninterruptibleThread. It may hang when KafkaDataConsumer's methods are interrupted because of KAFKA-1894\n"
     ]
    },
    {
     "name": "stderr",
     "output_type": "stream",
     "text": [
      "\r",
      "[Stage 213:>                                                        (0 + 1) / 1]\r",
      "419348478\n",
      "418382334\n",
      "419351294\n",
      "418583550\n",
      "418382334\n",
      "\r",
      "                                                                                \r"
     ]
    },
    {
     "name": "stdout",
     "output_type": "stream",
     "text": [
      "-------------------------------------------\n",
      "Batch: 213\n",
      "-------------------------------------------\n",
      "+-----------+------+-------------+---+-------------------------+-------------+-----+------------+\n",
      "|topic      |bus_id|can_id       |dlc|data                     |timestamp    |value|message_name|\n",
      "+-----------+------+-------------+---+-------------------------+-------------+-----+------------+\n",
      "|canbus_test|bus_33|[18 FE BF 0B]|8  |[00 00 7D 7D 7D 7D FF FF]|1684317379535|null |EBC2        |\n",
      "|canbus_test|bus_35|[18 F0 01 0B]|8  |[00 00 F3 FF FF 01 FF F7]|1684318861709|null |EBC1        |\n",
      "|canbus_test|bus_37|[18 FE CA 2F]|8  |[F3 FF 00 00 00 00 FF FF]|1684318639536|null |DM1         |\n",
      "|canbus_test|bus_34|[18 F3 13 00]|8  |[0D 00 47 45 47 48 45 48]|1684317991349|null |null        |\n",
      "|canbus_test|bus_36|[18 F0 01 0B]|8  |[00 00 F3 FF FF 01 FF F7]|1684318163762|null |EBC1        |\n",
      "+-----------+------+-------------+---+-------------------------+-------------+-----+------------+\n",
      "\n",
      "23/05/17 18:48:57 WARN KafkaDataConsumer: KafkaDataConsumer is not running in UninterruptibleThread. It may hang when KafkaDataConsumer's methods are interrupted because of KAFKA-1894\n",
      "23/05/17 18:48:57 WARN KafkaDataConsumer: KafkaDataConsumer is not running in UninterruptibleThread. It may hang when KafkaDataConsumer's methods are interrupted because of KAFKA-1894\n",
      "23/05/17 18:48:57 WARN KafkaDataConsumer: KafkaDataConsumer is not running in UninterruptibleThread. It may hang when KafkaDataConsumer's methods are interrupted because of KAFKA-1894\n",
      "23/05/17 18:48:57 WARN KafkaDataConsumer: KafkaDataConsumer is not running in UninterruptibleThread. It may hang when KafkaDataConsumer's methods are interrupted because of KAFKA-1894\n",
      "23/05/17 18:48:57 WARN KafkaDataConsumer: KafkaDataConsumer is not running in UninterruptibleThread. It may hang when KafkaDataConsumer's methods are interrupted because of KAFKA-1894\n"
     ]
    },
    {
     "name": "stderr",
     "output_type": "stream",
     "text": [
      "\r",
      "[Stage 214:>                                                        (0 + 1) / 1]\r",
      "418382334\n",
      "419348478\n",
      "419351294\n",
      "418382334\n",
      "419170558\n",
      "\r",
      "                                                                                \r"
     ]
    },
    {
     "name": "stdout",
     "output_type": "stream",
     "text": [
      "-------------------------------------------\n",
      "Batch: 214\n",
      "-------------------------------------------\n",
      "+-----------+------+-------------+---+-------------------------+-------------+-----+------------+\n",
      "|topic      |bus_id|can_id       |dlc|data                     |timestamp    |value|message_name|\n",
      "+-----------+------+-------------+---+-------------------------+-------------+-----+------------+\n",
      "|canbus_test|bus_33|[18 F0 01 17]|8  |[FF FF FF FF FF FF FF F7]|1684317380540|null |EBC1        |\n",
      "|canbus_test|bus_34|[18 FE BF 0B]|8  |[00 00 7D 7D 7D 7D FF FF]|1684317992358|null |EBC2        |\n",
      "|canbus_test|bus_35|[18 FE CA 2F]|8  |[F3 FF 00 00 00 00 FF FF]|1684318862715|null |DM1         |\n",
      "|canbus_test|bus_36|[18 F0 01 0B]|8  |[00 00 F3 FF FF 01 FF F7]|1684318164774|null |EBC1        |\n",
      "|canbus_test|bus_37|[18 FC 08 F4]|8  |[73 02 5B 27 64 41 18 CB]|1684318640553|null |null        |\n",
      "+-----------+------+-------------+---+-------------------------+-------------+-----+------------+\n",
      "\n",
      "23/05/17 18:48:58 WARN KafkaDataConsumer: KafkaDataConsumer is not running in UninterruptibleThread. It may hang when KafkaDataConsumer's methods are interrupted because of KAFKA-1894\n",
      "23/05/17 18:48:58 WARN KafkaDataConsumer: KafkaDataConsumer is not running in UninterruptibleThread. It may hang when KafkaDataConsumer's methods are interrupted because of KAFKA-1894\n",
      "23/05/17 18:48:58 WARN KafkaDataConsumer: KafkaDataConsumer is not running in UninterruptibleThread. It may hang when KafkaDataConsumer's methods are interrupted because of KAFKA-1894\n",
      "23/05/17 18:48:58 WARN KafkaDataConsumer: KafkaDataConsumer is not running in UninterruptibleThread. It may hang when KafkaDataConsumer's methods are interrupted because of KAFKA-1894\n",
      "23/05/17 18:48:58 WARN KafkaDataConsumer: KafkaDataConsumer is not running in UninterruptibleThread. It may hang when KafkaDataConsumer's methods are interrupted because of KAFKA-1894\n"
     ]
    },
    {
     "name": "stderr",
     "output_type": "stream",
     "text": [
      "\r",
      "[Stage 215:>                                                        (0 + 1) / 1]\r",
      "418382334\n",
      "217056254\n",
      "419351294\n",
      "419351294\n",
      "215101438\n",
      "\r",
      "                                                                                \r"
     ]
    },
    {
     "name": "stdout",
     "output_type": "stream",
     "text": [
      "-------------------------------------------\n",
      "Batch: 215\n",
      "-------------------------------------------\n",
      "+-----------+------+-------------+---+-------------------------+-------------+-----+------------+\n",
      "|topic      |bus_id|can_id       |dlc|data                     |timestamp    |value|message_name|\n",
      "+-----------+------+-------------+---+-------------------------+-------------+-----+------------+\n",
      "|canbus_test|bus_37|[18 F0 01 0B]|8  |[00 00 F3 FF FF 01 FF F7]|1684318641558|null |EBC1        |\n",
      "|canbus_test|bus_36|[0C F0 03 00]|8  |[FD 00 FF FF FF FF FF FF]|1684318165796|null |EEC2        |\n",
      "|canbus_test|bus_33|[18 FE CA 2F]|8  |[F3 FF 00 00 00 00 FF FF]|1684317381575|null |DM1         |\n",
      "|canbus_test|bus_34|[18 FE CA 2F]|8  |[F3 FF 00 00 00 00 FF FF]|1684317993363|null |DM1         |\n",
      "|canbus_test|bus_35|[0C D2 2F 27]|8  |[00 00 A0 00 00 00 00 00]|1684318863720|null |null        |\n",
      "+-----------+------+-------------+---+-------------------------+-------------+-----+------------+\n",
      "\n",
      "23/05/17 18:48:59 WARN KafkaDataConsumer: KafkaDataConsumer is not running in UninterruptibleThread. It may hang when KafkaDataConsumer's methods are interrupted because of KAFKA-1894\n",
      "23/05/17 18:48:59 WARN KafkaDataConsumer: KafkaDataConsumer is not running in UninterruptibleThread. It may hang when KafkaDataConsumer's methods are interrupted because of KAFKA-1894\n",
      "23/05/17 18:48:59 WARN KafkaDataConsumer: KafkaDataConsumer is not running in UninterruptibleThread. It may hang when KafkaDataConsumer's methods are interrupted because of KAFKA-1894\n",
      "23/05/17 18:48:59 WARN KafkaDataConsumer: KafkaDataConsumer is not running in UninterruptibleThread. It may hang when KafkaDataConsumer's methods are interrupted because of KAFKA-1894\n",
      "23/05/17 18:48:59 WARN KafkaDataConsumer: KafkaDataConsumer is not running in UninterruptibleThread. It may hang when KafkaDataConsumer's methods are interrupted because of KAFKA-1894\n"
     ]
    },
    {
     "name": "stderr",
     "output_type": "stream",
     "text": [
      "\r",
      "[Stage 216:>                                                        (0 + 1) / 1]\r",
      "419373310\n",
      "419355134\n",
      "419351294\n",
      "418382334\n",
      "419355134\n",
      "\r",
      "                                                                                \r"
     ]
    },
    {
     "name": "stdout",
     "output_type": "stream",
     "text": [
      "-------------------------------------------\n",
      "Batch: 216\n",
      "-------------------------------------------\n",
      "+-----------+------+-------------+---+-------------------------+-------------+-----+------------+\n",
      "|topic      |bus_id|can_id       |dlc|data                     |timestamp    |value|message_name|\n",
      "+-----------+------+-------------+---+-------------------------+-------------+-----+------------+\n",
      "|canbus_test|bus_37|[18 FF 20 EF]|8  |[F0 7D 00 00 7D EF FF 7D]|1684318642569|null |null        |\n",
      "|canbus_test|bus_36|[18 FE D9 10]|8  |[5F FF FF FF FF FF FF FF]|1684318166809|null |AUXIO1      |\n",
      "|canbus_test|bus_33|[18 FE CA 2F]|8  |[F3 FF 00 00 00 00 FF FF]|1684317382565|null |DM1         |\n",
      "|canbus_test|bus_34|[18 F0 01 0B]|8  |[00 00 F3 FF FF 01 FF F7]|1684317994380|null |EBC1        |\n",
      "|canbus_test|bus_35|[18 FE D9 10]|8  |[5F FF FF FF FF FF FF FF]|1684318864723|null |AUXIO1      |\n",
      "+-----------+------+-------------+---+-------------------------+-------------+-----+------------+\n",
      "\n",
      "23/05/17 18:49:00 WARN KafkaDataConsumer: KafkaDataConsumer is not running in UninterruptibleThread. It may hang when KafkaDataConsumer's methods are interrupted because of KAFKA-1894\n",
      "23/05/17 18:49:00 WARN KafkaDataConsumer: KafkaDataConsumer is not running in UninterruptibleThread. It may hang when KafkaDataConsumer's methods are interrupted because of KAFKA-1894\n",
      "23/05/17 18:49:00 WARN KafkaDataConsumer: KafkaDataConsumer is not running in UninterruptibleThread. It may hang when KafkaDataConsumer's methods are interrupted because of KAFKA-1894\n",
      "23/05/17 18:49:00 WARN KafkaDataConsumer: KafkaDataConsumer is not running in UninterruptibleThread. It may hang when KafkaDataConsumer's methods are interrupted because of KAFKA-1894\n",
      "23/05/17 18:49:00 WARN KafkaDataConsumer: KafkaDataConsumer is not running in UninterruptibleThread. It may hang when KafkaDataConsumer's methods are interrupted because of KAFKA-1894\n"
     ]
    },
    {
     "name": "stderr",
     "output_type": "stream",
     "text": [
      "\r",
      "[Stage 217:>                                                        (0 + 1) / 1]\r",
      "418382334\n",
      "418382334\n",
      "217055998\n",
      "150892286\n",
      "418382334\n",
      "\r",
      "                                                                                \r"
     ]
    },
    {
     "name": "stdout",
     "output_type": "stream",
     "text": [
      "-------------------------------------------\n",
      "Batch: 217\n",
      "-------------------------------------------\n",
      "+-----------+------+-------------+---+-------------------------+-------------+-----+------------+\n",
      "|topic      |bus_id|can_id       |dlc|data                     |timestamp    |value|message_name|\n",
      "+-----------+------+-------------+---+-------------------------+-------------+-----+------------+\n",
      "|canbus_test|bus_37|[18 F0 01 0B]|8  |[00 00 F3 FF FF 01 FF F7]|1684318643585|null |EBC1        |\n",
      "|canbus_test|bus_34|[18 F0 01 0B]|8  |[00 00 F3 FF FF 01 FF F7]|1684317995388|null |EBC1        |\n",
      "|canbus_test|bus_36|[0C F0 02 03]|8  |[CD FF FE FF FF FF FF FF]|1684318167846|null |ETC1        |\n",
      "|canbus_test|bus_35|[08 FE 6E 0B]|8  |[00 00 00 00 00 00 00 00]|1684318865728|null |HRW         |\n",
      "|canbus_test|bus_33|[18 F0 01 0B]|8  |[00 00 F3 FF FF 01 FF F7]|1684317384604|null |EBC1        |\n",
      "+-----------+------+-------------+---+-------------------------+-------------+-----+------------+\n",
      "\n",
      "23/05/17 18:49:01 WARN KafkaDataConsumer: KafkaDataConsumer is not running in UninterruptibleThread. It may hang when KafkaDataConsumer's methods are interrupted because of KAFKA-1894\n",
      "23/05/17 18:49:01 WARN KafkaDataConsumer: KafkaDataConsumer is not running in UninterruptibleThread. It may hang when KafkaDataConsumer's methods are interrupted because of KAFKA-1894\n",
      "23/05/17 18:49:01 WARN KafkaDataConsumer: KafkaDataConsumer is not running in UninterruptibleThread. It may hang when KafkaDataConsumer's methods are interrupted because of KAFKA-1894\n",
      "23/05/17 18:49:01 WARN KafkaDataConsumer: KafkaDataConsumer is not running in UninterruptibleThread. It may hang when KafkaDataConsumer's methods are interrupted because of KAFKA-1894\n",
      "23/05/17 18:49:01 WARN KafkaDataConsumer: KafkaDataConsumer is not running in UninterruptibleThread. It may hang when KafkaDataConsumer's methods are interrupted because of KAFKA-1894\n"
     ]
    },
    {
     "name": "stderr",
     "output_type": "stream",
     "text": [
      "\r",
      "[Stage 218:>                                                        (0 + 1) / 1]\r",
      "419351294\n",
      "217056254\n",
      "418382334\n",
      "419351294\n",
      "419348478\n",
      "\r",
      "                                                                                \r"
     ]
    },
    {
     "name": "stdout",
     "output_type": "stream",
     "text": [
      "-------------------------------------------\n",
      "Batch: 218\n",
      "-------------------------------------------\n",
      "+-----------+------+-------------+---+-------------------------+-------------+-----+------------+\n",
      "|topic      |bus_id|can_id       |dlc|data                     |timestamp    |value|message_name|\n",
      "+-----------+------+-------------+---+-------------------------+-------------+-----+------------+\n",
      "|canbus_test|bus_33|[18 FE CA 0B]|8  |[C0 FF 00 00 00 00 FF FF]|1684317385609|null |DM1         |\n",
      "|canbus_test|bus_34|[0C F0 03 00]|8  |[FD 00 FF FF FF FF FF FF]|1684317996393|null |EEC2        |\n",
      "|canbus_test|bus_35|[18 F0 01 0B]|8  |[00 00 F3 FF FF 01 FF F7]|1684318866730|null |EBC1        |\n",
      "|canbus_test|bus_37|[18 FE CA 2F]|8  |[F3 FF 00 00 00 00 FF FF]|1684318644609|null |DM1         |\n",
      "|canbus_test|bus_36|[18 FE BF 0B]|8  |[00 00 7D 7D 7D 7D FF FF]|1684318168879|null |EBC2        |\n",
      "+-----------+------+-------------+---+-------------------------+-------------+-----+------------+\n",
      "\n",
      "23/05/17 18:49:02 WARN KafkaDataConsumer: KafkaDataConsumer is not running in UninterruptibleThread. It may hang when KafkaDataConsumer's methods are interrupted because of KAFKA-1894\n",
      "23/05/17 18:49:02 WARN KafkaDataConsumer: KafkaDataConsumer is not running in UninterruptibleThread. It may hang when KafkaDataConsumer's methods are interrupted because of KAFKA-1894\n",
      "23/05/17 18:49:02 WARN KafkaDataConsumer: KafkaDataConsumer is not running in UninterruptibleThread. It may hang when KafkaDataConsumer's methods are interrupted because of KAFKA-1894\n",
      "23/05/17 18:49:02 WARN KafkaDataConsumer: KafkaDataConsumer is not running in UninterruptibleThread. It may hang when KafkaDataConsumer's methods are interrupted because of KAFKA-1894\n",
      "23/05/17 18:49:02 WARN KafkaDataConsumer: KafkaDataConsumer is not running in UninterruptibleThread. It may hang when KafkaDataConsumer's methods are interrupted because of KAFKA-1894\n"
     ]
    },
    {
     "name": "stderr",
     "output_type": "stream",
     "text": [
      "\r",
      "[Stage 219:>                                                        (0 + 1) / 1]\r",
      "217055998\n",
      "418382334\n",
      "419351294\n",
      "419361278\n",
      "419348478\n",
      "\r",
      "                                                                                \r"
     ]
    },
    {
     "name": "stdout",
     "output_type": "stream",
     "text": [
      "-------------------------------------------\n",
      "Batch: 219\n",
      "-------------------------------------------\n",
      "+-----------+------+-------------+---+-------------------------+-------------+-----+------------+\n",
      "|topic      |bus_id|can_id       |dlc|data                     |timestamp    |value|message_name|\n",
      "+-----------+------+-------------+---+-------------------------+-------------+-----+------------+\n",
      "|canbus_test|bus_33|[0C F0 02 03]|8  |[CD FF FE FF FF FF FF FF]|1684317386605|null |ETC1        |\n",
      "|canbus_test|bus_36|[18 F0 01 0B]|8  |[00 00 F3 FF FF 01 FF F7]|1684318169931|null |EBC1        |\n",
      "|canbus_test|bus_35|[18 FE CA 2F]|8  |[F3 FF 00 00 00 00 FF FF]|1684318867740|null |DM1         |\n",
      "|canbus_test|bus_37|[18 FE F1 00]|8  |[F7 00 00 0F FF FF FF FF]|1684318646671|null |CCVS        |\n",
      "|canbus_test|bus_34|[18 FE BF 0B]|8  |[00 00 7D 7D 7D 7D FF FF]|1684317997398|null |EBC2        |\n",
      "+-----------+------+-------------+---+-------------------------+-------------+-----+------------+\n",
      "\n",
      "23/05/17 18:49:03 WARN KafkaDataConsumer: KafkaDataConsumer is not running in UninterruptibleThread. It may hang when KafkaDataConsumer's methods are interrupted because of KAFKA-1894\n",
      "23/05/17 18:49:03 WARN KafkaDataConsumer: KafkaDataConsumer is not running in UninterruptibleThread. It may hang when KafkaDataConsumer's methods are interrupted because of KAFKA-1894\n",
      "23/05/17 18:49:03 WARN KafkaDataConsumer: KafkaDataConsumer is not running in UninterruptibleThread. It may hang when KafkaDataConsumer's methods are interrupted because of KAFKA-1894\n",
      "23/05/17 18:49:03 WARN KafkaDataConsumer: KafkaDataConsumer is not running in UninterruptibleThread. It may hang when KafkaDataConsumer's methods are interrupted because of KAFKA-1894\n",
      "23/05/17 18:49:03 WARN KafkaDataConsumer: KafkaDataConsumer is not running in UninterruptibleThread. It may hang when KafkaDataConsumer's methods are interrupted because of KAFKA-1894\n"
     ]
    },
    {
     "name": "stderr",
     "output_type": "stream",
     "text": [
      "\r",
      "[Stage 220:>                                                        (0 + 1) / 1]\r",
      "419172606\n",
      "217055998\n",
      "419351294\n",
      "419348478\n",
      "419348478\n",
      "\r",
      "                                                                                \r"
     ]
    },
    {
     "name": "stdout",
     "output_type": "stream",
     "text": [
      "-------------------------------------------\n",
      "Batch: 220\n",
      "-------------------------------------------\n",
      "+-----------+------+-------------+---+-------------------------+-------------+-----+------------+\n",
      "|topic      |bus_id|can_id       |dlc|data                     |timestamp    |value|message_name|\n",
      "+-----------+------+-------------+---+-------------------------+-------------+-----+------------+\n",
      "|canbus_test|bus_36|[18 FC 10 F4]|8  |[FF FF 59 26 44 44 00 00]|1684318170943|null |null        |\n",
      "|canbus_test|bus_35|[0C F0 02 03]|8  |[CD FF FE FF FF FF FF FF]|1684318868740|null |ETC1        |\n",
      "|canbus_test|bus_37|[18 FE CA 2F]|8  |[F3 FF 00 00 00 00 FF FF]|1684318647688|null |DM1         |\n",
      "|canbus_test|bus_34|[18 FE BF 0B]|8  |[00 00 7D 7D 7D 7D FF FF]|1684317998401|null |EBC2        |\n",
      "|canbus_test|bus_33|[18 FE BF 0B]|8  |[00 00 7D 7D 7D 7D FF FF]|1684317387618|null |EBC2        |\n",
      "+-----------+------+-------------+---+-------------------------+-------------+-----+------------+\n",
      "\n",
      "23/05/17 18:49:04 WARN KafkaDataConsumer: KafkaDataConsumer is not running in UninterruptibleThread. It may hang when KafkaDataConsumer's methods are interrupted because of KAFKA-1894\n",
      "23/05/17 18:49:04 WARN KafkaDataConsumer: KafkaDataConsumer is not running in UninterruptibleThread. It may hang when KafkaDataConsumer's methods are interrupted because of KAFKA-1894\n",
      "23/05/17 18:49:04 WARN KafkaDataConsumer: KafkaDataConsumer is not running in UninterruptibleThread. It may hang when KafkaDataConsumer's methods are interrupted because of KAFKA-1894\n",
      "23/05/17 18:49:04 WARN KafkaDataConsumer: KafkaDataConsumer is not running in UninterruptibleThread. It may hang when KafkaDataConsumer's methods are interrupted because of KAFKA-1894\n",
      "23/05/17 18:49:04 WARN KafkaDataConsumer: KafkaDataConsumer is not running in UninterruptibleThread. It may hang when KafkaDataConsumer's methods are interrupted because of KAFKA-1894\n"
     ]
    },
    {
     "name": "stderr",
     "output_type": "stream",
     "text": [
      "\r",
      "[Stage 221:>                                                        (0 + 1) / 1]\r",
      "419348478\n",
      "419348478\n",
      "217996030\n",
      "419170302\n",
      "419373310\n",
      "\r",
      "                                                                                \r"
     ]
    },
    {
     "name": "stdout",
     "output_type": "stream",
     "text": [
      "-------------------------------------------\n",
      "Batch: 221\n",
      "-------------------------------------------\n",
      "+-----------+------+-------------+---+-------------------------+-------------+-----+------------+\n",
      "|topic      |bus_id|can_id       |dlc|data                     |timestamp    |value|message_name|\n",
      "+-----------+------+-------------+---+-------------------------+-------------+-----+------------+\n",
      "|canbus_test|bus_37|[18 FE BF 0B]|8  |[00 00 7D 7D 7D 7D FF FF]|1684318648731|null |EBC2        |\n",
      "|canbus_test|bus_35|[18 FE BF 0B]|8  |[00 00 7D 7D 7D 7D FF FF]|1684318869752|null |EBC2        |\n",
      "|canbus_test|bus_36|[0C FE 5A 21]|8  |[FF FF FF FF EF FF FF FF]|1684318171945|null |ASC1        |\n",
      "|canbus_test|bus_34|[18 FC 07 F4]|8  |[CC 09 59 07 8B 02 61 5B]|1684317999406|null |null        |\n",
      "|canbus_test|bus_33|[18 FF 20 EF]|8  |[F0 7D 00 00 7D EF FF 7D]|1684317388654|null |null        |\n",
      "+-----------+------+-------------+---+-------------------------+-------------+-----+------------+\n",
      "\n",
      "23/05/17 18:49:05 WARN KafkaDataConsumer: KafkaDataConsumer is not running in UninterruptibleThread. It may hang when KafkaDataConsumer's methods are interrupted because of KAFKA-1894\n",
      "23/05/17 18:49:05 WARN KafkaDataConsumer: KafkaDataConsumer is not running in UninterruptibleThread. It may hang when KafkaDataConsumer's methods are interrupted because of KAFKA-1894\n",
      "23/05/17 18:49:05 WARN KafkaDataConsumer: KafkaDataConsumer is not running in UninterruptibleThread. It may hang when KafkaDataConsumer's methods are interrupted because of KAFKA-1894\n",
      "23/05/17 18:49:05 WARN KafkaDataConsumer: KafkaDataConsumer is not running in UninterruptibleThread. It may hang when KafkaDataConsumer's methods are interrupted because of KAFKA-1894\n",
      "23/05/17 18:49:05 WARN KafkaDataConsumer: KafkaDataConsumer is not running in UninterruptibleThread. It may hang when KafkaDataConsumer's methods are interrupted because of KAFKA-1894\n"
     ]
    },
    {
     "name": "stderr",
     "output_type": "stream",
     "text": [
      "\r",
      "[Stage 222:>                                                        (0 + 1) / 1]\r",
      "418382334\n",
      "419348478\n",
      "217959678\n",
      "418382334\n",
      "419348478\n",
      "\r",
      "                                                                                \r"
     ]
    },
    {
     "name": "stdout",
     "output_type": "stream",
     "text": [
      "-------------------------------------------\n",
      "Batch: 222\n",
      "-------------------------------------------\n",
      "+-----------+------+-------------+---+-------------------------+-------------+-----+------------+\n",
      "|topic      |bus_id|can_id       |dlc|data                     |timestamp    |value|message_name|\n",
      "+-----------+------+-------------+---+-------------------------+-------------+-----+------------+\n",
      "|canbus_test|bus_36|[18 F0 01 0B]|8  |[00 00 F3 FF FF 01 FF F7]|1684318172953|null |EBC1        |\n",
      "|canbus_test|bus_34|[18 FE BF 0B]|8  |[00 00 7D 7D 7D 7D FF FF]|1684318000406|null |EBC2        |\n",
      "|canbus_test|bus_35|[0C FD CC 27]|8  |[FF F0 FF FF FF FF FF FF]|1684318870762|null |OEL         |\n",
      "|canbus_test|bus_37|[18 F0 01 0B]|8  |[00 00 F3 FF FF 01 FF F7]|1684318649750|null |EBC1        |\n",
      "|canbus_test|bus_33|[18 FE BF 0B]|8  |[00 00 7D 7D 7D 7D FF FF]|1684317389660|null |EBC2        |\n",
      "+-----------+------+-------------+---+-------------------------+-------------+-----+------------+\n",
      "\n",
      "23/05/17 18:49:06 WARN KafkaDataConsumer: KafkaDataConsumer is not running in UninterruptibleThread. It may hang when KafkaDataConsumer's methods are interrupted because of KAFKA-1894\n",
      "23/05/17 18:49:06 WARN KafkaDataConsumer: KafkaDataConsumer is not running in UninterruptibleThread. It may hang when KafkaDataConsumer's methods are interrupted because of KAFKA-1894\n",
      "23/05/17 18:49:06 WARN KafkaDataConsumer: KafkaDataConsumer is not running in UninterruptibleThread. It may hang when KafkaDataConsumer's methods are interrupted because of KAFKA-1894\n",
      "23/05/17 18:49:06 WARN KafkaDataConsumer: KafkaDataConsumer is not running in UninterruptibleThread. It may hang when KafkaDataConsumer's methods are interrupted because of KAFKA-1894\n",
      "23/05/17 18:49:06 WARN KafkaDataConsumer: KafkaDataConsumer is not running in UninterruptibleThread. It may hang when KafkaDataConsumer's methods are interrupted because of KAFKA-1894\n"
     ]
    },
    {
     "name": "stderr",
     "output_type": "stream",
     "text": [
      "4183823343:>                                                        (0 + 1) / 1]\n",
      "419319806\n",
      "419351294\n",
      "418382334\n",
      "217055998\n",
      "                                                                                \r"
     ]
    },
    {
     "name": "stdout",
     "output_type": "stream",
     "text": [
      "-------------------------------------------\n",
      "Batch: 223\n",
      "-------------------------------------------\n",
      "+-----------+------+-------------+---+-------------------------+-------------+-----+------------+\n",
      "|topic      |bus_id|can_id       |dlc|data                     |timestamp    |value|message_name|\n",
      "+-----------+------+-------------+---+-------------------------+-------------+-----+------------+\n",
      "|canbus_test|bus_35|[18 F0 01 0B]|8  |[00 00 F3 FF FF 01 FF F7]|1684318871771|null |EBC1        |\n",
      "|canbus_test|bus_34|[18 FE 4F 0B]|8  |[FF FF FF FF FF FF FF FF]|1684318001406|null |VDC1        |\n",
      "|canbus_test|bus_36|[18 FE CA 2F]|8  |[F3 FF 00 00 00 00 FF FF]|1684318173963|null |DM1         |\n",
      "|canbus_test|bus_37|[18 F0 01 0B]|8  |[00 00 F3 FF FF 01 FF F7]|1684318650767|null |EBC1        |\n",
      "|canbus_test|bus_33|[0C F0 02 03]|8  |[CD FF FE FF FF FF FF FF]|1684317390665|null |ETC1        |\n",
      "+-----------+------+-------------+---+-------------------------+-------------+-----+------------+\n",
      "\n",
      "23/05/17 18:49:07 WARN KafkaDataConsumer: KafkaDataConsumer is not running in UninterruptibleThread. It may hang when KafkaDataConsumer's methods are interrupted because of KAFKA-1894\n",
      "23/05/17 18:49:07 WARN KafkaDataConsumer: KafkaDataConsumer is not running in UninterruptibleThread. It may hang when KafkaDataConsumer's methods are interrupted because of KAFKA-1894\n",
      "23/05/17 18:49:07 WARN KafkaDataConsumer: KafkaDataConsumer is not running in UninterruptibleThread. It may hang when KafkaDataConsumer's methods are interrupted because of KAFKA-1894\n",
      "23/05/17 18:49:07 WARN KafkaDataConsumer: KafkaDataConsumer is not running in UninterruptibleThread. It may hang when KafkaDataConsumer's methods are interrupted because of KAFKA-1894\n",
      "23/05/17 18:49:07 WARN KafkaDataConsumer: KafkaDataConsumer is not running in UninterruptibleThread. It may hang when KafkaDataConsumer's methods are interrupted because of KAFKA-1894\n"
     ]
    },
    {
     "name": "stderr",
     "output_type": "stream",
     "text": [
      "\r",
      "[Stage 224:>                                                        (0 + 1) / 1]\r",
      "419169534\n",
      "418382334\n",
      "418597886\n",
      "419351294\n",
      "217055998\n",
      "\r",
      "                                                                                \r"
     ]
    },
    {
     "name": "stdout",
     "output_type": "stream",
     "text": [
      "-------------------------------------------\n",
      "Batch: 224\n",
      "-------------------------------------------\n",
      "+-----------+------+-------------+---+-------------------------+-------------+-----+------------+\n",
      "|topic      |bus_id|can_id       |dlc|data                     |timestamp    |value|message_name|\n",
      "+-----------+------+-------------+---+-------------------------+-------------+-----+------------+\n",
      "|canbus_test|bus_37|[18 FC 04 F4]|8  |[84 01 05 3A 40 41 D5 62]|1684318651779|null |null        |\n",
      "|canbus_test|bus_34|[18 F0 01 0B]|8  |[00 00 F3 FF FF 01 FF F7]|1684318002414|null |EBC1        |\n",
      "|canbus_test|bus_35|[18 F3 4B 00]|8  |[FF FF 00 00 FF FF FF 81]|1684318872782|null |null        |\n",
      "|canbus_test|bus_36|[18 FE CA 2F]|8  |[F3 FF 00 00 00 00 FF FF]|1684318174969|null |DM1         |\n",
      "|canbus_test|bus_33|[0C F0 02 03]|8  |[CD FF FE FF FF FF FF FF]|1684317391695|null |ETC1        |\n",
      "+-----------+------+-------------+---+-------------------------+-------------+-----+------------+\n",
      "\n",
      "23/05/17 18:49:08 WARN KafkaDataConsumer: KafkaDataConsumer is not running in UninterruptibleThread. It may hang when KafkaDataConsumer's methods are interrupted because of KAFKA-1894\n",
      "23/05/17 18:49:08 WARN KafkaDataConsumer: KafkaDataConsumer is not running in UninterruptibleThread. It may hang when KafkaDataConsumer's methods are interrupted because of KAFKA-1894\n",
      "23/05/17 18:49:08 WARN KafkaDataConsumer: KafkaDataConsumer is not running in UninterruptibleThread. It may hang when KafkaDataConsumer's methods are interrupted because of KAFKA-1894\n",
      "23/05/17 18:49:08 WARN KafkaDataConsumer: KafkaDataConsumer is not running in UninterruptibleThread. It may hang when KafkaDataConsumer's methods are interrupted because of KAFKA-1894\n",
      "23/05/17 18:49:08 WARN KafkaDataConsumer: KafkaDataConsumer is not running in UninterruptibleThread. It may hang when KafkaDataConsumer's methods are interrupted because of KAFKA-1894\n"
     ]
    },
    {
     "name": "stderr",
     "output_type": "stream",
     "text": [
      "4183823345:>                                                        (0 + 1) / 1]\n",
      "150892286\n",
      "217055998\n",
      "419351294\n",
      "419351294\n",
      "                                                                                \r"
     ]
    },
    {
     "name": "stdout",
     "output_type": "stream",
     "text": [
      "-------------------------------------------\n",
      "Batch: 225\n",
      "-------------------------------------------\n",
      "+-----------+------+-------------+---+-------------------------+-------------+-----+------------+\n",
      "|topic      |bus_id|can_id       |dlc|data                     |timestamp    |value|message_name|\n",
      "+-----------+------+-------------+---+-------------------------+-------------+-----+------------+\n",
      "|canbus_test|bus_37|[18 F0 01 0B]|8  |[00 00 F3 FF FF 01 FF F7]|1684318652788|null |EBC1        |\n",
      "|canbus_test|bus_36|[08 FE 6E 0B]|8  |[00 00 00 00 00 00 00 00]|1684318175981|null |HRW         |\n",
      "|canbus_test|bus_35|[0C F0 02 03]|8  |[CD FF FE FF FF FF FF FF]|1684318873790|null |ETC1        |\n",
      "|canbus_test|bus_34|[18 FE CA 2F]|8  |[F3 FF 00 00 00 00 FF FF]|1684318003419|null |DM1         |\n",
      "|canbus_test|bus_33|[18 FE CA 2F]|8  |[F3 FF 00 00 00 00 FF FF]|1684317392693|null |DM1         |\n",
      "+-----------+------+-------------+---+-------------------------+-------------+-----+------------+\n",
      "\n",
      "23/05/17 18:49:09 WARN KafkaDataConsumer: KafkaDataConsumer is not running in UninterruptibleThread. It may hang when KafkaDataConsumer's methods are interrupted because of KAFKA-1894\n",
      "23/05/17 18:49:09 WARN KafkaDataConsumer: KafkaDataConsumer is not running in UninterruptibleThread. It may hang when KafkaDataConsumer's methods are interrupted because of KAFKA-1894\n",
      "23/05/17 18:49:09 WARN KafkaDataConsumer: KafkaDataConsumer is not running in UninterruptibleThread. It may hang when KafkaDataConsumer's methods are interrupted because of KAFKA-1894\n",
      "23/05/17 18:49:09 WARN KafkaDataConsumer: KafkaDataConsumer is not running in UninterruptibleThread. It may hang when KafkaDataConsumer's methods are interrupted because of KAFKA-1894\n",
      "23/05/17 18:49:09 WARN KafkaDataConsumer: KafkaDataConsumer is not running in UninterruptibleThread. It may hang when KafkaDataConsumer's methods are interrupted because of KAFKA-1894\n"
     ]
    },
    {
     "name": "stderr",
     "output_type": "stream",
     "text": [
      "\r",
      "[Stage 226:>                                                        (0 + 1) / 1]\r",
      "419320318\n",
      "419348478\n",
      "419320318\n",
      "418382334\n",
      "419348478\n",
      "\r",
      "                                                                                \r"
     ]
    },
    {
     "name": "stdout",
     "output_type": "stream",
     "text": [
      "-------------------------------------------\n",
      "Batch: 226\n",
      "-------------------------------------------\n",
      "+-----------+------+-------------+---+-------------------------+-------------+-----+------------+\n",
      "|topic      |bus_id|can_id       |dlc|data                     |timestamp    |value|message_name|\n",
      "+-----------+------+-------------+---+-------------------------+-------------+-----+------------+\n",
      "|canbus_test|bus_37|[18 FE 51 27]|8  |[7C FF FF FF FF FF FF FF]|1684318653808|null |ACC2        |\n",
      "|canbus_test|bus_34|[18 FE BF 0B]|8  |[00 00 7D 7D 7D 7D FF FF]|1684318004415|null |EBC2        |\n",
      "|canbus_test|bus_36|[18 FE 51 27]|8  |[7C FF FF FF FF FF FF FF]|1684318176998|null |ACC2        |\n",
      "|canbus_test|bus_35|[18 F0 01 0B]|8  |[00 00 F3 FF FF 01 FF F7]|1684318874808|null |EBC1        |\n",
      "|canbus_test|bus_33|[18 FE BF 0B]|8  |[00 00 7D 7D 7D 7D FF FF]|1684317393693|null |EBC2        |\n",
      "+-----------+------+-------------+---+-------------------------+-------------+-----+------------+\n",
      "\n",
      "23/05/17 18:49:10 WARN KafkaDataConsumer: KafkaDataConsumer is not running in UninterruptibleThread. It may hang when KafkaDataConsumer's methods are interrupted because of KAFKA-1894\n",
      "23/05/17 18:49:10 WARN KafkaDataConsumer: KafkaDataConsumer is not running in UninterruptibleThread. It may hang when KafkaDataConsumer's methods are interrupted because of KAFKA-1894\n",
      "23/05/17 18:49:10 WARN KafkaDataConsumer: KafkaDataConsumer is not running in UninterruptibleThread. It may hang when KafkaDataConsumer's methods are interrupted because of KAFKA-1894\n",
      "23/05/17 18:49:10 WARN KafkaDataConsumer: KafkaDataConsumer is not running in UninterruptibleThread. It may hang when KafkaDataConsumer's methods are interrupted because of KAFKA-1894\n",
      "23/05/17 18:49:10 WARN KafkaDataConsumer: KafkaDataConsumer is not running in UninterruptibleThread. It may hang when KafkaDataConsumer's methods are interrupted because of KAFKA-1894\n"
     ]
    },
    {
     "name": "stderr",
     "output_type": "stream",
     "text": [
      "\r",
      "[Stage 227:>                                                        (0 + 1) / 1]\r",
      "419171838\n",
      "418382334\n",
      "217055998\n",
      "419348478\n",
      "419174398\n",
      "\r",
      "                                                                                \r"
     ]
    },
    {
     "name": "stdout",
     "output_type": "stream",
     "text": [
      "-------------------------------------------\n",
      "Batch: 227\n",
      "-------------------------------------------\n",
      "+-----------+------+-------------+---+-------------------------+-------------+-----+------------+\n",
      "|topic      |bus_id|can_id       |dlc|data                     |timestamp    |value|message_name|\n",
      "+-----------+------+-------------+---+-------------------------+-------------+-----+------------+\n",
      "|canbus_test|bus_37|[18 FC 0D F4]|8  |[A3 87 A3 06 46 22 44 01]|1684318654818|null |null        |\n",
      "|canbus_test|bus_34|[18 F0 01 0B]|8  |[00 00 F3 FF FF 01 FF F7]|1684318005416|null |EBC1        |\n",
      "|canbus_test|bus_35|[0C F0 02 03]|8  |[CD FF FE FF FF FF FF FF]|1684318875821|null |ETC1        |\n",
      "|canbus_test|bus_36|[18 FE BF 0B]|8  |[00 00 7D 7D 7D 7D FF FF]|1684318177997|null |EBC2        |\n",
      "|canbus_test|bus_33|[18 FC 17 21]|8  |[F8 2A 20 4E FF FF FE EE]|1684317394683|null |null        |\n",
      "+-----------+------+-------------+---+-------------------------+-------------+-----+------------+\n",
      "\n",
      "23/05/17 18:49:11 WARN KafkaDataConsumer: KafkaDataConsumer is not running in UninterruptibleThread. It may hang when KafkaDataConsumer's methods are interrupted because of KAFKA-1894\n",
      "23/05/17 18:49:11 WARN KafkaDataConsumer: KafkaDataConsumer is not running in UninterruptibleThread. It may hang when KafkaDataConsumer's methods are interrupted because of KAFKA-1894\n",
      "23/05/17 18:49:11 WARN KafkaDataConsumer: KafkaDataConsumer is not running in UninterruptibleThread. It may hang when KafkaDataConsumer's methods are interrupted because of KAFKA-1894\n",
      "23/05/17 18:49:11 WARN KafkaDataConsumer: KafkaDataConsumer is not running in UninterruptibleThread. It may hang when KafkaDataConsumer's methods are interrupted because of KAFKA-1894\n",
      "23/05/17 18:49:11 WARN KafkaDataConsumer: KafkaDataConsumer is not running in UninterruptibleThread. It may hang when KafkaDataConsumer's methods are interrupted because of KAFKA-1894\n"
     ]
    },
    {
     "name": "stderr",
     "output_type": "stream",
     "text": [
      "\r",
      "[Stage 228:>                                                        (0 + 1) / 1]\r",
      "419355134\n",
      "419351294\n",
      "419348478\n",
      "419351294\n",
      "419348478\n",
      "\r",
      "                                                                                \r"
     ]
    },
    {
     "name": "stdout",
     "output_type": "stream",
     "text": [
      "-------------------------------------------\n",
      "Batch: 228\n",
      "-------------------------------------------\n",
      "+-----------+------+-------------+---+-------------------------+-------------+-----+------------+\n",
      "|topic      |bus_id|can_id       |dlc|data                     |timestamp    |value|message_name|\n",
      "+-----------+------+-------------+---+-------------------------+-------------+-----+------------+\n",
      "|canbus_test|bus_37|[18 FE D9 10]|8  |[5F FF FF FF FF FF FF FF]|1684318655821|null |AUXIO1      |\n",
      "|canbus_test|bus_34|[18 FE CA 2F]|8  |[F3 FF 00 00 00 00 FF FF]|1684318006416|null |DM1         |\n",
      "|canbus_test|bus_35|[18 FE BF 0B]|8  |[00 00 7D 7D 7D 7D FF FF]|1684318876844|null |EBC2        |\n",
      "|canbus_test|bus_36|[18 FE CA 2F]|8  |[F3 FF 00 00 00 00 FF FF]|1684318179003|null |DM1         |\n",
      "|canbus_test|bus_33|[18 FE BF 0B]|8  |[00 00 7D 7D 7D 7D FF FF]|1684317395699|null |EBC2        |\n",
      "+-----------+------+-------------+---+-------------------------+-------------+-----+------------+\n",
      "\n",
      "23/05/17 18:49:12 WARN KafkaDataConsumer: KafkaDataConsumer is not running in UninterruptibleThread. It may hang when KafkaDataConsumer's methods are interrupted because of KAFKA-1894\n",
      "23/05/17 18:49:12 WARN KafkaDataConsumer: KafkaDataConsumer is not running in UninterruptibleThread. It may hang when KafkaDataConsumer's methods are interrupted because of KAFKA-1894\n",
      "23/05/17 18:49:12 WARN KafkaDataConsumer: KafkaDataConsumer is not running in UninterruptibleThread. It may hang when KafkaDataConsumer's methods are interrupted because of KAFKA-1894\n",
      "23/05/17 18:49:12 WARN KafkaDataConsumer: KafkaDataConsumer is not running in UninterruptibleThread. It may hang when KafkaDataConsumer's methods are interrupted because of KAFKA-1894\n",
      "23/05/17 18:49:12 WARN KafkaDataConsumer: KafkaDataConsumer is not running in UninterruptibleThread. It may hang when KafkaDataConsumer's methods are interrupted because of KAFKA-1894\n"
     ]
    },
    {
     "name": "stderr",
     "output_type": "stream",
     "text": [
      "\r",
      "[Stage 229:>                                                        (0 + 1) / 1]\r",
      "418583294\n",
      "419319806\n",
      "419351294\n",
      "419355134\n",
      "418382334\n",
      "\r",
      "                                                                                \r"
     ]
    },
    {
     "name": "stdout",
     "output_type": "stream",
     "text": [
      "-------------------------------------------\n",
      "Batch: 229\n",
      "-------------------------------------------\n",
      "+-----------+------+-------------+---+-------------------------+-------------+-----+------------+\n",
      "|topic      |bus_id|can_id       |dlc|data                     |timestamp    |value|message_name|\n",
      "+-----------+------+-------------+---+-------------------------+-------------+-----+------------+\n",
      "|canbus_test|bus_37|[18 F3 12 00]|8  |[4B 4B FF 4B FF FF FF 9F]|1684318656861|null |null        |\n",
      "|canbus_test|bus_34|[18 FE 4F 0B]|8  |[FF FF FF FF FF FF FF FF]|1684318007408|null |VDC1        |\n",
      "|canbus_test|bus_35|[18 FE CA 2F]|8  |[F3 FF 00 00 00 00 FF FF]|1684318877857|null |DM1         |\n",
      "|canbus_test|bus_36|[18 FE D9 10]|8  |[5F FF FF FF FF FF FF FF]|1684318180012|null |AUXIO1      |\n",
      "|canbus_test|bus_33|[18 F0 01 0B]|8  |[00 00 F3 FF FF 01 FF F7]|1684317396733|null |EBC1        |\n",
      "+-----------+------+-------------+---+-------------------------+-------------+-----+------------+\n",
      "\n",
      "23/05/17 18:49:13 WARN KafkaDataConsumer: KafkaDataConsumer is not running in UninterruptibleThread. It may hang when KafkaDataConsumer's methods are interrupted because of KAFKA-1894\n",
      "23/05/17 18:49:13 WARN KafkaDataConsumer: KafkaDataConsumer is not running in UninterruptibleThread. It may hang when KafkaDataConsumer's methods are interrupted because of KAFKA-1894\n",
      "23/05/17 18:49:13 WARN KafkaDataConsumer: KafkaDataConsumer is not running in UninterruptibleThread. It may hang when KafkaDataConsumer's methods are interrupted because of KAFKA-1894\n",
      "23/05/17 18:49:13 WARN KafkaDataConsumer: KafkaDataConsumer is not running in UninterruptibleThread. It may hang when KafkaDataConsumer's methods are interrupted because of KAFKA-1894\n",
      "23/05/17 18:49:13 WARN KafkaDataConsumer: KafkaDataConsumer is not running in UninterruptibleThread. It may hang when KafkaDataConsumer's methods are interrupted because of KAFKA-1894\n"
     ]
    },
    {
     "name": "stderr",
     "output_type": "stream",
     "text": [
      "\r",
      "[Stage 230:>                                                        (0 + 1) / 1]\r",
      "419351294\n",
      "419094782\n",
      "418382334\n",
      "217996030\n",
      "217959678\n",
      "\r",
      "                                                                                \r"
     ]
    },
    {
     "name": "stdout",
     "output_type": "stream",
     "text": [
      "-------------------------------------------\n",
      "Batch: 230\n",
      "-------------------------------------------\n",
      "+-----------+------+-------------+---+-------------------------+-------------+-----+------------+\n",
      "|topic      |bus_id|can_id       |dlc|data                     |timestamp    |value|message_name|\n",
      "+-----------+------+-------------+---+-------------------------+-------------+-----+------------+\n",
      "|canbus_test|bus_34|[18 FE CA 2F]|8  |[F3 FF 00 00 00 00 FF FF]|1684318008416|null |DM1         |\n",
      "|canbus_test|bus_35|[18 FA E0 21]|8  |[FF FF FF 05 DC 13 F1 FF]|1684318878866|null |null        |\n",
      "|canbus_test|bus_37|[18 F0 01 0B]|8  |[00 00 F3 FF FF 01 FF F7]|1684318657893|null |EBC1        |\n",
      "|canbus_test|bus_36|[0C FE 5A 2F]|8  |[11 00 00 00 D3 F5 FF F0]|1684318181021|null |ASC1        |\n",
      "|canbus_test|bus_33|[0C FD CC 27]|8  |[FF F0 FF FF FF FF FF FF]|1684317397740|null |OEL         |\n",
      "+-----------+------+-------------+---+-------------------------+-------------+-----+------------+\n",
      "\n",
      "23/05/17 18:49:14 WARN KafkaDataConsumer: KafkaDataConsumer is not running in UninterruptibleThread. It may hang when KafkaDataConsumer's methods are interrupted because of KAFKA-1894\n",
      "23/05/17 18:49:14 WARN KafkaDataConsumer: KafkaDataConsumer is not running in UninterruptibleThread. It may hang when KafkaDataConsumer's methods are interrupted because of KAFKA-1894\n",
      "23/05/17 18:49:14 WARN KafkaDataConsumer: KafkaDataConsumer is not running in UninterruptibleThread. It may hang when KafkaDataConsumer's methods are interrupted because of KAFKA-1894\n",
      "23/05/17 18:49:14 WARN KafkaDataConsumer: KafkaDataConsumer is not running in UninterruptibleThread. It may hang when KafkaDataConsumer's methods are interrupted because of KAFKA-1894\n",
      "23/05/17 18:49:14 WARN KafkaDataConsumer: KafkaDataConsumer is not running in UninterruptibleThread. It may hang when KafkaDataConsumer's methods are interrupted because of KAFKA-1894\n"
     ]
    },
    {
     "name": "stderr",
     "output_type": "stream",
     "text": [
      "\r",
      "[Stage 231:>                                                        (0 + 1) / 1]\r",
      "418583550\n",
      "419351294\n",
      "217055998\n",
      "419174142\n",
      "418383358\n"
     ]
    },
    {
     "name": "stdout",
     "output_type": "stream",
     "text": [
      "-------------------------------------------\n",
      "Batch: 231\n",
      "-------------------------------------------\n",
      "+-----------+------+-------------+---+-------------------------+-------------+-----+------------+\n",
      "|topic      |bus_id|can_id       |dlc|data                     |timestamp    |value|message_name|\n",
      "+-----------+------+-------------+---+-------------------------+-------------+-----+------------+\n",
      "|canbus_test|bus_37|[18 F3 13 00]|8  |[05 00 48 46 48 48 46 48]|1684318658927|null |null        |\n",
      "|canbus_test|bus_34|[18 FE CA 2F]|8  |[F3 FF 00 00 00 00 FF FF]|1684318009419|null |DM1         |\n",
      "|canbus_test|bus_35|[0C F0 02 03]|8  |[CD FF FE FF FF FF FF FF]|1684318879889|null |ETC1        |\n",
      "|canbus_test|bus_36|[18 FC 16 21]|8  |[03 C7 00 00 72 02 FF 41]|1684318182024|null |null        |\n",
      "|canbus_test|bus_33|[18 F0 05 03]|8  |[FF FF FF 7D FF FF FF FF]|1684317398743|null |ETC2        |\n",
      "+-----------+------+-------------+---+-------------------------+-------------+-----+------------+\n",
      "\n"
     ]
    },
    {
     "name": "stderr",
     "output_type": "stream",
     "text": [
      "\r",
      "                                                                                \r"
     ]
    },
    {
     "name": "stdout",
     "output_type": "stream",
     "text": [
      "23/05/17 18:49:15 WARN KafkaDataConsumer: KafkaDataConsumer is not running in UninterruptibleThread. It may hang when KafkaDataConsumer's methods are interrupted because of KAFKA-1894\n",
      "23/05/17 18:49:15 WARN KafkaDataConsumer: KafkaDataConsumer is not running in UninterruptibleThread. It may hang when KafkaDataConsumer's methods are interrupted because of KAFKA-1894\n",
      "23/05/17 18:49:15 WARN KafkaDataConsumer: KafkaDataConsumer is not running in UninterruptibleThread. It may hang when KafkaDataConsumer's methods are interrupted because of KAFKA-1894\n",
      "23/05/17 18:49:15 WARN KafkaDataConsumer: KafkaDataConsumer is not running in UninterruptibleThread. It may hang when KafkaDataConsumer's methods are interrupted because of KAFKA-1894\n",
      "23/05/17 18:49:15 WARN KafkaDataConsumer: KafkaDataConsumer is not running in UninterruptibleThread. It may hang when KafkaDataConsumer's methods are interrupted because of KAFKA-1894\n"
     ]
    },
    {
     "name": "stderr",
     "output_type": "stream",
     "text": [
      "\r",
      "[Stage 232:>                                                        (0 + 1) / 1]\r",
      "419348478\n",
      "418382334\n",
      "419351294\n",
      "217055998\n",
      "217055998\n",
      "\r",
      "                                                                                \r"
     ]
    },
    {
     "name": "stdout",
     "output_type": "stream",
     "text": [
      "-------------------------------------------\n",
      "Batch: 232\n",
      "-------------------------------------------\n",
      "+-----------+------+-------------+---+-------------------------+-------------+-----+------------+\n",
      "|topic      |bus_id|can_id       |dlc|data                     |timestamp    |value|message_name|\n",
      "+-----------+------+-------------+---+-------------------------+-------------+-----+------------+\n",
      "|canbus_test|bus_37|[18 FE BF 0B]|8  |[00 00 7D 7D 7D 7D FF FF]|1684318659950|null |EBC2        |\n",
      "|canbus_test|bus_34|[18 F0 01 0B]|8  |[00 00 F3 FF FF 01 FF F7]|1684318010408|null |EBC1        |\n",
      "|canbus_test|bus_35|[18 FE CA 2F]|8  |[F3 FF 00 00 00 00 FF FF]|1684318881924|null |DM1         |\n",
      "|canbus_test|bus_36|[0C F0 02 03]|8  |[CD FF FE FF FF FF FF FF]|1684318184116|null |ETC1        |\n",
      "|canbus_test|bus_33|[0C F0 02 03]|8  |[CD FF FE FF FF FF FF FF]|1684317399736|null |ETC1        |\n",
      "+-----------+------+-------------+---+-------------------------+-------------+-----+------------+\n",
      "\n",
      "23/05/17 18:49:16 WARN KafkaDataConsumer: KafkaDataConsumer is not running in UninterruptibleThread. It may hang when KafkaDataConsumer's methods are interrupted because of KAFKA-1894\n",
      "23/05/17 18:49:16 WARN KafkaDataConsumer: KafkaDataConsumer is not running in UninterruptibleThread. It may hang when KafkaDataConsumer's methods are interrupted because of KAFKA-1894\n",
      "23/05/17 18:49:16 WARN KafkaDataConsumer: KafkaDataConsumer is not running in UninterruptibleThread. It may hang when KafkaDataConsumer's methods are interrupted because of KAFKA-1894\n",
      "23/05/17 18:49:16 WARN KafkaDataConsumer: KafkaDataConsumer is not running in UninterruptibleThread. It may hang when KafkaDataConsumer's methods are interrupted because of KAFKA-1894\n",
      "23/05/17 18:49:16 WARN KafkaDataConsumer: KafkaDataConsumer is not running in UninterruptibleThread. It may hang when KafkaDataConsumer's methods are interrupted because of KAFKA-1894\n"
     ]
    },
    {
     "name": "stderr",
     "output_type": "stream",
     "text": [
      "\r",
      "[Stage 233:>                                                        (0 + 1) / 1]\r",
      "217056510\n",
      "419351294\n",
      "418382334\n",
      "217055998\n",
      "418383358\n",
      "\r",
      "                                                                                \r"
     ]
    },
    {
     "name": "stdout",
     "output_type": "stream",
     "text": [
      "-------------------------------------------\n",
      "Batch: 233\n",
      "-------------------------------------------\n",
      "+-----------+------+-------------+---+-------------------------+-------------+-----+------------+\n",
      "|topic      |bus_id|can_id       |dlc|data                     |timestamp    |value|message_name|\n",
      "+-----------+------+-------------+---+-------------------------+-------------+-----+------------+\n",
      "|canbus_test|bus_37|[0C F0 04 00]|8  |[FF 7D 7D 00 00 FF FF FF]|1684318660957|null |EEC1        |\n",
      "|canbus_test|bus_34|[18 FE CA 2F]|8  |[F3 FF 00 00 00 00 FF FF]|1684318012460|null |DM1         |\n",
      "|canbus_test|bus_35|[18 F0 01 17]|8  |[FF FF FF FF FF FF FF F7]|1684318882965|null |EBC1        |\n",
      "|canbus_test|bus_36|[0C F0 02 03]|8  |[CD FF FE FF FF FF FF FF]|1684318185157|null |ETC1        |\n",
      "|canbus_test|bus_33|[18 F0 05 03]|8  |[FF FF FF 7D FF FF FF FF]|1684317400737|null |ETC2        |\n",
      "+-----------+------+-------------+---+-------------------------+-------------+-----+------------+\n",
      "\n",
      "23/05/17 18:49:17 WARN KafkaDataConsumer: KafkaDataConsumer is not running in UninterruptibleThread. It may hang when KafkaDataConsumer's methods are interrupted because of KAFKA-1894\n",
      "23/05/17 18:49:17 WARN KafkaDataConsumer: KafkaDataConsumer is not running in UninterruptibleThread. It may hang when KafkaDataConsumer's methods are interrupted because of KAFKA-1894\n",
      "23/05/17 18:49:17 WARN KafkaDataConsumer: KafkaDataConsumer is not running in UninterruptibleThread. It may hang when KafkaDataConsumer's methods are interrupted because of KAFKA-1894\n",
      "23/05/17 18:49:18 WARN KafkaDataConsumer: KafkaDataConsumer is not running in UninterruptibleThread. It may hang when KafkaDataConsumer's methods are interrupted because of KAFKA-1894\n",
      "23/05/17 18:49:18 WARN KafkaDataConsumer: KafkaDataConsumer is not running in UninterruptibleThread. It may hang when KafkaDataConsumer's methods are interrupted because of KAFKA-1894\n"
     ]
    },
    {
     "name": "stderr",
     "output_type": "stream",
     "text": [
      "\r",
      "[Stage 234:>                                                        (0 + 1) / 1]\r",
      "217051134\n",
      "217056254\n",
      "419351294\n",
      "419348478\n",
      "217769726\n",
      "\r",
      "                                                                                \r"
     ]
    },
    {
     "name": "stdout",
     "output_type": "stream",
     "text": [
      "-------------------------------------------\n",
      "Batch: 234\n",
      "-------------------------------------------\n",
      "+-----------+------+-------------+---+-------------------------+-------------+-----+------------+\n",
      "|topic      |bus_id|can_id       |dlc|data                     |timestamp    |value|message_name|\n",
      "+-----------+------+-------------+---+-------------------------+-------------+-----+------------+\n",
      "|canbus_test|bus_37|[0C EF EF 0B]|8  |[CC FA 7D FF FF FF FF 05]|1684318661969|null |null        |\n",
      "|canbus_test|bus_34|[0C F0 03 00]|8  |[FD 00 FF FF FF FF FF FF]|1684318013494|null |EEC2        |\n",
      "|canbus_test|bus_35|[18 FE CA 2F]|8  |[F3 FF 00 00 00 00 FF FF]|1684318883977|null |DM1         |\n",
      "|canbus_test|bus_36|[18 FE BF 0B]|8  |[00 00 7D 7D 7D 7D FF FF]|1684318186194|null |EBC2        |\n",
      "|canbus_test|bus_33|[0C FA E6 21]|8  |[00 10 00 00 0C 01 00 63]|1684317401739|null |null        |\n",
      "+-----------+------+-------------+---+-------------------------+-------------+-----+------------+\n",
      "\n",
      "23/05/17 18:49:18 WARN KafkaDataConsumer: KafkaDataConsumer is not running in UninterruptibleThread. It may hang when KafkaDataConsumer's methods are interrupted because of KAFKA-1894\n",
      "23/05/17 18:49:18 WARN KafkaDataConsumer: KafkaDataConsumer is not running in UninterruptibleThread. It may hang when KafkaDataConsumer's methods are interrupted because of KAFKA-1894\n",
      "23/05/17 18:49:18 WARN KafkaDataConsumer: KafkaDataConsumer is not running in UninterruptibleThread. It may hang when KafkaDataConsumer's methods are interrupted because of KAFKA-1894\n",
      "23/05/17 18:49:18 WARN KafkaDataConsumer: KafkaDataConsumer is not running in UninterruptibleThread. It may hang when KafkaDataConsumer's methods are interrupted because of KAFKA-1894\n",
      "23/05/17 18:49:18 WARN KafkaDataConsumer: KafkaDataConsumer is not running in UninterruptibleThread. It may hang when KafkaDataConsumer's methods are interrupted because of KAFKA-1894\n"
     ]
    },
    {
     "name": "stderr",
     "output_type": "stream",
     "text": [
      "\r",
      "[Stage 235:>                                                        (0 + 1) / 1]\r",
      "418382334\n",
      "419348478\n",
      "217055998\n",
      "217055998\n",
      "419351294\n",
      "\r",
      "                                                                                \r"
     ]
    },
    {
     "name": "stdout",
     "output_type": "stream",
     "text": [
      "-------------------------------------------\n",
      "Batch: 235\n",
      "-------------------------------------------\n",
      "+-----------+------+-------------+---+-------------------------+-------------+-----+------------+\n",
      "|topic      |bus_id|can_id       |dlc|data                     |timestamp    |value|message_name|\n",
      "+-----------+------+-------------+---+-------------------------+-------------+-----+------------+\n",
      "|canbus_test|bus_37|[18 F0 01 0B]|8  |[00 00 F3 FF FF 01 FF F7]|1684318662975|null |EBC1        |\n",
      "|canbus_test|bus_34|[18 FE BF 0B]|8  |[00 00 7D 7D 7D 7D FF FF]|1684318014484|null |EBC2        |\n",
      "|canbus_test|bus_35|[0C F0 02 03]|8  |[CD FF FE FF FF FF FF FF]|1684318885011|null |ETC1        |\n",
      "|canbus_test|bus_36|[0C F0 02 03]|8  |[CD FF FE FF FF FF FF FF]|1684318187236|null |ETC1        |\n",
      "|canbus_test|bus_33|[18 FE CA 2F]|8  |[F3 FF 00 00 00 00 FF FF]|1684317402732|null |DM1         |\n",
      "+-----------+------+-------------+---+-------------------------+-------------+-----+------------+\n",
      "\n",
      "23/05/17 18:49:19 WARN KafkaDataConsumer: KafkaDataConsumer is not running in UninterruptibleThread. It may hang when KafkaDataConsumer's methods are interrupted because of KAFKA-1894\n",
      "23/05/17 18:49:19 WARN KafkaDataConsumer: KafkaDataConsumer is not running in UninterruptibleThread. It may hang when KafkaDataConsumer's methods are interrupted because of KAFKA-1894\n",
      "23/05/17 18:49:19 WARN KafkaDataConsumer: KafkaDataConsumer is not running in UninterruptibleThread. It may hang when KafkaDataConsumer's methods are interrupted because of KAFKA-1894\n",
      "23/05/17 18:49:19 WARN KafkaDataConsumer: KafkaDataConsumer is not running in UninterruptibleThread. It may hang when KafkaDataConsumer's methods are interrupted because of KAFKA-1894\n",
      "23/05/17 18:49:19 WARN KafkaDataConsumer: KafkaDataConsumer is not running in UninterruptibleThread. It may hang when KafkaDataConsumer's methods are interrupted because of KAFKA-1894\n"
     ]
    },
    {
     "name": "stderr",
     "output_type": "stream",
     "text": [
      "\r",
      "[Stage 236:>                                                        (0 + 1) / 1]\r",
      "419351294\n",
      "419351294\n",
      "419319806\n",
      "217055998\n",
      "419348478\n",
      "\r",
      "                                                                                \r"
     ]
    },
    {
     "name": "stdout",
     "output_type": "stream",
     "text": [
      "-------------------------------------------\n",
      "Batch: 236\n",
      "-------------------------------------------\n",
      "+-----------+------+-------------+---+-------------------------+-------------+-----+------------+\n",
      "|topic      |bus_id|can_id       |dlc|data                     |timestamp    |value|message_name|\n",
      "+-----------+------+-------------+---+-------------------------+-------------+-----+------------+\n",
      "|canbus_test|bus_37|[18 FE CA 2F]|8  |[F3 FF 00 00 00 00 FF FF]|1684318663978|null |DM1         |\n",
      "|canbus_test|bus_34|[18 FE CA 2F]|8  |[F3 FF 00 00 00 00 FF FF]|1684318015489|null |DM1         |\n",
      "|canbus_test|bus_35|[18 FE 4F 0B]|8  |[FF FF FF FF FF FF FF FF]|1684318886014|null |VDC1        |\n",
      "|canbus_test|bus_36|[0C F0 02 03]|8  |[CD FF FE FF FF FF FF FF]|1684318188247|null |ETC1        |\n",
      "|canbus_test|bus_33|[18 FE BF 0B]|8  |[00 00 7D 7D 7D 7D FF FF]|1684317403728|null |EBC2        |\n",
      "+-----------+------+-------------+---+-------------------------+-------------+-----+------------+\n",
      "\n",
      "23/05/17 18:49:20 WARN KafkaDataConsumer: KafkaDataConsumer is not running in UninterruptibleThread. It may hang when KafkaDataConsumer's methods are interrupted because of KAFKA-1894\n",
      "23/05/17 18:49:20 WARN KafkaDataConsumer: KafkaDataConsumer is not running in UninterruptibleThread. It may hang when KafkaDataConsumer's methods are interrupted because of KAFKA-1894\n",
      "23/05/17 18:49:20 WARN KafkaDataConsumer: KafkaDataConsumer is not running in UninterruptibleThread. It may hang when KafkaDataConsumer's methods are interrupted because of KAFKA-1894\n",
      "23/05/17 18:49:20 WARN KafkaDataConsumer: KafkaDataConsumer is not running in UninterruptibleThread. It may hang when KafkaDataConsumer's methods are interrupted because of KAFKA-1894\n",
      "23/05/17 18:49:20 WARN KafkaDataConsumer: KafkaDataConsumer is not running in UninterruptibleThread. It may hang when KafkaDataConsumer's methods are interrupted because of KAFKA-1894\n"
     ]
    },
    {
     "name": "stderr",
     "output_type": "stream",
     "text": [
      "\r",
      "[Stage 237:>                                                        (0 + 1) / 1]\r",
      "418382334\n",
      "419351294\n",
      "215101438\n",
      "419170302\n",
      "419348478\n",
      "\r",
      "                                                                                \r"
     ]
    },
    {
     "name": "stdout",
     "output_type": "stream",
     "text": [
      "-------------------------------------------\n",
      "Batch: 237\n",
      "-------------------------------------------\n",
      "+-----------+------+-------------+---+-------------------------+-------------+-----+------------+\n",
      "|topic      |bus_id|can_id       |dlc|data                     |timestamp    |value|message_name|\n",
      "+-----------+------+-------------+---+-------------------------+-------------+-----+------------+\n",
      "|canbus_test|bus_34|[18 F0 01 0B]|8  |[00 00 F3 FF FF 01 FF F7]|1684318016495|null |EBC1        |\n",
      "|canbus_test|bus_37|[18 FE CA 2F]|8  |[F3 FF 00 00 00 00 FF FF]|1684318664989|null |DM1         |\n",
      "|canbus_test|bus_35|[0C D2 2F 27]|8  |[00 00 A0 00 00 00 00 00]|1684318887021|null |null        |\n",
      "|canbus_test|bus_36|[18 FC 07 F4]|8  |[CC 09 59 07 8A 02 60 5D]|1684318189279|null |null        |\n",
      "|canbus_test|bus_33|[18 FE BF 0B]|8  |[00 00 7D 7D 7D 7D FF FF]|1684317404727|null |EBC2        |\n",
      "+-----------+------+-------------+---+-------------------------+-------------+-----+------------+\n",
      "\n",
      "23/05/17 18:49:21 WARN KafkaDataConsumer: KafkaDataConsumer is not running in UninterruptibleThread. It may hang when KafkaDataConsumer's methods are interrupted because of KAFKA-1894\n",
      "23/05/17 18:49:21 WARN KafkaDataConsumer: KafkaDataConsumer is not running in UninterruptibleThread. It may hang when KafkaDataConsumer's methods are interrupted because of KAFKA-1894\n",
      "23/05/17 18:49:21 WARN KafkaDataConsumer: KafkaDataConsumer is not running in UninterruptibleThread. It may hang when KafkaDataConsumer's methods are interrupted because of KAFKA-1894\n",
      "23/05/17 18:49:22 WARN KafkaDataConsumer: KafkaDataConsumer is not running in UninterruptibleThread. It may hang when KafkaDataConsumer's methods are interrupted because of KAFKA-1894\n",
      "23/05/17 18:49:22 WARN KafkaDataConsumer: KafkaDataConsumer is not running in UninterruptibleThread. It may hang when KafkaDataConsumer's methods are interrupted because of KAFKA-1894\n"
     ]
    },
    {
     "name": "stderr",
     "output_type": "stream",
     "text": [
      "\r",
      "[Stage 238:>                                                        (0 + 1) / 1]\r",
      "419351294\n",
      "419348478\n",
      "419174142\n",
      "418382078\n",
      "217055998\n",
      "\r",
      "                                                                                \r"
     ]
    },
    {
     "name": "stdout",
     "output_type": "stream",
     "text": [
      "-------------------------------------------\n",
      "Batch: 238\n",
      "-------------------------------------------\n",
      "+-----------+------+-------------+---+-------------------------+-------------+-----+------------+\n",
      "|topic      |bus_id|can_id       |dlc|data                     |timestamp    |value|message_name|\n",
      "+-----------+------+-------------+---+-------------------------+-------------+-----+------------+\n",
      "|canbus_test|bus_37|[18 FE CA 2F]|8  |[F3 FF 00 00 00 00 FF FF]|1684318665989|null |DM1         |\n",
      "|canbus_test|bus_34|[18 FE BF 0B]|8  |[00 00 7D 7D 7D 7D FF FF]|1684318017500|null |EBC2        |\n",
      "|canbus_test|bus_35|[18 FC 16 21]|8  |[03 C7 00 00 72 02 FF 41]|1684318888027|null |null        |\n",
      "|canbus_test|bus_36|[18 F0 00 10]|8  |[FF 7D FF FF FF FF FF 7D]|1684318190308|null |ERC1        |\n",
      "|canbus_test|bus_33|[0C F0 02 03]|8  |[CD FF FE FF FF FF FF FF]|1684317405736|null |ETC1        |\n",
      "+-----------+------+-------------+---+-------------------------+-------------+-----+------------+\n",
      "\n",
      "23/05/17 18:49:22 WARN KafkaDataConsumer: KafkaDataConsumer is not running in UninterruptibleThread. It may hang when KafkaDataConsumer's methods are interrupted because of KAFKA-1894\n",
      "23/05/17 18:49:22 WARN KafkaDataConsumer: KafkaDataConsumer is not running in UninterruptibleThread. It may hang when KafkaDataConsumer's methods are interrupted because of KAFKA-1894\n",
      "23/05/17 18:49:22 WARN KafkaDataConsumer: KafkaDataConsumer is not running in UninterruptibleThread. It may hang when KafkaDataConsumer's methods are interrupted because of KAFKA-1894\n",
      "23/05/17 18:49:22 WARN KafkaDataConsumer: KafkaDataConsumer is not running in UninterruptibleThread. It may hang when KafkaDataConsumer's methods are interrupted because of KAFKA-1894\n",
      "23/05/17 18:49:23 WARN KafkaDataConsumer: KafkaDataConsumer is not running in UninterruptibleThread. It may hang when KafkaDataConsumer's methods are interrupted because of KAFKA-1894\n"
     ]
    },
    {
     "name": "stderr",
     "output_type": "stream",
     "text": [
      "\r",
      "[Stage 239:>                                                        (0 + 1) / 1]\r",
      "419348478\n",
      "419351294\n",
      "419174142\n",
      "419348478\n",
      "418382334\n",
      "\r",
      "                                                                                \r"
     ]
    },
    {
     "name": "stdout",
     "output_type": "stream",
     "text": [
      "-------------------------------------------\n",
      "Batch: 239\n",
      "-------------------------------------------\n",
      "+-----------+------+-------------+---+-------------------------+-------------+-----+------------+\n",
      "|topic      |bus_id|can_id       |dlc|data                     |timestamp    |value|message_name|\n",
      "+-----------+------+-------------+---+-------------------------+-------------+-----+------------+\n",
      "|canbus_test|bus_37|[18 FE BF 0B]|8  |[00 00 7D 7D 7D 7D FF FF]|1684318667003|null |EBC2        |\n",
      "|canbus_test|bus_34|[18 FE CA 2F]|8  |[F3 FF 00 00 00 00 FF FF]|1684318018496|null |DM1         |\n",
      "|canbus_test|bus_35|[18 FC 16 21]|8  |[03 C7 00 00 72 02 FF 41]|1684318889027|null |null        |\n",
      "|canbus_test|bus_36|[18 FE BF 0B]|8  |[00 00 7D 7D 7D 7D FF FF]|1684318191345|null |EBC2        |\n",
      "|canbus_test|bus_33|[18 F0 01 17]|8  |[FF FF FF FF FF FF FF F7]|1684317406742|null |EBC1        |\n",
      "+-----------+------+-------------+---+-------------------------+-------------+-----+------------+\n",
      "\n",
      "23/05/17 18:49:23 WARN KafkaDataConsumer: KafkaDataConsumer is not running in UninterruptibleThread. It may hang when KafkaDataConsumer's methods are interrupted because of KAFKA-1894\n",
      "23/05/17 18:49:23 WARN KafkaDataConsumer: KafkaDataConsumer is not running in UninterruptibleThread. It may hang when KafkaDataConsumer's methods are interrupted because of KAFKA-1894\n",
      "23/05/17 18:49:23 WARN KafkaDataConsumer: KafkaDataConsumer is not running in UninterruptibleThread. It may hang when KafkaDataConsumer's methods are interrupted because of KAFKA-1894\n",
      "23/05/17 18:49:24 WARN KafkaDataConsumer: KafkaDataConsumer is not running in UninterruptibleThread. It may hang when KafkaDataConsumer's methods are interrupted because of KAFKA-1894\n",
      "23/05/17 18:49:24 WARN KafkaDataConsumer: KafkaDataConsumer is not running in UninterruptibleThread. It may hang when KafkaDataConsumer's methods are interrupted because of KAFKA-1894\n"
     ]
    },
    {
     "name": "stderr",
     "output_type": "stream",
     "text": [
      "\r",
      "[Stage 240:>                                                        (0 + 1) / 1]\r",
      "419319806\n",
      "150892286\n",
      "419351294\n",
      "418382334\n",
      "418580990\n",
      "\r",
      "                                                                                \r"
     ]
    },
    {
     "name": "stdout",
     "output_type": "stream",
     "text": [
      "-------------------------------------------\n",
      "Batch: 240\n",
      "-------------------------------------------\n",
      "+-----------+------+-------------+---+-------------------------+-------------+-----+------------+\n",
      "|topic      |bus_id|can_id       |dlc|data                     |timestamp    |value|message_name|\n",
      "+-----------+------+-------------+---+-------------------------+-------------+-----+------------+\n",
      "|canbus_test|bus_37|[18 FE 4F 0B]|8  |[FF FF FF FF FF FF FF FF]|1684318668010|null |VDC1        |\n",
      "|canbus_test|bus_34|[08 FE 6E 0B]|8  |[00 00 00 00 00 00 00 00]|1684318019500|null |HRW         |\n",
      "|canbus_test|bus_35|[18 FE CA 2F]|8  |[F3 FF 00 00 00 00 FF FF]|1684318890035|null |DM1         |\n",
      "|canbus_test|bus_36|[18 F0 01 17]|8  |[FF FF FF FF FF FF FF F7]|1684318192349|null |EBC1        |\n",
      "|canbus_test|bus_33|[18 F3 09 00]|8  |[00 FF FF FF FF FF FF 81]|1684317407758|null |null        |\n",
      "+-----------+------+-------------+---+-------------------------+-------------+-----+------------+\n",
      "\n",
      "23/05/17 18:49:24 WARN KafkaDataConsumer: KafkaDataConsumer is not running in UninterruptibleThread. It may hang when KafkaDataConsumer's methods are interrupted because of KAFKA-1894\n",
      "23/05/17 18:49:24 WARN KafkaDataConsumer: KafkaDataConsumer is not running in UninterruptibleThread. It may hang when KafkaDataConsumer's methods are interrupted because of KAFKA-1894\n",
      "23/05/17 18:49:24 WARN KafkaDataConsumer: KafkaDataConsumer is not running in UninterruptibleThread. It may hang when KafkaDataConsumer's methods are interrupted because of KAFKA-1894\n",
      "23/05/17 18:49:25 WARN KafkaDataConsumer: KafkaDataConsumer is not running in UninterruptibleThread. It may hang when KafkaDataConsumer's methods are interrupted because of KAFKA-1894\n",
      "23/05/17 18:49:25 WARN KafkaDataConsumer: KafkaDataConsumer is not running in UninterruptibleThread. It may hang when KafkaDataConsumer's methods are interrupted because of KAFKA-1894\n"
     ]
    },
    {
     "name": "stderr",
     "output_type": "stream",
     "text": [
      "\r",
      "[Stage 241:>                                                        (0 + 1) / 1]\r",
      "215101438\n",
      "419348478\n",
      "419351294\n",
      "418382334\n",
      "150892286\n",
      "\r",
      "                                                                                \r"
     ]
    },
    {
     "name": "stdout",
     "output_type": "stream",
     "text": [
      "-------------------------------------------\n",
      "Batch: 241\n",
      "-------------------------------------------\n",
      "+-----------+------+-------------+---+-------------------------+-------------+-----+------------+\n",
      "|topic      |bus_id|can_id       |dlc|data                     |timestamp    |value|message_name|\n",
      "+-----------+------+-------------+---+-------------------------+-------------+-----+------------+\n",
      "|canbus_test|bus_37|[0C D2 2F 27]|8  |[00 00 A0 00 00 00 00 00]|1684318669017|null |null        |\n",
      "|canbus_test|bus_34|[18 FE BF 0B]|8  |[00 00 7D 7D 7D 7D FF FF]|1684318020489|null |EBC2        |\n",
      "|canbus_test|bus_35|[18 FE CA 2F]|8  |[F3 FF 00 00 00 00 FF FF]|1684318891044|null |DM1         |\n",
      "|canbus_test|bus_36|[18 F0 01 0B]|8  |[00 00 F3 FF FF 01 FF F7]|1684318193352|null |EBC1        |\n",
      "|canbus_test|bus_33|[08 FE 6E 0B]|8  |[00 00 00 00 00 00 00 00]|1684317408759|null |HRW         |\n",
      "+-----------+------+-------------+---+-------------------------+-------------+-----+------------+\n",
      "\n",
      "23/05/17 18:49:25 WARN KafkaDataConsumer: KafkaDataConsumer is not running in UninterruptibleThread. It may hang when KafkaDataConsumer's methods are interrupted because of KAFKA-1894\n",
      "23/05/17 18:49:25 WARN KafkaDataConsumer: KafkaDataConsumer is not running in UninterruptibleThread. It may hang when KafkaDataConsumer's methods are interrupted because of KAFKA-1894\n",
      "23/05/17 18:49:25 WARN KafkaDataConsumer: KafkaDataConsumer is not running in UninterruptibleThread. It may hang when KafkaDataConsumer's methods are interrupted because of KAFKA-1894\n",
      "23/05/17 18:49:26 WARN KafkaDataConsumer: KafkaDataConsumer is not running in UninterruptibleThread. It may hang when KafkaDataConsumer's methods are interrupted because of KAFKA-1894\n",
      "23/05/17 18:49:26 WARN KafkaDataConsumer: KafkaDataConsumer is not running in UninterruptibleThread. It may hang when KafkaDataConsumer's methods are interrupted because of KAFKA-1894\n"
     ]
    },
    {
     "name": "stderr",
     "output_type": "stream",
     "text": [
      "4193484782:>                                                        (0 + 1) / 1]\n",
      "418382334\n",
      "419361278\n",
      "419319550\n",
      "217055998\n",
      "                                                                                \r"
     ]
    },
    {
     "name": "stdout",
     "output_type": "stream",
     "text": [
      "-------------------------------------------\n",
      "Batch: 242\n",
      "-------------------------------------------\n",
      "+-----------+------+-------------+---+-------------------------+-------------+-----+------------+\n",
      "|topic      |bus_id|can_id       |dlc|data                     |timestamp    |value|message_name|\n",
      "+-----------+------+-------------+---+-------------------------+-------------+-----+------------+\n",
      "|canbus_test|bus_37|[18 FE BF 0B]|8  |[00 00 7D 7D 7D 7D FF FF]|1684318670051|null |EBC2        |\n",
      "|canbus_test|bus_34|[18 F0 01 0B]|8  |[00 00 F3 FF FF 01 FF F7]|1684318021487|null |EBC1        |\n",
      "|canbus_test|bus_35|[18 FE F1 00]|8  |[F7 00 00 0F FF FF FF FF]|1684318892077|null |CCVS        |\n",
      "|canbus_test|bus_36|[18 FE 4E EC]|8  |[02 F3 FF 3F FF FF FF FF]|1684318194358|null |DC1         |\n",
      "|canbus_test|bus_33|[0C F0 02 03]|8  |[CD FF FE FF FF FF FF FF]|1684317409757|null |ETC1        |\n",
      "+-----------+------+-------------+---+-------------------------+-------------+-----+------------+\n",
      "\n",
      "23/05/17 18:49:26 WARN KafkaDataConsumer: KafkaDataConsumer is not running in UninterruptibleThread. It may hang when KafkaDataConsumer's methods are interrupted because of KAFKA-1894\n",
      "23/05/17 18:49:26 WARN KafkaDataConsumer: KafkaDataConsumer is not running in UninterruptibleThread. It may hang when KafkaDataConsumer's methods are interrupted because of KAFKA-1894\n",
      "23/05/17 18:49:26 WARN KafkaDataConsumer: KafkaDataConsumer is not running in UninterruptibleThread. It may hang when KafkaDataConsumer's methods are interrupted because of KAFKA-1894\n",
      "23/05/17 18:49:26 WARN KafkaDataConsumer: KafkaDataConsumer is not running in UninterruptibleThread. It may hang when KafkaDataConsumer's methods are interrupted because of KAFKA-1894\n",
      "23/05/17 18:49:27 WARN KafkaDataConsumer: KafkaDataConsumer is not running in UninterruptibleThread. It may hang when KafkaDataConsumer's methods are interrupted because of KAFKA-1894\n"
     ]
    },
    {
     "name": "stderr",
     "output_type": "stream",
     "text": [
      "4183823343:>                                                        (0 + 1) / 1]\n",
      "217055998\n",
      "217055998\n",
      "218022398\n",
      "418382334\n",
      "                                                                                \r"
     ]
    },
    {
     "name": "stdout",
     "output_type": "stream",
     "text": [
      "-------------------------------------------\n",
      "Batch: 243\n",
      "-------------------------------------------\n",
      "+-----------+------+-------------+---+-------------------------+-------------+-----+------------+\n",
      "|topic      |bus_id|can_id       |dlc|data                     |timestamp    |value|message_name|\n",
      "+-----------+------+-------------+---+-------------------------+-------------+-----+------------+\n",
      "|canbus_test|bus_37|[18 F0 01 0B]|8  |[00 00 F3 FF FF 01 FF F7]|1684318671071|null |EBC1        |\n",
      "|canbus_test|bus_34|[0C F0 02 03]|8  |[CD FF FE FF FF FF FF FF]|1684318022484|null |ETC1        |\n",
      "|canbus_test|bus_35|[0C F0 02 03]|8  |[CD FF FE FF FF FF FF FF]|1684318893080|null |ETC1        |\n",
      "|canbus_test|bus_36|[0C FE C1 EE]|8  |[68 8D 4B 00 38 1A 08 00]|1684318195360|null |null        |\n",
      "|canbus_test|bus_33|[18 F0 01 0B]|8  |[00 00 F3 FF FF 01 FF F7]|1684317410758|null |EBC1        |\n",
      "+-----------+------+-------------+---+-------------------------+-------------+-----+------------+\n",
      "\n",
      "23/05/17 18:49:27 WARN KafkaDataConsumer: KafkaDataConsumer is not running in UninterruptibleThread. It may hang when KafkaDataConsumer's methods are interrupted because of KAFKA-1894\n",
      "23/05/17 18:49:27 WARN KafkaDataConsumer: KafkaDataConsumer is not running in UninterruptibleThread. It may hang when KafkaDataConsumer's methods are interrupted because of KAFKA-1894\n",
      "23/05/17 18:49:27 WARN KafkaDataConsumer: KafkaDataConsumer is not running in UninterruptibleThread. It may hang when KafkaDataConsumer's methods are interrupted because of KAFKA-1894\n",
      "23/05/17 18:49:28 WARN KafkaDataConsumer: KafkaDataConsumer is not running in UninterruptibleThread. It may hang when KafkaDataConsumer's methods are interrupted because of KAFKA-1894\n",
      "23/05/17 18:49:28 WARN KafkaDataConsumer: KafkaDataConsumer is not running in UninterruptibleThread. It may hang when KafkaDataConsumer's methods are interrupted because of KAFKA-1894\n"
     ]
    },
    {
     "name": "stderr",
     "output_type": "stream",
     "text": [
      "4193484784:>                                                        (0 + 1) / 1]\n",
      "418382334\n",
      "419343870\n",
      "418382334\n",
      "418579710\n",
      "                                                                                \r"
     ]
    },
    {
     "name": "stdout",
     "output_type": "stream",
     "text": [
      "-------------------------------------------\n",
      "Batch: 244\n",
      "-------------------------------------------\n",
      "+-----------+------+-------------+---+-------------------------+-------------+-----+------------+\n",
      "|topic      |bus_id|can_id       |dlc|data                     |timestamp    |value|message_name|\n",
      "+-----------+------+-------------+---+-------------------------+-------------+-----+------------+\n",
      "|canbus_test|bus_37|[18 FE BF 0B]|8  |[00 00 7D 7D 7D 7D FF FF]|1684318672108|null |EBC2        |\n",
      "|canbus_test|bus_34|[18 F0 01 0B]|8  |[00 00 F3 FF FF 01 FF F7]|1684318023475|null |EBC1        |\n",
      "|canbus_test|bus_35|[18 FE AD 0B]|8  |[00 00 00 00 FE FE FF FF]|1684318894114|null |EBC3        |\n",
      "|canbus_test|bus_36|[18 F0 01 0B]|8  |[00 00 F3 FF FF 01 FF F7]|1684318196360|null |EBC1        |\n",
      "|canbus_test|bus_33|[18 F3 04 25]|8  |[F3 FF AA EA FF FF 0A 00]|1684317411746|null |null        |\n",
      "+-----------+------+-------------+---+-------------------------+-------------+-----+------------+\n",
      "\n",
      "23/05/17 18:49:28 WARN KafkaDataConsumer: KafkaDataConsumer is not running in UninterruptibleThread. It may hang when KafkaDataConsumer's methods are interrupted because of KAFKA-1894\n",
      "23/05/17 18:49:28 WARN KafkaDataConsumer: KafkaDataConsumer is not running in UninterruptibleThread. It may hang when KafkaDataConsumer's methods are interrupted because of KAFKA-1894\n",
      "23/05/17 18:49:28 WARN KafkaDataConsumer: KafkaDataConsumer is not running in UninterruptibleThread. It may hang when KafkaDataConsumer's methods are interrupted because of KAFKA-1894\n",
      "23/05/17 18:49:29 WARN KafkaDataConsumer: KafkaDataConsumer is not running in UninterruptibleThread. It may hang when KafkaDataConsumer's methods are interrupted because of KAFKA-1894\n",
      "23/05/17 18:49:29 WARN KafkaDataConsumer: KafkaDataConsumer is not running in UninterruptibleThread. It may hang when KafkaDataConsumer's methods are interrupted because of KAFKA-1894\n"
     ]
    },
    {
     "name": "stderr",
     "output_type": "stream",
     "text": [
      "4183820785:>                                                        (0 + 1) / 1]\n",
      "419348478\n",
      "418583806\n",
      "419348478\n",
      "217056510\n",
      "                                                                                \r"
     ]
    },
    {
     "name": "stdout",
     "output_type": "stream",
     "text": [
      "-------------------------------------------\n",
      "Batch: 245\n",
      "-------------------------------------------\n",
      "+-----------+------+-------------+---+-------------------------+-------------+-----+------------+\n",
      "|topic      |bus_id|can_id       |dlc|data                     |timestamp    |value|message_name|\n",
      "+-----------+------+-------------+---+-------------------------+-------------+-----+------------+\n",
      "|canbus_test|bus_37|[18 F0 00 10]|8  |[FF 7D FF FF FF FF FF 7D]|1684318673118|null |ERC1        |\n",
      "|canbus_test|bus_34|[18 FE BF 0B]|8  |[00 00 7D 7D 7D 7D FF FF]|1684318024501|null |EBC2        |\n",
      "|canbus_test|bus_35|[18 F3 14 00]|8  |[69 00 C7 0C C7 0C C8 0C]|1684318895154|null |null        |\n",
      "|canbus_test|bus_36|[18 FE BF 0B]|8  |[00 00 7D 7D 7D 7D FF FF]|1684318197370|null |EBC2        |\n",
      "|canbus_test|bus_33|[0C F0 04 00]|8  |[FF FF FF 00 00 FF FF FF]|1684317412738|null |EEC1        |\n",
      "+-----------+------+-------------+---+-------------------------+-------------+-----+------------+\n",
      "\n",
      "23/05/17 18:49:29 WARN KafkaDataConsumer: KafkaDataConsumer is not running in UninterruptibleThread. It may hang when KafkaDataConsumer's methods are interrupted because of KAFKA-1894\n",
      "23/05/17 18:49:29 WARN KafkaDataConsumer: KafkaDataConsumer is not running in UninterruptibleThread. It may hang when KafkaDataConsumer's methods are interrupted because of KAFKA-1894\n",
      "23/05/17 18:49:29 WARN KafkaDataConsumer: KafkaDataConsumer is not running in UninterruptibleThread. It may hang when KafkaDataConsumer's methods are interrupted because of KAFKA-1894\n",
      "23/05/17 18:49:30 WARN KafkaDataConsumer: KafkaDataConsumer is not running in UninterruptibleThread. It may hang when KafkaDataConsumer's methods are interrupted because of KAFKA-1894\n",
      "23/05/17 18:49:30 WARN KafkaDataConsumer: KafkaDataConsumer is not running in UninterruptibleThread. It may hang when KafkaDataConsumer's methods are interrupted because of KAFKA-1894\n"
     ]
    },
    {
     "name": "stderr",
     "output_type": "stream",
     "text": [
      "1508922866:>                                                        (0 + 1) / 1]\n",
      "215105790\n",
      "150892286\n",
      "419351294\n",
      "419351294\n",
      "                                                                                \r"
     ]
    }
   ],
   "source": [
    "query = writeToConsole(parser,'append').awaitTermination()"
   ]
  },
  {
   "cell_type": "code",
   "execution_count": null,
   "id": "28d52e67",
   "metadata": {},
   "outputs": [],
   "source": []
  }
 ],
 "metadata": {
  "kernelspec": {
   "display_name": "Python 3 (ipykernel)",
   "language": "python",
   "name": "python3"
  },
  "language_info": {
   "codemirror_mode": {
    "name": "ipython",
    "version": 3
   },
   "file_extension": ".py",
   "mimetype": "text/x-python",
   "name": "python",
   "nbconvert_exporter": "python",
   "pygments_lexer": "ipython3",
   "version": "3.10.6"
  }
 },
 "nbformat": 4,
 "nbformat_minor": 5
}
