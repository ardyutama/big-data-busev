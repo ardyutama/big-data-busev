{
 "cells": [
  {
   "cell_type": "code",
   "execution_count": null,
   "metadata": {},
   "outputs": [],
   "source": [
    "import pyspark\n",
    "from pyspark.sql import SparkSession\n",
    "from pyspark.sql.types import *\n",
    "from pyspark.sql.functions import *\n",
    "from pbspark import from_protobuf\n",
    "from seat_detection_pb2 import SeatDetection\n",
    "import sys"
   ]
  },
  {
   "cell_type": "code",
   "execution_count": null,
   "metadata": {},
   "outputs": [],
   "source": [
    "jarsPackages = \"org.apache.spark:spark-sql-kafka-0-10_2.12:3.2.1\""
   ]
  },
  {
   "cell_type": "code",
   "execution_count": null,
   "metadata": {},
   "outputs": [],
   "source": [
    "spark = SparkSession.builder.master(\"local[*]\") \\\n",
    "                    .appName('seat-processor') \\\n",
    "                    .config(\"spark.jars.packages\", jarsPackages) \\\n",
    "                    .getOrCreate()\n"
   ]
  },
  {
   "cell_type": "code",
   "execution_count": null,
   "metadata": {},
   "outputs": [],
   "source": [
    "df = spark \\\n",
    "  .readStream \\\n",
    "  .format(\"kafka\") \\\n",
    "  .option(\"kafka.bootstrap.servers\", \"103.146.34.72:9094\") \\\n",
    "  .option(\"subscribe\", \"seat_detection\") \\\n",
    "  .option(\"includeHeaders\", \"true\") \\\n",
    "  .load()"
   ]
  },
  {
   "cell_type": "code",
   "execution_count": null,
   "metadata": {},
   "outputs": [],
   "source": [
    "def message_proto(value):\n",
    "    decoded = from_protobuf(value,SeatDetection)\n",
    "    return decoded"
   ]
  },
  {
   "cell_type": "code",
   "execution_count": null,
   "metadata": {},
   "outputs": [],
   "source": [
    "raw_df = df.selectExpr(\"value\", \"headers\",'timestamp')"
   ]
  },
  {
   "cell_type": "code",
   "execution_count": null,
   "metadata": {},
   "outputs": [],
   "source": [
    "query = raw_df \\\n",
    "        .withColumn('parsed',message_proto('value')) \\\n",
    "        .withColumn('bus_id', expr('headers')[2]['value'].cast('string')) \\\n",
    "        .select('bus_id','parsed.*') \\\n",
    "        .withColumn('timestamp',to_timestamp('timestamp')) \\\n",
    "        .withColumn('year', year('timestamp')) \\\n",
    "        .withColumn('month', month('timestamp')) \\\n",
    "        .withColumn('day', dayofmonth('timestamp')) \\\n",
    "        .withColumn('hour', hour('timestamp')) \\\n",
    "        .withColumn('minute', minute('timestamp'))\n",
    "\n",
    "query.printSchema()"
   ]
  },
  {
   "cell_type": "code",
   "execution_count": null,
   "metadata": {},
   "outputs": [],
   "source": [
    "show = query \\\n",
    "        .writeStream \\\n",
    "        .queryName('RawSeatDetection') \\\n",
    "        .outputMode('append') \\\n",
    "        .option('path','hdfs://localhost:9000/user/parallels/job/seat-occupancy/') \\\n",
    "        .option('checkpointLocation','hdfs://localhost:9000/user/parallels/spark-checkpoint/seat-occupancy-checkpoint/') \\\n",
    "        .partitionBy('year','month','day','hour','minute') \\\n",
    "        .option(\"truncate\", False) \\\n",
    "        .start() \\\n",
    "        .awaitTermination()"
   ]
  }
 ],
 "metadata": {
  "kernelspec": {
   "display_name": "Python 3 (ipykernel)",
   "language": "python",
   "name": "python3"
  },
  "language_info": {
   "codemirror_mode": {
    "name": "ipython",
    "version": 3
   },
   "file_extension": ".py",
   "mimetype": "text/x-python",
   "name": "python",
   "nbconvert_exporter": "python",
   "pygments_lexer": "ipython3",
   "version": "3.9.12"
  }
 },
 "nbformat": 4,
 "nbformat_minor": 2
}
