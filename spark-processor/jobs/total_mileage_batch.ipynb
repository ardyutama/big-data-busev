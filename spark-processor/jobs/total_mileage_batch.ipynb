{
 "cells": [
  {
   "cell_type": "code",
   "execution_count": 1,
   "id": "a24c4366",
   "metadata": {},
   "outputs": [],
   "source": [
    "import pyspark\n",
    "from pyspark.sql import SparkSession\n",
    "from pyspark.sql.types import *\n",
    "from pyspark.sql.functions import *\n",
    "from pyspark.sql.window import Window"
   ]
  },
  {
   "cell_type": "code",
   "execution_count": 2,
   "id": "4f986eb1",
   "metadata": {},
   "outputs": [
    {
     "name": "stderr",
     "output_type": "stream",
     "text": [
      "Setting default log level to \"WARN\".\n",
      "To adjust logging level use sc.setLogLevel(newLevel). For SparkR, use setLogLevel(newLevel).\n"
     ]
    },
    {
     "name": "stdout",
     "output_type": "stream",
     "text": [
      "22/10/25 07:22:01 WARN NativeCodeLoader: Unable to load native-hadoop library for your platform... using builtin-java classes where applicable\n"
     ]
    }
   ],
   "source": [
    "spark = SparkSession.builder.master(\"local[*]\") \\\n",
    "                    .appName('Batch Bus Location from Sensor EV-BUS') \\\n",
    "                    .getOrCreate()"
   ]
  },
  {
   "cell_type": "code",
   "execution_count": 3,
   "id": "94640eca",
   "metadata": {},
   "outputs": [],
   "source": [
    "schemaRawBusLocation = StructType([\n",
    "    StructField('bus_id',StringType(),False),\n",
    "    StructField('lat',DoubleType(),True),\n",
    "    StructField('long',DoubleType(),True),\n",
    "    StructField('timestamp',TimestampType(),False),\n",
    "])"
   ]
  },
  {
   "cell_type": "code",
   "execution_count": 4,
   "id": "31036f3e",
   "metadata": {},
   "outputs": [
    {
     "name": "stdout",
     "output_type": "stream",
     "text": [
      "root\n",
      " |-- lat: double (nullable = true)\n",
      " |-- long: double (nullable = true)\n",
      " |-- timestamp: timestamp (nullable = true)\n",
      " |-- bus_id: string (nullable = true)\n",
      "\n"
     ]
    },
    {
     "name": "stderr",
     "output_type": "stream",
     "text": [
      "\r",
      "[Stage 0:>                                                          (0 + 1) / 1]\r"
     ]
    },
    {
     "name": "stdout",
     "output_type": "stream",
     "text": [
      "+--------+---------+-----------------------+---------------------+\n",
      "|lat     |long     |timestamp              |bus_id               |\n",
      "+--------+---------+-----------------------+---------------------+\n",
      "|-7.35209|112.72481|2022-10-19 04:36:36.998|bus_LC06S24S0M4000001|\n",
      "|-7.35209|112.72484|2022-10-19 04:36:38.002|bus_LC06S24S0M4000001|\n",
      "|-7.3521 |112.72488|2022-10-19 04:36:39.003|bus_LC06S24S0M4000001|\n",
      "|-7.35216|112.72508|2022-10-19 04:36:40.007|bus_LC06S24S0M4000001|\n",
      "|-7.35226|112.72502|2022-10-19 04:36:41.011|bus_LC06S24S0M4000001|\n",
      "|-7.35237|112.72494|2022-10-19 04:36:42.012|bus_LC06S24S0M4000001|\n",
      "|-7.35243|112.7249 |2022-10-19 04:36:43.015|bus_LC06S24S0M4000001|\n",
      "|-7.35248|112.72489|2022-10-19 04:36:44.019|bus_LC06S24S0M4000001|\n",
      "|-7.35258|112.72486|2022-10-19 04:36:45.023|bus_LC06S24S0M4000001|\n",
      "|-7.3526 |112.72485|2022-10-19 04:36:46.027|bus_LC06S24S0M4000001|\n",
      "|-7.35277|112.72481|2022-10-19 04:36:47.028|bus_LC06S24S0M4000001|\n",
      "|-7.35287|112.72478|2022-10-19 04:36:48.031|bus_LC06S24S0M4000001|\n",
      "|-7.35292|112.72477|2022-10-19 04:36:49.036|bus_LC06S24S0M4000001|\n",
      "|-7.35298|112.72475|2022-10-19 04:36:50.039|bus_LC06S24S0M4000001|\n",
      "|-7.35306|112.72472|2022-10-19 04:36:51.043|bus_LC06S24S0M4000001|\n",
      "|-7.35318|112.72468|2022-10-19 04:36:52.044|bus_LC06S24S0M4000001|\n",
      "|-7.35325|112.72466|2022-10-19 04:36:53.048|bus_LC06S24S0M4000001|\n",
      "|-7.35328|112.72465|2022-10-19 04:36:54.049|bus_LC06S24S0M4000001|\n",
      "|-7.35363|112.72456|2022-10-19 04:36:55.051|bus_LC06S24S0M4000001|\n",
      "|-7.35396|112.72446|2022-10-19 04:36:56.055|bus_LC06S24S0M4000001|\n",
      "+--------+---------+-----------------------+---------------------+\n",
      "only showing top 20 rows\n",
      "\n"
     ]
    },
    {
     "name": "stderr",
     "output_type": "stream",
     "text": [
      "\r",
      "                                                                                \r"
     ]
    }
   ],
   "source": [
    "parquetDF = spark.read.schema(schemaRawBusLocation) \\\n",
    "            .parquet('hdfs://172.18.0.4:9000/user/parallels/job/topic=bus_location')\n",
    "\n",
    "parquetDF.printSchema()\n",
    "parquetDF.show(truncate=False)"
   ]
  },
  {
   "cell_type": "code",
   "execution_count": null,
   "id": "af22b26f",
   "metadata": {},
   "outputs": [],
   "source": [
    "query = parquetDF.withColumn('date', to_date(col('timestamp')))\n",
    "window = Window.partitionBy('date').orderBy(col('date'))\n",
    "\n",
    "def dist(long_x, lat_x, long_y, lat_y):\n",
    "    return when((col(lat_x) == lat_y) & (col(long_x) == long_y), lit(0.0)).otherwise(\n",
    "    round(acos(\n",
    "        sin(toRadians(lat_x)) * sin(toRadians(lat_y)) + \n",
    "        cos(toRadians(lat_x)) * cos(toRadians(lat_y)) * \n",
    "            cos(toRadians(long_x) - radians(long_y))\n",
    "    ) * lit(6371.0),4))\n",
    "\n",
    "distance = query.withColumn(\"dist\", dist(\n",
    "    \"long\", \"lat\",\n",
    "    lag(\"long\", 1).over(window), lag(\"lat\", 1).over(window)\n",
    ").alias(\"dist\")).orderBy('timestamp').cache()"
   ]
  },
  {
   "cell_type": "code",
   "execution_count": null,
   "id": "e65a606d",
   "metadata": {},
   "outputs": [],
   "source": [
    "total_miles_per_day = distance.groupBy('bus_id','date').agg(sum(\"dist\").alias('day_km')).orderBy('date')\n",
    "total_miles_per_day.printSchema()\n",
    "\n",
    "total_miles_per_day.show(truncate=False)"
   ]
  },
  {
   "cell_type": "code",
   "execution_count": null,
   "id": "a625dfa6",
   "metadata": {},
   "outputs": [],
   "source": [
    "total_miles_per_bus = total_miles_per_day.groupBy('bus_id').agg(sum('day_km').alias('total_km'))\n",
    "\n",
    "total_miles_per_bus.show()"
   ]
  },
  {
   "cell_type": "code",
   "execution_count": null,
   "id": "c86a45b8",
   "metadata": {},
   "outputs": [],
   "source": []
  }
 ],
 "metadata": {
  "kernelspec": {
   "display_name": "Python 3 (ipykernel)",
   "language": "python",
   "name": "python3"
  },
  "language_info": {
   "codemirror_mode": {
    "name": "ipython",
    "version": 3
   },
   "file_extension": ".py",
   "mimetype": "text/x-python",
   "name": "python",
   "nbconvert_exporter": "python",
   "pygments_lexer": "ipython3",
   "version": "3.8.10"
  },
  "vscode": {
   "interpreter": {
    "hash": "31f2aee4e71d21fbe5cf8b01ff0e069b9275f58929596ceb00d14d90e3e16cd6"
   }
  }
 },
 "nbformat": 4,
 "nbformat_minor": 5
}
