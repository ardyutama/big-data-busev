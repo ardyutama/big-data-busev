{
 "cells": [
  {
   "cell_type": "code",
   "execution_count": 1,
   "id": "4011833a",
   "metadata": {},
   "outputs": [],
   "source": [
    "import pyspark\n",
    "from pyspark.sql import SparkSession\n",
    "from pyspark.sql.types import *\n",
    "from pyspark.sql.functions import *\n",
    "from pyspark.sql.window import Window"
   ]
  },
  {
   "cell_type": "code",
   "execution_count": 2,
   "id": "bf3adb1d",
   "metadata": {},
   "outputs": [
    {
     "name": "stdout",
     "output_type": "stream",
     "text": [
      "22/09/14 14:08:31 WARN Utils: Your hostname, ubuntu-linux-20-04-desktop resolves to a loopback address: 127.0.1.1; using 10.211.55.8 instead (on interface eth0)\n",
      "22/09/14 14:08:31 WARN Utils: Set SPARK_LOCAL_IP if you need to bind to another address\n"
     ]
    },
    {
     "name": "stderr",
     "output_type": "stream",
     "text": [
      "Setting default log level to \"WARN\".\n",
      "To adjust logging level use sc.setLogLevel(newLevel). For SparkR, use setLogLevel(newLevel).\n"
     ]
    },
    {
     "name": "stdout",
     "output_type": "stream",
     "text": [
      "22/09/14 14:08:31 WARN NativeCodeLoader: Unable to load native-hadoop library for your platform... using builtin-java classes where applicable\n"
     ]
    }
   ],
   "source": [
    "spark = SparkSession.builder.master('local[*]') \\\n",
    "        .appName('driver-fatigue-average') \\\n",
    "        .getOrCreate()"
   ]
  },
  {
   "cell_type": "code",
   "execution_count": 3,
   "id": "b91e33c3",
   "metadata": {},
   "outputs": [],
   "source": [
    "schemaRawDriverFatigue = StructType([\n",
    "    StructField('bus_id',StringType(),False),\n",
    "    StructField('status',IntegerType(),True),\n",
    "    StructField('timestamp',TimestampType(),False),\n",
    "    StructField('year',IntegerType(),False),\n",
    "    StructField('month',IntegerType(),False),\n",
    "    StructField('day',IntegerType(),False),\n",
    "    StructField('minute',IntegerType(),False),\n",
    "    StructField('second',IntegerType(),False),\n",
    "])"
   ]
  },
  {
   "cell_type": "code",
   "execution_count": 4,
   "id": "5f6f9922",
   "metadata": {},
   "outputs": [],
   "source": [
    "parquetDF = spark.read.schema(schemaRawDriverFatigue).parquet('hdfs://localhost:9000/user/parallels/job/driver-fagitue/')"
   ]
  },
  {
   "cell_type": "code",
   "execution_count": 5,
   "id": "bd15d98c",
   "metadata": {},
   "outputs": [
    {
     "name": "stdout",
     "output_type": "stream",
     "text": [
      "+--------+------+-----------------------+----+-----+---+------+------+----+\n",
      "|bus_id  |status|timestamp              |year|month|day|minute|second|hour|\n",
      "+--------+------+-----------------------+----+-----+---+------+------+----+\n",
      "|bus_1000|2     |2022-09-13 22:34:00.187|2022|9    |13 |34    |0     |22  |\n",
      "|bus_1000|0     |2022-09-13 22:34:01.193|2022|9    |13 |34    |1     |22  |\n",
      "|bus_1000|1     |2022-09-13 22:34:02.2  |2022|9    |13 |34    |2     |22  |\n",
      "|bus_1000|3     |2022-09-13 22:34:03.208|2022|9    |13 |34    |3     |22  |\n",
      "|bus_1000|1     |2022-09-13 22:34:04.214|2022|9    |13 |34    |4     |22  |\n",
      "|bus_1000|0     |2022-09-13 22:34:05.22 |2022|9    |13 |34    |5     |22  |\n",
      "|bus_1000|3     |2022-09-13 22:34:06.226|2022|9    |13 |34    |6     |22  |\n",
      "|bus_1000|3     |2022-09-13 22:34:07.233|2022|9    |13 |34    |7     |22  |\n",
      "|bus_1000|2     |2022-09-13 22:34:08.239|2022|9    |13 |34    |8     |22  |\n",
      "|bus_1000|3     |2022-09-13 22:34:09.247|2022|9    |13 |34    |9     |22  |\n",
      "|bus_1000|2     |2022-09-13 22:34:10.253|2022|9    |13 |34    |10    |22  |\n",
      "|bus_1000|1     |2022-09-13 22:34:11.26 |2022|9    |13 |34    |11    |22  |\n",
      "|bus_1000|1     |2022-09-13 22:34:12.267|2022|9    |13 |34    |12    |22  |\n",
      "|bus_1000|2     |2022-09-13 22:34:13.273|2022|9    |13 |34    |13    |22  |\n",
      "|bus_1000|1     |2022-09-13 22:34:14.28 |2022|9    |13 |34    |14    |22  |\n",
      "|bus_1000|1     |2022-09-13 22:34:15.287|2022|9    |13 |34    |15    |22  |\n",
      "|bus_1000|0     |2022-09-13 22:34:16.295|2022|9    |13 |34    |16    |22  |\n",
      "|bus_1000|2     |2022-09-13 22:34:17.302|2022|9    |13 |34    |17    |22  |\n",
      "|bus_1000|1     |2022-09-13 22:34:18.309|2022|9    |13 |34    |18    |22  |\n",
      "|bus_1000|0     |2022-09-13 22:34:19.317|2022|9    |13 |34    |19    |22  |\n",
      "+--------+------+-----------------------+----+-----+---+------+------+----+\n",
      "only showing top 20 rows\n",
      "\n",
      "root\n",
      " |-- bus_id: string (nullable = true)\n",
      " |-- status: integer (nullable = true)\n",
      " |-- timestamp: timestamp (nullable = false)\n",
      " |-- year: integer (nullable = true)\n",
      " |-- month: integer (nullable = true)\n",
      " |-- day: integer (nullable = true)\n",
      " |-- minute: integer (nullable = true)\n",
      " |-- second: integer (nullable = false)\n",
      " |-- hour: integer (nullable = true)\n",
      "\n"
     ]
    },
    {
     "name": "stderr",
     "output_type": "stream",
     "text": [
      "\r\n",
      "[Stage 0:>                                                          (0 + 1) / 1]\r\n",
      "\r\n",
      "                                                                                \r"
     ]
    }
   ],
   "source": [
    "parquetDF = parquetDF.fillna(value=0,subset=['status'])\n",
    "parquetDF.show(truncate=False)\n",
    "parquetDF.printSchema()"
   ]
  },
  {
   "cell_type": "code",
   "execution_count": 12,
   "id": "39234e26",
   "metadata": {},
   "outputs": [
    {
     "name": "stdout",
     "output_type": "stream",
     "text": [
      "+--------+------+----+-----+---+----+------+------+\n",
      "|bus_id  |status|year|month|day|hour|minute|second|\n",
      "+--------+------+----+-----+---+----+------+------+\n",
      "|bus_1000|2     |2022|9    |13 |22  |34    |0     |\n",
      "|bus_1000|0     |2022|9    |13 |22  |34    |1     |\n",
      "|bus_1000|1     |2022|9    |13 |22  |34    |2     |\n",
      "|bus_1000|3     |2022|9    |13 |22  |34    |3     |\n",
      "|bus_1000|1     |2022|9    |13 |22  |34    |4     |\n",
      "|bus_1000|0     |2022|9    |13 |22  |34    |5     |\n",
      "|bus_1000|3     |2022|9    |13 |22  |34    |6     |\n",
      "|bus_1000|3     |2022|9    |13 |22  |34    |7     |\n",
      "|bus_1000|2     |2022|9    |13 |22  |34    |8     |\n",
      "|bus_1000|3     |2022|9    |13 |22  |34    |9     |\n",
      "|bus_1000|2     |2022|9    |13 |22  |34    |10    |\n",
      "|bus_1000|1     |2022|9    |13 |22  |34    |11    |\n",
      "|bus_1000|1     |2022|9    |13 |22  |34    |12    |\n",
      "|bus_1000|2     |2022|9    |13 |22  |34    |13    |\n",
      "|bus_1000|1     |2022|9    |13 |22  |34    |14    |\n",
      "|bus_1000|1     |2022|9    |13 |22  |34    |15    |\n",
      "|bus_1000|0     |2022|9    |13 |22  |34    |16    |\n",
      "|bus_1000|2     |2022|9    |13 |22  |34    |17    |\n",
      "|bus_1000|1     |2022|9    |13 |22  |34    |18    |\n",
      "|bus_1000|0     |2022|9    |13 |22  |34    |19    |\n",
      "+--------+------+----+-----+---+----+------+------+\n",
      "only showing top 20 rows\n",
      "\n"
     ]
    }
   ],
   "source": [
    "RawDriverFatiguePerSecond = parquetDF.select('bus_id','status','year','month','day','hour','minute','second')\n",
    "RawDriverFatiguePerMinute = RawDriverFatiguePerSecond.select('bus_id','status','year','month','day','hour','minute')\n",
    "RawDriverFatiguePerHour = RawDriverFatiguePerMinute.select('bus_id','status','year','month','day','hour')\n",
    "RawDriverFatiguePerDay = RawDriverFatiguePerHour.select('bus_id','status','year','month','day')\n",
    "RawDriverFatiguePerMonth = RawDriverFatiguePerDay.select('bus_id','status','year','month')\n",
    "RawDriverFatiguePerYear = RawDriverFatiguePerMonth.select('bus_id','status','year')\n",
    "RawDriverFatiguePerSecond.show(truncate=False)"
   ]
  },
  {
   "cell_type": "code",
   "execution_count": 7,
   "id": "d0b3f1cb",
   "metadata": {},
   "outputs": [],
   "source": [
    "# parquetDF = parquetDF.withColumn('event_window', window(col('timestamp'),'1 minutes'))\n",
    "# parquetDF.show(truncate=False)"
   ]
  },
  {
   "cell_type": "code",
   "execution_count": 8,
   "id": "0123dd6c",
   "metadata": {},
   "outputs": [
    {
     "name": "stderr",
     "output_type": "stream",
     "text": [
      "[Stage 2:======================================================>(370 + 2) / 373]\r"
     ]
    },
    {
     "name": "stdout",
     "output_type": "stream",
     "text": [
      "+--------+----+-----+---+----+------+------------------+-------------+\n",
      "|bus_id  |year|month|day|hour|minute|avg(status)       |count(status)|\n",
      "+--------+----+-----+---+----+------+------------------+-------------+\n",
      "|bus_1000|2022|9    |13 |23  |7     |1.9166666666666667|12           |\n",
      "|bus_1000|2022|9    |13 |23  |6     |1.396551724137931 |58           |\n",
      "|bus_1000|2022|9    |13 |23  |5     |1.3859649122807018|57           |\n",
      "|bus_1000|2022|9    |13 |23  |4     |0.0               |1            |\n",
      "|bus_1000|2022|9    |13 |22  |45    |1.3333333333333333|24           |\n",
      "|bus_1000|2022|9    |13 |22  |44    |1.576271186440678 |59           |\n",
      "|bus_1000|2022|9    |13 |22  |43    |1.5               |60           |\n",
      "|bus_1000|2022|9    |13 |22  |42    |1.4915254237288136|59           |\n",
      "|bus_1000|2022|9    |13 |22  |41    |1.4166666666666667|60           |\n",
      "|bus_1000|2022|9    |13 |22  |40    |1.6271186440677967|59           |\n",
      "|bus_1000|2022|9    |13 |22  |39    |1.55              |60           |\n",
      "|bus_1000|2022|9    |13 |22  |38    |1.3559322033898304|59           |\n",
      "|bus_1000|2022|9    |13 |22  |37    |1.5               |60           |\n",
      "|bus_1000|2022|9    |13 |22  |36    |1.55              |60           |\n",
      "|bus_1000|2022|9    |13 |22  |35    |1.305084745762712 |59           |\n",
      "|bus_1000|2022|9    |13 |22  |34    |1.65              |60           |\n",
      "|bus_1000|2022|9    |13 |22  |33    |1.4406779661016949|59           |\n",
      "|bus_1000|2022|9    |13 |22  |32    |1.2765957446808511|47           |\n",
      "|bus_1001|2022|9    |13 |23  |7     |0.8333333333333334|12           |\n",
      "|bus_1001|2022|9    |13 |23  |6     |1.280701754385965 |57           |\n",
      "+--------+----+-----+---+----+------+------------------+-------------+\n",
      "only showing top 20 rows\n",
      "\n"
     ]
    },
    {
     "name": "stderr",
     "output_type": "stream",
     "text": [
      "\r\n",
      "                                                                                \r"
     ]
    }
   ],
   "source": [
    "groupByMin = parquetDF.groupBy('bus_id','year','month','day','hour','minute').agg(avg('status'),count('status')).orderBy(col('bus_id').asc(),col('year').desc(),col('month').desc(),col('day').desc(),col('hour').desc(),col('minute').desc())\n",
    "groupByMin.show(truncate=False)"
   ]
  }
 ],
 "metadata": {
  "kernelspec": {
   "display_name": "Python 3.8.10 64-bit",
   "language": "python",
   "name": "python3"
  },
  "language_info": {
   "codemirror_mode": {
    "name": "ipython",
    "version": 3
   },
   "file_extension": ".py",
   "mimetype": "text/x-python",
   "name": "python",
   "nbconvert_exporter": "python",
   "pygments_lexer": "ipython3",
   "version": "3.8.10"
  },
  "vscode": {
   "interpreter": {
    "hash": "31f2aee4e71d21fbe5cf8b01ff0e069b9275f58929596ceb00d14d90e3e16cd6"
   }
  }
 },
 "nbformat": 4,
 "nbformat_minor": 5
}
