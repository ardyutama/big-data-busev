{
 "cells": [
  {
   "cell_type": "code",
   "execution_count": null,
   "id": "9a5c01a0",
   "metadata": {},
   "outputs": [],
   "source": [
    "import pyspark\n",
    "from pyspark.sql import SparkSession\n",
    "from pyspark.sql.types import *\n",
    "from pyspark.sql.functions import *\n",
    "from pyspark.sql.window import Window"
   ]
  },
  {
   "cell_type": "code",
   "execution_count": null,
   "id": "ce751ae9",
   "metadata": {},
   "outputs": [],
   "source": [
    "spark = SparkSession.builder.master('local[*]') \\\n",
    "        .appName('seat-detection-crowdness') \\\n",
    "        .getOrCreate()"
   ]
  },
  {
   "cell_type": "code",
   "execution_count": null,
   "id": "ebe1702d",
   "metadata": {},
   "outputs": [],
   "source": [
    "schemaRawSeatDetection = StructType([\n",
    "    StructField('bus_id',StringType(),False),\n",
    "    StructField('seatNumber',ArrayType(IntegerType()),True),\n",
    "    StructField('timestamp',TimestampType(),False),\n",
    "])"
   ]
  },
  {
   "cell_type": "code",
   "execution_count": null,
   "id": "448e2b31",
   "metadata": {
    "scrolled": true
   },
   "outputs": [],
   "source": [
    "parquetDF = spark.read.schema(schemaRawSeatDetection).parquet('hdfs://192.168.193.64:9000/user/parallels/job/topic=seat_detection')\n",
    "parquetDF.show()"
   ]
  },
  {
   "cell_type": "code",
   "execution_count": null,
   "id": "5a8e5ae9",
   "metadata": {},
   "outputs": [],
   "source": [
    "total_seat = parquetDF.withColumn('total_seat',size('seatNumber')).orderBy('timestamp').cache()\n",
    "\n",
    "total_seat.show()"
   ]
  },
  {
   "cell_type": "code",
   "execution_count": null,
   "id": "5fb012f6",
   "metadata": {},
   "outputs": [],
   "source": [
    "total_seat.groupBy('bus_id',to_date('timestamp')).mean('total_seat').show()"
   ]
  },
  {
   "cell_type": "code",
   "execution_count": null,
   "id": "d4ba396b",
   "metadata": {},
   "outputs": [],
   "source": []
  }
 ],
 "metadata": {
  "kernelspec": {
   "display_name": "Python 3 (ipykernel)",
   "language": "python",
   "name": "python3"
  },
  "language_info": {
   "codemirror_mode": {
    "name": "ipython",
    "version": 3
   },
   "file_extension": ".py",
   "mimetype": "text/x-python",
   "name": "python",
   "nbconvert_exporter": "python",
   "pygments_lexer": "ipython3",
   "version": "3.8.10"
  }
 },
 "nbformat": 4,
 "nbformat_minor": 5
}
